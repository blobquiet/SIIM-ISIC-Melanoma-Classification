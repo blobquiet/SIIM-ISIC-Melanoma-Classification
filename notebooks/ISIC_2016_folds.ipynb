{
  "nbformat": 4,
  "nbformat_minor": 0,
  "metadata": {
    "colab": {
      "name": "ISIC_2016_folds.ipynb",
      "provenance": [],
      "collapsed_sections": [
        "ciRTDtsAXDSD",
        "FAS2Nv-ywdNy"
      ]
    },
    "kernelspec": {
      "name": "python3",
      "display_name": "Python 3"
    },
    "language_info": {
      "name": "python"
    },
    "accelerator": "GPU"
  },
  "cells": [
    {
      "cell_type": "markdown",
      "source": [
        "# Colab"
      ],
      "metadata": {
        "id": "ciRTDtsAXDSD"
      }
    },
    {
      "cell_type": "code",
      "execution_count": null,
      "metadata": {
        "colab": {
          "base_uri": "https://localhost:8080/"
        },
        "id": "tUzozn5YW6-I",
        "outputId": "ec9ac435-40c3-40d7-c91b-73270ecb69c5"
      },
      "outputs": [
        {
          "output_type": "stream",
          "name": "stdout",
          "text": [
            "Mounted at /content/drive\n"
          ]
        }
      ],
      "source": [
        "from google.colab import drive\n",
        "drive.mount('/content/drive')"
      ]
    },
    {
      "cell_type": "code",
      "source": [
        "!rm -r sample_data"
      ],
      "metadata": {
        "id": "JkGT5714XHKL"
      },
      "execution_count": null,
      "outputs": []
    },
    {
      "cell_type": "code",
      "source": [
        "!pip install timm"
      ],
      "metadata": {
        "colab": {
          "base_uri": "https://localhost:8080/"
        },
        "id": "gRwFwpOeXJGz",
        "outputId": "e1e5deac-2ae6-4291-d921-fa4998a8b739"
      },
      "execution_count": null,
      "outputs": [
        {
          "output_type": "stream",
          "name": "stdout",
          "text": [
            "Collecting timm\n",
            "  Downloading timm-0.5.4-py3-none-any.whl (431 kB)\n",
            "\u001b[?25l\r\u001b[K     |▊                               | 10 kB 13.8 MB/s eta 0:00:01\r\u001b[K     |█▌                              | 20 kB 14.7 MB/s eta 0:00:01\r\u001b[K     |██▎                             | 30 kB 10.1 MB/s eta 0:00:01\r\u001b[K     |███                             | 40 kB 8.9 MB/s eta 0:00:01\r\u001b[K     |███▉                            | 51 kB 4.7 MB/s eta 0:00:01\r\u001b[K     |████▋                           | 61 kB 5.5 MB/s eta 0:00:01\r\u001b[K     |█████▎                          | 71 kB 5.6 MB/s eta 0:00:01\r\u001b[K     |██████                          | 81 kB 5.5 MB/s eta 0:00:01\r\u001b[K     |██████▉                         | 92 kB 6.0 MB/s eta 0:00:01\r\u001b[K     |███████▋                        | 102 kB 5.2 MB/s eta 0:00:01\r\u001b[K     |████████▍                       | 112 kB 5.2 MB/s eta 0:00:01\r\u001b[K     |█████████▏                      | 122 kB 5.2 MB/s eta 0:00:01\r\u001b[K     |█████████▉                      | 133 kB 5.2 MB/s eta 0:00:01\r\u001b[K     |██████████▋                     | 143 kB 5.2 MB/s eta 0:00:01\r\u001b[K     |███████████▍                    | 153 kB 5.2 MB/s eta 0:00:01\r\u001b[K     |████████████▏                   | 163 kB 5.2 MB/s eta 0:00:01\r\u001b[K     |█████████████                   | 174 kB 5.2 MB/s eta 0:00:01\r\u001b[K     |█████████████▊                  | 184 kB 5.2 MB/s eta 0:00:01\r\u001b[K     |██████████████▍                 | 194 kB 5.2 MB/s eta 0:00:01\r\u001b[K     |███████████████▏                | 204 kB 5.2 MB/s eta 0:00:01\r\u001b[K     |████████████████                | 215 kB 5.2 MB/s eta 0:00:01\r\u001b[K     |████████████████▊               | 225 kB 5.2 MB/s eta 0:00:01\r\u001b[K     |█████████████████▌              | 235 kB 5.2 MB/s eta 0:00:01\r\u001b[K     |██████████████████▎             | 245 kB 5.2 MB/s eta 0:00:01\r\u001b[K     |███████████████████             | 256 kB 5.2 MB/s eta 0:00:01\r\u001b[K     |███████████████████▊            | 266 kB 5.2 MB/s eta 0:00:01\r\u001b[K     |████████████████████▌           | 276 kB 5.2 MB/s eta 0:00:01\r\u001b[K     |█████████████████████▎          | 286 kB 5.2 MB/s eta 0:00:01\r\u001b[K     |██████████████████████          | 296 kB 5.2 MB/s eta 0:00:01\r\u001b[K     |██████████████████████▉         | 307 kB 5.2 MB/s eta 0:00:01\r\u001b[K     |███████████████████████▌        | 317 kB 5.2 MB/s eta 0:00:01\r\u001b[K     |████████████████████████▎       | 327 kB 5.2 MB/s eta 0:00:01\r\u001b[K     |█████████████████████████       | 337 kB 5.2 MB/s eta 0:00:01\r\u001b[K     |█████████████████████████▉      | 348 kB 5.2 MB/s eta 0:00:01\r\u001b[K     |██████████████████████████▋     | 358 kB 5.2 MB/s eta 0:00:01\r\u001b[K     |███████████████████████████▍    | 368 kB 5.2 MB/s eta 0:00:01\r\u001b[K     |████████████████████████████    | 378 kB 5.2 MB/s eta 0:00:01\r\u001b[K     |████████████████████████████▉   | 389 kB 5.2 MB/s eta 0:00:01\r\u001b[K     |█████████████████████████████▋  | 399 kB 5.2 MB/s eta 0:00:01\r\u001b[K     |██████████████████████████████▍ | 409 kB 5.2 MB/s eta 0:00:01\r\u001b[K     |███████████████████████████████▏| 419 kB 5.2 MB/s eta 0:00:01\r\u001b[K     |████████████████████████████████| 430 kB 5.2 MB/s eta 0:00:01\r\u001b[K     |████████████████████████████████| 431 kB 5.2 MB/s \n",
            "\u001b[?25hRequirement already satisfied: torch>=1.4 in /usr/local/lib/python3.7/dist-packages (from timm) (1.10.0+cu111)\n",
            "Requirement already satisfied: torchvision in /usr/local/lib/python3.7/dist-packages (from timm) (0.11.1+cu111)\n",
            "Requirement already satisfied: typing-extensions in /usr/local/lib/python3.7/dist-packages (from torch>=1.4->timm) (3.10.0.2)\n",
            "Requirement already satisfied: numpy in /usr/local/lib/python3.7/dist-packages (from torchvision->timm) (1.21.5)\n",
            "Requirement already satisfied: pillow!=8.3.0,>=5.3.0 in /usr/local/lib/python3.7/dist-packages (from torchvision->timm) (7.1.2)\n",
            "Installing collected packages: timm\n",
            "Successfully installed timm-0.5.4\n"
          ]
        }
      ]
    },
    {
      "cell_type": "markdown",
      "source": [
        "# Import"
      ],
      "metadata": {
        "id": "dPuA-O7qXGfS"
      }
    },
    {
      "cell_type": "code",
      "source": [
        "import torch\n",
        "import timm\n",
        "import pandas as pd\n",
        "import os\n",
        "import cv2\n",
        "import numpy as np\n",
        "\n",
        "print(\"torch_version: \" + torch.__version__)\n",
        "print(\"timm_version: \" + timm.__version__)\n",
        "DEVICE = \"cuda\" if torch.cuda.is_available() else \"cpu\"\n",
        "torch.__version__, DEVICE"
      ],
      "metadata": {
        "colab": {
          "base_uri": "https://localhost:8080/"
        },
        "id": "RyrxzibxXGtq",
        "outputId": "b1076d72-43d2-4a53-8d59-79e35a904a44"
      },
      "execution_count": null,
      "outputs": [
        {
          "output_type": "stream",
          "name": "stdout",
          "text": [
            "torch_version: 1.10.0+cu111\n",
            "timm_version: 0.5.4\n"
          ]
        },
        {
          "output_type": "execute_result",
          "data": {
            "text/plain": [
              "('1.10.0+cu111', 'cpu')"
            ]
          },
          "metadata": {},
          "execution_count": 4
        }
      ]
    },
    {
      "cell_type": "markdown",
      "source": [
        "# Load dataset"
      ],
      "metadata": {
        "id": "DXHsd4EOwiMb"
      }
    },
    {
      "cell_type": "code",
      "source": [
        "PATH = \"/content/drive/MyDrive/ISIC/2016\"\n",
        "os.listdir(PATH)"
      ],
      "metadata": {
        "colab": {
          "base_uri": "https://localhost:8080/"
        },
        "id": "R9fhpPrKXbUr",
        "outputId": "579ea50f-c026-417f-f448-6f9059d8335e"
      },
      "execution_count": null,
      "outputs": [
        {
          "output_type": "execute_result",
          "data": {
            "text/plain": [
              "['ISBI2016_ISIC_Part3_Training_Data.zip',\n",
              " 'ISBI2016_ISIC_Part3_Training_GroundTruth.csv',\n",
              " 'ISBI2016_ISIC_Part3_Test_Data.zip',\n",
              " 'ISBI2016_ISIC_Part3_Test_GroundTruth.csv',\n",
              " 'ISBI2016_ISIC_Part3_Training_Data',\n",
              " 'ISBI2016_ISIC_Part3_Test_Data']"
            ]
          },
          "metadata": {},
          "execution_count": 5
        }
      ]
    },
    {
      "cell_type": "code",
      "source": [
        "train_path = f'{PATH}/ISBI2016_ISIC_Part3_Training_Data/'\n",
        "test_path = f'{PATH}/ISBI2016_ISIC_Part3_Test_Data/'\n",
        "\n",
        "train_csv = f'{PATH}/ISBI2016_ISIC_Part3_Training_GroundTruth.csv'\n",
        "test_csv = f'{PATH}/ISBI2016_ISIC_Part3_Test_GroundTruth.csv'\n",
        "\n",
        "header_list = ['image_name','benign_malignant']\n",
        "train = pd.read_csv(train_csv, names=header_list, index_col=False)\n",
        "train\n",
        "\n",
        "header_list = ['image_name','target']\n",
        "test = pd.read_csv(test_csv, names=header_list, index_col=False)\n",
        "test"
      ],
      "metadata": {
        "colab": {
          "base_uri": "https://localhost:8080/",
          "height": 424
        },
        "id": "26yrQQwvXdsD",
        "outputId": "461b6cf8-628d-4410-c375-6bd502796c85"
      },
      "execution_count": null,
      "outputs": [
        {
          "output_type": "execute_result",
          "data": {
            "text/html": [
              "\n",
              "  <div id=\"df-12eb0781-b9a5-4dac-b69e-9cb3b0728b28\">\n",
              "    <div class=\"colab-df-container\">\n",
              "      <div>\n",
              "<style scoped>\n",
              "    .dataframe tbody tr th:only-of-type {\n",
              "        vertical-align: middle;\n",
              "    }\n",
              "\n",
              "    .dataframe tbody tr th {\n",
              "        vertical-align: top;\n",
              "    }\n",
              "\n",
              "    .dataframe thead th {\n",
              "        text-align: right;\n",
              "    }\n",
              "</style>\n",
              "<table border=\"1\" class=\"dataframe\">\n",
              "  <thead>\n",
              "    <tr style=\"text-align: right;\">\n",
              "      <th></th>\n",
              "      <th>image_name</th>\n",
              "      <th>target</th>\n",
              "    </tr>\n",
              "  </thead>\n",
              "  <tbody>\n",
              "    <tr>\n",
              "      <th>0</th>\n",
              "      <td>ISIC_0000003</td>\n",
              "      <td>0.0</td>\n",
              "    </tr>\n",
              "    <tr>\n",
              "      <th>1</th>\n",
              "      <td>ISIC_0000012</td>\n",
              "      <td>0.0</td>\n",
              "    </tr>\n",
              "    <tr>\n",
              "      <th>2</th>\n",
              "      <td>ISIC_0000013</td>\n",
              "      <td>1.0</td>\n",
              "    </tr>\n",
              "    <tr>\n",
              "      <th>3</th>\n",
              "      <td>ISIC_0000014</td>\n",
              "      <td>0.0</td>\n",
              "    </tr>\n",
              "    <tr>\n",
              "      <th>4</th>\n",
              "      <td>ISIC_0000015</td>\n",
              "      <td>0.0</td>\n",
              "    </tr>\n",
              "    <tr>\n",
              "      <th>...</th>\n",
              "      <td>...</td>\n",
              "      <td>...</td>\n",
              "    </tr>\n",
              "    <tr>\n",
              "      <th>374</th>\n",
              "      <td>ISIC_0011367</td>\n",
              "      <td>0.0</td>\n",
              "    </tr>\n",
              "    <tr>\n",
              "      <th>375</th>\n",
              "      <td>ISIC_0011374</td>\n",
              "      <td>1.0</td>\n",
              "    </tr>\n",
              "    <tr>\n",
              "      <th>376</th>\n",
              "      <td>ISIC_0011384</td>\n",
              "      <td>0.0</td>\n",
              "    </tr>\n",
              "    <tr>\n",
              "      <th>377</th>\n",
              "      <td>ISIC_0011386</td>\n",
              "      <td>0.0</td>\n",
              "    </tr>\n",
              "    <tr>\n",
              "      <th>378</th>\n",
              "      <td>ISIC_0011392</td>\n",
              "      <td>0.0</td>\n",
              "    </tr>\n",
              "  </tbody>\n",
              "</table>\n",
              "<p>379 rows × 2 columns</p>\n",
              "</div>\n",
              "      <button class=\"colab-df-convert\" onclick=\"convertToInteractive('df-12eb0781-b9a5-4dac-b69e-9cb3b0728b28')\"\n",
              "              title=\"Convert this dataframe to an interactive table.\"\n",
              "              style=\"display:none;\">\n",
              "        \n",
              "  <svg xmlns=\"http://www.w3.org/2000/svg\" height=\"24px\"viewBox=\"0 0 24 24\"\n",
              "       width=\"24px\">\n",
              "    <path d=\"M0 0h24v24H0V0z\" fill=\"none\"/>\n",
              "    <path d=\"M18.56 5.44l.94 2.06.94-2.06 2.06-.94-2.06-.94-.94-2.06-.94 2.06-2.06.94zm-11 1L8.5 8.5l.94-2.06 2.06-.94-2.06-.94L8.5 2.5l-.94 2.06-2.06.94zm10 10l.94 2.06.94-2.06 2.06-.94-2.06-.94-.94-2.06-.94 2.06-2.06.94z\"/><path d=\"M17.41 7.96l-1.37-1.37c-.4-.4-.92-.59-1.43-.59-.52 0-1.04.2-1.43.59L10.3 9.45l-7.72 7.72c-.78.78-.78 2.05 0 2.83L4 21.41c.39.39.9.59 1.41.59.51 0 1.02-.2 1.41-.59l7.78-7.78 2.81-2.81c.8-.78.8-2.07 0-2.86zM5.41 20L4 18.59l7.72-7.72 1.47 1.35L5.41 20z\"/>\n",
              "  </svg>\n",
              "      </button>\n",
              "      \n",
              "  <style>\n",
              "    .colab-df-container {\n",
              "      display:flex;\n",
              "      flex-wrap:wrap;\n",
              "      gap: 12px;\n",
              "    }\n",
              "\n",
              "    .colab-df-convert {\n",
              "      background-color: #E8F0FE;\n",
              "      border: none;\n",
              "      border-radius: 50%;\n",
              "      cursor: pointer;\n",
              "      display: none;\n",
              "      fill: #1967D2;\n",
              "      height: 32px;\n",
              "      padding: 0 0 0 0;\n",
              "      width: 32px;\n",
              "    }\n",
              "\n",
              "    .colab-df-convert:hover {\n",
              "      background-color: #E2EBFA;\n",
              "      box-shadow: 0px 1px 2px rgba(60, 64, 67, 0.3), 0px 1px 3px 1px rgba(60, 64, 67, 0.15);\n",
              "      fill: #174EA6;\n",
              "    }\n",
              "\n",
              "    [theme=dark] .colab-df-convert {\n",
              "      background-color: #3B4455;\n",
              "      fill: #D2E3FC;\n",
              "    }\n",
              "\n",
              "    [theme=dark] .colab-df-convert:hover {\n",
              "      background-color: #434B5C;\n",
              "      box-shadow: 0px 1px 3px 1px rgba(0, 0, 0, 0.15);\n",
              "      filter: drop-shadow(0px 1px 2px rgba(0, 0, 0, 0.3));\n",
              "      fill: #FFFFFF;\n",
              "    }\n",
              "  </style>\n",
              "\n",
              "      <script>\n",
              "        const buttonEl =\n",
              "          document.querySelector('#df-12eb0781-b9a5-4dac-b69e-9cb3b0728b28 button.colab-df-convert');\n",
              "        buttonEl.style.display =\n",
              "          google.colab.kernel.accessAllowed ? 'block' : 'none';\n",
              "\n",
              "        async function convertToInteractive(key) {\n",
              "          const element = document.querySelector('#df-12eb0781-b9a5-4dac-b69e-9cb3b0728b28');\n",
              "          const dataTable =\n",
              "            await google.colab.kernel.invokeFunction('convertToInteractive',\n",
              "                                                     [key], {});\n",
              "          if (!dataTable) return;\n",
              "\n",
              "          const docLinkHtml = 'Like what you see? Visit the ' +\n",
              "            '<a target=\"_blank\" href=https://colab.research.google.com/notebooks/data_table.ipynb>data table notebook</a>'\n",
              "            + ' to learn more about interactive tables.';\n",
              "          element.innerHTML = '';\n",
              "          dataTable['output_type'] = 'display_data';\n",
              "          await google.colab.output.renderOutput(dataTable, element);\n",
              "          const docLink = document.createElement('div');\n",
              "          docLink.innerHTML = docLinkHtml;\n",
              "          element.appendChild(docLink);\n",
              "        }\n",
              "      </script>\n",
              "    </div>\n",
              "  </div>\n",
              "  "
            ],
            "text/plain": [
              "       image_name  target\n",
              "0    ISIC_0000003     0.0\n",
              "1    ISIC_0000012     0.0\n",
              "2    ISIC_0000013     1.0\n",
              "3    ISIC_0000014     0.0\n",
              "4    ISIC_0000015     0.0\n",
              "..            ...     ...\n",
              "374  ISIC_0011367     0.0\n",
              "375  ISIC_0011374     1.0\n",
              "376  ISIC_0011384     0.0\n",
              "377  ISIC_0011386     0.0\n",
              "378  ISIC_0011392     0.0\n",
              "\n",
              "[379 rows x 2 columns]"
            ]
          },
          "metadata": {},
          "execution_count": 6
        }
      ]
    },
    {
      "cell_type": "code",
      "source": [
        "def to_int(label):\n",
        "  if label == \"benign\":\n",
        "    return 0.0\n",
        "  elif label == \"malignant\":\n",
        "    return 1.0\n",
        "\n",
        "def to_path_train(image_name):\n",
        "  return train_path +image_name+'.jpg'\n",
        "\n",
        "def to_path_test(image_name):\n",
        "  return test_path +image_name+'.jpg'\n",
        "train['target'] = train.benign_malignant.apply(to_int)\n",
        "train['path'] = train.image_name.apply(to_path_train)\n",
        "\n",
        "test['path'] = test.image_name.apply(to_path_test)\n",
        "test"
      ],
      "metadata": {
        "colab": {
          "base_uri": "https://localhost:8080/",
          "height": 424
        },
        "id": "BATeRaNoY8O-",
        "outputId": "f5637903-3a38-411b-cd39-b79b74f7171b"
      },
      "execution_count": null,
      "outputs": [
        {
          "output_type": "execute_result",
          "data": {
            "text/html": [
              "\n",
              "  <div id=\"df-8d7c2f5b-0640-40ca-8816-4b2126aca352\">\n",
              "    <div class=\"colab-df-container\">\n",
              "      <div>\n",
              "<style scoped>\n",
              "    .dataframe tbody tr th:only-of-type {\n",
              "        vertical-align: middle;\n",
              "    }\n",
              "\n",
              "    .dataframe tbody tr th {\n",
              "        vertical-align: top;\n",
              "    }\n",
              "\n",
              "    .dataframe thead th {\n",
              "        text-align: right;\n",
              "    }\n",
              "</style>\n",
              "<table border=\"1\" class=\"dataframe\">\n",
              "  <thead>\n",
              "    <tr style=\"text-align: right;\">\n",
              "      <th></th>\n",
              "      <th>image_name</th>\n",
              "      <th>target</th>\n",
              "      <th>path</th>\n",
              "    </tr>\n",
              "  </thead>\n",
              "  <tbody>\n",
              "    <tr>\n",
              "      <th>0</th>\n",
              "      <td>ISIC_0000003</td>\n",
              "      <td>0.0</td>\n",
              "      <td>/content/drive/MyDrive/ISIC/2016/ISBI2016_ISIC...</td>\n",
              "    </tr>\n",
              "    <tr>\n",
              "      <th>1</th>\n",
              "      <td>ISIC_0000012</td>\n",
              "      <td>0.0</td>\n",
              "      <td>/content/drive/MyDrive/ISIC/2016/ISBI2016_ISIC...</td>\n",
              "    </tr>\n",
              "    <tr>\n",
              "      <th>2</th>\n",
              "      <td>ISIC_0000013</td>\n",
              "      <td>1.0</td>\n",
              "      <td>/content/drive/MyDrive/ISIC/2016/ISBI2016_ISIC...</td>\n",
              "    </tr>\n",
              "    <tr>\n",
              "      <th>3</th>\n",
              "      <td>ISIC_0000014</td>\n",
              "      <td>0.0</td>\n",
              "      <td>/content/drive/MyDrive/ISIC/2016/ISBI2016_ISIC...</td>\n",
              "    </tr>\n",
              "    <tr>\n",
              "      <th>4</th>\n",
              "      <td>ISIC_0000015</td>\n",
              "      <td>0.0</td>\n",
              "      <td>/content/drive/MyDrive/ISIC/2016/ISBI2016_ISIC...</td>\n",
              "    </tr>\n",
              "    <tr>\n",
              "      <th>...</th>\n",
              "      <td>...</td>\n",
              "      <td>...</td>\n",
              "      <td>...</td>\n",
              "    </tr>\n",
              "    <tr>\n",
              "      <th>374</th>\n",
              "      <td>ISIC_0011367</td>\n",
              "      <td>0.0</td>\n",
              "      <td>/content/drive/MyDrive/ISIC/2016/ISBI2016_ISIC...</td>\n",
              "    </tr>\n",
              "    <tr>\n",
              "      <th>375</th>\n",
              "      <td>ISIC_0011374</td>\n",
              "      <td>1.0</td>\n",
              "      <td>/content/drive/MyDrive/ISIC/2016/ISBI2016_ISIC...</td>\n",
              "    </tr>\n",
              "    <tr>\n",
              "      <th>376</th>\n",
              "      <td>ISIC_0011384</td>\n",
              "      <td>0.0</td>\n",
              "      <td>/content/drive/MyDrive/ISIC/2016/ISBI2016_ISIC...</td>\n",
              "    </tr>\n",
              "    <tr>\n",
              "      <th>377</th>\n",
              "      <td>ISIC_0011386</td>\n",
              "      <td>0.0</td>\n",
              "      <td>/content/drive/MyDrive/ISIC/2016/ISBI2016_ISIC...</td>\n",
              "    </tr>\n",
              "    <tr>\n",
              "      <th>378</th>\n",
              "      <td>ISIC_0011392</td>\n",
              "      <td>0.0</td>\n",
              "      <td>/content/drive/MyDrive/ISIC/2016/ISBI2016_ISIC...</td>\n",
              "    </tr>\n",
              "  </tbody>\n",
              "</table>\n",
              "<p>379 rows × 3 columns</p>\n",
              "</div>\n",
              "      <button class=\"colab-df-convert\" onclick=\"convertToInteractive('df-8d7c2f5b-0640-40ca-8816-4b2126aca352')\"\n",
              "              title=\"Convert this dataframe to an interactive table.\"\n",
              "              style=\"display:none;\">\n",
              "        \n",
              "  <svg xmlns=\"http://www.w3.org/2000/svg\" height=\"24px\"viewBox=\"0 0 24 24\"\n",
              "       width=\"24px\">\n",
              "    <path d=\"M0 0h24v24H0V0z\" fill=\"none\"/>\n",
              "    <path d=\"M18.56 5.44l.94 2.06.94-2.06 2.06-.94-2.06-.94-.94-2.06-.94 2.06-2.06.94zm-11 1L8.5 8.5l.94-2.06 2.06-.94-2.06-.94L8.5 2.5l-.94 2.06-2.06.94zm10 10l.94 2.06.94-2.06 2.06-.94-2.06-.94-.94-2.06-.94 2.06-2.06.94z\"/><path d=\"M17.41 7.96l-1.37-1.37c-.4-.4-.92-.59-1.43-.59-.52 0-1.04.2-1.43.59L10.3 9.45l-7.72 7.72c-.78.78-.78 2.05 0 2.83L4 21.41c.39.39.9.59 1.41.59.51 0 1.02-.2 1.41-.59l7.78-7.78 2.81-2.81c.8-.78.8-2.07 0-2.86zM5.41 20L4 18.59l7.72-7.72 1.47 1.35L5.41 20z\"/>\n",
              "  </svg>\n",
              "      </button>\n",
              "      \n",
              "  <style>\n",
              "    .colab-df-container {\n",
              "      display:flex;\n",
              "      flex-wrap:wrap;\n",
              "      gap: 12px;\n",
              "    }\n",
              "\n",
              "    .colab-df-convert {\n",
              "      background-color: #E8F0FE;\n",
              "      border: none;\n",
              "      border-radius: 50%;\n",
              "      cursor: pointer;\n",
              "      display: none;\n",
              "      fill: #1967D2;\n",
              "      height: 32px;\n",
              "      padding: 0 0 0 0;\n",
              "      width: 32px;\n",
              "    }\n",
              "\n",
              "    .colab-df-convert:hover {\n",
              "      background-color: #E2EBFA;\n",
              "      box-shadow: 0px 1px 2px rgba(60, 64, 67, 0.3), 0px 1px 3px 1px rgba(60, 64, 67, 0.15);\n",
              "      fill: #174EA6;\n",
              "    }\n",
              "\n",
              "    [theme=dark] .colab-df-convert {\n",
              "      background-color: #3B4455;\n",
              "      fill: #D2E3FC;\n",
              "    }\n",
              "\n",
              "    [theme=dark] .colab-df-convert:hover {\n",
              "      background-color: #434B5C;\n",
              "      box-shadow: 0px 1px 3px 1px rgba(0, 0, 0, 0.15);\n",
              "      filter: drop-shadow(0px 1px 2px rgba(0, 0, 0, 0.3));\n",
              "      fill: #FFFFFF;\n",
              "    }\n",
              "  </style>\n",
              "\n",
              "      <script>\n",
              "        const buttonEl =\n",
              "          document.querySelector('#df-8d7c2f5b-0640-40ca-8816-4b2126aca352 button.colab-df-convert');\n",
              "        buttonEl.style.display =\n",
              "          google.colab.kernel.accessAllowed ? 'block' : 'none';\n",
              "\n",
              "        async function convertToInteractive(key) {\n",
              "          const element = document.querySelector('#df-8d7c2f5b-0640-40ca-8816-4b2126aca352');\n",
              "          const dataTable =\n",
              "            await google.colab.kernel.invokeFunction('convertToInteractive',\n",
              "                                                     [key], {});\n",
              "          if (!dataTable) return;\n",
              "\n",
              "          const docLinkHtml = 'Like what you see? Visit the ' +\n",
              "            '<a target=\"_blank\" href=https://colab.research.google.com/notebooks/data_table.ipynb>data table notebook</a>'\n",
              "            + ' to learn more about interactive tables.';\n",
              "          element.innerHTML = '';\n",
              "          dataTable['output_type'] = 'display_data';\n",
              "          await google.colab.output.renderOutput(dataTable, element);\n",
              "          const docLink = document.createElement('div');\n",
              "          docLink.innerHTML = docLinkHtml;\n",
              "          element.appendChild(docLink);\n",
              "        }\n",
              "      </script>\n",
              "    </div>\n",
              "  </div>\n",
              "  "
            ],
            "text/plain": [
              "       image_name  target                                               path\n",
              "0    ISIC_0000003     0.0  /content/drive/MyDrive/ISIC/2016/ISBI2016_ISIC...\n",
              "1    ISIC_0000012     0.0  /content/drive/MyDrive/ISIC/2016/ISBI2016_ISIC...\n",
              "2    ISIC_0000013     1.0  /content/drive/MyDrive/ISIC/2016/ISBI2016_ISIC...\n",
              "3    ISIC_0000014     0.0  /content/drive/MyDrive/ISIC/2016/ISBI2016_ISIC...\n",
              "4    ISIC_0000015     0.0  /content/drive/MyDrive/ISIC/2016/ISBI2016_ISIC...\n",
              "..            ...     ...                                                ...\n",
              "374  ISIC_0011367     0.0  /content/drive/MyDrive/ISIC/2016/ISBI2016_ISIC...\n",
              "375  ISIC_0011374     1.0  /content/drive/MyDrive/ISIC/2016/ISBI2016_ISIC...\n",
              "376  ISIC_0011384     0.0  /content/drive/MyDrive/ISIC/2016/ISBI2016_ISIC...\n",
              "377  ISIC_0011386     0.0  /content/drive/MyDrive/ISIC/2016/ISBI2016_ISIC...\n",
              "378  ISIC_0011392     0.0  /content/drive/MyDrive/ISIC/2016/ISBI2016_ISIC...\n",
              "\n",
              "[379 rows x 3 columns]"
            ]
          },
          "metadata": {},
          "execution_count": 7
        }
      ]
    },
    {
      "cell_type": "code",
      "source": [
        "import numpy as np\n",
        "from sklearn import model_selection\n",
        "FOLDS = 3\n",
        "kf = model_selection.StratifiedKFold(n_splits=FOLDS, random_state=42, shuffle=True)\n",
        "for fold_, (train_idx, test_idx) in enumerate(kf.split(X=train,y=train['target'])):\n",
        "  train.loc[test_idx,'kfold'] = fold_\n",
        "\n",
        "  train_fold = train.iloc[train_idx]\n",
        "  val_fold = train.iloc[test_idx]\n",
        "  train_fold.reset_index(drop=True, inplace=True)\n",
        "  val_fold.reset_index(drop=True, inplace=True)\n",
        "  train_fold.to_csv(f'./train_fold{FOLDS}.csv')\n",
        "  val_fold.to_csv(f'./val_fold{FOLDS}.csv')\n",
        "  print(\"Fold:\",fold_+1)\n",
        "  print(train_idx.shape, test_idx.shape)"
      ],
      "metadata": {
        "colab": {
          "base_uri": "https://localhost:8080/"
        },
        "id": "06tHij9PfGuk",
        "outputId": "d865eeb6-4752-4327-ab55-4416ae5eb9b5"
      },
      "execution_count": null,
      "outputs": [
        {
          "output_type": "stream",
          "name": "stdout",
          "text": [
            "Fold: 1\n",
            "(600,) (300,)\n",
            "Fold: 2\n",
            "(600,) (300,)\n",
            "Fold: 3\n",
            "(600,) (300,)\n"
          ]
        }
      ]
    },
    {
      "cell_type": "code",
      "source": [
        "from torch.utils.data import Dataset\n",
        "from skimage import io\n",
        "from skimage.transform import resize\n",
        "\n",
        "class MelanomaDataset(Dataset):\n",
        "  def __init__(self, images, labels=None, train=True):\n",
        "    self.images = images\n",
        "    self.labels = labels\n",
        "    self.train = train\n",
        "\n",
        "  def load_img(self, img):\n",
        "    im = io.imread(img)\n",
        "    return resize(im,(224,224))\n",
        "\n",
        "  def __getitem__(self, ix):\n",
        "    img = self.load_img(self.images[ix])\n",
        "    img = img.transpose(2, 0, 1)\n",
        "    image = torch.from_numpy(img).float()\n",
        "    if self.train:\n",
        "      target = torch.tensor([self.labels[ix]]).float()\n",
        "      return image, target\n",
        "    return image\n",
        "        \n",
        "  def __len__(self) -> int:\n",
        "    return len(self.images)"
      ],
      "metadata": {
        "id": "Tnd_tDX-njRI"
      },
      "execution_count": null,
      "outputs": []
    },
    {
      "cell_type": "code",
      "source": [
        "from torch.utils.data import DataLoader\n",
        "dataset = {\n",
        "    'train': MelanomaDataset(train_fold['path'], train_fold['target']),\n",
        "    'val': MelanomaDataset(val_fold['path'], val_fold['target'])\n",
        "}"
      ],
      "metadata": {
        "id": "ieoaMbISrPLJ"
      },
      "execution_count": null,
      "outputs": []
    },
    {
      "cell_type": "code",
      "source": [
        "BATCH=32\n",
        "train_loader = DataLoader(dataset['train'], batch_size=BATCH, shuffle=True)\n",
        "val_loader = DataLoader(dataset['val'], batch_size=BATCH)"
      ],
      "metadata": {
        "id": "ppM_N3FXrsqh"
      },
      "execution_count": null,
      "outputs": []
    },
    {
      "cell_type": "code",
      "source": [
        "images, labels = next(iter(train_loader))\n",
        "images.shape, labels.shape"
      ],
      "metadata": {
        "colab": {
          "base_uri": "https://localhost:8080/"
        },
        "id": "M4qWJwwq1Nqc",
        "outputId": "2e1607b5-ffcd-429c-892a-9bb3e37ce3a3"
      },
      "execution_count": null,
      "outputs": [
        {
          "output_type": "execute_result",
          "data": {
            "text/plain": [
              "(torch.Size([32, 3, 224, 224]), torch.Size([32, 1]))"
            ]
          },
          "metadata": {},
          "execution_count": 14
        }
      ]
    },
    {
      "cell_type": "markdown",
      "source": [
        "# Show batch"
      ],
      "metadata": {
        "id": "FAS2Nv-ywdNy"
      }
    },
    {
      "cell_type": "code",
      "source": [
        "from torchvision.utils import make_grid\n",
        "import matplotlib.pyplot as plt\n",
        "def show_batch(data_loader):\n",
        "    for images, labels in data_loader:\n",
        "        fig, ax = plt.subplots(figsize=(16, 8))\n",
        "        ax.set_xticks([]); ax.set_yticks([])\n",
        "        ax.imshow(make_grid(images, nrow=8).permute(1, 2, 0))\n",
        "        break"
      ],
      "metadata": {
        "id": "z6uMc0310iIa"
      },
      "execution_count": null,
      "outputs": []
    },
    {
      "cell_type": "code",
      "source": [
        "show_batch(train_loader)"
      ],
      "metadata": {
        "colab": {
          "base_uri": "https://localhost:8080/"
        },
        "id": "1ID3lRe_wcBS",
        "outputId": "3531228c-1d6f-4a38-eb4f-466538c65162"
      },
      "execution_count": null,
      "outputs": [
        {
          "output_type": "display_data",
          "data": {
            "image/png": "[encoded data removed]",
            "text/plain": [
              "<Figure size 1152x576 with 1 Axes>"
            ]
          },
          "metadata": {}
        }
      ]
    },
    {
      "cell_type": "markdown",
      "source": [
        "# Model"
      ],
      "metadata": {
        "id": "4F7zOmID0Uha"
      }
    },
    {
      "cell_type": "code",
      "source": [
        "import timm\n",
        "import torch.nn as nn\n",
        "class MelanomaClassifier(nn.Module):\n",
        "    def __init__(self, model_arch, n_class, pretrained=False):\n",
        "        super().__init__()\n",
        "        self.model = timm.create_model(model_arch, pretrained=pretrained)\n",
        "        n_features = self.model.fc.in_features\n",
        "        self.model.fc = nn.Linear(n_features, n_class)\n",
        "        # self.model.fc = nn.Linear(in_features=net.fc.in_features, out_features=2, bias=True)\n",
        "        '''\n",
        "        self.model.classifier = nn.Sequential(\n",
        "            nn.Dropout(0.3),\n",
        "            #nn.Linear(n_features, hidden_size,bias=True), nn.ELU(),\n",
        "            nn.Linear(n_features, n_class, bias=True)\n",
        "        )\n",
        "        '''\n",
        "    def forward(self, x):\n",
        "        x = self.model(x)\n",
        "        return x"
      ],
      "metadata": {
        "id": "pJ-IHdNF0V8R"
      },
      "execution_count": null,
      "outputs": []
    },
    {
      "cell_type": "code",
      "source": [
        "model = MelanomaClassifier('resnet101',1,True)"
      ],
      "metadata": {
        "id": "JqAg62bl0r38",
        "colab": {
          "base_uri": "https://localhost:8080/"
        },
        "outputId": "e51c8d11-034f-4a3a-b9a1-f5fd5d6dcaea"
      },
      "execution_count": null,
      "outputs": [
        {
          "output_type": "stream",
          "name": "stderr",
          "text": [
            "Downloading: \"https://github.com/rwightman/pytorch-image-models/releases/download/v0.1-rsb-weights/resnet101_a1h-36d3f2aa.pth\" to /root/.cache/torch/hub/checkpoints/resnet101_a1h-36d3f2aa.pth\n"
          ]
        }
      ]
    },
    {
      "cell_type": "code",
      "source": [
        "from timm.optim import AdamP\n",
        "optimizer = AdamP(model.parameters(), lr=0.001)"
      ],
      "metadata": {
        "id": "qcvALloh07Wi"
      },
      "execution_count": null,
      "outputs": []
    },
    {
      "cell_type": "code",
      "source": [
        "from timm.scheduler.plateau_lr import PlateauLRScheduler\n",
        "scheduler = PlateauLRScheduler(\n",
        "        optimizer,\n",
        "        patience_t=3,\n",
        "        threshold=0.001,\n",
        "        mode=\"max\"\n",
        "    )"
      ],
      "metadata": {
        "id": "_l-1VI4R0_-K"
      },
      "execution_count": null,
      "outputs": []
    },
    {
      "cell_type": "code",
      "source": [
        "import timm.loss\n",
        "loss_criterion = torch.nn.BCEWithLogitsLoss()"
      ],
      "metadata": {
        "id": "jkPwo6Ru1B8U"
      },
      "execution_count": null,
      "outputs": []
    },
    {
      "cell_type": "markdown",
      "source": [
        "# Train"
      ],
      "metadata": {
        "id": "JdsmURFZ1TDk"
      }
    },
    {
      "cell_type": "code",
      "source": [
        "from sklearn.metrics import roc_auc_score\n",
        "from sklearn.metrics import f1_score\n",
        "\n",
        "def auc_score(outputs, targets):\n",
        "    outputs = torch.sigmoid(outputs)\n",
        "    outputs = outputs.numpy()\n",
        "    targets = targets.numpy()\n",
        "    auc = roc_auc_score(targets, outputs)\n",
        "    return auc\n",
        "\n",
        "def f1_score(outputs, targets):\n",
        "    outputs = torch.sigmoid(outputs)\n",
        "    outputs = outputs.numpy()\n",
        "    targets = targets.numpy()\n",
        "    f1 = f1_score(targets, outputs)\n",
        "    return f1"
      ],
      "metadata": {
        "id": "gIXwbE-2FfuT"
      },
      "execution_count": null,
      "outputs": []
    },
    {
      "cell_type": "code",
      "source": [
        "from fastprogress import master_bar, progress_bar\n",
        "model.to(DEVICE)\n",
        "\n",
        "num_epochs = 10\n",
        "mb = master_bar(range(1,num_epochs+1))\n",
        "\n",
        "val_steps=2\n",
        "best_auc = 0\n",
        "\n",
        "count=0\n",
        "count_2=0\n",
        "for epoch in mb:\n",
        "  #training phase\n",
        "  model.train()\n",
        "  train_losses = []\n",
        "  for batch in progress_bar(train_loader, parent=mb):\n",
        "    # count+=1\n",
        "    inputs, targets = batch\n",
        "    inputs, targets = inputs.to(DEVICE), targets.to(DEVICE)\n",
        "    outputs = model(inputs)\n",
        "    loss = loss_criterion(outputs, targets)\n",
        "    loss.backward()\n",
        "    train_losses.append(loss)\n",
        "    optimizer.step()\n",
        "    optimizer.zero_grad()\n",
        "    train_loss = torch.stack(train_losses).mean().item()\n",
        "    mb.child.comment = f'loss {train_loss:.5f}'\n",
        "    if count>val_steps:\n",
        "      break\n",
        "        \n",
        "        \n",
        "  # train_loss = torch.stack(train_losses).mean().item()\n",
        "  #Validation\n",
        "  model.eval()\n",
        "  val_losses=[]\n",
        "\n",
        "  # AUC may have conflicts if the batch does not have two targets\n",
        "  val_outputs = torch.tensor([])\n",
        "  val_targets = torch.tensor([])\n",
        "\n",
        "  with torch.no_grad():\n",
        "    for batch in progress_bar(val_loader, parent=mb):\n",
        "      inputs, targets = batch\n",
        "      inputs, targets = inputs.to(DEVICE), targets.to(DEVICE)\n",
        "      outputs = model(inputs)\n",
        "      loss = loss_criterion(outputs, targets)\n",
        "      val_losses.append(loss)\n",
        "      optimizer.step()\n",
        "      optimizer.zero_grad()\n",
        "      # count_2+=1\n",
        "\n",
        "      # handle AUC fix\n",
        "      val_outputs = torch.cat([val_outputs, outputs.cpu()])\n",
        "      val_targets = torch.cat([val_targets, targets.cpu()])\n",
        "    \n",
        "      val_loss = torch.stack(val_losses).mean().item()\n",
        "      mb.child.comment = f'val_loss {val_loss:.5f}'\n",
        "      if count_2>val_steps:\n",
        "        break\n",
        "    auc = auc_score(val_outputs, val_targets)\n",
        "    if auc > best_auc:\n",
        "      best_auc = auc\n",
        "      # torch.save(model, f'{PATH}/model.pth')\n",
        "      torch.save(model, 'model.pth')\n",
        "      print(f\"Current best model: {auc:.5f}\")\n",
        "    print(\"Epoch [{}] -> train_loss: {:.4f}, val_loss: {:.4f}, val_auc: {:.4f}\".format(epoch, train_loss, val_loss, auc))\n",
        "  "
      ],
      "metadata": {
        "colab": {
          "base_uri": "https://localhost:8080/",
          "height": 260
        },
        "id": "a-Jh_vxS1LEE",
        "outputId": "4fb218db-957b-48d7-ef69-2e9bf467ba0e"
      },
      "execution_count": null,
      "outputs": [
        {
          "output_type": "display_data",
          "data": {
            "text/html": [
              ""
            ],
            "text/plain": [
              "<IPython.core.display.HTML object>"
            ]
          },
          "metadata": {}
        },
        {
          "output_type": "stream",
          "name": "stdout",
          "text": [
            "Current best model: 0.60060\n",
            "Epoch [1] -> train_loss: 0.4475, val_loss: 0.5106, val_auc: 0.6006\n",
            "Current best model: 0.69991\n",
            "Epoch [2] -> train_loss: 0.3678, val_loss: 0.5061, val_auc: 0.6999\n",
            "Current best model: 0.74679\n",
            "Epoch [3] -> train_loss: 0.2866, val_loss: 0.4550, val_auc: 0.7468\n",
            "Epoch [4] -> train_loss: 0.2006, val_loss: 0.5153, val_auc: 0.7402\n",
            "Epoch [5] -> train_loss: 0.3405, val_loss: 0.5407, val_auc: 0.7112\n",
            "Epoch [6] -> train_loss: 0.2060, val_loss: 0.5951, val_auc: 0.7221\n",
            "Epoch [7] -> train_loss: 0.1359, val_loss: 0.5932, val_auc: 0.7208\n",
            "Epoch [8] -> train_loss: 0.0868, val_loss: 0.6548, val_auc: 0.7196\n",
            "Current best model: 0.78790\n",
            "Epoch [9] -> train_loss: 0.0814, val_loss: 0.5459, val_auc: 0.7879\n",
            "Epoch [10] -> train_loss: 0.1246, val_loss: 0.6807, val_auc: 0.7560\n"
          ]
        }
      ]
    },
    {
      "cell_type": "markdown",
      "source": [
        "# Test"
      ],
      "metadata": {
        "id": "MmpJ8ON_HPuv"
      }
    },
    {
      "cell_type": "code",
      "source": [
        "test_dataset = MelanomaDataset(test['path'], test['target'])"
      ],
      "metadata": {
        "id": "BN57PkM9B0U7"
      },
      "execution_count": null,
      "outputs": []
    },
    {
      "cell_type": "code",
      "source": [
        "test_loader = DataLoader(test_dataset, batch_size=32)"
      ],
      "metadata": {
        "id": "ah3fVaHvIPp6"
      },
      "execution_count": null,
      "outputs": []
    },
    {
      "cell_type": "code",
      "source": [
        "images, labels = next(iter(test_loader))\n",
        "images.shape, labels.shape"
      ],
      "metadata": {
        "colab": {
          "base_uri": "https://localhost:8080/"
        },
        "id": "Nwnp4PN3IW-N",
        "outputId": "a79a67b4-c09f-464a-eb8e-655cad5ca7b9"
      },
      "execution_count": null,
      "outputs": [
        {
          "output_type": "execute_result",
          "data": {
            "text/plain": [
              "(torch.Size([32, 3, 224, 224]), torch.Size([32, 1]))"
            ]
          },
          "metadata": {},
          "execution_count": 36
        }
      ]
    },
    {
      "cell_type": "code",
      "source": [
        "model = torch.load('model_2016_3.pth',map_location=torch.device('cpu'))\n",
        "model.to(DEVICE)\n",
        "model.eval()\n",
        "preds = torch.tensor([]).to(DEVICE)\n",
        "val_outputs = torch.tensor([])\n",
        "val_targets = torch.tensor([])\n",
        "with torch.no_grad():\n",
        "  for batch in progress_bar(test_loader):\n",
        "    imgs, targets = batch\n",
        "    imgs, targets = imgs.to(DEVICE), targets.to(DEVICE)\n",
        "    outputs = model(imgs)\n",
        "    preds = torch.cat([preds, outputs.view(-1)])\n",
        "\n",
        "    val_outputs = torch.cat([val_outputs, outputs.cpu()])\n",
        "    val_targets = torch.cat([val_targets, targets.cpu()])\n",
        "  auc = auc_score(val_outputs, val_targets)\n",
        "  print(\"auc:\",auc)"
      ],
      "metadata": {
        "colab": {
          "base_uri": "https://localhost:8080/",
          "height": 54
        },
        "id": "WGsxC3s3L-Pc",
        "outputId": "84c6e8fa-1522-4cf4-e7dc-6aac63ce8973"
      },
      "execution_count": null,
      "outputs": [
        {
          "output_type": "display_data",
          "data": {
            "text/html": [
              "\n",
              "    <div>\n",
              "        <style>\n",
              "            /* Turns off some styling */\n",
              "            progress {\n",
              "                /* gets rid of default border in Firefox and Opera. */\n",
              "                border: none;\n",
              "                /* Needs to be in here for Safari polyfill so background images work as expected. */\n",
              "                background-size: auto;\n",
              "            }\n",
              "            .progress-bar-interrupted, .progress-bar-interrupted::-webkit-progress-bar {\n",
              "                background: #F44336;\n",
              "            }\n",
              "        </style>\n",
              "      <progress value='12' class='' max='12' style='width:300px; height:20px; vertical-align: middle;'></progress>\n",
              "      100.00% [12/12 06:57<00:00]\n",
              "    </div>\n",
              "    "
            ],
            "text/plain": [
              "<IPython.core.display.HTML object>"
            ]
          },
          "metadata": {}
        },
        {
          "output_type": "stream",
          "name": "stdout",
          "text": [
            "auc: 0.6575438596491229\n"
          ]
        }
      ]
    },
    {
      "cell_type": "markdown",
      "source": [
        "# Submission"
      ],
      "metadata": {
        "id": "sagUR_LqMnwc"
      }
    },
    {
      "cell_type": "code",
      "source": [
        "submission = pd.DataFrame({'image_name': test['image_name'].values, 'target': preds.cpu().numpy()})\n",
        "submission"
      ],
      "metadata": {
        "colab": {
          "base_uri": "https://localhost:8080/",
          "height": 424
        },
        "id": "imiFILuqMpIU",
        "outputId": "9934e4f9-9122-439d-eb40-545ba4c2e706"
      },
      "execution_count": null,
      "outputs": [
        {
          "output_type": "execute_result",
          "data": {
            "text/html": [
              "\n",
              "  <div id=\"df-5016ee15-17ea-46bb-b465-1aaeb81ddc4d\">\n",
              "    <div class=\"colab-df-container\">\n",
              "      <div>\n",
              "<style scoped>\n",
              "    .dataframe tbody tr th:only-of-type {\n",
              "        vertical-align: middle;\n",
              "    }\n",
              "\n",
              "    .dataframe tbody tr th {\n",
              "        vertical-align: top;\n",
              "    }\n",
              "\n",
              "    .dataframe thead th {\n",
              "        text-align: right;\n",
              "    }\n",
              "</style>\n",
              "<table border=\"1\" class=\"dataframe\">\n",
              "  <thead>\n",
              "    <tr style=\"text-align: right;\">\n",
              "      <th></th>\n",
              "      <th>image_name</th>\n",
              "      <th>target</th>\n",
              "    </tr>\n",
              "  </thead>\n",
              "  <tbody>\n",
              "    <tr>\n",
              "      <th>0</th>\n",
              "      <td>ISIC_0000003</td>\n",
              "      <td>3.599602e-14</td>\n",
              "    </tr>\n",
              "    <tr>\n",
              "      <th>1</th>\n",
              "      <td>ISIC_0000012</td>\n",
              "      <td>1.850320e-02</td>\n",
              "    </tr>\n",
              "    <tr>\n",
              "      <th>2</th>\n",
              "      <td>ISIC_0000013</td>\n",
              "      <td>8.086189e-13</td>\n",
              "    </tr>\n",
              "    <tr>\n",
              "      <th>3</th>\n",
              "      <td>ISIC_0000014</td>\n",
              "      <td>1.412172e-05</td>\n",
              "    </tr>\n",
              "    <tr>\n",
              "      <th>4</th>\n",
              "      <td>ISIC_0000015</td>\n",
              "      <td>8.209930e-12</td>\n",
              "    </tr>\n",
              "    <tr>\n",
              "      <th>...</th>\n",
              "      <td>...</td>\n",
              "      <td>...</td>\n",
              "    </tr>\n",
              "    <tr>\n",
              "      <th>374</th>\n",
              "      <td>ISIC_0011367</td>\n",
              "      <td>7.351957e-26</td>\n",
              "    </tr>\n",
              "    <tr>\n",
              "      <th>375</th>\n",
              "      <td>ISIC_0011374</td>\n",
              "      <td>1.868130e-05</td>\n",
              "    </tr>\n",
              "    <tr>\n",
              "      <th>376</th>\n",
              "      <td>ISIC_0011384</td>\n",
              "      <td>1.662031e-24</td>\n",
              "    </tr>\n",
              "    <tr>\n",
              "      <th>377</th>\n",
              "      <td>ISIC_0011386</td>\n",
              "      <td>2.009100e-19</td>\n",
              "    </tr>\n",
              "    <tr>\n",
              "      <th>378</th>\n",
              "      <td>ISIC_0011392</td>\n",
              "      <td>1.457480e-04</td>\n",
              "    </tr>\n",
              "  </tbody>\n",
              "</table>\n",
              "<p>379 rows × 2 columns</p>\n",
              "</div>\n",
              "      <button class=\"colab-df-convert\" onclick=\"convertToInteractive('df-5016ee15-17ea-46bb-b465-1aaeb81ddc4d')\"\n",
              "              title=\"Convert this dataframe to an interactive table.\"\n",
              "              style=\"display:none;\">\n",
              "        \n",
              "  <svg xmlns=\"http://www.w3.org/2000/svg\" height=\"24px\"viewBox=\"0 0 24 24\"\n",
              "       width=\"24px\">\n",
              "    <path d=\"M0 0h24v24H0V0z\" fill=\"none\"/>\n",
              "    <path d=\"M18.56 5.44l.94 2.06.94-2.06 2.06-.94-2.06-.94-.94-2.06-.94 2.06-2.06.94zm-11 1L8.5 8.5l.94-2.06 2.06-.94-2.06-.94L8.5 2.5l-.94 2.06-2.06.94zm10 10l.94 2.06.94-2.06 2.06-.94-2.06-.94-.94-2.06-.94 2.06-2.06.94z\"/><path d=\"M17.41 7.96l-1.37-1.37c-.4-.4-.92-.59-1.43-.59-.52 0-1.04.2-1.43.59L10.3 9.45l-7.72 7.72c-.78.78-.78 2.05 0 2.83L4 21.41c.39.39.9.59 1.41.59.51 0 1.02-.2 1.41-.59l7.78-7.78 2.81-2.81c.8-.78.8-2.07 0-2.86zM5.41 20L4 18.59l7.72-7.72 1.47 1.35L5.41 20z\"/>\n",
              "  </svg>\n",
              "      </button>\n",
              "      \n",
              "  <style>\n",
              "    .colab-df-container {\n",
              "      display:flex;\n",
              "      flex-wrap:wrap;\n",
              "      gap: 12px;\n",
              "    }\n",
              "\n",
              "    .colab-df-convert {\n",
              "      background-color: #E8F0FE;\n",
              "      border: none;\n",
              "      border-radius: 50%;\n",
              "      cursor: pointer;\n",
              "      display: none;\n",
              "      fill: #1967D2;\n",
              "      height: 32px;\n",
              "      padding: 0 0 0 0;\n",
              "      width: 32px;\n",
              "    }\n",
              "\n",
              "    .colab-df-convert:hover {\n",
              "      background-color: #E2EBFA;\n",
              "      box-shadow: 0px 1px 2px rgba(60, 64, 67, 0.3), 0px 1px 3px 1px rgba(60, 64, 67, 0.15);\n",
              "      fill: #174EA6;\n",
              "    }\n",
              "\n",
              "    [theme=dark] .colab-df-convert {\n",
              "      background-color: #3B4455;\n",
              "      fill: #D2E3FC;\n",
              "    }\n",
              "\n",
              "    [theme=dark] .colab-df-convert:hover {\n",
              "      background-color: #434B5C;\n",
              "      box-shadow: 0px 1px 3px 1px rgba(0, 0, 0, 0.15);\n",
              "      filter: drop-shadow(0px 1px 2px rgba(0, 0, 0, 0.3));\n",
              "      fill: #FFFFFF;\n",
              "    }\n",
              "  </style>\n",
              "\n",
              "      <script>\n",
              "        const buttonEl =\n",
              "          document.querySelector('#df-5016ee15-17ea-46bb-b465-1aaeb81ddc4d button.colab-df-convert');\n",
              "        buttonEl.style.display =\n",
              "          google.colab.kernel.accessAllowed ? 'block' : 'none';\n",
              "\n",
              "        async function convertToInteractive(key) {\n",
              "          const element = document.querySelector('#df-5016ee15-17ea-46bb-b465-1aaeb81ddc4d');\n",
              "          const dataTable =\n",
              "            await google.colab.kernel.invokeFunction('convertToInteractive',\n",
              "                                                     [key], {});\n",
              "          if (!dataTable) return;\n",
              "\n",
              "          const docLinkHtml = 'Like what you see? Visit the ' +\n",
              "            '<a target=\"_blank\" href=https://colab.research.google.com/notebooks/data_table.ipynb>data table notebook</a>'\n",
              "            + ' to learn more about interactive tables.';\n",
              "          element.innerHTML = '';\n",
              "          dataTable['output_type'] = 'display_data';\n",
              "          await google.colab.output.renderOutput(dataTable, element);\n",
              "          const docLink = document.createElement('div');\n",
              "          docLink.innerHTML = docLinkHtml;\n",
              "          element.appendChild(docLink);\n",
              "        }\n",
              "      </script>\n",
              "    </div>\n",
              "  </div>\n",
              "  "
            ],
            "text/plain": [
              "       image_name        target\n",
              "0    ISIC_0000003  3.599602e-14\n",
              "1    ISIC_0000012  1.850320e-02\n",
              "2    ISIC_0000013  8.086189e-13\n",
              "3    ISIC_0000014  1.412172e-05\n",
              "4    ISIC_0000015  8.209930e-12\n",
              "..            ...           ...\n",
              "374  ISIC_0011367  7.351957e-26\n",
              "375  ISIC_0011374  1.868130e-05\n",
              "376  ISIC_0011384  1.662031e-24\n",
              "377  ISIC_0011386  2.009100e-19\n",
              "378  ISIC_0011392  1.457480e-04\n",
              "\n",
              "[379 rows x 2 columns]"
            ]
          },
          "metadata": {},
          "execution_count": 56
        }
      ]
    },
    {
      "cell_type": "code",
      "source": [
        "submission.to_csv('submission.csv', index=False)"
      ],
      "metadata": {
        "id": "36zprXyUM5Zv"
      },
      "execution_count": null,
      "outputs": []
    }
  ]
}