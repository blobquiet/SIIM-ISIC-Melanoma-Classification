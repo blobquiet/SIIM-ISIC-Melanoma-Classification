{
  "nbformat": 4,
  "nbformat_minor": 0,
  "metadata": {
    "colab": {
      "name": "SkinLesion_multiclass.ipynb",
      "provenance": [],
      "collapsed_sections": [
        "kYVy37wIvjKR",
        "v4BsWgVdvwOH",
        "GPisT9UVodDm",
        "9jx7gm6qodDm",
        "uZR1TM4rhDk6",
        "p0-143UsDKr7",
        "hcV3-pZ4Ljd2",
        "1V1paZ9QI9Iq",
        "B22MUXmvwZnZ",
        "_9c2bwh1sVdt",
        "4JZHTVsB1RHQ",
        "r6mps26qQECW",
        "RX57E_TqKfNz",
        "e5vY4I7UvmyS",
        "UVtxuIJrTSLa"
      ],
      "machine_shape": "hm"
    },
    "kernelspec": {
      "name": "python3",
      "display_name": "Python 3"
    },
    "accelerator": "GPU"
  },
  "cells": [
    {
      "cell_type": "markdown",
      "metadata": {
        "id": "kYVy37wIvjKR"
      },
      "source": [
        "# Colab"
      ]
    },
    {
      "cell_type": "code",
      "execution_count": null,
      "metadata": {
        "colab": {
          "base_uri": "https://localhost:8080/"
        },
        "id": "rXsrl-kXvSpY",
        "outputId": "f155e434-ccf8-47d8-814a-520681c3c78d"
      },
      "outputs": [
        {
          "output_type": "stream",
          "name": "stdout",
          "text": [
            "GPU 0: Tesla K80 (UUID: GPU-c3c33697-3444-ca90-a5aa-54daac1e9f05)\n"
          ]
        }
      ],
      "source": [
        "!nvidia-smi -L  "
      ]
    },
    {
      "cell_type": "code",
      "execution_count": null,
      "metadata": {
        "colab": {
          "base_uri": "https://localhost:8080/"
        },
        "id": "qKn035eKvlpS",
        "outputId": "8d47018d-9732-46ef-e5b9-acd7ba2a7707"
      },
      "outputs": [
        {
          "output_type": "stream",
          "name": "stdout",
          "text": [
            "Mounted at /content/drive\n"
          ]
        }
      ],
      "source": [
        "from google.colab import drive\n",
        "drive.mount('/content/drive')"
      ]
    },
    {
      "cell_type": "code",
      "execution_count": null,
      "metadata": {
        "id": "Wc4IGk3Wvpr_"
      },
      "outputs": [],
      "source": [
        "!rm -r sample_data"
      ]
    },
    {
      "cell_type": "code",
      "execution_count": null,
      "metadata": {
        "colab": {
          "base_uri": "https://localhost:8080/"
        },
        "id": "X_vhp5HWvsqB",
        "outputId": "b317c10a-2398-4ae3-fa1b-fa70393b671e"
      },
      "outputs": [
        {
          "output_type": "stream",
          "name": "stdout",
          "text": [
            "Collecting timm\n",
            "  Downloading timm-0.5.4-py3-none-any.whl (431 kB)\n",
            "\u001b[?25l\r\u001b[K     |▊                               | 10 kB 16.1 MB/s eta 0:00:01\r\u001b[K     |█▌                              | 20 kB 9.8 MB/s eta 0:00:01\r\u001b[K     |██▎                             | 30 kB 7.9 MB/s eta 0:00:01\r\u001b[K     |███                             | 40 kB 4.7 MB/s eta 0:00:01\r\u001b[K     |███▉                            | 51 kB 4.5 MB/s eta 0:00:01\r\u001b[K     |████▋                           | 61 kB 5.3 MB/s eta 0:00:01\r\u001b[K     |█████▎                          | 71 kB 5.4 MB/s eta 0:00:01\r\u001b[K     |██████                          | 81 kB 5.2 MB/s eta 0:00:01\r\u001b[K     |██████▉                         | 92 kB 5.8 MB/s eta 0:00:01\r\u001b[K     |███████▋                        | 102 kB 5.4 MB/s eta 0:00:01\r\u001b[K     |████████▍                       | 112 kB 5.4 MB/s eta 0:00:01\r\u001b[K     |█████████▏                      | 122 kB 5.4 MB/s eta 0:00:01\r\u001b[K     |█████████▉                      | 133 kB 5.4 MB/s eta 0:00:01\r\u001b[K     |██████████▋                     | 143 kB 5.4 MB/s eta 0:00:01\r\u001b[K     |███████████▍                    | 153 kB 5.4 MB/s eta 0:00:01\r\u001b[K     |████████████▏                   | 163 kB 5.4 MB/s eta 0:00:01\r\u001b[K     |█████████████                   | 174 kB 5.4 MB/s eta 0:00:01\r\u001b[K     |█████████████▊                  | 184 kB 5.4 MB/s eta 0:00:01\r\u001b[K     |██████████████▍                 | 194 kB 5.4 MB/s eta 0:00:01\r\u001b[K     |███████████████▏                | 204 kB 5.4 MB/s eta 0:00:01\r\u001b[K     |████████████████                | 215 kB 5.4 MB/s eta 0:00:01\r\u001b[K     |████████████████▊               | 225 kB 5.4 MB/s eta 0:00:01\r\u001b[K     |█████████████████▌              | 235 kB 5.4 MB/s eta 0:00:01\r\u001b[K     |██████████████████▎             | 245 kB 5.4 MB/s eta 0:00:01\r\u001b[K     |███████████████████             | 256 kB 5.4 MB/s eta 0:00:01\r\u001b[K     |███████████████████▊            | 266 kB 5.4 MB/s eta 0:00:01\r\u001b[K     |████████████████████▌           | 276 kB 5.4 MB/s eta 0:00:01\r\u001b[K     |█████████████████████▎          | 286 kB 5.4 MB/s eta 0:00:01\r\u001b[K     |██████████████████████          | 296 kB 5.4 MB/s eta 0:00:01\r\u001b[K     |██████████████████████▉         | 307 kB 5.4 MB/s eta 0:00:01\r\u001b[K     |███████████████████████▌        | 317 kB 5.4 MB/s eta 0:00:01\r\u001b[K     |████████████████████████▎       | 327 kB 5.4 MB/s eta 0:00:01\r\u001b[K     |█████████████████████████       | 337 kB 5.4 MB/s eta 0:00:01\r\u001b[K     |█████████████████████████▉      | 348 kB 5.4 MB/s eta 0:00:01\r\u001b[K     |██████████████████████████▋     | 358 kB 5.4 MB/s eta 0:00:01\r\u001b[K     |███████████████████████████▍    | 368 kB 5.4 MB/s eta 0:00:01\r\u001b[K     |████████████████████████████    | 378 kB 5.4 MB/s eta 0:00:01\r\u001b[K     |████████████████████████████▉   | 389 kB 5.4 MB/s eta 0:00:01\r\u001b[K     |█████████████████████████████▋  | 399 kB 5.4 MB/s eta 0:00:01\r\u001b[K     |██████████████████████████████▍ | 409 kB 5.4 MB/s eta 0:00:01\r\u001b[K     |███████████████████████████████▏| 419 kB 5.4 MB/s eta 0:00:01\r\u001b[K     |████████████████████████████████| 430 kB 5.4 MB/s eta 0:00:01\r\u001b[K     |████████████████████████████████| 431 kB 5.4 MB/s \n",
            "\u001b[?25hRequirement already satisfied: torchvision in /usr/local/lib/python3.7/dist-packages (from timm) (0.11.1+cu111)\n",
            "Requirement already satisfied: torch>=1.4 in /usr/local/lib/python3.7/dist-packages (from timm) (1.10.0+cu111)\n",
            "Requirement already satisfied: typing-extensions in /usr/local/lib/python3.7/dist-packages (from torch>=1.4->timm) (3.10.0.2)\n",
            "Requirement already satisfied: numpy in /usr/local/lib/python3.7/dist-packages (from torchvision->timm) (1.21.5)\n",
            "Requirement already satisfied: pillow!=8.3.0,>=5.3.0 in /usr/local/lib/python3.7/dist-packages (from torchvision->timm) (7.1.2)\n",
            "Installing collected packages: timm\n",
            "Successfully installed timm-0.5.4\n"
          ]
        }
      ],
      "source": [
        "!pip install timm"
      ]
    },
    {
      "cell_type": "markdown",
      "metadata": {
        "id": "v4BsWgVdvwOH"
      },
      "source": [
        "# Parameters"
      ]
    },
    {
      "cell_type": "code",
      "execution_count": null,
      "metadata": {
        "colab": {
          "base_uri": "https://localhost:8080/"
        },
        "id": "MJR9XwgJvzpn",
        "outputId": "fb51d359-e2c3-41a2-bca1-b21ab6af341f"
      },
      "outputs": [
        {
          "output_type": "stream",
          "name": "stdout",
          "text": [
            "torch_version: 1.10.0+cu111\n",
            "timm_version: 0.5.4\n"
          ]
        },
        {
          "output_type": "execute_result",
          "data": {
            "text/plain": [
              "('1.10.0+cu111', 'cuda')"
            ]
          },
          "metadata": {},
          "execution_count": 5
        }
      ],
      "source": [
        "import torch\n",
        "import timm\n",
        "import pandas as pd\n",
        "\n",
        "print(\"torch_version: \" + torch.__version__)\n",
        "print(\"timm_version: \" + timm.__version__)\n",
        "DEVICE = \"cuda\" if torch.cuda.is_available() else \"cpu\"\n",
        "torch.__version__, DEVICE"
      ]
    },
    {
      "cell_type": "code",
      "execution_count": null,
      "metadata": {
        "id": "44smZh9Vw8hi"
      },
      "outputs": [],
      "source": [
        "params = {\n",
        "    # \"model\": \"vit_large_patch16_224\",\n",
        "    \"model\": \"resnet18\",\n",
        "    \"device\": \"cuda\" if torch.cuda.is_available() else \"cpu\",\n",
        "    \"im_size\": 224,\n",
        "    \"lr\": 1e-3,\n",
        "    \"batch_size\": 32,\n",
        "    \"num_workers\": 2,\n",
        "    \"epochs\": 20,\n",
        "    \"folds\":3,\n",
        "    \"lr_scheduler\": True,\n",
        "    \"early_stopping\": True,\n",
        "    \"augmentation\": False,\n",
        "    \"targets_exist\": False,\n",
        "    \"diagnosis\": True, # if True, multiclass will be performed, else binary classification\n",
        "    \"path\": \"/content/drive/MyDrive/ISIC/2020\"\n",
        "}\n",
        "PATH = params['path']"
      ]
    },
    {
      "cell_type": "markdown",
      "metadata": {
        "id": "GPisT9UVodDm"
      },
      "source": [
        "# Handle csv | Meta data"
      ]
    },
    {
      "cell_type": "markdown",
      "metadata": {
        "id": "9jx7gm6qodDm"
      },
      "source": [
        "## csv"
      ]
    },
    {
      "cell_type": "code",
      "execution_count": null,
      "metadata": {
        "colab": {
          "base_uri": "https://localhost:8080/"
        },
        "outputId": "d51899c6-172a-48f6-a786-0a54d679e6d5",
        "id": "3NoZBtZoodDn"
      },
      "outputs": [
        {
          "output_type": "execute_result",
          "data": {
            "text/plain": [
              "['ISIC_2020_Training_GroundTruth.csv',\n",
              " 'ISIC_2020_Training_JPEG.zip',\n",
              " 'ISIC_2020_Training_Metadata.csv',\n",
              " 'ISIC_2020_Test_Metadata.csv',\n",
              " 'ISIC_2020_Test_JPEG.zip',\n",
              " 'siim-isic-melanoma-classification.zip',\n",
              " 'Training_GroundTruth.csv',\n",
              " 'Test_Metadata.csv',\n",
              " 'train',\n",
              " 'splits',\n",
              " 'fold',\n",
              " 'test',\n",
              " 'test_meta.csv',\n",
              " 'train_meta.csv',\n",
              " 'val_split_meta.csv',\n",
              " 'train_split_meta.csv',\n",
              " 'subset_meta.csv',\n",
              " 'submission.csv',\n",
              " 'submission_sigmoid.csv',\n",
              " 'test_path.csv',\n",
              " 'val_split.csv',\n",
              " 'train_split.csv',\n",
              " 'subset.csv']"
            ]
          },
          "metadata": {},
          "execution_count": 7
        }
      ],
      "source": [
        "import os\n",
        "os.listdir(PATH)"
      ]
    },
    {
      "cell_type": "code",
      "execution_count": null,
      "metadata": {
        "id": "mW5lq5-XodDn"
      },
      "outputs": [],
      "source": [
        "import pandas as pd\n",
        "train_csv = f'{PATH}/Training_GroundTruth.csv'\n",
        "test_csv = f'{PATH}/Test_Metadata.csv'\n",
        "\n",
        "train = pd.read_csv(train_csv)\n",
        "test = pd.read_csv(test_csv)"
      ]
    },
    {
      "cell_type": "markdown",
      "metadata": {
        "id": "PpL_A6lnodDs"
      },
      "source": [
        "## Add path to csv"
      ]
    },
    {
      "cell_type": "code",
      "execution_count": null,
      "metadata": {
        "id": "keq3gC68odDs"
      },
      "outputs": [],
      "source": [
        "def to_path(image_name, path):\n",
        "  return path + image_name + '.jpg'"
      ]
    },
    {
      "cell_type": "code",
      "execution_count": null,
      "metadata": {
        "id": "XwNix4XPodDt"
      },
      "outputs": [],
      "source": [
        "train_path = f'{PATH}/train/'\n",
        "test_path = f'{PATH}/test/'"
      ]
    },
    {
      "cell_type": "code",
      "execution_count": null,
      "metadata": {
        "id": "9wRVZI3aodDt"
      },
      "outputs": [],
      "source": [
        "train['path'] = train.image_name.apply(to_path, path = train_path)\n",
        "\n",
        "test['path'] = test.image.apply(to_path, path=test_path)\n",
        "\n",
        "test.to_csv(f'{PATH}/test_path.csv', index=False)"
      ]
    },
    {
      "cell_type": "code",
      "execution_count": null,
      "metadata": {
        "colab": {
          "base_uri": "https://localhost:8080/"
        },
        "outputId": "32e7dcd1-9d71-44ac-a137-fc946254a257",
        "id": "oVB3M5A3odDt"
      },
      "outputs": [
        {
          "output_type": "execute_result",
          "data": {
            "text/plain": [
              "((33126, 9), (10982, 6))"
            ]
          },
          "metadata": {},
          "execution_count": 12
        }
      ],
      "source": [
        "train.shape, test.shape"
      ]
    },
    {
      "cell_type": "markdown",
      "source": [
        "## Add diagnosis as target"
      ],
      "metadata": {
        "id": "uZR1TM4rhDk6"
      }
    },
    {
      "cell_type": "code",
      "source": [
        "train['diagnosis'].value_counts()"
      ],
      "metadata": {
        "colab": {
          "base_uri": "https://localhost:8080/"
        },
        "id": "M9IPT24ikeVs",
        "outputId": "9528fe3f-f1a3-46d2-f256-226a0986e7b3"
      },
      "execution_count": null,
      "outputs": [
        {
          "output_type": "execute_result",
          "data": {
            "text/plain": [
              "unknown                               27124\n",
              "nevus                                  5193\n",
              "melanoma                                584\n",
              "seborrheic keratosis                    135\n",
              "lentigo NOS                              44\n",
              "lichenoid keratosis                      37\n",
              "solar lentigo                             7\n",
              "cafe-au-lait macule                       1\n",
              "atypical melanocytic proliferation        1\n",
              "Name: diagnosis, dtype: int64"
            ]
          },
          "metadata": {},
          "execution_count": 13
        }
      ]
    },
    {
      "cell_type": "code",
      "source": [
        "import matplotlib.pyplot as plt\n",
        "fig = plt.figure(figsize = (20,10))\n",
        "ax = fig.gca()\n",
        "train['diagnosis'].hist(ax = ax)"
      ],
      "metadata": {
        "colab": {
          "base_uri": "https://localhost:8080/",
          "height": 609
        },
        "id": "ae5G3gJVhL6k",
        "outputId": "47e8258f-d592-4524-f6d4-79cd2dacc1f4"
      },
      "execution_count": null,
      "outputs": [
        {
          "output_type": "execute_result",
          "data": {
            "text/plain": [
              "<matplotlib.axes._subplots.AxesSubplot at 0x7f4d1d5bbfd0>"
            ]
          },
          "metadata": {},
          "execution_count": 14
        },
        {
          "output_type": "display_data",
          "data": {
            "text/plain": [
              "<Figure size 1440x720 with 1 Axes>"
            ],
            "image/png": "[encoded data removed]"
          },
          "metadata": {
            "needs_background": "light"
          }
        }
      ]
    },
    {
      "cell_type": "markdown",
      "source": [
        "### Mapping\n",
        "\n",
        "2020 seborrheic keratosis -> BKL\n",
        "\n",
        "2020 lichenoid keratosis -> BKL\n",
        "\n",
        "2020 solar lentigo -> BKL\n",
        "\n",
        "2020 lentigo NOS -> BKL\n",
        "\n",
        "2020 cafe-au-lait macule -> unknown\n",
        "\n",
        "2020 atypical melanocytic proliferation -> unknown\n",
        "\n",
        "2020 nevus -> NV\n",
        "\n",
        "2020 melanoma -> MEL\n",
        "\n",
        "-----\n",
        "\n",
        "unknown                               27124\n",
        "\n",
        "nevus                                  5193\n",
        "\n",
        "melanoma                                584\n",
        "\n",
        "seborrheic keratosis                    135\n",
        "\n",
        "lentigo NOS                              44\n",
        "\n",
        "lichenoid keratosis                      37\n",
        "\n",
        "solar lentigo                             7\n",
        "\n",
        "cafe-au-lait macule                       1\n",
        "\n",
        "atypical melanocytic proliferation        1"
      ],
      "metadata": {
        "id": "CR-9wRzKtZ8e"
      }
    },
    {
      "cell_type": "code",
      "source": [
        "train['diagnosis']  = train['diagnosis'].apply(lambda x: x.replace('seborrheic keratosis', 'BKL'))\n",
        "train['diagnosis']  = train['diagnosis'].apply(lambda x: x.replace('lichenoid keratosis', 'BKL'))\n",
        "train['diagnosis']  = train['diagnosis'].apply(lambda x: x.replace('solar lentigo', 'BKL'))\n",
        "train['diagnosis']  = train['diagnosis'].apply(lambda x: x.replace('lentigo NOS', 'BKL'))\n",
        "train['diagnosis']  = train['diagnosis'].apply(lambda x: x.replace('cafe-au-lait macule', 'UNK'))\n",
        "train['diagnosis']  = train['diagnosis'].apply(lambda x: x.replace('atypical melanocytic proliferation', 'UNK'))\n",
        "train['diagnosis']  = train['diagnosis'].apply(lambda x: x.replace('unknown', 'UNK'))\n",
        "\n",
        "train['diagnosis'] = train['diagnosis'].apply(lambda x: x.replace('nevus', 'NV'))\n",
        "train['diagnosis'] = train['diagnosis'].apply(lambda x: x.replace('melanoma', 'MEL'))"
      ],
      "metadata": {
        "id": "-pQRfmDQwsDE"
      },
      "execution_count": null,
      "outputs": []
    },
    {
      "cell_type": "code",
      "source": [
        "train['diagnosis'].value_counts()"
      ],
      "metadata": {
        "colab": {
          "base_uri": "https://localhost:8080/"
        },
        "id": "Ddsn-QNRGGqm",
        "outputId": "6d45a9db-661b-4215-aaca-905587fbb727"
      },
      "execution_count": null,
      "outputs": [
        {
          "output_type": "execute_result",
          "data": {
            "text/plain": [
              "UNK    27126\n",
              "NV      5193\n",
              "MEL      584\n",
              "BKL      223\n",
              "Name: diagnosis, dtype: int64"
            ]
          },
          "metadata": {},
          "execution_count": 16
        }
      ]
    },
    {
      "cell_type": "code",
      "source": [
        "train['diagnosis'].hist()"
      ],
      "metadata": {
        "colab": {
          "base_uri": "https://localhost:8080/"
        },
        "id": "-C6qDbW6LnCw",
        "outputId": "2c479db1-f821-43f9-8b3c-48de4801e98b"
      },
      "execution_count": null,
      "outputs": [
        {
          "output_type": "execute_result",
          "data": {
            "text/plain": [
              "<matplotlib.axes._subplots.AxesSubplot at 0x7f4d1d49c710>"
            ]
          },
          "metadata": {},
          "execution_count": 17
        },
        {
          "output_type": "display_data",
          "data": {
            "text/plain": [
              "<Figure size 432x288 with 1 Axes>"
            ],
            "image/png": "[encoded data removed]"
          },
          "metadata": {
            "needs_background": "light"
          }
        }
      ]
    },
    {
      "cell_type": "code",
      "source": [
        "diagnosis_idx = {d: idx for idx, d in enumerate(sorted(train.diagnosis.unique()))}\n",
        "train['target'] = train['diagnosis'].map(diagnosis_idx)\n",
        "# train['target'] = train['diagnosis'].replace(['BKL','MEL','NV','UNK'],[0,1,2,3])"
      ],
      "metadata": {
        "id": "OvW-Wacd1TwU"
      },
      "execution_count": null,
      "outputs": []
    },
    {
      "cell_type": "markdown",
      "metadata": {
        "id": "omOxdDBHodDt"
      },
      "source": [
        "### Train Exploration"
      ]
    },
    {
      "cell_type": "markdown",
      "source": [
        "#### Diagnosis histogram"
      ],
      "metadata": {
        "id": "718t8LZzi-QP"
      }
    },
    {
      "cell_type": "code",
      "source": [
        "print(train['diagnosis'].value_counts()[0]/len(train['diagnosis'])*100)\n",
        "print(train['diagnosis'].value_counts()[1]/len(train['diagnosis'])*100)\n",
        "\n",
        "print(train['diagnosis'].value_counts())\n",
        "train['diagnosis'].hist()"
      ],
      "metadata": {
        "colab": {
          "base_uri": "https://localhost:8080/",
          "height": 404
        },
        "id": "Gm3zV8CPjAXV",
        "outputId": "76a43704-9367-4aa8-c622-33f12a847615"
      },
      "execution_count": null,
      "outputs": [
        {
          "output_type": "stream",
          "name": "stdout",
          "text": [
            "81.88733925013585\n",
            "15.676507879007426\n",
            "UNK    27126\n",
            "NV      5193\n",
            "MEL      584\n",
            "BKL      223\n",
            "Name: diagnosis, dtype: int64\n"
          ]
        },
        {
          "output_type": "execute_result",
          "data": {
            "text/plain": [
              "<matplotlib.axes._subplots.AxesSubplot at 0x7f4d1cd8f610>"
            ]
          },
          "metadata": {},
          "execution_count": 19
        },
        {
          "output_type": "display_data",
          "data": {
            "text/plain": [
              "<Figure size 432x288 with 1 Axes>"
            ],
            "image/png": "[encoded data removed]"
          },
          "metadata": {
            "needs_background": "light"
          }
        }
      ]
    },
    {
      "cell_type": "markdown",
      "metadata": {
        "id": "nRKG6XYModDu"
      },
      "source": [
        "#### Target histogram"
      ]
    },
    {
      "cell_type": "code",
      "execution_count": null,
      "metadata": {
        "id": "Dmd6JkWVodDu",
        "colab": {
          "base_uri": "https://localhost:8080/",
          "height": 404
        },
        "outputId": "70715bd1-1321-4bc3-e9c2-c73f142dce38"
      },
      "outputs": [
        {
          "output_type": "stream",
          "name": "stdout",
          "text": [
            "0.6731872245366177\n",
            "1.762965646320111\n",
            "3    27126\n",
            "2     5193\n",
            "1      584\n",
            "0      223\n",
            "Name: target, dtype: int64\n"
          ]
        },
        {
          "output_type": "execute_result",
          "data": {
            "text/plain": [
              "<matplotlib.axes._subplots.AxesSubplot at 0x7f4d1cd05e50>"
            ]
          },
          "metadata": {},
          "execution_count": 20
        },
        {
          "output_type": "display_data",
          "data": {
            "text/plain": [
              "<Figure size 432x288 with 1 Axes>"
            ],
            "image/png": "[encoded data removed]"
          },
          "metadata": {
            "needs_background": "light"
          }
        }
      ],
      "source": [
        "print(train['target'].value_counts()[0]/len(train['target'])*100)\n",
        "print(train['target'].value_counts()[1]/len(train['target'])*100)\n",
        "\n",
        "print(train['target'].value_counts())\n",
        "train['target'].hist()"
      ]
    },
    {
      "cell_type": "markdown",
      "metadata": {
        "id": "xlnoIFbTodDv"
      },
      "source": [
        "#### Genre histogram"
      ]
    },
    {
      "cell_type": "code",
      "execution_count": null,
      "metadata": {
        "id": "k8eE-9ENodDv",
        "colab": {
          "base_uri": "https://localhost:8080/",
          "height": 265
        },
        "outputId": "a43e8470-f857-4b2e-da33-063d55b82d98"
      },
      "outputs": [
        {
          "output_type": "display_data",
          "data": {
            "text/plain": [
              "<Figure size 432x288 with 1 Axes>"
            ],
            "image/png": "[encoded data removed]"
          },
          "metadata": {
            "needs_background": "light"
          }
        }
      ],
      "source": [
        "try:\n",
        "  train['sex'].hist()\n",
        "except:\n",
        "  print(\"not found in dataframe\")\n",
        "   "
      ]
    },
    {
      "cell_type": "markdown",
      "metadata": {
        "id": "d3T7Ea9BodDv"
      },
      "source": [
        "#### Age histogram"
      ]
    },
    {
      "cell_type": "code",
      "execution_count": null,
      "metadata": {
        "id": "Kdjj1Ew8odDv"
      },
      "outputs": [],
      "source": [
        "try:\n",
        "  train['age_approx'].value_counts()\n",
        "except:\n",
        "  print(\"not found in dataframe\")"
      ]
    },
    {
      "cell_type": "code",
      "execution_count": null,
      "metadata": {
        "id": "XO2DZFbHodDw",
        "colab": {
          "base_uri": "https://localhost:8080/",
          "height": 265
        },
        "outputId": "9cc27fe5-3b04-465c-c386-115e17f6336a"
      },
      "outputs": [
        {
          "output_type": "display_data",
          "data": {
            "text/plain": [
              "<Figure size 432x288 with 1 Axes>"
            ],
            "image/png": "[encoded data removed]"
          },
          "metadata": {
            "needs_background": "light"
          }
        }
      ],
      "source": [
        "try:\n",
        "  train['age_approx'].hist(bins=len(train['age_approx'].unique()))\n",
        "except:\n",
        "  print(\"not found in dataframe\")"
      ]
    },
    {
      "cell_type": "markdown",
      "metadata": {
        "id": "AdjaOWfcodDw"
      },
      "source": [
        "#### Anatom site"
      ]
    },
    {
      "cell_type": "code",
      "execution_count": null,
      "metadata": {
        "id": "xc6wDirhodDw",
        "colab": {
          "base_uri": "https://localhost:8080/",
          "height": 265
        },
        "outputId": "2e319d5c-cbb3-43a0-8d61-9dd46b7b9bba"
      },
      "outputs": [
        {
          "output_type": "display_data",
          "data": {
            "text/plain": [
              "<Figure size 432x288 with 1 Axes>"
            ],
            "image/png": "[encoded data removed]"
          },
          "metadata": {
            "needs_background": "light"
          }
        }
      ],
      "source": [
        "try:\n",
        "  train['anatom_site_general_challenge'].hist()\n",
        "except:\n",
        "  print(\"not found in dataframe\")"
      ]
    },
    {
      "cell_type": "markdown",
      "source": [
        "## Meta data"
      ],
      "metadata": {
        "id": "tvwT48aRawvk"
      }
    },
    {
      "cell_type": "code",
      "source": [
        "train_meta = train\n",
        "test_meta = test"
      ],
      "metadata": {
        "id": "n5LZirC3lmfB"
      },
      "execution_count": null,
      "outputs": []
    },
    {
      "cell_type": "markdown",
      "source": [
        "### Meta exploration"
      ],
      "metadata": {
        "id": "FZTFgqSFbWeM"
      }
    },
    {
      "cell_type": "code",
      "source": [
        "train_meta.info()"
      ],
      "metadata": {
        "colab": {
          "base_uri": "https://localhost:8080/"
        },
        "id": "vu5na8fJazeM",
        "outputId": "104109c1-6395-40f8-e4b0-89eb1b046449"
      },
      "execution_count": null,
      "outputs": [
        {
          "output_type": "stream",
          "name": "stdout",
          "text": [
            "<class 'pandas.core.frame.DataFrame'>\n",
            "RangeIndex: 33126 entries, 0 to 33125\n",
            "Data columns (total 9 columns):\n",
            " #   Column                         Non-Null Count  Dtype  \n",
            "---  ------                         --------------  -----  \n",
            " 0   image_name                     33126 non-null  object \n",
            " 1   patient_id                     33126 non-null  object \n",
            " 2   sex                            33061 non-null  object \n",
            " 3   age_approx                     33058 non-null  float64\n",
            " 4   anatom_site_general_challenge  32599 non-null  object \n",
            " 5   diagnosis                      33126 non-null  object \n",
            " 6   benign_malignant               33126 non-null  object \n",
            " 7   target                         33126 non-null  int64  \n",
            " 8   path                           33126 non-null  object \n",
            "dtypes: float64(1), int64(1), object(7)\n",
            "memory usage: 2.3+ MB\n"
          ]
        }
      ]
    },
    {
      "cell_type": "code",
      "source": [
        "test_meta.info()"
      ],
      "metadata": {
        "colab": {
          "base_uri": "https://localhost:8080/"
        },
        "id": "o626Mhy9baG2",
        "outputId": "2645dea9-e66a-4bb8-c182-a113bcc5eba1"
      },
      "execution_count": null,
      "outputs": [
        {
          "output_type": "stream",
          "name": "stdout",
          "text": [
            "<class 'pandas.core.frame.DataFrame'>\n",
            "RangeIndex: 10982 entries, 0 to 10981\n",
            "Data columns (total 6 columns):\n",
            " #   Column               Non-Null Count  Dtype \n",
            "---  ------               --------------  ----- \n",
            " 0   image                10982 non-null  object\n",
            " 1   patient              10982 non-null  object\n",
            " 2   age_approx           10982 non-null  int64 \n",
            " 3   anatom_site_general  10631 non-null  object\n",
            " 4   sex                  10982 non-null  object\n",
            " 5   path                 10982 non-null  object\n",
            "dtypes: int64(1), object(5)\n",
            "memory usage: 514.9+ KB\n"
          ]
        }
      ]
    },
    {
      "cell_type": "code",
      "source": [
        "import matplotlib.pyplot as plt\n",
        "fig = plt.figure(figsize = (10,5))\n",
        "ax = fig.gca()\n",
        "train_meta['anatom_site_general_challenge'].hist(ax=ax)"
      ],
      "metadata": {
        "colab": {
          "base_uri": "https://localhost:8080/"
        },
        "id": "26bRxfUZgyJ2",
        "outputId": "305e96a1-4d01-4329-cce5-024b9e4a07d4"
      },
      "execution_count": null,
      "outputs": [
        {
          "output_type": "execute_result",
          "data": {
            "text/plain": [
              "<matplotlib.axes._subplots.AxesSubplot at 0x7f4d1cc610d0>"
            ]
          },
          "metadata": {},
          "execution_count": 28
        },
        {
          "output_type": "display_data",
          "data": {
            "text/plain": [
              "<Figure size 720x360 with 1 Axes>"
            ],
            "image/png": "[encoded data removed]"
          },
          "metadata": {
            "needs_background": "light"
          }
        }
      ]
    },
    {
      "cell_type": "code",
      "source": [
        "fig = plt.figure(figsize = (10,5))\n",
        "ax = fig.gca()\n",
        "test_meta['anatom_site_general'].hist(ax = ax)"
      ],
      "metadata": {
        "colab": {
          "base_uri": "https://localhost:8080/"
        },
        "id": "1m-Wt04_gzNU",
        "outputId": "679613f2-6280-44e7-c9de-5a17b3c32460"
      },
      "execution_count": null,
      "outputs": [
        {
          "output_type": "execute_result",
          "data": {
            "text/plain": [
              "<matplotlib.axes._subplots.AxesSubplot at 0x7f4d1cb32c10>"
            ]
          },
          "metadata": {},
          "execution_count": 29
        },
        {
          "output_type": "display_data",
          "data": {
            "text/plain": [
              "<Figure size 720x360 with 1 Axes>"
            ],
            "image/png": "[encoded data removed]"
          },
          "metadata": {
            "needs_background": "light"
          }
        }
      ]
    },
    {
      "cell_type": "markdown",
      "source": [
        "### Explore NaN values"
      ],
      "metadata": {
        "id": "04rbIm0kbdrk"
      }
    },
    {
      "cell_type": "code",
      "source": [
        "nans_train = train_meta.isna().sum()\n",
        "nans_test = test_meta.isna().sum()\n",
        "print(nans_train)\n",
        "print(\"\\n\")\n",
        "print(nans_test)"
      ],
      "metadata": {
        "colab": {
          "base_uri": "https://localhost:8080/"
        },
        "id": "rgo5KRNzbbY_",
        "outputId": "3e242e88-f98e-44e8-95dd-f5a5b09da7dd"
      },
      "execution_count": null,
      "outputs": [
        {
          "output_type": "stream",
          "name": "stdout",
          "text": [
            "image_name                         0\n",
            "patient_id                         0\n",
            "sex                               65\n",
            "age_approx                        68\n",
            "anatom_site_general_challenge    527\n",
            "diagnosis                          0\n",
            "benign_malignant                   0\n",
            "target                             0\n",
            "path                               0\n",
            "dtype: int64\n",
            "\n",
            "\n",
            "image                    0\n",
            "patient                  0\n",
            "age_approx               0\n",
            "anatom_site_general    351\n",
            "sex                      0\n",
            "path                     0\n",
            "dtype: int64\n"
          ]
        }
      ]
    },
    {
      "cell_type": "markdown",
      "source": [
        "Check NaNs by ID"
      ],
      "metadata": {
        "id": "ITuflYIucBIE"
      }
    },
    {
      "cell_type": "code",
      "source": [
        "train_meta['anatom_site_general_challenge'].isnull()"
      ],
      "metadata": {
        "colab": {
          "base_uri": "https://localhost:8080/"
        },
        "id": "AL6GwlUVDj87",
        "outputId": "0d5339a5-cf5c-49ce-8f53-8af62993130d"
      },
      "execution_count": null,
      "outputs": [
        {
          "output_type": "execute_result",
          "data": {
            "text/plain": [
              "0        False\n",
              "1        False\n",
              "2        False\n",
              "3        False\n",
              "4        False\n",
              "         ...  \n",
              "33121    False\n",
              "33122    False\n",
              "33123    False\n",
              "33124    False\n",
              "33125    False\n",
              "Name: anatom_site_general_challenge, Length: 33126, dtype: bool"
            ]
          },
          "metadata": {},
          "execution_count": 31
        }
      ]
    },
    {
      "cell_type": "code",
      "source": [
        "null_df = train_meta[train_meta.isnull().any(axis=1)]"
      ],
      "metadata": {
        "id": "SCQt1g-YD-uo"
      },
      "execution_count": null,
      "outputs": []
    },
    {
      "cell_type": "code",
      "source": [
        "null_df[null_df['patient_id'] == 'IP_8794667']"
      ],
      "metadata": {
        "colab": {
          "base_uri": "https://localhost:8080/"
        },
        "id": "FCe81tsVLdSD",
        "outputId": "8e1ca810-9656-422f-f7c6-4059ac6241a8"
      },
      "execution_count": null,
      "outputs": [
        {
          "output_type": "execute_result",
          "data": {
            "text/plain": [
              "         image_name  patient_id   sex  age_approx  \\\n",
              "780    ISIC_0338752  IP_8794667  male        55.0   \n",
              "16542  ISIC_5061278  IP_8794667  male        55.0   \n",
              "\n",
              "      anatom_site_general_challenge diagnosis benign_malignant  target  \\\n",
              "780                             NaN       UNK           benign       3   \n",
              "16542                           NaN       UNK           benign       3   \n",
              "\n",
              "                                                    path  \n",
              "780    /content/drive/MyDrive/ISIC/2020/train/ISIC_03...  \n",
              "16542  /content/drive/MyDrive/ISIC/2020/train/ISIC_50...  "
            ],
            "text/html": [
              "\n",
              "  <div id=\"df-5099cd3a-c585-4e1c-9269-2db27690c969\">\n",
              "    <div class=\"colab-df-container\">\n",
              "      <div>\n",
              "<style scoped>\n",
              "    .dataframe tbody tr th:only-of-type {\n",
              "        vertical-align: middle;\n",
              "    }\n",
              "\n",
              "    .dataframe tbody tr th {\n",
              "        vertical-align: top;\n",
              "    }\n",
              "\n",
              "    .dataframe thead th {\n",
              "        text-align: right;\n",
              "    }\n",
              "</style>\n",
              "<table border=\"1\" class=\"dataframe\">\n",
              "  <thead>\n",
              "    <tr style=\"text-align: right;\">\n",
              "      <th></th>\n",
              "      <th>image_name</th>\n",
              "      <th>patient_id</th>\n",
              "      <th>sex</th>\n",
              "      <th>age_approx</th>\n",
              "      <th>anatom_site_general_challenge</th>\n",
              "      <th>diagnosis</th>\n",
              "      <th>benign_malignant</th>\n",
              "      <th>target</th>\n",
              "      <th>path</th>\n",
              "    </tr>\n",
              "  </thead>\n",
              "  <tbody>\n",
              "    <tr>\n",
              "      <th>780</th>\n",
              "      <td>ISIC_0338752</td>\n",
              "      <td>IP_8794667</td>\n",
              "      <td>male</td>\n",
              "      <td>55.0</td>\n",
              "      <td>NaN</td>\n",
              "      <td>UNK</td>\n",
              "      <td>benign</td>\n",
              "      <td>3</td>\n",
              "      <td>/content/drive/MyDrive/ISIC/2020/train/ISIC_03...</td>\n",
              "    </tr>\n",
              "    <tr>\n",
              "      <th>16542</th>\n",
              "      <td>ISIC_5061278</td>\n",
              "      <td>IP_8794667</td>\n",
              "      <td>male</td>\n",
              "      <td>55.0</td>\n",
              "      <td>NaN</td>\n",
              "      <td>UNK</td>\n",
              "      <td>benign</td>\n",
              "      <td>3</td>\n",
              "      <td>/content/drive/MyDrive/ISIC/2020/train/ISIC_50...</td>\n",
              "    </tr>\n",
              "  </tbody>\n",
              "</table>\n",
              "</div>\n",
              "      <button class=\"colab-df-convert\" onclick=\"convertToInteractive('df-5099cd3a-c585-4e1c-9269-2db27690c969')\"\n",
              "              title=\"Convert this dataframe to an interactive table.\"\n",
              "              style=\"display:none;\">\n",
              "        \n",
              "  <svg xmlns=\"http://www.w3.org/2000/svg\" height=\"24px\"viewBox=\"0 0 24 24\"\n",
              "       width=\"24px\">\n",
              "    <path d=\"M0 0h24v24H0V0z\" fill=\"none\"/>\n",
              "    <path d=\"M18.56 5.44l.94 2.06.94-2.06 2.06-.94-2.06-.94-.94-2.06-.94 2.06-2.06.94zm-11 1L8.5 8.5l.94-2.06 2.06-.94-2.06-.94L8.5 2.5l-.94 2.06-2.06.94zm10 10l.94 2.06.94-2.06 2.06-.94-2.06-.94-.94-2.06-.94 2.06-2.06.94z\"/><path d=\"M17.41 7.96l-1.37-1.37c-.4-.4-.92-.59-1.43-.59-.52 0-1.04.2-1.43.59L10.3 9.45l-7.72 7.72c-.78.78-.78 2.05 0 2.83L4 21.41c.39.39.9.59 1.41.59.51 0 1.02-.2 1.41-.59l7.78-7.78 2.81-2.81c.8-.78.8-2.07 0-2.86zM5.41 20L4 18.59l7.72-7.72 1.47 1.35L5.41 20z\"/>\n",
              "  </svg>\n",
              "      </button>\n",
              "      \n",
              "  <style>\n",
              "    .colab-df-container {\n",
              "      display:flex;\n",
              "      flex-wrap:wrap;\n",
              "      gap: 12px;\n",
              "    }\n",
              "\n",
              "    .colab-df-convert {\n",
              "      background-color: #E8F0FE;\n",
              "      border: none;\n",
              "      border-radius: 50%;\n",
              "      cursor: pointer;\n",
              "      display: none;\n",
              "      fill: #1967D2;\n",
              "      height: 32px;\n",
              "      padding: 0 0 0 0;\n",
              "      width: 32px;\n",
              "    }\n",
              "\n",
              "    .colab-df-convert:hover {\n",
              "      background-color: #E2EBFA;\n",
              "      box-shadow: 0px 1px 2px rgba(60, 64, 67, 0.3), 0px 1px 3px 1px rgba(60, 64, 67, 0.15);\n",
              "      fill: #174EA6;\n",
              "    }\n",
              "\n",
              "    [theme=dark] .colab-df-convert {\n",
              "      background-color: #3B4455;\n",
              "      fill: #D2E3FC;\n",
              "    }\n",
              "\n",
              "    [theme=dark] .colab-df-convert:hover {\n",
              "      background-color: #434B5C;\n",
              "      box-shadow: 0px 1px 3px 1px rgba(0, 0, 0, 0.15);\n",
              "      filter: drop-shadow(0px 1px 2px rgba(0, 0, 0, 0.3));\n",
              "      fill: #FFFFFF;\n",
              "    }\n",
              "  </style>\n",
              "\n",
              "      <script>\n",
              "        const buttonEl =\n",
              "          document.querySelector('#df-5099cd3a-c585-4e1c-9269-2db27690c969 button.colab-df-convert');\n",
              "        buttonEl.style.display =\n",
              "          google.colab.kernel.accessAllowed ? 'block' : 'none';\n",
              "\n",
              "        async function convertToInteractive(key) {\n",
              "          const element = document.querySelector('#df-5099cd3a-c585-4e1c-9269-2db27690c969');\n",
              "          const dataTable =\n",
              "            await google.colab.kernel.invokeFunction('convertToInteractive',\n",
              "                                                     [key], {});\n",
              "          if (!dataTable) return;\n",
              "\n",
              "          const docLinkHtml = 'Like what you see? Visit the ' +\n",
              "            '<a target=\"_blank\" href=https://colab.research.google.com/notebooks/data_table.ipynb>data table notebook</a>'\n",
              "            + ' to learn more about interactive tables.';\n",
              "          element.innerHTML = '';\n",
              "          dataTable['output_type'] = 'display_data';\n",
              "          await google.colab.output.renderOutput(dataTable, element);\n",
              "          const docLink = document.createElement('div');\n",
              "          docLink.innerHTML = docLinkHtml;\n",
              "          element.appendChild(docLink);\n",
              "        }\n",
              "      </script>\n",
              "    </div>\n",
              "  </div>\n",
              "  "
            ]
          },
          "metadata": {},
          "execution_count": 33
        }
      ]
    },
    {
      "cell_type": "code",
      "source": [
        "for i in range(len(null_df['patient_id'].unique())):\n",
        "  id = null_df['patient_id'].unique()[i]\n",
        "  value = null_df['patient_id'].value_counts()[i]\n",
        "  print(id,'=',value,'\\n',null_df.groupby(['patient_id'])['age_approx'].get_group(id).value_counts().to_frame(),'\\n')\n"
      ],
      "metadata": {
        "id": "ZookVNQVIoWn",
        "colab": {
          "base_uri": "https://localhost:8080/"
        },
        "outputId": "08214997-fbd9-413e-cf55-524c72f89db1"
      },
      "execution_count": null,
      "outputs": [
        {
          "output_type": "stream",
          "name": "stdout",
          "text": [
            "IP_3200260 = 102 \n",
            "       age_approx\n",
            "30.0           1 \n",
            "\n",
            "IP_5205991 = 48 \n",
            " Empty DataFrame\n",
            "Columns: [age_approx]\n",
            "Index: [] \n",
            "\n",
            "IP_3057277 = 30 \n",
            "       age_approx\n",
            "45.0         102 \n",
            "\n",
            "IP_2760044 = 17 \n",
            "       age_approx\n",
            "40.0           2 \n",
            "\n",
            "IP_4248414 = 14 \n",
            "       age_approx\n",
            "25.0           1 \n",
            "\n",
            "IP_5549010 = 11 \n",
            "       age_approx\n",
            "30.0           2 \n",
            "\n",
            "IP_0550106 = 9 \n",
            " Empty DataFrame\n",
            "Columns: [age_approx]\n",
            "Index: [] \n",
            "\n",
            "IP_4645992 = 5 \n",
            "       age_approx\n",
            "35.0           2 \n",
            "\n",
            "IP_0400826 = 5 \n",
            "       age_approx\n",
            "45.0          30 \n",
            "\n",
            "IP_4702665 = 5 \n",
            "       age_approx\n",
            "65.0          11 \n",
            "\n",
            "IP_9835712 = 4 \n",
            " Empty DataFrame\n",
            "Columns: [age_approx]\n",
            "Index: [] \n",
            "\n",
            "IP_8794667 = 4 \n",
            "       age_approx\n",
            "55.0           2 \n",
            "\n",
            "IP_8839187 = 4 \n",
            "       age_approx\n",
            "25.0           1 \n",
            "\n",
            "IP_0507923 = 4 \n",
            "       age_approx\n",
            "25.0           1\n",
            "30.0           1 \n",
            "\n",
            "IP_2661172 = 4 \n",
            "       age_approx\n",
            "45.0           3 \n",
            "\n",
            "IP_6512345 = 4 \n",
            "       age_approx\n",
            "70.0           2 \n",
            "\n",
            "IP_7375528 = 4 \n",
            "       age_approx\n",
            "55.0           2 \n",
            "\n",
            "IP_2632866 = 4 \n",
            "       age_approx\n",
            "60.0           1\n",
            "55.0           1 \n",
            "\n",
            "IP_0963996 = 4 \n",
            "       age_approx\n",
            "40.0           2 \n",
            "\n",
            "IP_3253955 = 4 \n",
            "       age_approx\n",
            "55.0           1 \n",
            "\n",
            "IP_6901441 = 4 \n",
            "       age_approx\n",
            "35.0           3 \n",
            "\n",
            "IP_4173362 = 3 \n",
            "       age_approx\n",
            "35.0           1\n",
            "40.0           1 \n",
            "\n",
            "IP_0099726 = 3 \n",
            "       age_approx\n",
            "60.0           1 \n",
            "\n",
            "IP_5326800 = 3 \n",
            "       age_approx\n",
            "50.0           2 \n",
            "\n",
            "IP_5767581 = 3 \n",
            "       age_approx\n",
            "45.0           1 \n",
            "\n",
            "IP_8447624 = 3 \n",
            "       age_approx\n",
            "50.0           3 \n",
            "\n",
            "IP_7105810 = 3 \n",
            "       age_approx\n",
            "65.0           1 \n",
            "\n",
            "IP_1652699 = 3 \n",
            "       age_approx\n",
            "60.0           1 \n",
            "\n",
            "IP_4865295 = 3 \n",
            "       age_approx\n",
            "60.0           1 \n",
            "\n",
            "IP_9899071 = 3 \n",
            "       age_approx\n",
            "40.0           3\n",
            "35.0           2 \n",
            "\n",
            "IP_8320831 = 3 \n",
            "       age_approx\n",
            "45.0           1 \n",
            "\n",
            "IP_8226501 = 3 \n",
            "       age_approx\n",
            "25.0           1 \n",
            "\n",
            "IP_0719925 = 3 \n",
            "       age_approx\n",
            "60.0           2\n",
            "55.0           1 \n",
            "\n",
            "IP_2139337 = 3 \n",
            "       age_approx\n",
            "30.0           4 \n",
            "\n",
            "IP_6945048 = 3 \n",
            "       age_approx\n",
            "30.0           2 \n",
            "\n",
            "IP_8329991 = 3 \n",
            "       age_approx\n",
            "35.0           2\n",
            "30.0           1 \n",
            "\n",
            "IP_2725676 = 3 \n",
            "       age_approx\n",
            "55.0           3 \n",
            "\n",
            "IP_9186570 = 3 \n",
            "       age_approx\n",
            "55.0           1 \n",
            "\n",
            "IP_5584080 = 3 \n",
            "       age_approx\n",
            "35.0          14 \n",
            "\n",
            "IP_6873524 = 3 \n",
            "       age_approx\n",
            "45.0           4 \n",
            "\n",
            "IP_8215360 = 3 \n",
            "       age_approx\n",
            "55.0           2 \n",
            "\n",
            "IP_1582457 = 3 \n",
            "       age_approx\n",
            "50.0           3 \n",
            "\n",
            "IP_3358218 = 3 \n",
            "       age_approx\n",
            "45.0           3\n",
            "50.0           1 \n",
            "\n",
            "IP_2980320 = 2 \n",
            "       age_approx\n",
            "40.0           4 \n",
            "\n",
            "IP_2213065 = 2 \n",
            "       age_approx\n",
            "60.0           5 \n",
            "\n",
            "IP_0878241 = 2 \n",
            "       age_approx\n",
            "70.0           1 \n",
            "\n",
            "IP_2978129 = 2 \n",
            "       age_approx\n",
            "50.0           1 \n",
            "\n",
            "IP_6157775 = 2 \n",
            "       age_approx\n",
            "30.0           1 \n",
            "\n",
            "IP_8534235 = 2 \n",
            "       age_approx\n",
            "60.0           3 \n",
            "\n",
            "IP_9418573 = 2 \n",
            "       age_approx\n",
            "60.0           2 \n",
            "\n",
            "IP_7770083 = 2 \n",
            "       age_approx\n",
            "45.0           9 \n",
            "\n",
            "IP_9115076 = 2 \n",
            "       age_approx\n",
            "50.0           3 \n",
            "\n",
            "IP_0148851 = 2 \n",
            "       age_approx\n",
            "60.0           1\n",
            "65.0           1 \n",
            "\n",
            "IP_6029629 = 2 \n",
            "       age_approx\n",
            "50.0           1 \n",
            "\n",
            "IP_0446831 = 2 \n",
            "       age_approx\n",
            "35.0           1\n",
            "30.0           1 \n",
            "\n",
            "IP_8575171 = 2 \n",
            "       age_approx\n",
            "40.0           3 \n",
            "\n",
            "IP_7345731 = 2 \n",
            "       age_approx\n",
            "45.0           3 \n",
            "\n",
            "IP_6017204 = 2 \n",
            "       age_approx\n",
            "35.0           2\n",
            "40.0           1 \n",
            "\n",
            "IP_9232483 = 2 \n",
            "       age_approx\n",
            "40.0           1 \n",
            "\n",
            "IP_8374735 = 2 \n",
            "       age_approx\n",
            "70.0           1\n",
            "65.0           1 \n",
            "\n",
            "IP_9245079 = 2 \n",
            "       age_approx\n",
            "40.0           4 \n",
            "\n",
            "IP_0503166 = 2 \n",
            "       age_approx\n",
            "50.0           2 \n",
            "\n",
            "IP_9131123 = 2 \n",
            "       age_approx\n",
            "40.0           1 \n",
            "\n",
            "IP_4700615 = 2 \n",
            "       age_approx\n",
            "45.0           1\n",
            "50.0           1 \n",
            "\n",
            "IP_9087899 = 2 \n",
            "       age_approx\n",
            "40.0           3 \n",
            "\n",
            "IP_8592890 = 2 \n",
            "       age_approx\n",
            "45.0           2 \n",
            "\n",
            "IP_0541183 = 2 \n",
            "       age_approx\n",
            "75.0           1 \n",
            "\n",
            "IP_1264754 = 2 \n",
            "       age_approx\n",
            "65.0           2 \n",
            "\n",
            "IP_0065733 = 2 \n",
            "       age_approx\n",
            "35.0           2 \n",
            "\n",
            "IP_4199752 = 2 \n",
            "       age_approx\n",
            "30.0           5 \n",
            "\n",
            "IP_7688774 = 2 \n",
            "       age_approx\n",
            "25.0           1 \n",
            "\n",
            "IP_1517386 = 2 \n",
            "       age_approx\n",
            "40.0           1 \n",
            "\n",
            "IP_0400168 = 2 \n",
            "       age_approx\n",
            "55.0           1 \n",
            "\n",
            "IP_8940163 = 2 \n",
            "       age_approx\n",
            "70.0           4 \n",
            "\n",
            "IP_2172761 = 2 \n",
            "       age_approx\n",
            "35.0           1 \n",
            "\n",
            "IP_8673016 = 2 \n",
            "       age_approx\n",
            "55.0           1\n",
            "60.0           1 \n",
            "\n",
            "IP_2789041 = 2 \n",
            "       age_approx\n",
            "65.0           1 \n",
            "\n",
            "IP_8004532 = 2 \n",
            "       age_approx\n",
            "30.0           1 \n",
            "\n",
            "IP_9486050 = 2 \n",
            "       age_approx\n",
            "35.0           1 \n",
            "\n",
            "IP_7753447 = 2 \n",
            "       age_approx\n",
            "60.0           1 \n",
            "\n",
            "IP_7330399 = 2 \n",
            "       age_approx\n",
            "55.0           1 \n",
            "\n",
            "IP_0776416 = 2 \n",
            "       age_approx\n",
            "30.0           4 \n",
            "\n",
            "IP_9865971 = 2 \n",
            "       age_approx\n",
            "40.0           2 \n",
            "\n",
            "IP_3474679 = 2 \n",
            "       age_approx\n",
            "50.0           1 \n",
            "\n",
            "IP_3676113 = 2 \n",
            "       age_approx\n",
            "45.0           1 \n",
            "\n",
            "IP_0968880 = 2 \n",
            "       age_approx\n",
            "60.0           1 \n",
            "\n",
            "IP_7817315 = 2 \n",
            "       age_approx\n",
            "60.0           2 \n",
            "\n",
            "IP_7313005 = 2 \n",
            "       age_approx\n",
            "30.0           2 \n",
            "\n",
            "IP_6539844 = 2 \n",
            "       age_approx\n",
            "50.0           1 \n",
            "\n",
            "IP_9438537 = 2 \n",
            "       age_approx\n",
            "30.0           2 \n",
            "\n",
            "IP_6631780 = 2 \n",
            "       age_approx\n",
            "50.0           1\n",
            "45.0           1 \n",
            "\n",
            "IP_3434100 = 2 \n",
            "       age_approx\n",
            "60.0           1 \n",
            "\n",
            "IP_4615697 = 2 \n",
            "       age_approx\n",
            "80.0           2 \n",
            "\n",
            "IP_7130762 = 2 \n",
            "       age_approx\n",
            "45.0           1 \n",
            "\n",
            "IP_0347699 = 2 \n",
            "       age_approx\n",
            "20.0           1 \n",
            "\n",
            "IP_3523452 = 2 \n",
            "       age_approx\n",
            "20.0           4 \n",
            "\n",
            "IP_7132179 = 2 \n",
            "       age_approx\n",
            "40.0           1 \n",
            "\n",
            "IP_6228063 = 2 \n",
            "       age_approx\n",
            "20.0           1 \n",
            "\n",
            "IP_6643545 = 2 \n",
            "       age_approx\n",
            "75.0           1 \n",
            "\n",
            "IP_1522453 = 2 \n",
            "       age_approx\n",
            "25.0           1 \n",
            "\n",
            "IP_9463965 = 2 \n",
            "       age_approx\n",
            "30.0           1 \n",
            "\n",
            "IP_9164079 = 2 \n",
            "       age_approx\n",
            "40.0           1 \n",
            "\n",
            "IP_0454573 = 1 \n",
            "       age_approx\n",
            "55.0           2 \n",
            "\n",
            "IP_7198796 = 1 \n",
            "       age_approx\n",
            "25.0           2 \n",
            "\n",
            "IP_9315856 = 1 \n",
            "       age_approx\n",
            "50.0           1 \n",
            "\n",
            "IP_5202455 = 1 \n",
            "       age_approx\n",
            "45.0           2 \n",
            "\n",
            "IP_6506834 = 1 \n",
            "       age_approx\n",
            "40.0           1 \n",
            "\n",
            "IP_0135517 = 1 \n",
            "       age_approx\n",
            "50.0           2 \n",
            "\n",
            "IP_3937212 = 1 \n",
            "       age_approx\n",
            "40.0           2\n",
            "45.0           1 \n",
            "\n",
            "IP_2710085 = 1 \n",
            "       age_approx\n",
            "55.0           1 \n",
            "\n",
            "IP_5517026 = 1 \n",
            "       age_approx\n",
            "60.0           1 \n",
            "\n",
            "IP_8491618 = 1 \n",
            "       age_approx\n",
            "40.0           1 \n",
            "\n",
            "IP_8715388 = 1 \n",
            "       age_approx\n",
            "50.0           4 \n",
            "\n",
            "IP_6118207 = 1 \n",
            "       age_approx\n",
            "45.0           1 \n",
            "\n",
            "IP_8027787 = 1 \n",
            "       age_approx\n",
            "75.0           3 \n",
            "\n",
            "IP_6098503 = 1 \n",
            "       age_approx\n",
            "30.0           1 \n",
            "\n",
            "IP_5119720 = 1 \n",
            "       age_approx\n",
            "55.0           1 \n",
            "\n",
            "IP_9427625 = 1 \n",
            "       age_approx\n",
            "20.0           2 \n",
            "\n",
            "IP_4017726 = 1 \n",
            "       age_approx\n",
            "50.0           3 \n",
            "\n",
            "IP_9122609 = 1 \n",
            "       age_approx\n",
            "65.0           2 \n",
            "\n",
            "IP_5208504 = 1 \n",
            "       age_approx\n",
            "45.0           3 \n",
            "\n",
            "IP_9190806 = 1 \n",
            "       age_approx\n",
            "40.0           3 \n",
            "\n",
            "IP_0859301 = 1 \n",
            "       age_approx\n",
            "50.0           1 \n",
            "\n",
            "IP_4015774 = 1 \n",
            "       age_approx\n",
            "35.0           1 \n",
            "\n",
            "IP_4267931 = 1 \n",
            "       age_approx\n",
            "55.0           1 \n",
            "\n",
            "IP_3893748 = 1 \n",
            "       age_approx\n",
            "65.0           1 \n",
            "\n",
            "IP_3710233 = 1 \n",
            "       age_approx\n",
            "60.0           1 \n",
            "\n",
            "IP_6776978 = 1 \n",
            "       age_approx\n",
            "60.0           1 \n",
            "\n",
            "IP_1039004 = 1 \n",
            "       age_approx\n",
            "75.0           2 \n",
            "\n",
            "IP_7610036 = 1 \n",
            "       age_approx\n",
            "65.0           1 \n",
            "\n",
            "IP_1188709 = 1 \n",
            "       age_approx\n",
            "25.0           1 \n",
            "\n",
            "IP_0648521 = 1 \n",
            "       age_approx\n",
            "60.0           3 \n",
            "\n",
            "IP_8989787 = 1 \n",
            "       age_approx\n",
            "35.0           1 \n",
            "\n",
            "IP_7685109 = 1 \n",
            "       age_approx\n",
            "25.0           2 \n",
            "\n",
            "IP_7772951 = 1 \n",
            "       age_approx\n",
            "45.0           2 \n",
            "\n",
            "IP_9175987 = 1 \n",
            "       age_approx\n",
            "65.0           2 \n",
            "\n",
            "IP_2606884 = 1 \n",
            "       age_approx\n",
            "50.0           2\n",
            "45.0           2 \n",
            "\n",
            "IP_7412558 = 1 \n",
            "       age_approx\n",
            "55.0           3 \n",
            "\n",
            "IP_6105130 = 1 \n",
            "       age_approx\n",
            "55.0           2 \n",
            "\n",
            "IP_0961415 = 1 \n",
            "       age_approx\n",
            "45.0           4 \n",
            "\n",
            "IP_4302652 = 1 \n",
            "       age_approx\n",
            "20.0           2 \n",
            "\n",
            "IP_4122224 = 1 \n",
            "       age_approx\n",
            "55.0           1 \n",
            "\n",
            "IP_0637703 = 1 \n",
            "       age_approx\n",
            "30.0           1 \n",
            "\n",
            "IP_8627268 = 1 \n",
            "       age_approx\n",
            "35.0           1 \n",
            "\n",
            "IP_8513373 = 1 \n",
            "       age_approx\n",
            "40.0           1\n",
            "35.0           1 \n",
            "\n",
            "IP_2479386 = 1 \n",
            "       age_approx\n",
            "35.0           1\n",
            "40.0           1 \n",
            "\n",
            "IP_8861178 = 1 \n",
            "       age_approx\n",
            "60.0           1 \n",
            "\n",
            "IP_8039381 = 1 \n",
            "       age_approx\n",
            "65.0           1 \n",
            "\n",
            "IP_1039996 = 1 \n",
            "       age_approx\n",
            "35.0           2 \n",
            "\n",
            "IP_0500903 = 1 \n",
            "       age_approx\n",
            "25.0           1 \n",
            "\n",
            "IP_3222187 = 1 \n",
            "       age_approx\n",
            "40.0           1 \n",
            "\n",
            "IP_8069409 = 1 \n",
            "       age_approx\n",
            "30.0           1\n",
            "35.0           1 \n",
            "\n",
            "IP_4966841 = 1 \n",
            "       age_approx\n",
            "50.0           1 \n",
            "\n",
            "IP_1800426 = 1 \n",
            "       age_approx\n",
            "40.0           1\n",
            "35.0           1 \n",
            "\n",
            "IP_8041141 = 1 \n",
            "       age_approx\n",
            "20.0           1 \n",
            "\n",
            "IP_7415269 = 1 \n",
            "       age_approx\n",
            "60.0           1 \n",
            "\n",
            "IP_9056338 = 1 \n",
            "       age_approx\n",
            "60.0           1 \n",
            "\n",
            "IP_4959878 = 1 \n",
            "       age_approx\n",
            "25.0           1 \n",
            "\n",
            "IP_7132551 = 1 \n",
            "       age_approx\n",
            "55.0           1 \n",
            "\n",
            "IP_0612651 = 1 \n",
            "       age_approx\n",
            "25.0           2 \n",
            "\n",
            "IP_4030464 = 1 \n",
            "       age_approx\n",
            "60.0           1 \n",
            "\n",
            "IP_1265580 = 1 \n",
            "       age_approx\n",
            "65.0           2 \n",
            "\n",
            "IP_0894335 = 1 \n",
            "       age_approx\n",
            "40.0           1 \n",
            "\n",
            "IP_9001826 = 1 \n",
            "       age_approx\n",
            "35.0           1\n",
            "30.0           1 \n",
            "\n",
            "IP_7341133 = 1 \n",
            "       age_approx\n",
            "55.0           1 \n",
            "\n",
            "IP_4409916 = 1 \n",
            "       age_approx\n",
            "40.0           1 \n",
            "\n",
            "IP_6808872 = 1 \n",
            "       age_approx\n",
            "30.0           2 \n",
            "\n",
            "IP_3468257 = 1 \n",
            "       age_approx\n",
            "60.0           1 \n",
            "\n",
            "IP_5075533 = 1 \n",
            "       age_approx\n",
            "50.0           1 \n",
            "\n",
            "IP_3034671 = 1 \n",
            "       age_approx\n",
            "70.0           2 \n",
            "\n",
            "IP_2008749 = 1 \n",
            "       age_approx\n",
            "40.0           1 \n",
            "\n",
            "IP_9053722 = 1 \n",
            "       age_approx\n",
            "35.0           1 \n",
            "\n",
            "IP_1615189 = 1 \n",
            "       age_approx\n",
            "50.0           1 \n",
            "\n",
            "IP_6459335 = 1 \n",
            "       age_approx\n",
            "60.0           1 \n",
            "\n",
            "IP_5086592 = 1 \n",
            "       age_approx\n",
            "55.0           3 \n",
            "\n",
            "IP_7590110 = 1 \n",
            "       age_approx\n",
            "45.0           1 \n",
            "\n",
            "IP_3395413 = 1 \n",
            "       age_approx\n",
            "55.0           1 \n",
            "\n",
            "IP_3938557 = 1 \n",
            "       age_approx\n",
            "30.0           1 \n",
            "\n",
            "IP_8442277 = 1 \n",
            "       age_approx\n",
            "50.0           2 \n",
            "\n",
            "IP_0307863 = 1 \n",
            "       age_approx\n",
            "40.0           1 \n",
            "\n",
            "IP_8869881 = 1 \n",
            "       age_approx\n",
            "25.0           2 \n",
            "\n",
            "IP_6838833 = 1 \n",
            "       age_approx\n",
            "80.0           1 \n",
            "\n",
            "IP_7261254 = 1 \n",
            "       age_approx\n",
            "20.0           2 \n",
            "\n",
            "IP_4938382 = 1 \n",
            "       age_approx\n",
            "25.0           1 \n",
            "\n",
            "IP_4154441 = 1 \n",
            "       age_approx\n",
            "65.0           1 \n",
            "\n",
            "IP_5795395 = 1 \n",
            "       age_approx\n",
            "35.0           1 \n",
            "\n",
            "IP_6889672 = 1 \n",
            "       age_approx\n",
            "25.0           1 \n",
            "\n",
            "IP_6538458 = 1 \n",
            "       age_approx\n",
            "50.0           1 \n",
            "\n",
            "IP_7404937 = 1 \n",
            "       age_approx\n",
            "60.0           2 \n",
            "\n",
            "IP_3489420 = 1 \n",
            "       age_approx\n",
            "50.0           1 \n",
            "\n",
            "IP_6982571 = 1 \n",
            "       age_approx\n",
            "25.0           1 \n",
            "\n",
            "IP_9679829 = 1 \n",
            "       age_approx\n",
            "30.0           1 \n",
            "\n",
            "IP_3751440 = 1 \n",
            "       age_approx\n",
            "50.0           2 \n",
            "\n",
            "IP_8848835 = 1 \n",
            "       age_approx\n",
            "55.0           1 \n",
            "\n",
            "IP_1005683 = 1 \n",
            "       age_approx\n",
            "70.0           2 \n",
            "\n",
            "IP_9563768 = 1 \n",
            "       age_approx\n",
            "50.0           2 \n",
            "\n",
            "IP_8412988 = 1 \n",
            "       age_approx\n",
            "70.0           2 \n",
            "\n",
            "IP_9042214 = 1 \n",
            "       age_approx\n",
            "30.0           1 \n",
            "\n",
            "IP_1525623 = 1 \n",
            "       age_approx\n",
            "45.0           1 \n",
            "\n",
            "IP_7207550 = 1 \n",
            "       age_approx\n",
            "55.0           1 \n",
            "\n",
            "IP_2412574 = 1 \n",
            "       age_approx\n",
            "70.0           1 \n",
            "\n",
            "IP_6814737 = 1 \n",
            "       age_approx\n",
            "35.0           1 \n",
            "\n",
            "IP_1152723 = 1 \n",
            "       age_approx\n",
            "25.0           1 \n",
            "\n",
            "IP_5686827 = 1 \n",
            "       age_approx\n",
            "70.0           1 \n",
            "\n",
            "IP_8277853 = 1 \n",
            "       age_approx\n",
            "55.0           1 \n",
            "\n",
            "IP_7318404 = 1 \n",
            "       age_approx\n",
            "50.0           1 \n",
            "\n",
            "IP_6842734 = 1 \n",
            "       age_approx\n",
            "30.0           1 \n",
            "\n",
            "IP_7491908 = 1 \n",
            "       age_approx\n",
            "35.0           1 \n",
            "\n",
            "IP_4821632 = 1 \n",
            "       age_approx\n",
            "30.0           1 \n",
            "\n",
            "IP_4898383 = 1 \n",
            "       age_approx\n",
            "30.0           1 \n",
            "\n",
            "IP_8437394 = 1 \n",
            "       age_approx\n",
            "35.0           1 \n",
            "\n",
            "IP_8235556 = 1 \n",
            "       age_approx\n",
            "35.0           1 \n",
            "\n",
            "IP_7270568 = 1 \n",
            "       age_approx\n",
            "70.0           1 \n",
            "\n",
            "IP_2871134 = 1 \n",
            "       age_approx\n",
            "60.0           1 \n",
            "\n",
            "IP_6569383 = 1 \n",
            "       age_approx\n",
            "70.0           1 \n",
            "\n",
            "IP_5945442 = 1 \n",
            "       age_approx\n",
            "35.0           1 \n",
            "\n",
            "IP_2511209 = 1 \n",
            "       age_approx\n",
            "45.0           1 \n",
            "\n",
            "IP_6362160 = 1 \n",
            "       age_approx\n",
            "70.0           1 \n",
            "\n",
            "IP_1705144 = 1 \n",
            "       age_approx\n",
            "50.0           1 \n",
            "\n",
            "IP_9327025 = 1 \n",
            "       age_approx\n",
            "55.0           1 \n",
            "\n",
            "IP_9042531 = 1 \n",
            "       age_approx\n",
            "55.0           1 \n",
            "\n",
            "IP_2772363 = 1 \n",
            "       age_approx\n",
            "60.0           1 \n",
            "\n",
            "IP_6353955 = 1 \n",
            "       age_approx\n",
            "55.0           1 \n",
            "\n"
          ]
        }
      ]
    },
    {
      "cell_type": "code",
      "source": [
        "train_meta.patient_id[train_meta['sex']==train_meta.isnull()]"
      ],
      "metadata": {
        "id": "E7hIcGS9GbSa",
        "colab": {
          "base_uri": "https://localhost:8080/"
        },
        "outputId": "bf0b16cb-d62a-472b-9de9-831ea25222cb"
      },
      "execution_count": null,
      "outputs": [
        {
          "output_type": "stream",
          "name": "stderr",
          "text": [
            "/usr/local/lib/python3.7/dist-packages/ipykernel_launcher.py:1: FutureWarning: Automatic reindexing on DataFrame vs Series comparisons is deprecated and will raise ValueError in a future version.  Do `left, right = left.align(right, axis=1, copy=False)` before e.g. `left == right`\n",
            "  \"\"\"Entry point for launching an IPython kernel.\n"
          ]
        }
      ]
    },
    {
      "cell_type": "code",
      "source": [
        "null_df[null_df['sex'].isnull()]"
      ],
      "metadata": {
        "id": "484kCIuKFU97"
      },
      "execution_count": null,
      "outputs": []
    },
    {
      "cell_type": "code",
      "source": [
        "null_df.groupby(['patient_id'])['sex'].value_counts()"
      ],
      "metadata": {
        "id": "X3rbp_0LFS8x"
      },
      "execution_count": null,
      "outputs": []
    },
    {
      "cell_type": "code",
      "source": [
        "train_meta.shape"
      ],
      "metadata": {
        "id": "UV7ffd6h31od"
      },
      "execution_count": null,
      "outputs": []
    },
    {
      "cell_type": "code",
      "source": [
        "train_sex = train_meta[(train_meta['sex'] != 'male') & (train_meta['sex'] != 'female')]\n",
        "train_sex['patient_id'].value_counts()"
      ],
      "metadata": {
        "id": "UQ5iPeKP3bIN"
      },
      "execution_count": null,
      "outputs": []
    },
    {
      "cell_type": "code",
      "source": [
        "train_sex['age_approx'].isna().sum()"
      ],
      "metadata": {
        "id": "KeQHxuAsC4lJ"
      },
      "execution_count": null,
      "outputs": []
    },
    {
      "cell_type": "code",
      "source": [
        "train_meta.groupby('patient_id')['sex'].value_counts().to_frame()"
      ],
      "metadata": {
        "id": "6bVv8WUYobn5"
      },
      "execution_count": null,
      "outputs": []
    },
    {
      "cell_type": "markdown",
      "source": [
        "### Handle NaN values (basic)"
      ],
      "metadata": {
        "id": "Z_p7EgpdTPnz"
      }
    },
    {
      "cell_type": "markdown",
      "source": [
        "#### Creating n_images"
      ],
      "metadata": {
        "id": "KXaqwj-GUeaG"
      }
    },
    {
      "cell_type": "code",
      "source": [
        "train_meta['n_images'] = train_meta.groupby('patient_id').cumcount().add(1).astype(str).to_frame()\n",
        "train_meta"
      ],
      "metadata": {
        "id": "iO5eCRNOf6lI"
      },
      "execution_count": null,
      "outputs": []
    },
    {
      "cell_type": "markdown",
      "source": [
        "##### Train"
      ],
      "metadata": {
        "id": "4hyFGQGVUig_"
      }
    },
    {
      "cell_type": "code",
      "source": [
        "train_meta['sex'] = train_meta['sex'].fillna('unknown')\n",
        "train_meta['sex'].value_counts()"
      ],
      "metadata": {
        "id": "1XBrE4SdTo-M"
      },
      "execution_count": null,
      "outputs": []
    },
    {
      "cell_type": "markdown",
      "source": [
        "#### Age_approx"
      ],
      "metadata": {
        "id": "LCpgMojah7tE"
      }
    },
    {
      "cell_type": "code",
      "source": [
        "train_meta.age_approx= train_meta.age_approx.fillna(0.0).astype(int)\n",
        "train_meta = train_meta.astype({\"age_approx\": 'str'})\n",
        "\n",
        "train_meta['age_approx'] = train_meta['age_approx'].fillna('unknown')\n",
        "print(\"Missing values? -> \",train_meta['age_approx'].isna().any())\n",
        "train_meta['age_approx'].value_counts()"
      ],
      "metadata": {
        "id": "2ScLu761iAIU"
      },
      "execution_count": null,
      "outputs": []
    },
    {
      "cell_type": "code",
      "source": [
        "test_meta = test_meta.astype({\"age_approx\": 'str'})"
      ],
      "metadata": {
        "id": "GaQuIGdPDY9E"
      },
      "execution_count": null,
      "outputs": []
    },
    {
      "cell_type": "markdown",
      "source": [
        "#### Sex"
      ],
      "metadata": {
        "id": "h4GIx2KZUbp3"
      }
    },
    {
      "cell_type": "code",
      "source": [
        "train_meta['sex'] = train_meta['sex'].fillna('unknown')\n",
        "print(\"Missing values? -> \",train_meta['sex'].isna().any())\n",
        "train_meta['sex'].value_counts()"
      ],
      "metadata": {
        "id": "3a0eyenThZ_a"
      },
      "execution_count": null,
      "outputs": []
    },
    {
      "cell_type": "markdown",
      "source": [
        "#### anatom_site"
      ],
      "metadata": {
        "id": "jqtgwvwpVF1y"
      }
    },
    {
      "cell_type": "markdown",
      "source": [
        "##### Train"
      ],
      "metadata": {
        "id": "ZGNkMkb_VK0h"
      }
    },
    {
      "cell_type": "code",
      "source": [
        "train_meta['anatom_site_general_challenge'] = train_meta['anatom_site_general_challenge'].fillna('unknown')\n",
        "print(\"Missing values? -> \",train_meta['anatom_site_general_challenge'].isna().any())\n",
        "train_meta['anatom_site_general_challenge'].value_counts()"
      ],
      "metadata": {
        "id": "Mhl6rTa5VKJl"
      },
      "execution_count": null,
      "outputs": []
    },
    {
      "cell_type": "markdown",
      "source": [
        "##### Test"
      ],
      "metadata": {
        "id": "LJoYW2YRVMub"
      }
    },
    {
      "cell_type": "code",
      "source": [
        "test_meta['anatom_site_general'] = test_meta['anatom_site_general'].fillna('unknown')\n",
        "print(\"Missing values? -> \",test_meta['anatom_site_general'].isna().any())\n",
        "test_meta['anatom_site_general'].value_counts()"
      ],
      "metadata": {
        "id": "zpSJEfqrVUgH"
      },
      "execution_count": null,
      "outputs": []
    },
    {
      "cell_type": "markdown",
      "source": [
        "### Encode Metadata"
      ],
      "metadata": {
        "id": "pW7unqjsqakB"
      }
    },
    {
      "cell_type": "code",
      "source": [
        "train_meta.shape, test_meta.shape"
      ],
      "metadata": {
        "id": "m4EuAS_SDDJP"
      },
      "execution_count": null,
      "outputs": []
    },
    {
      "cell_type": "code",
      "source": [
        "from sklearn.preprocessing import OneHotEncoder"
      ],
      "metadata": {
        "id": "lQgJLmphqnli"
      },
      "execution_count": null,
      "outputs": []
    },
    {
      "cell_type": "markdown",
      "source": [
        "#### train"
      ],
      "metadata": {
        "id": "kY5nwCurtaOq"
      }
    },
    {
      "cell_type": "code",
      "source": [
        "hot_enconder = OneHotEncoder()\n",
        "\n",
        "train_columns = train_meta.columns[2], train_meta.columns[3], train_meta.columns[4]\n",
        "train_columns =list(train_columns)\n",
        "hot_enconder.fit(train_meta[train_columns])\n",
        "hot_enconder.categories_"
      ],
      "metadata": {
        "id": "V_I0MU8N-KIP"
      },
      "execution_count": null,
      "outputs": []
    },
    {
      "cell_type": "code",
      "source": [
        "hot_enconder.transform([['female', '10','upper extremity']]).toarray()"
      ],
      "metadata": {
        "id": "LUtNKCS08blA"
      },
      "execution_count": null,
      "outputs": []
    },
    {
      "cell_type": "markdown",
      "source": [
        "#### Test"
      ],
      "metadata": {
        "id": "Yg4BO4kc-0-y"
      }
    },
    {
      "cell_type": "code",
      "source": [
        "hot_enconder_test = OneHotEncoder()\n",
        "test_columns = test_meta.columns[4], test_meta.columns[2], test_meta.columns[3]\n",
        "test_columns = list(test_columns)\n",
        "hot_enconder_test.fit(test_meta[test_columns])\n",
        "hot_enconder_test.categories_"
      ],
      "metadata": {
        "id": "m8opYnPN-2H7"
      },
      "execution_count": null,
      "outputs": []
    },
    {
      "cell_type": "markdown",
      "source": [
        "#### Create csv"
      ],
      "metadata": {
        "id": "bl0ydqqJktVY"
      }
    },
    {
      "cell_type": "code",
      "source": [
        "train_meta.to_csv(f'{PATH}/train_meta.csv',index=False)\n",
        "test_meta.to_csv(f'{PATH}/test_meta.csv',index=False)"
      ],
      "metadata": {
        "id": "5u2v49r9kvnc"
      },
      "execution_count": null,
      "outputs": []
    },
    {
      "cell_type": "markdown",
      "metadata": {
        "id": "BwYT9S9WodDx"
      },
      "source": [
        "## Hold-out with stratify for training"
      ]
    },
    {
      "cell_type": "code",
      "execution_count": null,
      "metadata": {
        "id": "uL-zDZbNodDx"
      },
      "outputs": [],
      "source": [
        "from sklearn.model_selection import train_test_split\n",
        "\n",
        "train_split, val_split = train_test_split(train, random_state=42, test_size=0.33, shuffle=True, stratify=train['target'])\n",
        "train_split.shape, val_split.shape"
      ]
    },
    {
      "cell_type": "code",
      "execution_count": null,
      "metadata": {
        "id": "Uj4IH_cVodDy"
      },
      "outputs": [],
      "source": [
        "train_split.to_csv(f'{PATH}/train_split.csv', index=False)\n",
        "val_split.to_csv(f'{PATH}/val_split.csv', index=False)"
      ]
    },
    {
      "cell_type": "markdown",
      "source": [
        "## Meta"
      ],
      "metadata": {
        "id": "L69RRcp5nSWu"
      }
    },
    {
      "cell_type": "code",
      "source": [
        "from sklearn.model_selection import train_test_split\n",
        "\n",
        "train_split_meta, val_split_meta = train_test_split(train_meta, random_state=42, test_size=0.33, shuffle=True, stratify=train_meta['target'])\n",
        "train_split_meta.shape, val_split_meta.shape"
      ],
      "metadata": {
        "id": "fEBz2JKOnU2t"
      },
      "execution_count": null,
      "outputs": []
    },
    {
      "cell_type": "code",
      "source": [
        "train_split_meta.to_csv(f'{PATH}/train_split_meta.csv', index=False)\n",
        "val_split_meta.to_csv(f'{PATH}/val_split_meta.csv', index=False)"
      ],
      "metadata": {
        "id": "8wBqMU3XnXJn"
      },
      "execution_count": null,
      "outputs": []
    },
    {
      "cell_type": "markdown",
      "metadata": {
        "id": "kZyJDyB_odDy"
      },
      "source": [
        "### Exploration of split distrubition"
      ]
    },
    {
      "cell_type": "markdown",
      "metadata": {
        "id": "wZsbxcvJodDy"
      },
      "source": [
        "#### train split"
      ]
    },
    {
      "cell_type": "code",
      "execution_count": null,
      "metadata": {
        "id": "TsSsfnkAodDz"
      },
      "outputs": [],
      "source": [
        "print(train_split['target'].value_counts()[0]/len(train['target'])*100)\n",
        "print(train_split['target'].value_counts()[1]/len(train['target'])*100)\n",
        "\n",
        "print(train_split['target'].value_counts())\n",
        "train_split['target'].hist()"
      ]
    },
    {
      "cell_type": "markdown",
      "metadata": {
        "id": "PL4YNgc0odDz"
      },
      "source": [
        "#### val split"
      ]
    },
    {
      "cell_type": "code",
      "execution_count": null,
      "metadata": {
        "id": "0z_grX3nodDz"
      },
      "outputs": [],
      "source": [
        "print(val_split['target'].value_counts()[0]/len(train['target'])*100)\n",
        "print(val_split['target'].value_counts()[1]/len(train['target'])*100)\n",
        "\n",
        "print(val_split['target'].value_counts())\n",
        "val_split['target'].hist()"
      ]
    },
    {
      "cell_type": "markdown",
      "metadata": {
        "id": "p0-143UsDKr7"
      },
      "source": [
        "# Subset"
      ]
    },
    {
      "cell_type": "markdown",
      "metadata": {
        "id": "236EGqeQiBvy"
      },
      "source": [
        "## Create subset"
      ]
    },
    {
      "cell_type": "code",
      "execution_count": null,
      "metadata": {
        "id": "DKrMcXLYDIZl"
      },
      "outputs": [],
      "source": [
        "_, subset = train_test_split(train_split, random_state=42, test_size=0.1, shuffle=True, stratify=train_split['target'])\n",
        "subset.shape"
      ]
    },
    {
      "cell_type": "code",
      "execution_count": null,
      "metadata": {
        "id": "qwpq7RBOIe-2"
      },
      "outputs": [],
      "source": [
        "subset.to_csv(f'{PATH}/subset.csv', index=False)"
      ]
    },
    {
      "cell_type": "markdown",
      "source": [
        "## Meta"
      ],
      "metadata": {
        "id": "VLizqSn_nqC7"
      }
    },
    {
      "cell_type": "code",
      "source": [
        "_, subset_meta = train_test_split(train_split_meta, random_state=42, test_size=0.1, shuffle=True, stratify=train_split_meta['target'])\n",
        "subset_meta.shape"
      ],
      "metadata": {
        "id": "XXtYqKZnn3l9"
      },
      "execution_count": null,
      "outputs": []
    },
    {
      "cell_type": "code",
      "source": [
        "subset_meta.to_csv(f'{PATH}/subset_meta.csv', index=False)"
      ],
      "metadata": {
        "id": "5WvCZq43n4tG"
      },
      "execution_count": null,
      "outputs": []
    },
    {
      "cell_type": "markdown",
      "metadata": {
        "id": "oYHW3BNmIEVl"
      },
      "source": [
        "### Exploration distrubution of subset"
      ]
    },
    {
      "cell_type": "code",
      "execution_count": null,
      "metadata": {
        "id": "NXY-B_pxH6TM"
      },
      "outputs": [],
      "source": [
        "print(subset['target'].value_counts()[0]/len(subset['target'])*100)\n",
        "print(subset['target'].value_counts()[1]/len(subset['target'])*100)\n",
        "\n",
        "print(subset['target'].value_counts())\n",
        "subset['target'].hist()"
      ]
    },
    {
      "cell_type": "markdown",
      "metadata": {
        "id": "hcV3-pZ4Ljd2"
      },
      "source": [
        "# Folds"
      ]
    },
    {
      "cell_type": "markdown",
      "metadata": {
        "id": "UHdyNQ_uPGDg"
      },
      "source": [
        "## Create csv with folds"
      ]
    },
    {
      "cell_type": "code",
      "execution_count": null,
      "metadata": {
        "id": "e5ps8o_rLiwW"
      },
      "outputs": [],
      "source": [
        "import numpy as np\n",
        "from sklearn import model_selection\n",
        "KFOLD = params['folds']\n",
        "kf = model_selection.StratifiedKFold(n_splits=KFOLD, random_state=42, shuffle=True)\n",
        "for fold_, (train_idx, val_idx) in enumerate(kf.split(X=train,y=train['target'])):\n",
        "  train.loc[val_idx,'kfold'] = fold_\n",
        "  train.to_csv(f'{PATH}/train_fold{KFOLD}.csv')\n",
        "  print(\"Fold:\",fold_+1)\n",
        "  print(train_idx.shape, val_idx.shape)"
      ]
    },
    {
      "cell_type": "markdown",
      "metadata": {
        "id": "1V1paZ9QI9Iq"
      },
      "source": [
        "# Load csv"
      ]
    },
    {
      "cell_type": "markdown",
      "metadata": {
        "id": "IIKQzyIb7IAx"
      },
      "source": [
        "## Hold-out split"
      ]
    },
    {
      "cell_type": "code",
      "execution_count": null,
      "metadata": {
        "id": "6w3Gi8kq7K-p"
      },
      "outputs": [],
      "source": [
        "train_csv = f'{PATH}/train_split.csv'\n",
        "val_csv = f'{PATH}/val_split.csv'\n",
        "\n",
        "train = pd.read_csv(train_csv)\n",
        "val = pd.read_csv(val_csv)\n",
        "train.shape, val.shape"
      ]
    },
    {
      "cell_type": "markdown",
      "metadata": {
        "id": "TCK8ZAMzQhHJ"
      },
      "source": [
        "## Stratified kFolds "
      ]
    },
    {
      "cell_type": "code",
      "execution_count": null,
      "metadata": {
        "id": "ll8dZ5TfQlrf"
      },
      "outputs": [],
      "source": [
        "KFOLD= params['folds']\n",
        "train_csv = f'{PATH}/train_fold{KFOLD}.csv'\n",
        "train = pd.read_csv(train_csv)"
      ]
    },
    {
      "cell_type": "markdown",
      "metadata": {
        "id": "JIkbIlD07EHc"
      },
      "source": [
        "## Subset csv load"
      ]
    },
    {
      "cell_type": "code",
      "execution_count": null,
      "metadata": {
        "colab": {
          "base_uri": "https://localhost:8080/"
        },
        "id": "Q0jOdBgMJBQh",
        "outputId": "c7088143-e3e2-410c-8af7-babf489fdccc"
      },
      "outputs": [
        {
          "output_type": "execute_result",
          "data": {
            "text/plain": [
              "((2220, 9), (10932, 9))"
            ]
          },
          "metadata": {},
          "execution_count": 8
        }
      ],
      "source": [
        "train_csv = f'{PATH}/subset.csv'\n",
        "val_csv = f'{PATH}/val_split.csv'\n",
        "\n",
        "train = pd.read_csv(train_csv)\n",
        "val = pd.read_csv(val_csv)\n",
        "train.shape, val.shape"
      ]
    },
    {
      "cell_type": "markdown",
      "source": [
        "## Meta subset load"
      ],
      "metadata": {
        "id": "vIZ8RLLVonpL"
      }
    },
    {
      "cell_type": "code",
      "source": [
        "train = pd.read_csv(f'{PATH}/subset_meta.csv')\n",
        "val = pd.read_csv(f'{PATH}/val_split_meta.csv')\n",
        "\n",
        "train = train.astype({\"age_approx\": 'str'})\n",
        "val = val.astype({\"age_approx\": 'str'})\n",
        "\n",
        "train.shape, val.shape"
      ],
      "metadata": {
        "id": "OlXJg5goos-U"
      },
      "execution_count": null,
      "outputs": []
    },
    {
      "cell_type": "markdown",
      "metadata": {
        "id": "B22MUXmvwZnZ"
      },
      "source": [
        "# Dataset.py | Metadata"
      ]
    },
    {
      "cell_type": "code",
      "execution_count": null,
      "metadata": {
        "id": "r6x_92ysv_Uf"
      },
      "outputs": [],
      "source": [
        "import os\n",
        "import cv2\n",
        "import numpy as np\n",
        "import albumentations\n",
        "import torch\n",
        "from torch.utils.data import Dataset"
      ]
    },
    {
      "cell_type": "code",
      "source": [
        "class MelanomaDataset(Dataset):\n",
        "  def __init__(self, images, labels=None, transform=None, train=True):\n",
        "    self.images = images\n",
        "    self.labels = labels\n",
        "    self.transform = transform\n",
        "    self.train = train\n",
        "\n",
        "  def __getitem__(self, index):\n",
        "    image = cv2.imread(self.images[index])\n",
        "    target = torch.tensor([self.labels[index]])\n",
        "    if self.transform is not None:\n",
        "      image = cv2.cvtColor(image, cv2.COLOR_BGR2RGB)\n",
        "      # image = self.transform(image=image)[\"image\"].astype(np.float32)/255.\n",
        "      # image = self.transform(image=image)[\"image\"].astype(np.float32)\n",
        "      image = self.transform(image=image)[\"image\"]\n",
        "      # image = image.transpose(2, 0, 1)/255.\n",
        "      image = image.transpose(2, 0, 1)\n",
        "    else:\n",
        "      image = cv2.resize(image, (params['im_size'],params['im_size']))\n",
        "      image = cv2.cvtColor(image, cv2.COLOR_BGR2RGB)\n",
        "      image = image/ 255.\n",
        "      image = image.transpose(2, 0, 1)\n",
        "    if self.train:\n",
        "      return torch.tensor(image).float(), target.float()\n",
        "    return torch.tensor(image).float()\n",
        "\n",
        "  def __len__(self) -> int:\n",
        "    return len(self.images)"
      ],
      "metadata": {
        "id": "8iUhCyf9YEGS"
      },
      "execution_count": null,
      "outputs": []
    },
    {
      "cell_type": "markdown",
      "source": [
        "## Meta dataset"
      ],
      "metadata": {
        "id": "zNpHqzjpYCV7"
      }
    },
    {
      "cell_type": "code",
      "execution_count": null,
      "metadata": {
        "id": "1x2pyP-qwneg"
      },
      "outputs": [],
      "source": [
        "# from skimage import io\n",
        "# from skimage.transform import resize\n",
        "\n",
        "from skimage import io\n",
        "from skimage.transform import resize\n",
        "\n",
        "class MelanomaDatasetMeta(Dataset):\n",
        "  def __init__(self, images, meta, labels=None, transform=None, train=True):\n",
        "    self.images = images\n",
        "    self.labels = labels\n",
        "    self.transform = transform\n",
        "    self.train = train\n",
        "    meta = hot_enconder.transform(meta).toarray()\n",
        "    self.meta = meta\n",
        "\n",
        "  def __getitem__(self, index):\n",
        "    image = cv2.imread(self.images[index])\n",
        "    meta = torch.tensor(self.meta[index])\n",
        "    if self.transform is not None:\n",
        "      image = cv2.cvtColor(image, cv2.COLOR_BGR2RGB)\n",
        "      # image = self.transform(image=image)[\"image\"].astype(np.float32)/255.\n",
        "      # image = self.transform(image=image)[\"image\"].astype(np.float32)\n",
        "      image = self.transform(image=image)[\"image\"]\n",
        "      # image = image.transpose(2, 0, 1)/255.\n",
        "      image = image.transpose(2, 0, 1)\n",
        "    else:\n",
        "      image = cv2.resize(image, (params['im_size'],params['im_size']))\n",
        "      image = cv2.cvtColor(image, cv2.COLOR_BGR2RGB)\n",
        "      image = image/ 255.\n",
        "      image = image.transpose(2, 0, 1)\n",
        "    image = torch.tensor(image)\n",
        "    if self.train:      \n",
        "      target = torch.tensor([self.labels[index]])\n",
        "      return image.float(), meta.float(), target.float()\n",
        "    return image.float(), meta.float()\n",
        "  \n",
        "  # def load_img(self, img):\n",
        "  #   im = io.imread(img)\n",
        "  #   return resize(im,(256,256))\n",
        "\n",
        "  # def __getitem__(self, ix):\n",
        "  #   img = self.load_img(self.images[ix])\n",
        "  #   img = img.transpose(2, 0, 1)\n",
        "  #   data = torch.from_numpy(img).float()\n",
        "  #   target = torch.tensor([self.labels[ix]]).float()\n",
        "  #   return data, target\n",
        "\n",
        "  def __len__(self) -> int:\n",
        "    return len(self.images)"
      ]
    },
    {
      "cell_type": "markdown",
      "metadata": {
        "id": "_9c2bwh1sVdt"
      },
      "source": [
        "# Calculate mean and std"
      ]
    },
    {
      "cell_type": "markdown",
      "metadata": {
        "id": "nw2Bq27NtjTx"
      },
      "source": [
        "## Method 1"
      ]
    },
    {
      "cell_type": "code",
      "execution_count": null,
      "metadata": {
        "id": "4q4mH9orsVBv"
      },
      "outputs": [],
      "source": [
        "def get_mean_and_std(dataloader):\n",
        "    channels_sum, channels_squared_sum, num_batches = 0, 0, 0\n",
        "    for data, _ in dataloader:\n",
        "      channels_sum += torch.mean(data, dim=[0,2,3])\n",
        "      channels_squared_sum += torch.mean(data**2, dim=[0,2,3])\n",
        "      num_batches += 1\n",
        "    mean = channels_sum / num_batches\n",
        "    std = (channels_squared_sum / num_batches - mean ** 2) ** 0.5\n",
        "    return tuple(mean.numpy()), tuple(std.numpy())"
      ]
    },
    {
      "cell_type": "code",
      "execution_count": null,
      "metadata": {
        "id": "OwsActc3tf83"
      },
      "outputs": [],
      "source": [
        "mean, std = get_mean_and_std(DataLoader(MelanomaDataset(train['path'], train['target'])))\n",
        "print(mean)\n",
        "print(std)"
      ]
    },
    {
      "cell_type": "markdown",
      "metadata": {
        "id": "yDZQV6TytlHR"
      },
      "source": [
        "## Method 2"
      ]
    },
    {
      "cell_type": "code",
      "execution_count": null,
      "metadata": {
        "id": "Gc2Lr6rTtm5G"
      },
      "outputs": [],
      "source": [
        "#use this training model from scratch or not using pretrained model\n",
        "from tqdm import tqdm\n",
        "def compute_img_mean_std(image_paths):\n",
        "    '''\n",
        "    normalising data from 0-255 to 0-1\n",
        "    mean and std of three channnel\n",
        "    '''\n",
        "    img_h, img_w = 224,224\n",
        "    imgs = []\n",
        "    means, stds = [],[]\n",
        "    #resizing \n",
        "    for i in tqdm(image_paths):\n",
        "        img = cv2.imread(i)\n",
        "        img.resize(img_w,img_h)\n",
        "        img = cv2.cvtColor(img, cv2.COLOR_BGR2RGB)\n",
        "        imgs.append(img)\n",
        "        \n",
        "    # (224,224,3),nof_img -> 224,224,3,nof_img\n",
        "    imgs = np.stack(imgs, axis=3)\n",
        "    #normalising \n",
        "    imgs=imgs.astype(np.float32)/255.\n",
        "    \n",
        "    print(imgs.shape)\n",
        "    #mean and std of each channel\n",
        "    for i in range(3):\n",
        "        pixels = imgs[:,:,i,:].ravel() #resizing to one row\n",
        "        mean = pixels.mean()\n",
        "        std = pixels.std()\n",
        "        \n",
        "        means.append(mean)\n",
        "        stds.append(std)\n",
        "        \n",
        "    means.reverse() #bgr to rgb\n",
        "    stds.reverse()\n",
        "    \n",
        "    return means, stds"
      ]
    },
    {
      "cell_type": "code",
      "execution_count": null,
      "metadata": {
        "id": "6_7pThettuCi"
      },
      "outputs": [],
      "source": [
        "compute_img_mean_std(train['path'])"
      ]
    },
    {
      "cell_type": "markdown",
      "metadata": {
        "id": "tqtdjmJZDD1E"
      },
      "source": [
        "## Method 3"
      ]
    },
    {
      "cell_type": "code",
      "execution_count": null,
      "metadata": {
        "id": "fX4zHs7pDgMX"
      },
      "outputs": [],
      "source": [
        "# placeholders\n",
        "psum    = torch.tensor([0.0, 0.0, 0.0])\n",
        "psum_sq = torch.tensor([0.0, 0.0, 0.0])\n",
        "\n",
        "# loop through images\n",
        "for inputs,_ in tqdm(DataLoader(MelanomaDataset(train['path'], train['target']))):\n",
        "    psum    += inputs.sum(axis        = [0, 2, 3])\n",
        "    psum_sq += (inputs ** 2).sum(axis = [0, 2, 3])"
      ]
    },
    {
      "cell_type": "code",
      "execution_count": null,
      "metadata": {
        "id": "ifNDc0I6FbNh"
      },
      "outputs": [],
      "source": [
        "# pixel count\n",
        "count = len(train['path']) * params['im_size'] * params['im_size']\n",
        "\n",
        "# mean and std\n",
        "total_mean = psum / count\n",
        "total_var  = (psum_sq / count) - (total_mean ** 2)\n",
        "total_std  = torch.sqrt(total_var)\n",
        "\n",
        "# output\n",
        "print('mean: '  + str(total_mean))\n",
        "print('std:  '  + str(total_std))\n"
      ]
    },
    {
      "cell_type": "markdown",
      "metadata": {
        "id": "4JZHTVsB1RHQ"
      },
      "source": [
        "# Augmentation"
      ]
    },
    {
      "cell_type": "code",
      "execution_count": null,
      "metadata": {
        "id": "wZjVwWVXsCLS"
      },
      "outputs": [],
      "source": [
        "mean= (0.7232643, 0.6180579, 0.56661755)\n",
        "\n",
        "std= (0.16529222, 0.1724447, 0.19304909)"
      ]
    },
    {
      "cell_type": "code",
      "execution_count": null,
      "metadata": {
        "id": "H3gPZKrJr2Gi"
      },
      "outputs": [],
      "source": [
        "import albumentations as A\n",
        "\n",
        "def transform_aug(im_size):\n",
        "  transforms_train = A.Compose(\n",
        "      [\n",
        "       A.Transpose(p=0.5),\n",
        "       A.VerticalFlip(p=0.5),\n",
        "       A.HorizontalFlip(p=0.5),\n",
        "       A.RandomBrightness(limit=0.2, p=0.75),\n",
        "       A.RandomContrast(limit=0.2, p=0.75),\n",
        "       A.OneOf([\n",
        "                A.MotionBlur(blur_limit=5),\n",
        "                A.MedianBlur(blur_limit=5),\n",
        "                A.Blur(blur_limit=5),\n",
        "                A.GaussNoise(var_limit=(5.0, 30.0)),\n",
        "                ], p=0.7),\n",
        "       A.OneOf([\n",
        "                A.OpticalDistortion(distort_limit=1.0),\n",
        "                A.GridDistortion(num_steps=5, distort_limit=1.),\n",
        "                A.ElasticTransform(alpha=3),\n",
        "                ], p=0.7),\n",
        "       A.CLAHE(clip_limit=4.0, p=0.7),\n",
        "       A.HueSaturationValue(hue_shift_limit=10, sat_shift_limit=20, val_shift_limit=10, p=0.5),\n",
        "       A.ShiftScaleRotate(shift_limit=0.1, scale_limit=0.1, rotate_limit=15, border_mode=0, p=0.85),\n",
        "       A.Resize(im_size, im_size),\n",
        "       A.Cutout(max_h_size=int(im_size * 0.375), max_w_size=int(im_size * 0.375), num_holes=1, p=0.7),\n",
        "       A.Normalize(mean = (0.7232643, 0.6180579, 0.56661755),std = (0.16529222, 0.1724447, 0.19304909))\n",
        "       ])\n",
        "  transforms_val = A.Compose(\n",
        "      [\n",
        "       A.SmallestMaxSize(max_size=160),\n",
        "       A.CenterCrop(height=128, width=128),\n",
        "       A.Resize(im_size, im_size),\n",
        "       A.Normalize(mean = (0.7232643, 0.6180579, 0.56661755),std = (0.16529222, 0.1724447, 0.19304909))\n",
        "       ])\n",
        "  return transforms_train, transforms_val"
      ]
    },
    {
      "cell_type": "markdown",
      "metadata": {
        "id": "pjAvyBoqPwPX"
      },
      "source": [
        "# Metrics"
      ]
    },
    {
      "cell_type": "code",
      "execution_count": null,
      "metadata": {
        "id": "cZrdXPyEP0zF"
      },
      "outputs": [],
      "source": [
        "from collections import defaultdict\n",
        "class MetricMonitor:\n",
        "  def __init__(self, float_precision=3):\n",
        "    self.float_precision = float_precision\n",
        "    self.reset()\n",
        "    \n",
        "  def reset(self):\n",
        "    self.metrics = defaultdict(lambda: {\"val\": 0, \"count\": 0, \"avg\": 0})\n",
        "\n",
        "  def update(self, metric_name, val):\n",
        "    metric = self.metrics[metric_name]\n",
        "\n",
        "    metric[\"val\"] += val\n",
        "    metric[\"count\"] += 1\n",
        "    metric[\"avg\"] = metric[\"val\"] / metric[\"count\"]\n",
        "\n",
        "  def get(self, metric_name):\n",
        "    return self.metrics.get(metric_name).get('avg')\n",
        "    \n",
        "  def __str__(self):\n",
        "    return \" | \".join(\n",
        "        [\"{metric_name}: {avg:.{float_precision}f}\".format(metric_name=metric_name,\n",
        "                                                           avg=metric[\"avg\"],\n",
        "                                                           float_precision=self.float_precision)\n",
        "        for (metric_name, metric) in self.metrics.items()])"
      ]
    },
    {
      "cell_type": "code",
      "execution_count": null,
      "metadata": {
        "id": "DaLaRWMaPvO2"
      },
      "outputs": [],
      "source": [
        "from sklearn.metrics import roc_auc_score\n",
        "from sklearn.metrics import recall_score\n",
        "from sklearn.metrics import f1_score\n",
        "from sklearn.metrics import roc_curve\n",
        "from sklearn.metrics import average_precision_score\n",
        "from sklearn.metrics import confusion_matrix\n",
        "import seaborn as sn\n",
        "\n",
        "threshold = 0.5\n",
        "\n",
        "def auc_score(outputs, targets):\n",
        "  # outputs = torch.sigmoid(outputs)\n",
        "  outputs = outputs.cpu().detach().numpy()\n",
        "  targets = targets.cpu().detach().numpy()\n",
        "  auc = roc_auc_score(targets, outputs)\n",
        "  return auc\n",
        "\n",
        "def auc_score_m(outputs, targets, multi_class='ovr'):\n",
        "  outputs = outputs.cpu()\n",
        "  outputs = nn.functional.softmax(outputs, dim=1)\n",
        "  outputs = outputs.detach().numpy()\n",
        "  targets = targets.cpu().detach().numpy()\n",
        "  auc = roc_auc_score(targets, outputs, multi_class=multi_class)\n",
        "  return auc\n",
        "\n",
        "def f1_score_(outputs, targets):\n",
        "  outputs = outputs >= threshold\n",
        "  # outputs = outputs >= 0.0\n",
        "  targets = targets == 1.0\n",
        "  outputs = outputs.cpu().detach().numpy()\n",
        "  targets = targets.cpu().detach().numpy()\n",
        "  f1 = f1_score(targets, outputs, average='weighted')\n",
        "  return f1\n",
        "\n",
        "def f1_score_m(outputs, targets):\n",
        "  outputs = outputs.cpu()\n",
        "  outputs = nn.functional.softmax(outputs, dim=1)\n",
        "  _, outputs = torch.max(outputs, dim = 1)  \n",
        "  outputs = outputs.detach().numpy()\n",
        "  targets = targets.cpu().detach().numpy()\n",
        "  f1 = f1_score(targets, outputs, average='weighted')\n",
        "  return f1\n",
        "\n",
        "def recall_scr(outputs, targets, pos_label = 1):\n",
        "  outputs = outputs >= threshold\n",
        "  # outputs = outputs >= 0.0\n",
        "  targets = targets == 1.0\n",
        "  outputs = outputs.cpu().detach().numpy()\n",
        "  targets = targets.cpu().detach().numpy()\n",
        "  recall = recall_score(targets, outputs, pos_label=pos_label)\n",
        "  return recall\n",
        "\n",
        "def preicision_score(outputs, targets):\n",
        "  outputs = outputs >= threshold\n",
        "  # outputs = outputs >= 0.0\n",
        "  targets = targets == 1.0\n",
        "  outputs = outputs.cpu().detach().numpy()\n",
        "  targets = targets.cpu().detach().numpy()\n",
        "  preicision = average_precision_score(targets, outputs)\n",
        "  return preicision\n",
        "\n",
        "def accuracy_score(outputs, targets):\n",
        "  # output = torch.sigmoid(outputs) >= 0.5\n",
        "  outputs = outputs >= threshold\n",
        "  # outputs = outputs >= 0.0\n",
        "  targets = targets == 1.0\n",
        "  return torch.true_divide((targets == outputs).sum(dim=0), outputs.size(0)).item()\n",
        "\n",
        "def accuracy_score_m(outputs, targets):\n",
        "    outputs = torch.log_softmax(outputs, dim = 1)\n",
        "    _, outputs = torch.max(outputs, dim = 1)    \n",
        "    preds = (outputs == targets).float()\n",
        "    acc = preds.sum() / len(preds)\n",
        "    return acc\n",
        "\n",
        "def get_lr(optimizer):\n",
        "    for param_group in optimizer.param_groups:\n",
        "        return param_group['lr']\n",
        "\n",
        "def save_roc_curve(outputs, targets, path, label, plot=False,pos_label=1):\n",
        "  outputs = outputs.cpu().detach().numpy()\n",
        "  targets = targets.cpu().detach().numpy()\n",
        "  false_positive_rate, true_positive_rate, thresholds = roc_curve(targets, outputs, pos_label=pos_label)\n",
        "  plt.plot(false_positive_rate[2],true_positive_rate[2],color=\"darkorange\",label=\"ROC curve (area = %0.2f)\" % roc_auc_score(targets, outputs))\n",
        "  plt.plot(false_positive_rate, true_positive_rate, lw=2, color='darkorange')\n",
        "  plt.plot([0, 1], [0, 1], color=\"navy\", lw=2, linestyle=\"--\")\n",
        "  plt.xlim([-0.05, 1.05])\n",
        "  plt.ylim([0.0, 1.05])\n",
        "  plt.savefig(f\"{path}/folds/{label}.png\")\n",
        "  plt.legend(loc=\"lower right\")\n",
        "  plt.title('Receiver operating characteristic ROC')\n",
        "  plt.show() if plot else plt.close()\n",
        "  plt.clf()\n",
        "\n",
        "def save_roc_curve_m(outputs, targets, path, label, pos_label, plot=False, multi_class='ovr'):\n",
        "  outputs = outputs.cpu()\n",
        "  outputs = nn.functional.softmax(outputs, dim=1)\n",
        "  _, outputs_ = torch.max(outputs, dim = 1)  \n",
        "  outputs = outputs.detach().numpy()\n",
        "  targets = targets.cpu().detach().numpy()\n",
        "  false_positive_rate, true_positive_rate, thresholds = roc_curve(targets, outputs_.detach().numpy(), pos_label=pos_label)\n",
        "  auc = roc_auc_score(targets, outputs, multi_class='ovr')\n",
        "  plt.plot(false_positive_rate[2],true_positive_rate[2],color=\"darkorange\",label=\"ROC curve (area = %0.2f)\" % auc)\n",
        "  plt.plot(false_positive_rate, true_positive_rate, lw=2, color='darkorange')\n",
        "  plt.plot([0, 1], [0, 1], color=\"navy\", lw=2, linestyle=\"--\")\n",
        "  plt.xlim([-0.05, 1.05])\n",
        "  plt.ylim([0.0, 1.05])\n",
        "  plt.savefig(f\"{path}/{label}.png\")\n",
        "  plt.legend(loc=\"lower right\")\n",
        "  plt.title('Receiver operating characteristic ROC')\n",
        "  plt.show() if plot else plt.close()\n",
        "  plt.clf()\n",
        "\n",
        "def save_roc_curve(outputs, targets, path, label, pos_label, plot=False, multi_class='ovr'):\n",
        "  outputs = outputs.cpu().detach().numpy()\n",
        "  targets = targets.cpu().detach().numpy()\n",
        "  false_positive_rate, true_positive_rate, thresholds = roc_curve(targets, outputs, pos_label=pos_label)\n",
        "  plt.plot(false_positive_rate[2],true_positive_rate[2],color=\"darkorange\",label=\"ROC curve (area = %0.2f)\" % roc_auc_score(targets, outputs, multi_class=multi_class))\n",
        "  plt.plot(false_positive_rate, true_positive_rate, lw=2, color='darkorange')\n",
        "  plt.plot([0, 1], [0, 1], color=\"navy\", lw=2, linestyle=\"--\")\n",
        "  plt.xlim([-0.05, 1.05])\n",
        "  plt.ylim([0.0, 1.05])\n",
        "  plt.savefig(f\"{path}/folds/{label}.png\")\n",
        "  plt.legend(loc=\"lower right\")\n",
        "  plt.title('Receiver operating characteristic ROC')\n",
        "  plt.show() if plot else plt.close()\n",
        "  plt.clf()\n",
        "\n",
        "def save_confusion_matrix(outputs, targets, path, label, classes=None, plot=False, percentage=True):\n",
        "  outputs = outputs.cpu().detach().numpy()\n",
        "  targets = targets.cpu().detach().numpy()\n",
        "  cf_matrix = confusion_matrix(targets, outputs)\n",
        "  df_cm = pd.DataFrame(cf_matrix/np.sum(cf_matrix) if percentage else cf_matrix, index = [i for i in classes], columns = [i for i in classes])\n",
        "  sn.heatmap(df_cm, annot=True, cmap='Blues')\n",
        "  plt.title(f'{label} Confusion Matrix')\n",
        "  plt.savefig(f'{path}/folds/{label}_cm.png')\n",
        "  plt.show() if plot else plt.close()\n",
        "  plt.clf()"
      ]
    },
    {
      "cell_type": "markdown",
      "metadata": {
        "id": "r6mps26qQECW"
      },
      "source": [
        "# Learning rate scheduler | Early stopping"
      ]
    },
    {
      "cell_type": "markdown",
      "metadata": {
        "id": "1DdCo3PXPfow"
      },
      "source": [
        "## Learning rate scheduler"
      ]
    },
    {
      "cell_type": "code",
      "execution_count": null,
      "metadata": {
        "id": "ePSbglMIPe2O"
      },
      "outputs": [],
      "source": [
        "from torch.optim.lr_scheduler import ReduceLROnPlateau\n",
        "class LRSchedulerPlateau():\n",
        "  def __init__(self, optimizer, patience_t=1, mode=\"min\", factor=0.8, min_lr=1e-7):\n",
        "    self.optimizer = optimizer\n",
        "    self.patience_t = patience_t\n",
        "    self.mode = mode\n",
        "    self.factor = factor\n",
        "    self.min_lr = min_lr\n",
        "    self.lr_scheduler = ReduceLROnPlateau( self.optimizer, mode='min', patience=self.patience_t, factor=self.factor, min_lr=self.min_lr, verbose=True)\n",
        "  def __call__(self, val_loss):\n",
        "    self.lr_scheduler.step(val_loss)"
      ]
    },
    {
      "cell_type": "markdown",
      "metadata": {
        "id": "ZpwSDFlWPmJr"
      },
      "source": [
        "## Early stopping"
      ]
    },
    {
      "cell_type": "code",
      "execution_count": null,
      "metadata": {
        "id": "o9vSE8aoPieE"
      },
      "outputs": [],
      "source": [
        "class EarlyStopping():\n",
        "  def __init__(self, patience=5, min_delta=0.0):\n",
        "    self.patience = patience\n",
        "    self.min_delta = min_delta\n",
        "    self.counter = 0\n",
        "    self.best_loss = None\n",
        "    self.early_stop = False\n",
        "  def __call__(self, val_loss):\n",
        "    if self.best_loss == None:\n",
        "      self.best_loss = val_loss\n",
        "    elif self.best_loss - val_loss > self.min_delta:\n",
        "      self.best_loss = val_loss\n",
        "      self.counter = 0\n",
        "    elif self.best_loss - val_loss < self.min_delta:\n",
        "      self.counter += 1\n",
        "      print(f\"INFO: Early stopping counter {self.counter} of {self.patience}\")\n",
        "    if self.counter >= self.patience:\n",
        "      print('INFO: Early stopping')\n",
        "      self.early_stop = True"
      ]
    },
    {
      "cell_type": "markdown",
      "metadata": {
        "id": "c1OH8ba4QNRv"
      },
      "source": [
        "# Model"
      ]
    },
    {
      "cell_type": "code",
      "execution_count": null,
      "metadata": {
        "id": "QAzoqLWaPLY8"
      },
      "outputs": [],
      "source": [
        "import timm\n",
        "import torch.nn as nn\n",
        "class MelanomaClassifier(nn.Module):\n",
        "    def __init__(self, model_arch, n_class, pretrained=False):\n",
        "        super().__init__()\n",
        "        self.model = timm.create_model(model_arch, pretrained=pretrained, num_classes = n_class)\n",
        "    def forward(self, x):\n",
        "        x = self.model(x)\n",
        "        return x\n",
        "    def get_classifier(self):\n",
        "        return self.model.get_classifier()\n",
        "    def fc(self):\n",
        "        return self.model.fc()"
      ]
    },
    {
      "cell_type": "markdown",
      "source": [
        "## Meta model"
      ],
      "metadata": {
        "id": "oaFM6OBIqzLi"
      }
    },
    {
      "cell_type": "code",
      "source": [
        "import timm\n",
        "import torch.nn as nn\n",
        "class MelanomaClassifierMeta(nn.Module):\n",
        "    def __init__(self, model_arch, n_class, pretrained=False, num_meta_inputs = 28):\n",
        "        super().__init__()\n",
        "        n_features = timm.create_model(model_arch, pretrained=pretrained, num_classes = n_class).get_classifier().in_features\n",
        "        self.model = timm.create_model(model_arch, pretrained=pretrained, num_classes = 0)\n",
        "        \n",
        "        # meta enconder\n",
        "        self.meta_model = nn.Sequential(\n",
        "            nn.Linear(num_meta_inputs, 512, bias=True),\n",
        "            nn.BatchNorm1d(512),\n",
        "            nn.Dropout(p=0.3),\n",
        "            nn.Linear(512, 128, bias=True),\n",
        "            nn.BatchNorm1d(128),\n",
        "            nn.ReLU(inplace=True),\n",
        "        )\n",
        "\n",
        "        # Backbone | head\n",
        "        #(64x512 and 28x128)\n",
        "        self.head = nn.Linear(n_features+128, n_class, bias=True)\n",
        "        \n",
        "    def forward(self, x, meta):\n",
        "        x = self.model(x)\n",
        "        # get meta\n",
        "        meta = self.meta_model(meta)\n",
        "        # concatenate both\n",
        "        z = torch.cat([x,meta],1)\n",
        "        # pass to backbone\n",
        "        z = self.head(z)\n",
        "        return z\n",
        "    def get_classifier(self):\n",
        "        return self.model.get_classifier()\n",
        "    def fc(self):\n",
        "        return self.model.fc()"
      ],
      "metadata": {
        "id": "1gxeuzQuq1me"
      },
      "execution_count": null,
      "outputs": []
    },
    {
      "cell_type": "code",
      "source": [
        "# model = MelanomaClassifierMeta('resnet18',n_class=1, pretrained=True)\n",
        "# output = model(torch.randn(64,3, 224,224), torch.randn(64,28))\n",
        "# output.shape"
      ],
      "metadata": {
        "id": "SOjAyrSWkotF"
      },
      "execution_count": null,
      "outputs": []
    },
    {
      "cell_type": "markdown",
      "source": [
        "# Focal loss"
      ],
      "metadata": {
        "id": "dBZYFLdV5p5r"
      }
    },
    {
      "cell_type": "code",
      "source": [
        "import torch\n",
        "import torch.nn as nn\n",
        "import torch.nn.functional as F\n",
        "\n",
        "class FocalLoss(nn.modules.loss._WeightedLoss):\n",
        "    def __init__(self, weight=None, gamma=2,reduction='mean'):\n",
        "        super(FocalLoss, self).__init__(weight,reduction=reduction)\n",
        "        self.gamma = gamma\n",
        "        self.weight = weight #weight parameter will act as the alpha parameter to balance class weights\n",
        "\n",
        "    def forward(self, input, target):\n",
        "\n",
        "        ce_loss = F.cross_entropy(input, target,reduction=self.reduction,weight=self.weight) \n",
        "        pt = torch.exp(-ce_loss)\n",
        "        focal_loss = ((1 - pt) ** self.gamma * ce_loss).mean()\n",
        "        return focal_loss"
      ],
      "metadata": {
        "id": "rN6q7Pk65rLM"
      },
      "execution_count": null,
      "outputs": []
    },
    {
      "cell_type": "code",
      "source": [
        "criterion = FocalLoss(weight=torch.tensor([0.2,1]),gamma=0.99)"
      ],
      "metadata": {
        "id": "7A-BeNxV5zYL"
      },
      "execution_count": null,
      "outputs": []
    },
    {
      "cell_type": "code",
      "source": [
        "loss = criterion(outputs, targets)"
      ],
      "metadata": {
        "id": "gs_Xzqw27FFW"
      },
      "execution_count": null,
      "outputs": []
    },
    {
      "cell_type": "markdown",
      "metadata": {
        "id": "RX57E_TqKfNz"
      },
      "source": [
        "# Train.py"
      ]
    },
    {
      "cell_type": "markdown",
      "metadata": {
        "id": "47Ye9FWAaSlx"
      },
      "source": [
        "## Definition of training and validation functions"
      ]
    },
    {
      "cell_type": "code",
      "execution_count": null,
      "metadata": {
        "id": "BTXu04utNKti"
      },
      "outputs": [],
      "source": [
        "from torch.utils.data import DataLoader\n",
        "\n",
        "def data_loader(df_train, df_valid, transform_tuple= (None,None), batch_size=None):\n",
        "  dataset = {'train': MelanomaDataset(df_train['path'], df_train['target'],transform=transform_tuple[0]),\n",
        "             'val': MelanomaDataset(df_valid['path'], df_valid['target'],transform=transform_tuple[1])}\n",
        "  train_loader_ = DataLoader(dataset['train'], batch_size=batch_size, shuffle=True, pin_memory=True)\n",
        "  val_loader_ = DataLoader(dataset['val'], batch_size=batch_size, pin_memory=True)\n",
        "  return train_loader_, val_loader_"
      ]
    },
    {
      "cell_type": "code",
      "source": [
        "train_columns = ['sex', 'age_approx', 'anatom_site_general_challenge']\n",
        "def data_loader_meta(df_train, df_valid, transform_tuple= (None,None), batch_size=None):\n",
        "  dataset = {'train': MelanomaDataset(df_train['path'], df_train[train_columns], df_train['target'],transform=transform_tuple[0]),\n",
        "             'val': MelanomaDataset(df_valid['path'], df_valid[train_columns], df_valid['target'],transform=transform_tuple[1])}\n",
        "  train_loader_ = DataLoader(dataset['train'], batch_size=batch_size, shuffle=True, pin_memory=True)\n",
        "  val_loader_ = DataLoader(dataset['val'], batch_size=batch_size, pin_memory=True)\n",
        "  return train_loader_, val_loader_"
      ],
      "metadata": {
        "id": "ZGJ3E_vNVXZE"
      },
      "execution_count": null,
      "outputs": []
    },
    {
      "cell_type": "code",
      "execution_count": null,
      "metadata": {
        "id": "xqDPvrWVP8ln"
      },
      "outputs": [],
      "source": [
        "from statistics import mean\n",
        "def fit(train_loader, model, criterion, optimizer, epoch, params):\n",
        "  metric_monitor = MetricMonitor()\n",
        "  model.train()\n",
        "  stream = tqdm(train_loader)\n",
        "\n",
        "  train_outputs = torch.tensor([]).to(params['device'])\n",
        "  train_targets = torch.tensor([]).to(params['device'])\n",
        "  train_loss = []\n",
        "\n",
        "  val_steps=0\n",
        "\n",
        "  for _, batch in enumerate(stream, start=1):\n",
        "    images, targets = batch\n",
        "    images = images.to(params[\"device\"], non_blocking=True)\n",
        "    targets = targets.to(params[\"device\"], non_blocking=True).long().squeeze()\n",
        "    outputs = model(images)\n",
        "    loss = criterion(outputs, targets)\n",
        "\n",
        "    train_outputs = torch.cat([train_outputs, outputs])\n",
        "    train_targets = torch.cat([train_targets, targets])\n",
        "    train_loss.append(loss.item())\n",
        "    \n",
        "    accuracy = accuracy_score_m(outputs, targets)\n",
        "    # f1 = f1_score_(outputs, targets)\n",
        "    metric_monitor.update(\"Loss\", loss.item())\n",
        "    metric_monitor.update(\"Accuracy\", accuracy)\n",
        "    # metric_monitor.update(\"F1\", f1)\n",
        "        \n",
        "    # try:\n",
        "    #   auc = auc_score_m(outputs, targets)\n",
        "    #   metric_monitor.update(\"AUC\", auc)\n",
        "    # except:\n",
        "    #   continue\n",
        "\n",
        "    optimizer.zero_grad()\n",
        "    loss.backward()\n",
        "    optimizer.step()\n",
        "    stream.set_description(\"Epoch: {epoch}. Train. {metric_monitor}\".format(epoch=epoch, metric_monitor=metric_monitor))\n",
        "    if val_steps==2:\n",
        "      break\n",
        "    val_steps+=1\n",
        "  accuracy = accuracy_score_m(train_outputs, train_targets)\n",
        "  # f1 = f1_score_(train_outputs, train_targets)   \n",
        "  # auc = auc_score_m(train_outputs, train_targets)\n",
        "  return mean(train_loss), accuracy, accuracy, accuracy"
      ]
    },
    {
      "cell_type": "code",
      "execution_count": null,
      "metadata": {
        "id": "HcuXbgqGQX3w"
      },
      "outputs": [],
      "source": [
        "def validate(val_loader, model, criterion, epoch, params):\n",
        "  metric_monitor = MetricMonitor()\n",
        "  model.eval()\n",
        "  stream = tqdm(val_loader)\n",
        "  val_outputs = torch.tensor([]).to(params['device'])\n",
        "  val_targets = torch.tensor([]).to(params['device'])\n",
        "  val_loss = []\n",
        "  val_steps = 0\n",
        "  with torch.no_grad():\n",
        "    for i, batch in enumerate(stream, start=1):\n",
        "      images, target = batch\n",
        "      images = images.to(params[\"device\"], non_blocking=True)\n",
        "      targets = target.to(params[\"device\"], non_blocking=True).long().squeeze()\n",
        "      outputs = model(images)\n",
        "      loss = criterion(outputs, targets)\n",
        "      \n",
        "      val_outputs = torch.cat([val_outputs, outputs])\n",
        "      val_targets = torch.cat([val_targets, targets])\n",
        "      val_loss.append(loss.item())\n",
        "      \n",
        "      accuracy = accuracy_score_m(outputs, targets)\n",
        "      # f1 = f1_score_(outputs, targets)\n",
        "      metric_monitor.update(\"Loss\", loss.item())\n",
        "      metric_monitor.update(\"Accuracy\", accuracy)\n",
        "      # metric_monitor.update(\"F1\", f1)\n",
        "      # try:\n",
        "      #   auc = auc_score_m(outputs, targets, multi_class='ovr')\n",
        "      #   metric_monitor.update(\"AUC\", auc)\n",
        "      # except:\n",
        "      #   continue\n",
        "      stream.set_description(\"Epoch: {epoch}. Validation. {metric_monitor}\".format(epoch=epoch, metric_monitor=metric_monitor))\n",
        "      if val_steps==2:\n",
        "        break\n",
        "      val_steps+=1\n",
        "  accuracy = accuracy_score_m(val_outputs, val_targets)\n",
        "  # f1 = f1_score_(val_outputs, val_targets)    \n",
        "  # auc = auc_score_m(val_outputs, val_targets, multi_class='ovr')\n",
        "  return mean(val_loss), accuracy, accuracy, accuracy"
      ]
    },
    {
      "cell_type": "markdown",
      "source": [
        "### Meta fit"
      ],
      "metadata": {
        "id": "e5vY4I7UvmyS"
      }
    },
    {
      "cell_type": "code",
      "source": [
        "from statistics import mean\n",
        "def fit(train_loader, model, criterion, optimizer, epoch, params):\n",
        "  metric_monitor = MetricMonitor()\n",
        "  model.train()\n",
        "  stream = tqdm(train_loader)\n",
        "\n",
        "  train_outputs = torch.tensor([]).to(params['device'])\n",
        "  train_targets = torch.tensor([]).to(params['device'])\n",
        "  train_loss = []\n",
        "\n",
        "  val_steps=0\n",
        "\n",
        "  for _, batch in enumerate(stream, start=1):\n",
        "    images, meta, targets = batch\n",
        "    images = images.to(params[\"device\"], non_blocking=True)\n",
        "    targets = targets.to(params[\"device\"], non_blocking=True).float().view(-1, 1)\n",
        "\n",
        "    meta = meta.to(params[\"device\"], non_blocking=True).float()\n",
        "\n",
        "    outputs = model(images, meta)\n",
        "    loss = criterion(outputs, targets)\n",
        "\n",
        "    train_outputs = torch.cat([train_outputs, outputs])\n",
        "    train_targets = torch.cat([train_targets, targets])\n",
        "    train_loss.append(loss.item())\n",
        "    \n",
        "    accuracy = accuracy_score(outputs, targets)\n",
        "    f1 = f1_score_(outputs, targets)\n",
        "    metric_monitor.update(\"Loss\", loss.item())\n",
        "    metric_monitor.update(\"Accuracy\", accuracy)\n",
        "    metric_monitor.update(\"F1\", f1)\n",
        "        \n",
        "    try:\n",
        "      auc = auc_score(outputs, targets)\n",
        "      metric_monitor.update(\"AUC\", auc)\n",
        "    except:\n",
        "      continue\n",
        "\n",
        "    stream.set_description(\"Epoch: {epoch}. Train. {metric_monitor}\".format(epoch=epoch, metric_monitor=metric_monitor))\n",
        "    optimizer.zero_grad()\n",
        "    loss.backward()\n",
        "    optimizer.step()\n",
        "    if val_steps==5:\n",
        "      break\n",
        "    val_steps+=1\n",
        "  accuracy = accuracy_score_m(train_outputs, train_targets)\n",
        "  f1 = f1_score_(train_outputs, train_targets)   \n",
        "  auc = auc_score(train_outputs, train_targets)\n",
        "  return mean(train_loss), accuracy, f1, auc"
      ],
      "metadata": {
        "id": "Q8ESzjIUvokL"
      },
      "execution_count": null,
      "outputs": []
    },
    {
      "cell_type": "code",
      "source": [
        "def validate(val_loader, model, criterion, epoch, params):\n",
        "  metric_monitor = MetricMonitor()\n",
        "  model.eval()\n",
        "  stream = tqdm(val_loader)\n",
        "  val_outputs = torch.tensor([]).to(params['device'])\n",
        "  val_targets = torch.tensor([]).to(params['device'])\n",
        "  val_loss = []\n",
        "  val_steps = 0\n",
        "  with torch.no_grad():\n",
        "    for i, batch in enumerate(stream, start=1):\n",
        "      images, meta, target = batch\n",
        "      images = images.to(params[\"device\"], non_blocking=True)\n",
        "      targets = target.to(params[\"device\"], non_blocking=True).float().view(-1, 1)\n",
        "      \n",
        "      meta = meta.to(params[\"device\"], non_blocking=True).float()\n",
        "\n",
        "      outputs = model(images, meta)\n",
        "      loss = criterion(outputs, targets)\n",
        "      \n",
        "      val_outputs = torch.cat([val_outputs, outputs])\n",
        "      val_targets = torch.cat([val_targets, targets])\n",
        "      val_loss.append(loss.item())\n",
        "      \n",
        "      accuracy = accuracy_score(outputs, targets)\n",
        "      f1 = f1_score_(outputs, targets)\n",
        "      metric_monitor.update(\"Loss\", loss.item())\n",
        "      metric_monitor.update(\"Accuracy\", accuracy)\n",
        "      metric_monitor.update(\"F1\", f1)\n",
        "      try:\n",
        "        auc = auc_score(outputs, targets)\n",
        "        metric_monitor.update(\"AUC\", auc)\n",
        "      except:\n",
        "        continue\n",
        "      stream.set_description(\"Epoch: {epoch}. Validation. {metric_monitor}\".format(epoch=epoch, metric_monitor=metric_monitor))\n",
        "      if val_steps==5:\n",
        "        break\n",
        "      val_steps+=1\n",
        "  accuracy = accuracy_score(val_outputs, val_targets)\n",
        "  f1 = f1_score_(val_outputs, val_targets)    \n",
        "  auc = auc_score(val_outputs, val_targets)\n",
        "  return mean(val_loss), accuracy, f1, auc"
      ],
      "metadata": {
        "id": "3jbDLsX7wR-8"
      },
      "execution_count": null,
      "outputs": []
    },
    {
      "cell_type": "markdown",
      "metadata": {
        "id": "OXWrPcg-iKqm"
      },
      "source": [
        "## Hold-out fit"
      ]
    },
    {
      "cell_type": "code",
      "execution_count": null,
      "metadata": {
        "id": "chp9WOjFkZOU"
      },
      "outputs": [],
      "source": [
        "from torch.utils.data import DataLoader\n",
        "\n",
        "aug_transform = transform_aug(params['im_size']) if params['augmentation'] else (None,None)\n",
        "\n",
        "dataset = {\n",
        "    'train': MelanomaDataset(train['path'], train['target'],transform=aug_transform[0]),\n",
        "    'val': MelanomaDataset(val['path'], val['target'],transform=aug_transform[1])\n",
        "}\n",
        "\n",
        "train_loader = DataLoader(dataset['train'], batch_size=params['batch_size'], shuffle=True, pin_memory=True)\n",
        "val_loader = DataLoader(dataset['val'], batch_size=params['batch_size'], pin_memory=True)\n",
        "\n",
        "# images, labels = next(iter(train_loader))\n",
        "# images.shape, labels.shape"
      ]
    },
    {
      "cell_type": "code",
      "source": [
        "def save_roc_curve_m(outputs, targets, path, label, plot=False,pos_label=3, multi_class='ovr'):\n",
        "  outputs = outputs.cpu()\n",
        "  outputs = nn.functional.softmax(outputs, dim=1)\n",
        "  _, outputs_ = torch.max(outputs, dim = 1)  \n",
        "  outputs = outputs.detach().numpy()\n",
        "  targets = targets.cpu().detach().numpy()\n",
        "  false_positive_rate, true_positive_rate, thresholds = roc_curve(t, o_.detach().numpy(), pos_label=pos_label)\n",
        "  auc = roc_auc_score(targets, outputs, multi_class='ovr')\n",
        "  plt.plot(false_positive_rate[2],true_positive_rate[2],color=\"darkorange\",label=\"ROC curve (area = %0.2f)\" % auc)\n",
        "  plt.plot(false_positive_rate, true_positive_rate, lw=2, color='darkorange')\n",
        "  plt.plot([0, 1], [0, 1], color=\"navy\", lw=2, linestyle=\"--\")\n",
        "  plt.xlim([-0.05, 1.05])\n",
        "  plt.ylim([0.0, 1.05])\n",
        "  plt.savefig(f\"{path}/{label}.png\")\n",
        "  plt.legend(loc=\"lower right\")\n",
        "  plt.title('Receiver operating characteristic ROC')\n",
        "  plt.show() if plot else plt.close()\n",
        "  plt.clf()"
      ],
      "metadata": {
        "id": "8LIMdT4xgj31"
      },
      "execution_count": null,
      "outputs": []
    },
    {
      "cell_type": "code",
      "source": [
        "save_roc_curve_m(train_outputs, train_targets, path='.', label='roc',plot=True, pos_label=3)"
      ],
      "metadata": {
        "colab": {
          "base_uri": "https://localhost:8080/",
          "height": 298
        },
        "id": "M9Nwa_jYZD1E",
        "outputId": "33a8af78-5e20-4721-8d67-e585d95206ac"
      },
      "execution_count": null,
      "outputs": [
        {
          "output_type": "display_data",
          "data": {
            "text/plain": [
              "<Figure size 432x288 with 1 Axes>"
            ],
            "image/png": "[encoded data removed]"
          },
          "metadata": {
            "needs_background": "light"
          }
        },
        {
          "output_type": "display_data",
          "data": {
            "text/plain": [
              "<Figure size 432x288 with 0 Axes>"
            ]
          },
          "metadata": {}
        }
      ]
    },
    {
      "cell_type": "markdown",
      "source": [
        "## Metadata"
      ],
      "metadata": {
        "id": "pbMA_XXafYzH"
      }
    },
    {
      "cell_type": "code",
      "source": [
        "from torch.utils.data import DataLoader\n",
        "\n",
        "aug_transform = transform_aug(params['im_size']) if params['augmentation'] else (None,None)\n",
        "\n",
        "train_columns = ['sex', 'age_approx', 'anatom_site_general_challenge']\n",
        "\n",
        "dataset = {\n",
        "    'train': MelanomaDatasetMeta(train['path'], train[train_columns], train['target'], transform=aug_transform[0]),\n",
        "    'val': MelanomaDatasetMeta(val['path'], val[train_columns], val['target'], transform=aug_transform[1])\n",
        "}\n",
        "\n",
        "train_loader = DataLoader(dataset['train'], batch_size=params['batch_size'], shuffle=True, pin_memory=True)\n",
        "val_loader = DataLoader(dataset['val'], batch_size=params['batch_size'], pin_memory=True)\n",
        "\n",
        "# images, meta, labels = next(iter(train_loader))\n",
        "# images.shape, meta.shape, labels.shape"
      ],
      "metadata": {
        "id": "VPcI2-TSfYDn"
      },
      "execution_count": null,
      "outputs": []
    },
    {
      "cell_type": "markdown",
      "source": [
        "# Fit"
      ],
      "metadata": {
        "id": "erUIWzJ8pAKB"
      }
    },
    {
      "cell_type": "code",
      "execution_count": null,
      "metadata": {
        "id": "Z7RfJK4zQgyR"
      },
      "outputs": [],
      "source": [
        "from tqdm import tqdm\n",
        "import time\n",
        "\n",
        "from timm.optim import AdamP\n",
        "from timm.loss import BinaryCrossEntropy\n",
        "\n",
        "train_loss, train_acc, train_f1, train_auc, val_loss, val_acc, val_f1, val_auc  = [], [], [], [], [], [], [], []\n",
        "fit_lr = []\n",
        "start = time.time()\n",
        "best_=0\n",
        "\n",
        "model = MelanomaClassifier(params['model'],n_class=4,pretrained=True)\n",
        "# model = MelanomaClassifierMeta(params['model'],n_class=1,pretrained=True)\n",
        "optimizer = AdamP(model.parameters(), lr=params['lr'])\n",
        "# criterion = nn.BCEWithLogitsLoss()\n",
        "criterion = nn.CrossEntropyLoss()\n",
        "lr_scheduler = LRSchedulerPlateau(optimizer)\n",
        "early_stopping = EarlyStopping()\n",
        "\n",
        "model.to(params['device'])\n",
        "\n",
        "for epoch in range(1, params[\"epochs\"] + 1):\n",
        "  train_epoch_loss, train_epoch_acc, train_epoch_f1, train_epoch_auc = fit(train_loader, model, criterion, optimizer, epoch, params)\n",
        "  val_epoch_loss, val_epoch_acc, val_epoch_f1, val_epoch_auc = validate(val_loader, model, criterion, epoch, params) \n",
        "  train_loss.append(train_epoch_loss);train_acc.append(train_epoch_acc);train_f1.append(train_epoch_f1);train_auc.append(train_epoch_auc)\n",
        "  val_loss.append(val_epoch_loss);val_acc.append(val_epoch_acc);val_f1.append(val_epoch_f1);val_auc.append(val_epoch_auc)\n",
        "  if val_epoch_auc > best_:\n",
        "    best_ = val_epoch_auc\n",
        "    aug = 'aug' if params['augmentation'] else 'no_aug'\n",
        "    torch.save(model, f'{PATH}/splits/{params[\"model\"]}_{aug}.pth')\n",
        "    print(f\"Saving current best model: {best_:.3f}\\n\")\n",
        "\n",
        "  if params['lr_scheduler']:\n",
        "    lr_scheduler(val_epoch_loss)\n",
        "  if params['early_stopping']:\n",
        "    early_stopping(val_epoch_loss)\n",
        "    if early_stopping.early_stop:\n",
        "      break\n",
        "  lr_ = get_lr(optimizer)\n",
        "  fit_lr.append(lr_)\n",
        "  print('learning rate:',lr_)\n",
        "end = time.time()\n",
        "print(f\"Training time: {(end-start)/60:.3f} minutes\")"
      ]
    },
    {
      "cell_type": "code",
      "source": [
        "metrics = [(train_loss,val_loss), (train_acc,val_acc), (train_f1,val_f1), (train_auc,val_auc)]\n",
        "names = ['loss', 'accuracy', 'f1', 'auc']\n",
        "save_metrics(metrics, names, path=PATH, plot=False, mode='splits')\n",
        "save_epoch_lr(fit_lr, lr_label= f'learning rate', path=PATH, plot=False, mode='splits')"
      ],
      "metadata": {
        "id": "BXOxD_mYCcYU"
      },
      "execution_count": null,
      "outputs": []
    },
    {
      "cell_type": "markdown",
      "metadata": {
        "id": "0jvPCLTnRBkx"
      },
      "source": [
        "# Define visuals"
      ]
    },
    {
      "cell_type": "code",
      "execution_count": null,
      "metadata": {
        "id": "vmQkap0zl0FX"
      },
      "outputs": [],
      "source": [
        "import matplotlib.pyplot as plt\n",
        "\n",
        "def save_epoch_lr(lr_list, lr_label, path, plot = False, mode='folds'):\n",
        "    plt.figure(figsize=(7, 4))\n",
        "    plt.plot(lr_list, color='red', label=lr_label)\n",
        "    plt.xlabel('epochs')\n",
        "    plt.ylabel(lr_label)\n",
        "    plt.legend()\n",
        "    plt.savefig(f\"{path}/{mode}/{lr_label}.png\")\n",
        "    plt.show() if plot else plt.close()\n",
        "    "
      ]
    },
    {
      "cell_type": "code",
      "execution_count": null,
      "metadata": {
        "id": "0LPJ19COsKGz"
      },
      "outputs": [],
      "source": [
        "import matplotlib.pyplot as plt\n",
        "\n",
        "def save_metrics(metric_list, labels_list, path, fold=None, plot=False, mode='folds'):\n",
        "  for i in range(len(labels_list)):\n",
        "    plt.figure(figsize=(7, 4))\n",
        "    plt.plot(metric_list[i][0], color='green', label=f'train {labels_list[i]}')\n",
        "    plt.plot(metric_list[i][1], color='orange', label=f'validataion {labels_list[i]}')\n",
        "    plt.xlabel('epochs')\n",
        "    plt.ylabel(labels_list[i])\n",
        "    plt.legend()\n",
        "    if mode=='folds':\n",
        "      plt.savefig(f\"{path}/{mode}/fold{fold}_{labels_list[i]}.png\")\n",
        "    else:\n",
        "      plt.savefig(f\"{path}/{mode}/{labels_list[i]}.png\")\n",
        "    plt.show() if plot else plt.close()"
      ]
    },
    {
      "cell_type": "markdown",
      "metadata": {
        "id": "Nx5bjNoMsMY8"
      },
      "source": [
        "## Examples"
      ]
    },
    {
      "cell_type": "code",
      "execution_count": null,
      "metadata": {
        "id": "4twPmAEORC-x"
      },
      "outputs": [],
      "source": [
        "import matplotlib.pyplot as plt\n",
        "\n",
        "lr_label= 'learning rate'\n",
        "plt.figure(figsize=(7, 4))\n",
        "plt.plot(fit_lr, color='red', label=lr_label)\n",
        "plt.xlabel('epochs')\n",
        "plt.ylabel(lr_label)\n",
        "plt.legend()\n",
        "plt.savefig(f\"./{lr_label}.png\")\n",
        "plt.show()"
      ]
    },
    {
      "cell_type": "code",
      "execution_count": null,
      "metadata": {
        "id": "lqwO-naCRDwp"
      },
      "outputs": [],
      "source": [
        "import matplotlib.pyplot as plt\n",
        "\n",
        "metrics = [(train_loss,val_loss), (train_acc,val_acc), (train_f1,val_f1), (train_auc,val_auc)]\n",
        "names = ['loss', 'accuracy', 'f1', 'auc']\n",
        "for i in range(len(names)):\n",
        "  plt.figure(figsize=(7, 4))\n",
        "  plt.plot(metrics[i][0], color='green', label=f'train {names[i]}')\n",
        "  plt.plot(metrics[i][1], color='orange', label=f'validataion {names[i]}')\n",
        "  plt.xlabel('epochs')\n",
        "  plt.ylabel(names[i])\n",
        "  plt.legend()\n",
        "  plt.savefig(f\"./{names[i]}.png\")\n",
        "  plt.show()"
      ]
    },
    {
      "cell_type": "markdown",
      "metadata": {
        "id": "15Y_tZjhiX-s"
      },
      "source": [
        "## Kfold fit"
      ]
    },
    {
      "cell_type": "markdown",
      "metadata": {
        "id": "9cuNQGeDM3-i"
      },
      "source": [
        "#### Define function to extract folds from training data"
      ]
    },
    {
      "cell_type": "code",
      "execution_count": null,
      "metadata": {
        "id": "lFCPqoNpkUHi"
      },
      "outputs": [],
      "source": [
        "def get_folds(df, fold):\n",
        "  '''\n",
        "  Return training and validation dataframe for specific fold\n",
        "  df: Whole training + validation dataset\n",
        "  fold: Specific fold index\n",
        "  '''\n",
        "  df_train = df[df.kfold != fold].reset_index(drop=True)\n",
        "  df_valid = df[df.kfold == fold].reset_index(drop=True)\n",
        "  return df_train, df_valid"
      ]
    },
    {
      "cell_type": "code",
      "execution_count": null,
      "metadata": {
        "id": "EZzHsjsniXVf"
      },
      "outputs": [],
      "source": [
        "from tqdm import tqdm\n",
        "import time\n",
        "\n",
        "\n",
        "from timm.optim import AdamP\n",
        "from timm.loss import BinaryCrossEntropy\n",
        "\n",
        "train_loss, train_acc, train_f1, train_auc, val_loss, val_acc, val_f1, val_auc  = [], [], [], [], [], [], [], []\n",
        "start = time.time()\n",
        "\n",
        "aug_transform = transform_aug(params['im_size']) if params['augmentation'] else (None,None)\n",
        "\n",
        "for fold in range(params['folds']):\n",
        "  best_ = 0\n",
        "  fit_lr = []\n",
        "  model = MelanomaClassifier(params['model'],n_class=1,pretrained=True)\n",
        "  model.to(params['device'])\n",
        "  optimizer = AdamP(model.parameters(), lr=params['lr'])\n",
        "  criterion = nn.BCEWithLogitsLoss()\n",
        "  lr_scheduler = LRSchedulerPlateau(optimizer)\n",
        "  early_stopping = EarlyStopping()\n",
        "  train_fold, val_fold = get_folds(train,fold)\n",
        "  train_loader, val_loader = data_loader(train_fold, val_fold, transform_tuple= aug_transform, batch_size=params['batch_size'])\n",
        "  for epoch in range(1, params[\"epochs\"] + 1):\n",
        "    lr_ = get_lr(optimizer)\n",
        "    fit_lr.append(lr_)\n",
        "    print('\\nLearning rate:',lr_)\n",
        "\n",
        "    train_epoch_loss, train_epoch_acc, train_epoch_f1, train_epoch_auc = fit(train_loader, model, criterion, optimizer, epoch, params)\n",
        "    print(f'\\nOverall Training. Loss: {train_epoch_loss:.3f}, Accuracy: {train_epoch_acc:.3f}, F1: {train_epoch_f1:.3f}, AUC: {train_epoch_auc:.3f}\\n') \n",
        "    val_epoch_loss, val_epoch_acc, val_epoch_f1, val_epoch_auc = validate(val_loader, model, criterion, epoch, params)\n",
        "    print(f'\\nOverall Validation. Loss: {val_epoch_loss:.3f}, Accuracy: {val_epoch_acc:.3f}, F1: {val_epoch_f1:.3f}, AUC: {val_epoch_auc:.3f}\\n')   \n",
        "    train_loss.append(train_epoch_loss);train_acc.append(train_epoch_acc);train_f1.append(train_epoch_f1);train_auc.append(train_epoch_auc)\n",
        "    val_loss.append(val_epoch_loss);val_acc.append(val_epoch_acc);val_f1.append(val_epoch_f1);val_auc.append(val_epoch_auc)\n",
        "    \n",
        "    if val_epoch_auc > best_:\n",
        "      best_ = val_epoch_auc\n",
        "      aug = 'aug' if params['augmentation'] else 'no_aug'\n",
        "      torch.save(model, f'{PATH}/folds/fold{fold+1}_{params[\"model\"]}_{aug}.pth')\n",
        "      print(f\"Saving current best model for fold {fold+1}: {best_:.3f}\\n\")\n",
        "\n",
        "    if params['lr_scheduler']:\n",
        "      lr_scheduler(val_epoch_loss)\n",
        "    if params['early_stopping']:\n",
        "      early_stopping(val_epoch_loss)\n",
        "      if early_stopping.early_stop:\n",
        "        break\n",
        "    if epoch ==5:\n",
        "      break\n",
        "  metrics = [(train_loss,val_loss), (train_acc,val_acc), (train_f1,val_f1), (train_auc,val_auc)]\n",
        "  names = ['loss', 'accuracy', 'f1', 'auc']\n",
        "  save_metrics(metrics, names, fold=fold+1, path=PATH, plot=False)\n",
        "  save_epoch_lr(fit_lr, lr_label= f'Fold{fold+1}_learning rate', path=PATH, plot=False)\n",
        "\n",
        "end = time.time()\n",
        "print(f\"Training time: {(end-start)/60:.3f} minutes\")"
      ]
    },
    {
      "cell_type": "markdown",
      "metadata": {
        "id": "TIYfeSZj92ew"
      },
      "source": [
        "# Show batch"
      ]
    },
    {
      "cell_type": "code",
      "execution_count": null,
      "metadata": {
        "id": "id-lHyp_NM2p"
      },
      "outputs": [],
      "source": [
        "def denormalize(images, means, stds):\n",
        "    means = torch.tensor(means).reshape(1, 3, 1, 1)\n",
        "    stds = torch.tensor(stds).reshape(1, 3, 1, 1)\n",
        "    return images * stds + means"
      ]
    },
    {
      "cell_type": "code",
      "execution_count": null,
      "metadata": {
        "id": "ngPFEcS19qKO"
      },
      "outputs": [],
      "source": [
        "from torchvision.utils import make_grid\n",
        "import matplotlib.pyplot as plt\n",
        "def show_batch(data_loader, denormalize_=False, train_batch=True):\n",
        "    for batch in data_loader:\n",
        "      if train_batch:\n",
        "        images, _ = batch\n",
        "      else:\n",
        "        images = batch \n",
        "      fig, ax = plt.subplots(figsize=(16, 8))\n",
        "      ax.set_xticks([]); ax.set_yticks([])\n",
        "      if denormalize_:\n",
        "        denorm_images = denormalize(images, mean, std)\n",
        "        images = denorm_images\n",
        "      ax.imshow(make_grid(images, nrow=8).permute(1, 2, 0))\n",
        "      break"
      ]
    },
    {
      "cell_type": "markdown",
      "source": [
        "## Meta show_batch"
      ],
      "metadata": {
        "id": "cDBtTx3AdOX6"
      }
    },
    {
      "cell_type": "code",
      "source": [
        "from torchvision.utils import make_grid\n",
        "import matplotlib.pyplot as plt\n",
        "def show_batch_meta(data_loader, denormalize_=False, train_batch=True):\n",
        "    for batch in data_loader:\n",
        "      if train_batch:\n",
        "        images, _, _ = batch\n",
        "      else:\n",
        "        images, _ = batch \n",
        "      fig, ax = plt.subplots(figsize=(16, 8))\n",
        "      ax.set_xticks([]); ax.set_yticks([])\n",
        "      if denormalize_:\n",
        "        denorm_images = denormalize(images, mean, std)\n",
        "        images = denorm_images\n",
        "      ax.imshow(make_grid(images, nrow=8).permute(1, 2, 0))\n",
        "      break"
      ],
      "metadata": {
        "id": "TmjEgsGJdL88"
      },
      "execution_count": null,
      "outputs": []
    },
    {
      "cell_type": "code",
      "source": [
        "from torch.utils.data import DataLoader\n",
        "\n",
        "aug_transform = transform_aug(params['im_size']) if params['augmentation'] else (None,None)\n",
        "\n",
        "train_columns = ['sex', 'age_approx', 'anatom_site_general_challenge']\n",
        "\n",
        "dataset = {\n",
        "    'train': MelanomaDataset(train['path'], train[train_columns], train['target'], transform=aug_transform[0]),\n",
        "    'val': MelanomaDataset(val['path'], val[train_columns], val['target'], transform=aug_transform[1])\n",
        "}\n",
        "\n",
        "train_loader = DataLoader(dataset['train'], batch_size=params['batch_size'], shuffle=True, pin_memory=True)\n",
        "val_loader = DataLoader(dataset['val'], batch_size=params['batch_size'], pin_memory=True)\n",
        "\n",
        "images, meta, labels = next(iter(train_loader))\n",
        "images.shape, meta.shape, labels.shape\n",
        "# show_batch_meta(train_loader)"
      ],
      "metadata": {
        "id": "53mt217rfL4n"
      },
      "execution_count": null,
      "outputs": []
    },
    {
      "cell_type": "markdown",
      "source": [
        "## Hold-out split visuals"
      ],
      "metadata": {
        "id": "wd5tBX8x04Cl"
      }
    },
    {
      "cell_type": "code",
      "source": [
        "aug_transform = transform_aug(params['im_size'])\n",
        "\n",
        "train_loader, val_loader = data_loader(train, val, transform_tuple= aug_transform, batch_size= params['batch_size'])\n",
        "show_batch(train_loader, denormalize_ = True)\n",
        "# show_batch(val_loader, denormalize_ = True)"
      ],
      "metadata": {
        "id": "s59oJXFJ08rO"
      },
      "execution_count": null,
      "outputs": []
    },
    {
      "cell_type": "markdown",
      "source": [
        "## Folds visuals"
      ],
      "metadata": {
        "id": "lh2K9KUl01bD"
      }
    },
    {
      "cell_type": "code",
      "execution_count": null,
      "metadata": {
        "id": "FLB4W6Mzmk5v"
      },
      "outputs": [],
      "source": [
        "# aug_transform = transform_aug(params['im_size'])\n",
        "\n",
        "# for fold in range(KFOLD):\n",
        "#   train_fold, val_fold = get_folds(train,fold)\n",
        "#   train_loader, val_loader = data_loader(train_fold, val_fold, transform_tuple= aug_transform, batch_size= params['batch_size'])\n",
        "#   images, labels = next(iter(train_loader))\n",
        "#   show_batch(train_loader, denormalize_ = True)\n",
        "#   show_batch(val_loader, denormalize_ = True)\n",
        "  "
      ]
    },
    {
      "cell_type": "code",
      "execution_count": null,
      "metadata": {
        "id": "6GeFZlH-LXS6"
      },
      "outputs": [],
      "source": [
        "# show_batch(train_loader, denormalize_ = True)"
      ]
    },
    {
      "cell_type": "markdown",
      "metadata": {
        "id": "m3R80MNGRH5J"
      },
      "source": [
        "# Test"
      ]
    },
    {
      "cell_type": "markdown",
      "source": [
        "## Load Test csv"
      ],
      "metadata": {
        "id": "iSV8GOX5KZ50"
      }
    },
    {
      "cell_type": "code",
      "source": [
        "test_csv = f'{PATH}/test_path.csv'\n",
        "test = pd.read_csv(test_csv)\n",
        "test.shape"
      ],
      "metadata": {
        "id": "v7xVDqp64OZJ"
      },
      "execution_count": null,
      "outputs": []
    },
    {
      "cell_type": "code",
      "execution_count": null,
      "metadata": {
        "id": "ZU3EnmU4RIjk"
      },
      "outputs": [],
      "source": [
        "from torch.utils.data import DataLoader\n",
        "\n",
        "test_dataset = MelanomaDataset(test['path'], train=False)\n",
        "test_loader = DataLoader(test_dataset, batch_size=params['batch_size'])\n",
        "images = next(iter(test_loader))\n",
        "images.shape"
      ]
    },
    {
      "cell_type": "markdown",
      "source": [
        "### Meta"
      ],
      "metadata": {
        "id": "UVtxuIJrTSLa"
      }
    },
    {
      "cell_type": "code",
      "source": [
        "test_csv = f'{PATH}/test_meta.csv'\n",
        "test = pd.read_csv(test_csv)\n",
        "test.shape\n",
        "test = test.astype({\"age_approx\": 'str'})\n",
        "\n",
        "test.rename(columns={'anatom_site_general':'anatom_site_general_challenge'}, inplace=True)"
      ],
      "metadata": {
        "id": "7NOfTSupTUoT"
      },
      "execution_count": null,
      "outputs": []
    },
    {
      "cell_type": "code",
      "source": [
        "from torch.utils.data import DataLoader\n",
        "test_columns = ['sex', 'age_approx', 'anatom_site_general_challenge']\n",
        "\n",
        "test_dataset = MelanomaDatasetMeta(test['path'], test[test_columns], train=False)\n",
        "test_loader = DataLoader(test_dataset, batch_size=params['batch_size'], pin_memory=True)\n",
        "# images, meta = next(iter(test_loader))\n",
        "# images.shape, meta.shape\n",
        "# show_batch_meta(test_loader, train_batch=False)"
      ],
      "metadata": {
        "id": "k3WOt1KPUoQG"
      },
      "execution_count": null,
      "outputs": []
    },
    {
      "cell_type": "code",
      "source": [
        "import pandas as pd\n",
        "sub = f'{PATH}/submission.csv'\n",
        "\n",
        "submission = pd.read_csv(sub)"
      ],
      "metadata": {
        "id": "SzFWrauxAIJG"
      },
      "execution_count": null,
      "outputs": []
    },
    {
      "cell_type": "code",
      "source": [
        "out = submission.target.to_frame()\n",
        "out = torch.tensor(out.target.values)\n",
        "out = torch.sigmoid(out)\n",
        "out"
      ],
      "metadata": {
        "id": "tGFKKGP0ANYu"
      },
      "execution_count": null,
      "outputs": []
    },
    {
      "cell_type": "code",
      "source": [
        "submission"
      ],
      "metadata": {
        "id": "bQtgshxXBVH0"
      },
      "execution_count": null,
      "outputs": []
    },
    {
      "cell_type": "markdown",
      "source": [
        "## Hold-out split"
      ],
      "metadata": {
        "id": "JFrV-9nshk3w"
      }
    },
    {
      "cell_type": "code",
      "execution_count": null,
      "metadata": {
        "id": "cNXTCss5RMBx"
      },
      "outputs": [],
      "source": [
        "from tqdm import tqdm\n",
        "from sklearn.metrics import classification_report, confusion_matrix\n",
        "import time\n",
        "start = time.time()\n",
        "\n",
        "PATH = params['path']\n",
        "aug = 'aug' if params['augmentation'] else 'no_aug'\n",
        "model_name=params['model']\n",
        "\n",
        "model = torch.load(f'{PATH}/splits/{model_name}_{aug}.pth',map_location=torch.device(params['device']))\n",
        "model.to(params['device'])\n",
        "model.eval()\n",
        "preds = torch.tensor([]).to(params['device'])\n",
        "val_outputs = torch.tensor([])\n",
        "val_targets = torch.tensor([])\n",
        "stream = tqdm(test_loader)\n",
        "metric_monitor = MetricMonitor()\n",
        "\n",
        "test_targets_exist = params['targets_exist']\n",
        "\n",
        "with torch.no_grad():\n",
        "  for i, batch in enumerate(stream, start=1):\n",
        "    if test_targets_exist:\n",
        "      imgs, targets = batch\n",
        "      imgs, targets = imgs.to(params['device']), targets.to(params['device'])\n",
        "      outputs = model(imgs)\n",
        "      preds = torch.cat([preds, outputs.view(-1)])\n",
        "      val_outputs = torch.cat([val_outputs, outputs.cpu()])\n",
        "      val_targets = torch.cat([val_targets, targets.cpu()])\n",
        "      accuracy = accuracy_score(val_outputs, val_targets)\n",
        "      auc = auc_score(val_outputs, val_targets)\n",
        "      f1 = f1_score_(val_outputs, val_targets)\n",
        "      metric_monitor.update(\"Accuracy\", accuracy)\n",
        "      metric_monitor.update(\"F1\", f1)\n",
        "      metric_monitor.update(\"AUC\", auc)\n",
        "      stream.set_description(\"Test. {metric_monitor}\".format(metric_monitor=metric_monitor))\n",
        "    else:\n",
        "      imgs = batch\n",
        "      imgs = imgs.to(params['device'])\n",
        "      outputs = model(imgs)\n",
        "      preds = torch.cat([preds, outputs.view(-1)])\n",
        "      val_outputs = torch.cat([val_outputs, outputs.cpu()])\n",
        "print('INFO: Test completed')\n",
        "if test_targets_exist:\n",
        "  accuracy = accuracy_score(val_outputs, val_targets)\n",
        "  recall_s = recall_scr(val_outputs, val_targets, pos_label=1)\n",
        "  auc = auc_score(val_outputs, val_targets)\n",
        "  f1 = f1_score_(val_outputs, val_targets)\n",
        "  print(f'\\nOverall Test. Accuracy: {accuracy:.3f}, F1: {f1:.3f}, AUC: {auc:.3f}, Recall: {recall_s:.3f}\\n')\n",
        "else:\n",
        "  submission = pd.DataFrame({'image_name': test['image'].values, 'target': preds.cpu().numpy()})\n",
        "  submission.to_csv(f'{PATH}/submission.csv', index=False)\n",
        "end = time.time()\n",
        "print(f\"\\nTest time: {(end-start)/60:.3f} minutes\")"
      ]
    },
    {
      "cell_type": "markdown",
      "source": [
        "### ROC | Classification report"
      ],
      "metadata": {
        "id": "c2QBkFBWcMCO"
      }
    },
    {
      "cell_type": "code",
      "source": [
        "from sklearn.metrics import classification_report\n",
        "from matplotlib import pyplot as plt\n",
        "model_name= params['model']\n",
        "\n",
        "save_roc_curve_m(val_outputs, val_targets, path=PATH, label=f'ROC {model_name}', plot=True, pos_label=3)\n",
        "\n",
        "o = val_outputs.cpu()\n",
        "o = nn.functional.softmax(o, dim=1)\n",
        "_, o = torch.max(o, dim = 1)  \n",
        "o = o.detach().numpy()\n",
        "t = val_targets.cpu().detach().numpy()\n",
        "plot_labels = ['UNK', 'NV', 'MEL', 'BKL']\n",
        "\n",
        "report = classification_report(o, t, target_names=plot_labels)\n",
        "print(report)\n"
      ],
      "metadata": {
        "id": "YR2Uj37-d881",
        "colab": {
          "base_uri": "https://localhost:8080/",
          "height": 489
        },
        "outputId": "01802ce3-a5a4-4a70-a954-f458dd9ca6b5"
      },
      "execution_count": null,
      "outputs": [
        {
          "output_type": "display_data",
          "data": {
            "text/plain": [
              "<Figure size 432x288 with 1 Axes>"
            ],
            "image/png": "[encoded data removed]"
          },
          "metadata": {
            "needs_background": "light"
          }
        },
        {
          "output_type": "stream",
          "name": "stdout",
          "text": [
            "              precision    recall  f1-score   support\n",
            "\n",
            "         UNK       0.00      0.00      0.00         1\n",
            "          NV       0.00      0.00      0.00        36\n",
            "         MEL       0.48      0.47      0.47        30\n",
            "         BKL       0.67      0.90      0.77        93\n",
            "\n",
            "    accuracy                           0.61       160\n",
            "   macro avg       0.29      0.34      0.31       160\n",
            "weighted avg       0.48      0.61      0.53       160\n",
            "\n"
          ]
        },
        {
          "output_type": "display_data",
          "data": {
            "text/plain": [
              "<Figure size 432x288 with 0 Axes>"
            ]
          },
          "metadata": {}
        }
      ]
    },
    {
      "cell_type": "markdown",
      "source": [
        "### Confusion matrix"
      ],
      "metadata": {
        "id": "4h7zNkUtNzN3"
      }
    },
    {
      "cell_type": "code",
      "source": [
        "def save_confusion_matrix_m(outputs, targets, path, label, classes=None, plot=False, percentage=True):\n",
        "  model_name= params['model']\n",
        "  o = val_outputs.cpu()\n",
        "  o = nn.functional.softmax(o, dim=1)\n",
        "  _, o = torch.max(o, dim = 1)  \n",
        "  o = o.detach().numpy()\n",
        "  t = val_targets.cpu().detach().numpy()\n",
        "  cf_matrix = confusion_matrix(t, o)\n",
        "  df_cm = pd.DataFrame(cf_matrix/np.sum(cf_matrix) if percentage else cf_matrix, index = [i for i in classes], columns = [i for i in classes])\n",
        "  sn.heatmap(df_cm, annot=True, cmap='Blues')\n",
        "  plt.title(f'{label} Confusion Matrix')\n",
        "  plt.savefig(f'{path}/{label}_cm.png')\n",
        "  plt.show() if plot else plt.close()\n",
        "  plt.clf()"
      ],
      "metadata": {
        "id": "cEwUAJV1dFb7"
      },
      "execution_count": null,
      "outputs": []
    },
    {
      "cell_type": "code",
      "source": [
        "classes = ('UNK', 'NV', 'MEL', 'BKL')\n",
        "model_name= params['model']\n",
        "save_confusion_matrix_m(train_outputs, train_targets, path=PATH, label=model_name, classes=classes, plot = True, percentage = True)"
      ],
      "metadata": {
        "colab": {
          "base_uri": "https://localhost:8080/",
          "height": 298
        },
        "id": "oJpU0dKUctvw",
        "outputId": "1d8591ca-9560-4035-f46e-00983227c880"
      },
      "execution_count": null,
      "outputs": [
        {
          "output_type": "display_data",
          "data": {
            "text/plain": [
              "<Figure size 432x288 with 2 Axes>"
            ],
            "image/png": "[encoded data removed]"
          },
          "metadata": {
            "needs_background": "light"
          }
        },
        {
          "output_type": "display_data",
          "data": {
            "text/plain": [
              "<Figure size 432x288 with 0 Axes>"
            ]
          },
          "metadata": {}
        }
      ]
    },
    {
      "cell_type": "markdown",
      "source": [
        "### Meta split with hold-out split"
      ],
      "metadata": {
        "id": "5Te8bf_ocj4b"
      }
    },
    {
      "cell_type": "code",
      "source": [
        "from tqdm import tqdm\n",
        "from sklearn.metrics import classification_report, confusion_matrix\n",
        "import time\n",
        "start = time.time()\n",
        "\n",
        "PATH = params['path']\n",
        "aug = 'aug' if params['augmentation'] else 'no_aug'\n",
        "model_name=params['model']\n",
        "\n",
        "model = torch.load(f'{PATH}/splits/{model_name}_{aug}.pth',map_location=torch.device(params['device']))\n",
        "model.to(params['device'])\n",
        "model.eval()\n",
        "preds = torch.tensor([]).to(params['device'])\n",
        "val_outputs = torch.tensor([])\n",
        "val_targets = torch.tensor([])\n",
        "stream = tqdm(test_loader)\n",
        "metric_monitor = MetricMonitor()\n",
        "\n",
        "test_targets_exist = params['targets_exist']\n",
        "\n",
        "with torch.no_grad():\n",
        "  for i, batch in enumerate(stream, start=1):\n",
        "    imgs, meta = batch\n",
        "    imgs, meta = imgs.to(params['device']), meta.to(params['device'])\n",
        "    outputs = model(imgs, meta)\n",
        "    preds = torch.cat([preds, outputs.view(-1)])\n",
        "    val_outputs = torch.cat([val_outputs, outputs.cpu()])\n",
        "print('INFO: Test completed')\n",
        "if test_targets_exist:\n",
        "  accuracy = accuracy_score(val_outputs, val_targets)\n",
        "  recall_s = recall_scr(val_outputs, val_targets, pos_label=1)\n",
        "  auc = auc_score(val_outputs, val_targets)\n",
        "  f1 = f1_score_(val_outputs, val_targets)\n",
        "  print(f'\\nOverall Test. Accuracy: {accuracy:.3f}, F1: {f1:.3f}, AUC: {auc:.3f}, Recall: {recall_s:.3f}\\n')\n",
        "else:\n",
        "  submission = pd.DataFrame({'image_name': test['image'].values, 'target': preds.cpu().numpy()})\n",
        "  submission.to_csv(f'{PATH}/submission.csv', index=False)\n",
        "end = time.time()\n",
        "print(f\"\\nTest time: {(end-start)/60:.3f} minutes\")"
      ],
      "metadata": {
        "id": "fpzs_ym2cl7S"
      },
      "execution_count": null,
      "outputs": []
    },
    {
      "cell_type": "markdown",
      "source": [
        "## Folds"
      ],
      "metadata": {
        "id": "xAEEu8YthpIn"
      }
    },
    {
      "cell_type": "code",
      "source": [
        "from tqdm import tqdm\n",
        "from sklearn.metrics import classification_report, confusion_matrix\n",
        "start = time.time()\n",
        "\n",
        "acc_predict_folds = []\n",
        "auc_predict_folds = []\n",
        "f1_predict_folds = []\n",
        "val_outputs_folds = []\n",
        "preds_folds = []\n",
        "for fold in range(params['folds']):\n",
        "  model = torch.load(f'{PATH}/folds/fold{fold+1}_resnet18_no_aug.pth',map_location=torch.device(params['device']))\n",
        "  model.to(params['device'])\n",
        "  model.eval()\n",
        "  preds = torch.tensor([]).to(params['device'])\n",
        "  val_outputs = torch.tensor([])\n",
        "  val_targets = torch.tensor([])\n",
        "  stream = tqdm(test_loader)\n",
        "  metric_monitor = MetricMonitor()\n",
        "  with torch.no_grad():\n",
        "    for i, batch in enumerate(stream, start=1):\n",
        "      imgs, targets = batch\n",
        "      imgs, targets = imgs.to(params['device']), targets.to(params['device'])\n",
        "      outputs = model(imgs)\n",
        "      preds = torch.cat([preds, outputs.view(-1)])\n",
        "      val_outputs = torch.cat([val_outputs, outputs.cpu()])\n",
        "      val_targets = torch.cat([val_targets, targets.cpu()])\n",
        "      accuracy = accuracy_score(val_outputs, val_targets)\n",
        "      auc = auc_score(val_outputs, val_targets)\n",
        "      f1 = f1_score_(val_outputs, val_targets)\n",
        "      metric_monitor.update(\"Accuracy\", accuracy)\n",
        "      metric_monitor.update(\"F1\", f1)\n",
        "      metric_monitor.update(\"AUC\", auc)\n",
        "      stream.set_description(\"Test. {metric_monitor}\".format(metric_monitor=metric_monitor))\n",
        "  val_outputs_folds.append(val_outputs)\n",
        "  preds_folds.append(preds.cpu().numpy())\n",
        "  accuracy = accuracy_score(val_outputs, val_targets)\n",
        "  recall_s = recall_scr(val_outputs, val_targets, pos_label=1)\n",
        "  auc = auc_score(val_outputs, val_targets)\n",
        "  f1 = f1_score_(val_outputs, val_targets)\n",
        "  acc_predict_folds.append(accuracy)\n",
        "  auc_predict_folds.append(auc)\n",
        "  f1_predict_folds.append(f1)\n",
        "  print(f'\\nOverall Fold {fold+1} test results. Accuracy: {accuracy:.3f}, F1: {f1:.3f}, AUC: {auc:.3f}, Recall: {recall_s:.3f}\\n\\n')\n",
        "print('INFO: Test completed')\n",
        "preds_fold_mean = np.mean(preds_folds, axis =0)\n",
        "acc_avg = np.mean(acc_predict_folds, axis=0)\n",
        "auc_avg = np.mean(auc_predict_folds, axis=0)\n",
        "f1_avg = np.mean(f1_predict_folds, axis=0)\n",
        "print(f'\\nAverage test results for all folds. Accuracy: {acc_avg:.3f}, F1: {f1_avg:.3f}, AUC: {auc_avg:.3f}\\n')\n",
        "end = time.time()\n",
        "print(f\"\\nTest time: {(end-start)/60:.3f} minutes\")"
      ],
      "metadata": {
        "id": "hxf5QldchwdH"
      },
      "execution_count": null,
      "outputs": []
    },
    {
      "cell_type": "markdown",
      "source": [
        "### ROC | Classification report"
      ],
      "metadata": {
        "id": "qTE6iT2tzYLO"
      }
    },
    {
      "cell_type": "code",
      "source": [
        "from sklearn.metrics import classification_report\n",
        "from matplotlib import pyplot as plt\n",
        "\n",
        "model_name= params['model']\n",
        "\n",
        "val_outputs = train_outputs\n",
        "val_targets = train_targets\n",
        "\n",
        "plot_labels = ['UNK', 'NV', 'MEL', 'BKL']\n",
        "for fold in range(params['folds']):\n",
        "  save_roc_curve(val_outputs_folds[fold], val_targets, path=PATH, label=f'ROC {model_name}', plot=True, pos_label=3)\n",
        "  o = val_outputs[fold].cpu()\n",
        "  o = nn.functional.softmax(o, dim=1)\n",
        "  _, o = torch.max(o, dim = 1)  \n",
        "  o = o.detach().numpy()\n",
        "  t = val_targets[fold].cpu().detach().numpy()\n",
        "  report = classification_report(o, t, target_names=plot_labels)\n",
        "  print(report)"
      ],
      "metadata": {
        "id": "MF2VoGTSzZiA"
      },
      "execution_count": null,
      "outputs": []
    },
    {
      "cell_type": "markdown",
      "source": [
        "### Confusion Matrix"
      ],
      "metadata": {
        "id": "aWgaSpfA21oW"
      }
    },
    {
      "cell_type": "code",
      "source": [
        "classes = ('UNK', 'NV', 'MEL', 'BKL')\n",
        "model_name= params['model']\n",
        "for fold in range(params['folds']):\n",
        "  save_confusion_matrix_m(val_outputs_folds[fold], val_targets, path=PATH, label=model_name+f'_fold_{fold+1}', classes=classes, plot = True, percentage = True)"
      ],
      "metadata": {
        "id": "I6T-1yUY227o"
      },
      "execution_count": null,
      "outputs": []
    },
    {
      "cell_type": "markdown",
      "source": [
        "# Ensamble"
      ],
      "metadata": {
        "id": "RioKZ2XWE_lz"
      }
    },
    {
      "cell_type": "markdown",
      "source": [
        "## With submissions"
      ],
      "metadata": {
        "id": "JMIYWsUawq-a"
      }
    },
    {
      "cell_type": "code",
      "source": [
        "sub_dir = PATH+'/submissions/'\n",
        "sub_dir"
      ],
      "metadata": {
        "colab": {
          "base_uri": "https://localhost:8080/",
          "height": 35
        },
        "id": "Jr7kwSPzvaVm",
        "outputId": "b1aafbdd-76d9-4ecb-a9a1-70546d6fac00"
      },
      "execution_count": null,
      "outputs": [
        {
          "output_type": "execute_result",
          "data": {
            "text/plain": [
              "'/content/drive/MyDrive/ISIC/2020/submissions/'"
            ],
            "application/vnd.google.colaboratory.intrinsic+json": {
              "type": "string"
            }
          },
          "metadata": {},
          "execution_count": 23
        }
      ]
    },
    {
      "cell_type": "code",
      "source": [
        "from glob import glob\n",
        "subs = [pd.read_csv(csv) for csv in sorted(glob(os.path.join(sub_dir, '*csv')))]\n",
        "sub_probs = [sub.target.rank(pct=True).values for sub in subs]"
      ],
      "metadata": {
        "colab": {
          "base_uri": "https://localhost:8080/"
        },
        "id": "uxEdUoskvgQK",
        "outputId": "83ed6384-6e44-45f7-cc67-7554ea4762e4"
      },
      "execution_count": null,
      "outputs": [
        {
          "output_type": "execute_result",
          "data": {
            "text/plain": [
              "(10982, 2)"
            ]
          },
          "metadata": {},
          "execution_count": 33
        }
      ]
    },
    {
      "cell_type": "code",
      "source": [
        "wts = [1/(len(sub_probs))]*(len(sub_probs))\n",
        "assert len(wts)==len(sub_probs)\n",
        "sub_ens = np.sum([wts[i]*sub_probs[i] for i in range(len(wts))],axis=0)\n",
        "\n",
        "df_sub = subs[0]\n",
        "df_sub['target'] = sub_ens\n",
        "df_sub.to_csv(f\"final_sub1.csv\",index=False)\n"
      ],
      "metadata": {
        "id": "dYEnxgRpFAul"
      },
      "execution_count": null,
      "outputs": []
    },
    {
      "cell_type": "code",
      "source": [
        "df_sub.shape"
      ],
      "metadata": {
        "colab": {
          "base_uri": "https://localhost:8080/"
        },
        "id": "IiYjbrj8wbOU",
        "outputId": "fdccfdde-2060-4bec-8d65-a7712a224227"
      },
      "execution_count": null,
      "outputs": [
        {
          "output_type": "execute_result",
          "data": {
            "text/plain": [
              "(10982, 2)"
            ]
          },
          "metadata": {},
          "execution_count": 38
        }
      ]
    }
  ]
}