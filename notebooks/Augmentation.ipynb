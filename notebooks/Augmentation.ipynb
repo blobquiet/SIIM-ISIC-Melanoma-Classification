{
  "cells": [
    {
      "cell_type": "markdown",
      "metadata": {
        "id": "Q8SOhfZVqDE7"
      },
      "source": [
        "# Colab"
      ]
    },
    {
      "cell_type": "code",
      "source": [
        "!nvidia-smi -L  "
      ],
      "metadata": {
        "colab": {
          "base_uri": "https://localhost:8080/"
        },
        "id": "yiJsvidnPQb0",
        "outputId": "2ef711f1-3241-47dd-9d25-4c905bd213fd"
      },
      "execution_count": null,
      "outputs": [
        {
          "output_type": "stream",
          "name": "stdout",
          "text": [
            "NVIDIA-SMI has failed because it couldn't communicate with the NVIDIA driver. Make sure that the latest NVIDIA driver is installed and running.\n",
            "\n"
          ]
        }
      ]
    },
    {
      "cell_type": "code",
      "execution_count": null,
      "metadata": {
        "colab": {
          "base_uri": "https://localhost:8080/"
        },
        "id": "HNPGujE8plVe",
        "outputId": "0e7c0a8c-d51d-4561-f98f-d010bde89645"
      },
      "outputs": [
        {
          "output_type": "stream",
          "name": "stdout",
          "text": [
            "Mounted at /content/drive\n"
          ]
        }
      ],
      "source": [
        "from google.colab import drive\n",
        "drive.mount('/content/drive')"
      ]
    },
    {
      "cell_type": "code",
      "execution_count": null,
      "metadata": {
        "id": "jsbpMmYZqLMw"
      },
      "outputs": [],
      "source": [
        "!rm -r sample_data"
      ]
    },
    {
      "cell_type": "code",
      "execution_count": null,
      "metadata": {
        "colab": {
          "base_uri": "https://localhost:8080/"
        },
        "id": "sy_I83AUqMTI",
        "outputId": "77f55179-c57b-48e6-e82b-7b6032e0bf9f"
      },
      "outputs": [
        {
          "output_type": "stream",
          "name": "stdout",
          "text": [
            "Collecting timm\n",
            "  Downloading timm-0.5.4-py3-none-any.whl (431 kB)\n",
            "\u001b[?25l\r\u001b[K     |▊                               | 10 kB 19.4 MB/s eta 0:00:01\r\u001b[K     |█▌                              | 20 kB 25.4 MB/s eta 0:00:01\r\u001b[K     |██▎                             | 30 kB 12.6 MB/s eta 0:00:01\r\u001b[K     |███                             | 40 kB 9.5 MB/s eta 0:00:01\r\u001b[K     |███▉                            | 51 kB 6.9 MB/s eta 0:00:01\r\u001b[K     |████▋                           | 61 kB 8.1 MB/s eta 0:00:01\r\u001b[K     |█████▎                          | 71 kB 8.8 MB/s eta 0:00:01\r\u001b[K     |██████                          | 81 kB 7.4 MB/s eta 0:00:01\r\u001b[K     |██████▉                         | 92 kB 8.2 MB/s eta 0:00:01\r\u001b[K     |███████▋                        | 102 kB 8.4 MB/s eta 0:00:01\r\u001b[K     |████████▍                       | 112 kB 8.4 MB/s eta 0:00:01\r\u001b[K     |█████████▏                      | 122 kB 8.4 MB/s eta 0:00:01\r\u001b[K     |█████████▉                      | 133 kB 8.4 MB/s eta 0:00:01\r\u001b[K     |██████████▋                     | 143 kB 8.4 MB/s eta 0:00:01\r\u001b[K     |███████████▍                    | 153 kB 8.4 MB/s eta 0:00:01\r\u001b[K     |████████████▏                   | 163 kB 8.4 MB/s eta 0:00:01\r\u001b[K     |█████████████                   | 174 kB 8.4 MB/s eta 0:00:01\r\u001b[K     |█████████████▊                  | 184 kB 8.4 MB/s eta 0:00:01\r\u001b[K     |██████████████▍                 | 194 kB 8.4 MB/s eta 0:00:01\r\u001b[K     |███████████████▏                | 204 kB 8.4 MB/s eta 0:00:01\r\u001b[K     |████████████████                | 215 kB 8.4 MB/s eta 0:00:01\r\u001b[K     |████████████████▊               | 225 kB 8.4 MB/s eta 0:00:01\r\u001b[K     |█████████████████▌              | 235 kB 8.4 MB/s eta 0:00:01\r\u001b[K     |██████████████████▎             | 245 kB 8.4 MB/s eta 0:00:01\r\u001b[K     |███████████████████             | 256 kB 8.4 MB/s eta 0:00:01\r\u001b[K     |███████████████████▊            | 266 kB 8.4 MB/s eta 0:00:01\r\u001b[K     |████████████████████▌           | 276 kB 8.4 MB/s eta 0:00:01\r\u001b[K     |█████████████████████▎          | 286 kB 8.4 MB/s eta 0:00:01\r\u001b[K     |██████████████████████          | 296 kB 8.4 MB/s eta 0:00:01\r\u001b[K     |██████████████████████▉         | 307 kB 8.4 MB/s eta 0:00:01\r\u001b[K     |███████████████████████▌        | 317 kB 8.4 MB/s eta 0:00:01\r\u001b[K     |████████████████████████▎       | 327 kB 8.4 MB/s eta 0:00:01\r\u001b[K     |█████████████████████████       | 337 kB 8.4 MB/s eta 0:00:01\r\u001b[K     |█████████████████████████▉      | 348 kB 8.4 MB/s eta 0:00:01\r\u001b[K     |██████████████████████████▋     | 358 kB 8.4 MB/s eta 0:00:01\r\u001b[K     |███████████████████████████▍    | 368 kB 8.4 MB/s eta 0:00:01\r\u001b[K     |████████████████████████████    | 378 kB 8.4 MB/s eta 0:00:01\r\u001b[K     |████████████████████████████▉   | 389 kB 8.4 MB/s eta 0:00:01\r\u001b[K     |█████████████████████████████▋  | 399 kB 8.4 MB/s eta 0:00:01\r\u001b[K     |██████████████████████████████▍ | 409 kB 8.4 MB/s eta 0:00:01\r\u001b[K     |███████████████████████████████▏| 419 kB 8.4 MB/s eta 0:00:01\r\u001b[K     |████████████████████████████████| 430 kB 8.4 MB/s eta 0:00:01\r\u001b[K     |████████████████████████████████| 431 kB 8.4 MB/s \n",
            "\u001b[?25hRequirement already satisfied: torchvision in /usr/local/lib/python3.7/dist-packages (from timm) (0.11.1+cu111)\n",
            "Requirement already satisfied: torch>=1.4 in /usr/local/lib/python3.7/dist-packages (from timm) (1.10.0+cu111)\n",
            "Requirement already satisfied: typing-extensions in /usr/local/lib/python3.7/dist-packages (from torch>=1.4->timm) (3.10.0.2)\n",
            "Requirement already satisfied: numpy in /usr/local/lib/python3.7/dist-packages (from torchvision->timm) (1.21.5)\n",
            "Requirement already satisfied: pillow!=8.3.0,>=5.3.0 in /usr/local/lib/python3.7/dist-packages (from torchvision->timm) (7.1.2)\n",
            "Installing collected packages: timm\n",
            "Successfully installed timm-0.5.4\n"
          ]
        }
      ],
      "source": [
        "!pip install timm"
      ]
    },
    {
      "cell_type": "code",
      "execution_count": null,
      "metadata": {
        "id": "-nv51zZ9nMQN"
      },
      "outputs": [],
      "source": [
        "# !pip install albumentations==0.4.6"
      ]
    },
    {
      "cell_type": "markdown",
      "metadata": {
        "id": "4ZtEVPC1qF-q"
      },
      "source": [
        "# Libraries"
      ]
    },
    {
      "cell_type": "code",
      "execution_count": null,
      "metadata": {
        "colab": {
          "base_uri": "https://localhost:8080/"
        },
        "id": "bRkl-xqeqkX9",
        "outputId": "8f5929f0-c262-47c2-d972-093549e3d44e"
      },
      "outputs": [
        {
          "output_type": "stream",
          "name": "stdout",
          "text": [
            "torch_version: 1.10.0+cu111\n",
            "timm_version: 0.5.4\n"
          ]
        },
        {
          "output_type": "execute_result",
          "data": {
            "text/plain": [
              "('1.10.0+cu111', 'cpu')"
            ]
          },
          "metadata": {},
          "execution_count": 8
        }
      ],
      "source": [
        "import torch\n",
        "import timm\n",
        "import pandas as pd\n",
        "import os\n",
        "import cv2\n",
        "import numpy as np\n",
        "\n",
        "print(\"torch_version: \" + torch.__version__)\n",
        "print(\"timm_version: \" + timm.__version__)\n",
        "DEVICE = \"cuda\" if torch.cuda.is_available() else \"cpu\"\n",
        "torch.__version__, DEVICE"
      ]
    },
    {
      "cell_type": "markdown",
      "metadata": {
        "id": "dU__erwtqvAw"
      },
      "source": [
        "# csv"
      ]
    },
    {
      "cell_type": "code",
      "execution_count": null,
      "metadata": {
        "colab": {
          "base_uri": "https://localhost:8080/"
        },
        "id": "1MXn_iw1qmjE",
        "outputId": "ea273986-fed7-4436-e12b-9bed8431ada2"
      },
      "outputs": [
        {
          "output_type": "execute_result",
          "data": {
            "text/plain": [
              "['ISBI2016_ISIC_Part3_Training_Data.zip',\n",
              " 'ISBI2016_ISIC_Part3_Training_GroundTruth.csv',\n",
              " 'ISBI2016_ISIC_Part3_Test_Data.zip',\n",
              " 'ISBI2016_ISIC_Part3_Test_GroundTruth.csv',\n",
              " 'ISBI2016_ISIC_Part3_Training_Data',\n",
              " 'ISBI2016_ISIC_Part3_Test_Data']"
            ]
          },
          "metadata": {},
          "execution_count": 9
        }
      ],
      "source": [
        "PATH = \"/content/drive/MyDrive/ISIC/2016\"\n",
        "os.listdir(PATH)"
      ]
    },
    {
      "cell_type": "code",
      "execution_count": null,
      "metadata": {
        "id": "3CGmjEMArBxJ"
      },
      "outputs": [],
      "source": [
        "train_path = f'{PATH}/ISBI2016_ISIC_Part3_Training_Data/'\n",
        "test_path = f'{PATH}/ISBI2016_ISIC_Part3_Test_Data/'\n",
        "\n",
        "train_csv = f'{PATH}/ISBI2016_ISIC_Part3_Training_GroundTruth.csv'\n",
        "test_csv = f'{PATH}/ISBI2016_ISIC_Part3_Test_GroundTruth.csv'\n",
        "\n",
        "header_list = ['image_name','benign_malignant']\n",
        "train = pd.read_csv(train_csv, names=header_list, index_col=False)\n",
        "\n",
        "header_list = ['image_name','target']\n",
        "test = pd.read_csv(test_csv, names=header_list, index_col=False)"
      ]
    },
    {
      "cell_type": "code",
      "execution_count": null,
      "metadata": {
        "id": "B6yvpgmsrHN_"
      },
      "outputs": [],
      "source": [
        "def to_int(label):\n",
        "  if label == \"benign\":\n",
        "    return 0.0\n",
        "  elif label == \"malignant\":\n",
        "    return 1.0\n",
        "\n",
        "def to_path_train(image_name):\n",
        "  return train_path +image_name+'.jpg'\n",
        "\n",
        "def to_path_test(image_name):\n",
        "  return test_path +image_name+'.jpg'\n",
        "train['target'] = train.benign_malignant.apply(to_int)\n",
        "train['path'] = train.image_name.apply(to_path_train)\n",
        "\n",
        "test['path'] = test.image_name.apply(to_path_test)"
      ]
    },
    {
      "cell_type": "markdown",
      "metadata": {
        "id": "aYoZ43BzzxDR"
      },
      "source": [
        "# Hold out | Folds"
      ]
    },
    {
      "cell_type": "code",
      "execution_count": null,
      "metadata": {
        "colab": {
          "base_uri": "https://localhost:8080/"
        },
        "id": "w6prM6LtSqxC",
        "outputId": "f9d35c58-3a79-4769-f0fd-cb4fcca4a714"
      },
      "outputs": [
        {
          "output_type": "execute_result",
          "data": {
            "text/plain": [
              "((603, 4), (297, 4))"
            ]
          },
          "metadata": {},
          "execution_count": 12
        }
      ],
      "source": [
        "from sklearn.model_selection import train_test_split\n",
        "\n",
        "train_split, val_split = train_test_split(train, random_state=42, test_size=0.33, shuffle=True, stratify=train['target'])\n",
        "\n",
        "train_split.reset_index(drop=True, inplace=True)\n",
        "val_split.reset_index(drop=True, inplace=True)\n",
        "train_split.shape, val_split.shape"
      ]
    },
    {
      "cell_type": "code",
      "execution_count": null,
      "metadata": {
        "id": "mRkyjEx7rUCN"
      },
      "outputs": [],
      "source": [
        "import numpy as np\n",
        "from sklearn import model_selection\n",
        "FOLDS = 3\n",
        "kf = model_selection.StratifiedKFold(n_splits=FOLDS, random_state=42, shuffle=True)\n",
        "for fold_, (train_idx, test_idx) in enumerate(kf.split(X=train,y=train['target'])):\n",
        "  train.loc[test_idx,'kfold'] = fold_\n",
        "\n",
        "  train_fold = train.iloc[train_idx]\n",
        "  val_fold = train.iloc[test_idx]\n",
        "  train_fold.reset_index(drop=True, inplace=True)\n",
        "  val_fold.reset_index(drop=True, inplace=True)\n",
        "  train_fold.to_csv(f'./train_fold{FOLDS}.csv')\n",
        "  val_fold.to_csv(f'./val_fold{FOLDS}.csv')\n",
        "  print(\"Fold:\",fold_+1)\n",
        "  print(train_idx.shape, test_idx.shape)"
      ]
    },
    {
      "cell_type": "markdown",
      "metadata": {
        "id": "c_tT4fGjrOjC"
      },
      "source": [
        "# Dataset class"
      ]
    },
    {
      "cell_type": "code",
      "execution_count": null,
      "metadata": {
        "id": "8PVzUCeqid8R"
      },
      "outputs": [],
      "source": [
        "params = {\n",
        "    # \"model\": \"resnet18\",\n",
        "    \"model\": \"vit_large_patch16_224\",\n",
        "    \"device\": \"cuda\" if torch.cuda.is_available() else \"cpu\",\n",
        "    \"im_size\": 224,\n",
        "    \"lr\": 0.001,\n",
        "    \"batch_size\": 8,\n",
        "    \"num_workers\": 4,\n",
        "    \"epochs\": 25,\n",
        "    \"lr_scheduler\": True,\n",
        "    \"early_stopping\": True\n",
        "}"
      ]
    },
    {
      "cell_type": "code",
      "execution_count": null,
      "metadata": {
        "id": "GfTkyXu8rPnL"
      },
      "outputs": [],
      "source": [
        "from torch.utils.data import Dataset\n",
        "from skimage import io\n",
        "from skimage.transform import resize\n",
        "\n",
        "import cv2\n",
        "class MelanomaDataset(Dataset):\n",
        "  def __init__(self, images, labels=None, transform=None, train=True):\n",
        "    self.images = images\n",
        "    self.labels = labels\n",
        "    self.transform = transform\n",
        "    self.train = train\n",
        "\n",
        "  def __getitem__(self, index):\n",
        "    image = cv2.imread(self.images[index])\n",
        "    image = cv2.resize(image, (params['im_size'],params['im_size']))\n",
        "    image = cv2.cvtColor(image, cv2.COLOR_BGR2RGB)\n",
        "    target = torch.tensor([self.labels[index]])\n",
        "    if self.transform is not None:\n",
        "      # image = self.transform(image=image)[\"image\"].astype(np.float32)/255.\n",
        "      image = self.transform(image=image)[\"image\"].astype(np.float32)\n",
        "      # image = self.transform(image=image)[\"image\"]\n",
        "      image = image.transpose(2, 0, 1)/255.\n",
        "    else:\n",
        "      image = image/ 255.\n",
        "      image = image.transpose(2, 0, 1)\n",
        "    if self.train:\n",
        "      return torch.tensor(image).float(), target.float()\n",
        "    return torch.tensor(image).float()\n",
        "\n",
        "  def __len__(self) -> int:\n",
        "    return len(self.images)"
      ]
    },
    {
      "cell_type": "code",
      "source": [
        "print(\"torch_version: \" + cv2.__version__)"
      ],
      "metadata": {
        "colab": {
          "base_uri": "https://localhost:8080/"
        },
        "id": "8NeFQQZY18HD",
        "outputId": "c534dd41-d0b8-4019-d476-772a3205dbe7"
      },
      "execution_count": null,
      "outputs": [
        {
          "output_type": "stream",
          "name": "stdout",
          "text": [
            "torch_version: 4.1.2\n"
          ]
        }
      ]
    },
    {
      "cell_type": "markdown",
      "metadata": {
        "id": "fESBRriOl-vn"
      },
      "source": [
        "# Data Loader"
      ]
    },
    {
      "cell_type": "code",
      "execution_count": null,
      "metadata": {
        "id": "QVR_oQgVs-w2"
      },
      "outputs": [],
      "source": [
        "from torch.utils.data import DataLoader\n",
        "dataset = {\n",
        "    'train': MelanomaDataset(train_split['path'], train_split['target']),\n",
        "    'val': MelanomaDataset(val_split['path'], val_split['target'])\n",
        "}"
      ]
    },
    {
      "cell_type": "code",
      "execution_count": null,
      "metadata": {
        "id": "IW-WSkm9tBPQ"
      },
      "outputs": [],
      "source": [
        "train_loader = DataLoader(dataset['train'], batch_size=params['batch_size'], shuffle=True, pin_memory=True)\n",
        "val_loader = DataLoader(dataset['val'], batch_size=params['batch_size'], pin_memory=True)"
      ]
    },
    {
      "cell_type": "code",
      "execution_count": null,
      "metadata": {
        "id": "ygq7Kjr3tCuA"
      },
      "outputs": [],
      "source": [
        "images, labels = next(iter(train_loader))\n",
        "images.shape, labels.shape"
      ]
    },
    {
      "cell_type": "markdown",
      "metadata": {
        "id": "sYCdXYIFtF0M"
      },
      "source": [
        "# Show batch"
      ]
    },
    {
      "cell_type": "code",
      "execution_count": null,
      "metadata": {
        "id": "kjtunP8GtH3C"
      },
      "outputs": [],
      "source": [
        "from torchvision.utils import make_grid\n",
        "import matplotlib.pyplot as plt\n",
        "def show_batch(data_loader):\n",
        "  for images, labels in data_loader:\n",
        "    fig, ax = plt.subplots(figsize=(16, 8))\n",
        "    ax.set_xticks([]); ax.set_yticks([])\n",
        "    ax.imshow(make_grid(images, nrow=8).permute(1, 2, 0))\n",
        "    break"
      ]
    },
    {
      "cell_type": "code",
      "execution_count": null,
      "metadata": {
        "id": "Ok3BBbSAb78V"
      },
      "outputs": [],
      "source": [
        "show_batch(train_loader)"
      ]
    },
    {
      "cell_type": "markdown",
      "metadata": {
        "id": "q027VFWIpWP2"
      },
      "source": [
        "# Generate mean and std from dataset\n",
        "mean: (0.7198314, 0.61556673, 0.5636417) \\\\\n",
        "std: (0.16768907, 0.17222084, 0.19237213)"
      ]
    },
    {
      "cell_type": "code",
      "execution_count": null,
      "metadata": {
        "id": "YGaZsdGupZjE"
      },
      "outputs": [],
      "source": [
        "def get_mean_and_std(dataloader):\n",
        "    channels_sum, channels_squared_sum, num_batches = 0, 0, 0\n",
        "    for data, _ in dataloader:\n",
        "      # Mean over batch, height and width, but not over the channels\n",
        "      channels_sum += torch.mean(data, dim=[0,2,3])\n",
        "      channels_squared_sum += torch.mean(data**2, dim=[0,2,3])\n",
        "      num_batches += 1\n",
        "    mean = channels_sum / num_batches\n",
        "    # std = sqrt(E[X^2] - (E[X])^2)\n",
        "    std = (channels_squared_sum / num_batches - mean ** 2) ** 0.5\n",
        "    return tuple(mean.numpy()), tuple(std.numpy())"
      ]
    },
    {
      "cell_type": "code",
      "execution_count": null,
      "metadata": {
        "id": "wuIacV-EzfUH"
      },
      "outputs": [],
      "source": [
        "mean, std = get_mean_and_std(DataLoader(dataset['train']))\n",
        "print(mean)\n",
        "print(std)"
      ]
    },
    {
      "cell_type": "markdown",
      "metadata": {
        "id": "-vFAPfZqle4x"
      },
      "source": [
        "## compute_img_mean_std function (not used)"
      ]
    },
    {
      "cell_type": "code",
      "execution_count": null,
      "metadata": {
        "id": "2uCG1RsN0hIW"
      },
      "outputs": [],
      "source": [
        "#use this training model from scratch or not using pretrained model\n",
        "from tqdm import tqdm\n",
        "def compute_img_mean_std(image_paths):\n",
        "    '''\n",
        "    normalising data from 0-255 to 0-1\n",
        "    mean and std of three channnel\n",
        "    '''\n",
        "    img_h, img_w = 224,224\n",
        "    imgs = []\n",
        "    means, stds = [],[]\n",
        "    #resizing \n",
        "    for i in tqdm(image_paths):\n",
        "        img = cv2.imread(i)\n",
        "        img.resize(img_w,img_h)\n",
        "        img = cv2.cvtColor(img, cv2.COLOR_BGR2RGB)\n",
        "        imgs.append(img)\n",
        "        \n",
        "    # (224,224,3),nof_img -> 224,224,3,nof_img\n",
        "    imgs = np.stack(imgs, axis=3)\n",
        "    #normalising \n",
        "    imgs=imgs.astype(np.float32)/255.\n",
        "    \n",
        "    print(imgs.shape)\n",
        "    #mean and std of each channel\n",
        "    for i in range(3):\n",
        "        pixels = imgs[:,:,i,:].ravel() #resizing to one row\n",
        "        mean = pixels.mean()\n",
        "        std = pixels.std()\n",
        "        \n",
        "        means.append(mean)\n",
        "        stds.append(std)\n",
        "        \n",
        "    means.reverse() #bgr to rgb\n",
        "    stds.reverse()\n",
        "    \n",
        "    print(f'mean {means}')\n",
        "    print(f'std {stds}')\n",
        "    return means, stds"
      ]
    },
    {
      "cell_type": "code",
      "execution_count": null,
      "metadata": {
        "id": "oABUAUKp0lBO"
      },
      "outputs": [],
      "source": [
        "compute_img_mean_std(train['path'])"
      ]
    },
    {
      "cell_type": "markdown",
      "metadata": {
        "id": "S5VNP91LmxNm"
      },
      "source": [
        "# Augmentation"
      ]
    },
    {
      "cell_type": "code",
      "execution_count": null,
      "metadata": {
        "id": "v9ilDfvIOM4u"
      },
      "outputs": [],
      "source": [
        "mean= (0.72196096, 0.6170128, 0.56728417)\n",
        "std= (0.16372901, 0.17203921, 0.19337493)\n",
        "\n",
        "\n",
        "# mean= (0.7198314, 0.61556673, 0.5636417)\n",
        "# std= (0.16768907, 0.17222084, 0.19237213)"
      ]
    },
    {
      "cell_type": "code",
      "execution_count": null,
      "metadata": {
        "id": "96gneo5jNoVt"
      },
      "outputs": [],
      "source": [
        "import albumentations as A\n",
        "\n",
        "def transform_aug(im_size):\n",
        "  transforms_train = A.Compose(\n",
        "      [\n",
        "       A.Transpose(p=0.5),\n",
        "       A.VerticalFlip(p=0.5),\n",
        "       A.HorizontalFlip(p=0.5),\n",
        "       A.RandomBrightness(limit=0.2, p=0.75),\n",
        "       A.RandomContrast(limit=0.2, p=0.75),\n",
        "       A.OneOf([\n",
        "                A.MotionBlur(blur_limit=5),\n",
        "                A.MedianBlur(blur_limit=5),\n",
        "                A.Blur(blur_limit=5),\n",
        "                A.GaussNoise(var_limit=(5.0, 30.0)),\n",
        "                ], p=0.7),\n",
        "       A.OneOf([\n",
        "                A.OpticalDistortion(distort_limit=1.0),\n",
        "                A.GridDistortion(num_steps=5, distort_limit=1.),\n",
        "                A.ElasticTransform(alpha=3),\n",
        "                ], p=0.7),\n",
        "       A.CLAHE(clip_limit=4.0, p=0.7),\n",
        "       A.HueSaturationValue(hue_shift_limit=10, sat_shift_limit=20, val_shift_limit=10, p=0.5),\n",
        "       A.ShiftScaleRotate(shift_limit=0.1, scale_limit=0.1, rotate_limit=15, border_mode=0, p=0.85),\n",
        "       A.Resize(params['im_size'], params['im_size']),\n",
        "       A.Cutout(max_h_size=int(im_size * 0.375), max_w_size=int(im_size * 0.375), num_holes=1, p=0.7),\n",
        "      #  A.Normalize(mean,std)\n",
        "      #  A.Normalize()\n",
        "       ])\n",
        "  \n",
        "  transforms_val = A.Compose(\n",
        "      [\n",
        "       A.SmallestMaxSize(max_size=160),\n",
        "       A.CenterCrop(height=128, width=128),\n",
        "       A.Resize(params['im_size'], params['im_size']),\n",
        "      #  A.Normalize(mean, std)\n",
        "      #  A.Normalize()\n",
        "       ])\n",
        "  return transforms_train, transforms_val"
      ]
    },
    {
      "cell_type": "code",
      "execution_count": null,
      "metadata": {
        "id": "g-f7hOE9DBo0"
      },
      "outputs": [],
      "source": [
        "import albumentations as A\n",
        "def transform_aug(im_size):\n",
        "  transforms_train = A.Compose(\n",
        "    [\n",
        "        A.SmallestMaxSize(max_size=160),\n",
        "        A.ShiftScaleRotate(shift_limit=0.05, scale_limit=0.05, rotate_limit=15, p=0.5),\n",
        "        A.RandomCrop(height=128, width=128),\n",
        "        A.RGBShift(r_shift_limit=15, g_shift_limit=15, b_shift_limit=15, p=0.5),\n",
        "        A.RandomBrightnessContrast(p=0.5),\n",
        "        A.Resize(224,224),\n",
        "        # A.Normalize(mean=(0.485, 0.456, 0.406), std=(0.229, 0.224, 0.225)),\n",
        "        A.Normalize(mean, std)\n",
        "        # A.Normalize()\n",
        "    ]\n",
        ")\n",
        "  \n",
        "  transforms_val = A.Compose(\n",
        "    [\n",
        "        A.SmallestMaxSize(max_size=160),\n",
        "        A.CenterCrop(height=128, width=128),\n",
        "        A.Resize(224,224),\n",
        "        # A.Normalize()\n",
        "        A.Normalize(mean, std)\n",
        "    ])\n",
        "  return transforms_train, transforms_val"
      ]
    },
    {
      "cell_type": "code",
      "source": [
        "import albumentations as A\n",
        "def transform_aug(im_size):\n",
        "  transforms_train = A.Compose(\n",
        "    [\n",
        "        A.RandomSizedCrop(min_max_height=(200, 200), height=256, width=256, p=0.5),\n",
        "        A.RandomRotate90(p=0.5),\n",
        "        A.HorizontalFlip(p=0.5),\n",
        "        A.VerticalFlip(p=0.5),\n",
        "        A.Resize(height=224, width=224, p=1),\n",
        "        A.Cutout(num_holes=4, max_h_size=16, max_w_size=16, p=0.5),\n",
        "        # A.Normalize(mean=(0.485, 0.456, 0.406), std=(0.229, 0.224, 0.225)),\n",
        "        # A.Normalize(mean, std)\n",
        "        # A.Normalize()\n",
        "    ]\n",
        ")\n",
        "  \n",
        "  transforms_val = A.Compose(\n",
        "    [\n",
        "        A.Resize(height=224, width=224, p=1.0),\n",
        "        # A.SmallestMaxSize(max_size=160),\n",
        "        # A.CenterCrop(height=128, width=128),\n",
        "        # A.Resize(224,224),\n",
        "        # A.Normalize()\n",
        "        # A.Normalize(mean, std)\n",
        "    ])\n",
        "  return transforms_train, transforms_val"
      ],
      "metadata": {
        "id": "ityj5apyQ9qd"
      },
      "execution_count": null,
      "outputs": []
    },
    {
      "cell_type": "code",
      "execution_count": null,
      "metadata": {
        "id": "9EtR7tNKT-LW"
      },
      "outputs": [],
      "source": [
        "from torch.utils.data import DataLoader\n",
        "transforms_train, transforms_val = transform_aug(params['im_size'])\n",
        "\n",
        "dataset = {\n",
        "    'train': MelanomaDataset(train_split['path'], train_split['target'],transform=transforms_train),\n",
        "    'val': MelanomaDataset(val_split['path'], val_split['target'],transform=transforms_val)\n",
        "}\n",
        "\n",
        "train_loader = DataLoader(dataset['train'], batch_size=params['batch_size'], shuffle=True)\n",
        "val_loader = DataLoader(dataset['val'], batch_size=params['batch_size'])\n",
        "\n",
        "images, labels = next(iter(train_loader))\n",
        "images.shape, labels.shape"
      ]
    },
    {
      "cell_type": "code",
      "source": [
        "torch.max(images[4])"
      ],
      "metadata": {
        "id": "1cIS1l3qF0_v"
      },
      "execution_count": null,
      "outputs": []
    },
    {
      "cell_type": "code",
      "source": [
        "images[7].shape"
      ],
      "metadata": {
        "id": "R_Hczx7NGI6y"
      },
      "execution_count": null,
      "outputs": []
    },
    {
      "cell_type": "code",
      "source": [
        "images[1].dtype"
      ],
      "metadata": {
        "id": "SbnA3UNWGKHq"
      },
      "execution_count": null,
      "outputs": []
    },
    {
      "cell_type": "code",
      "source": [
        "# import matplotlib.pyplot as plt\n",
        "# plt.imshow(images[4])\n",
        "# plt.show()\n",
        "\n"
      ],
      "metadata": {
        "id": "jADZOceaGLDP"
      },
      "execution_count": null,
      "outputs": []
    },
    {
      "cell_type": "code",
      "source": [
        "import matplotlib.pyplot as plt\n",
        "plt.imshow(images[3].permute(1,2,0))\n",
        "plt.show()"
      ],
      "metadata": {
        "id": "jSvxbXQOGLrq"
      },
      "execution_count": null,
      "outputs": []
    },
    {
      "cell_type": "code",
      "source": [
        "images, labels = next(iter(val_loader))\n",
        "images.shape, labels.shape"
      ],
      "metadata": {
        "id": "uQHMZnXmebu2"
      },
      "execution_count": null,
      "outputs": []
    },
    {
      "cell_type": "code",
      "execution_count": null,
      "metadata": {
        "id": "07onUGlM5WO1"
      },
      "outputs": [],
      "source": [
        "from torch.utils.data import DataLoader\n",
        "transforms_train, transforms_val = transform_aug(224)\n",
        "\n",
        "dataset = {\n",
        "    'train': MelanomaDataset(train_fold['path'], train_fold['target'],transform=transforms_train),\n",
        "    'val': MelanomaDataset(val_fold['path'], val_fold['target'],transform=transforms_val)\n",
        "}\n",
        "\n",
        "train_loader = DataLoader(dataset['train'], batch_size=params['batch_size'], shuffle=True)\n",
        "val_loader = DataLoader(dataset['val'], batch_size=params['batch_size'])\n",
        "\n",
        "images, labels = next(iter(train_loader))\n",
        "images.shape, labels.shape"
      ]
    },
    {
      "cell_type": "markdown",
      "metadata": {
        "id": "6eA6hHP1uiI8"
      },
      "source": [
        "## Visualize augmentation"
      ]
    },
    {
      "cell_type": "code",
      "execution_count": null,
      "metadata": {
        "id": "Z0s5E_47uj01"
      },
      "outputs": [],
      "source": [
        "import random\n",
        "import copy\n",
        "def visualize_augmentations(dataset, idx=0, samples=10, cols=5):\n",
        "    dataset = copy.deepcopy(dataset)\n",
        "    dataset.transform = A.Compose([t for t in dataset.transform])\n",
        "    rows = samples // cols\n",
        "    figure, ax = plt.subplots(nrows=rows, ncols=cols, figsize=(12, 6))\n",
        "    for i in range(samples):\n",
        "        image, _ = dataset[idx]\n",
        "        ax.ravel()[i].imshow(image.permute(1,2,0))\n",
        "        ax.ravel()[i].set_axis_off()\n",
        "    plt.tight_layout()\n",
        "    plt.show()"
      ]
    },
    {
      "cell_type": "code",
      "execution_count": null,
      "metadata": {
        "id": "Vbe5H5Lbu6wF"
      },
      "outputs": [],
      "source": [
        "import matplotlib.pyplot as plt\n",
        "random.seed(0)\n",
        "visualize_augmentations(dataset['train'],3,15)"
      ]
    },
    {
      "cell_type": "markdown",
      "metadata": {
        "id": "AK-EcHmEuPSL"
      },
      "source": [
        "# Model"
      ]
    },
    {
      "cell_type": "code",
      "source": [
        "model = timm.create_model(params['model'], pretrained=True, num_classes=10)\n",
        "# model.get_classifier()\n",
        "model.default_cfg"
      ],
      "metadata": {
        "colab": {
          "base_uri": "https://localhost:8080/"
        },
        "id": "_xCrBG3WXjMr",
        "outputId": "28b3aa50-c915-41a6-f3cc-0a79de8382f8"
      },
      "execution_count": null,
      "outputs": [
        {
          "output_type": "execute_result",
          "data": {
            "text/plain": [
              "{'architecture': 'vit_large_patch16_224',\n",
              " 'classifier': 'head',\n",
              " 'crop_pct': 0.9,\n",
              " 'first_conv': 'patch_embed.proj',\n",
              " 'fixed_input_size': True,\n",
              " 'input_size': (3, 224, 224),\n",
              " 'interpolation': 'bicubic',\n",
              " 'mean': (0.5, 0.5, 0.5),\n",
              " 'num_classes': 1000,\n",
              " 'pool_size': None,\n",
              " 'std': (0.5, 0.5, 0.5),\n",
              " 'url': 'https://storage.googleapis.com/vit_models/augreg/L_16-i21k-300ep-lr_0.001-aug_medium1-wd_0.1-do_0.1-sd_0.1--imagenet2012-steps_20k-lr_0.01-res_224.npz'}"
            ]
          },
          "metadata": {},
          "execution_count": 18
        }
      ]
    },
    {
      "cell_type": "code",
      "execution_count": null,
      "metadata": {
        "id": "K-nPz9SsubhP"
      },
      "outputs": [],
      "source": [
        "import timm\n",
        "import torch.nn as nn\n",
        "class MelanomaClassifier(nn.Module):\n",
        "    def __init__(self, model_arch, n_class, pretrained=False):\n",
        "        super().__init__()\n",
        "        self.model = timm.create_model(model_arch, pretrained=True, num_classes = n_class)\n",
        "        # n_features = self.model.classifier.in_features\n",
        "        # n_features = self.model.fc.in_features\n",
        "        # self.model.classifier = nn.Linear(n_features, n_class)\n",
        "    def forward(self, x):\n",
        "        x = self.model(x)\n",
        "        return x"
      ]
    },
    {
      "cell_type": "code",
      "execution_count": null,
      "metadata": {
        "id": "xS6bEEupld69"
      },
      "outputs": [],
      "source": [
        "model = MelanomaClassifier(params['model'],n_class=1,pretrained=True)"
      ]
    },
    {
      "cell_type": "markdown",
      "metadata": {
        "id": "LtuqwUwz2H9y"
      },
      "source": [
        "## parameters"
      ]
    },
    {
      "cell_type": "code",
      "execution_count": null,
      "metadata": {
        "id": "hEHnPBOC2NnH"
      },
      "outputs": [],
      "source": [
        "from timm.optim import AdamP\n",
        "from timm.loss import BinaryCrossEntropy\n",
        "\n",
        "optimizer = AdamP(model.parameters(), lr=params['lr'])\n",
        "# criterion = BinaryCrossEntropy()\n",
        "\n",
        "criterion = nn.BCEWithLogitsLoss()\n",
        "# criterion = nn.CrossEntropyLoss()"
      ]
    },
    {
      "cell_type": "markdown",
      "metadata": {
        "id": "lIw_pBxKiK-k"
      },
      "source": [
        "## Learning rate scheduler | Early stopping"
      ]
    },
    {
      "cell_type": "code",
      "source": [
        "from torch.optim.lr_scheduler import ReduceLROnPlateau\n",
        "class LRSchedulerPlateau():\n",
        "  def __init__(self, optimizer, patience_t=1, mode=\"min\", factor=0.8, min_lr=1e-7):\n",
        "    self.optimizer = optimizer\n",
        "    self.patience_t = patience_t\n",
        "    self.mode = mode\n",
        "    self.factor = factor\n",
        "    self.min_lr = min_lr\n",
        "    self.lr_scheduler = ReduceLROnPlateau( self.optimizer, mode='min', patience=self.patience_t, factor=self.factor, min_lr=self.min_lr, verbose=True)\n",
        "  def __call__(self, val_loss):\n",
        "    self.lr_scheduler.step(val_loss)"
      ],
      "metadata": {
        "id": "mhzSgYOGRnaG"
      },
      "execution_count": null,
      "outputs": []
    },
    {
      "cell_type": "markdown",
      "metadata": {
        "id": "QVNlito3u3US"
      },
      "source": [
        "### Early stopping"
      ]
    },
    {
      "cell_type": "code",
      "execution_count": null,
      "metadata": {
        "id": "OZ5ptmmmu1uS"
      },
      "outputs": [],
      "source": [
        "class EarlyStopping():\n",
        "  def __init__(self, patience=3, min_delta=0.0):\n",
        "    self.patience = patience\n",
        "    self.min_delta = min_delta\n",
        "    self.counter = 0\n",
        "    self.best_loss = None\n",
        "    self.early_stop = False\n",
        "  def __call__(self, val_loss):\n",
        "    if self.best_loss == None:\n",
        "      self.best_loss = val_loss\n",
        "    elif self.best_loss - val_loss > self.min_delta:\n",
        "      self.best_loss = val_loss\n",
        "      self.counter = 0\n",
        "    elif self.best_loss - val_loss < self.min_delta:\n",
        "      self.counter += 1\n",
        "      print(f\"INFO: Early stopping counter {self.counter} of {self.patience}\")\n",
        "    if self.counter >= self.patience:\n",
        "      print('INFO: Early stopping')\n",
        "      self.early_stop = True"
      ]
    },
    {
      "cell_type": "markdown",
      "metadata": {
        "id": "MBOWBRu18xxh"
      },
      "source": [
        "# Metrics"
      ]
    },
    {
      "cell_type": "code",
      "execution_count": null,
      "metadata": {
        "id": "u8LdafSK8y-s"
      },
      "outputs": [],
      "source": [
        "from sklearn.metrics import roc_auc_score\n",
        "from sklearn.metrics import recall_score\n",
        "from sklearn.metrics import f1_score\n",
        "\n",
        "def auc_score(outputs, targets):\n",
        "  # outputs = torch.sigmoid(outputs)\n",
        "  outputs = outputs.cpu().detach().numpy()\n",
        "  targets = targets.cpu().detach().numpy()\n",
        "  auc = roc_auc_score(targets, outputs)\n",
        "  return auc\n",
        "\n",
        "def f1_score_(outputs, targets):\n",
        "  # outputs = outputs >= 0.5\n",
        "  outputs = outputs >= 0.0\n",
        "  targets = targets == 1.0\n",
        "  outputs = outputs.cpu().detach().numpy()\n",
        "  targets = targets.cpu().detach().numpy()\n",
        "  f1 = f1_score(targets, outputs, average='weighted')\n",
        "  return f1\n",
        "\n",
        "def recall_score_(outputs, targets):\n",
        "  # outputs = outputs >= 0.5\n",
        "  outputs = outputs >= 0.0\n",
        "  targets = targets == 1.0\n",
        "  outputs = outputs.cpu().detach().numpy()\n",
        "  targets = targets.cpu().detach().numpy()\n",
        "  recall_ = recall_score(targets, outputs)\n",
        "  return recall_\n",
        "  \n",
        "\n",
        "def accuracy_score(outputs, targets):\n",
        "  # output = torch.sigmoid(outputs) >= 0.5\n",
        "  # outputs = outputs >= 0.5\n",
        "  outputs = outputs >= 0.0\n",
        "  targets = targets == 1.0\n",
        "  return torch.true_divide((targets == outputs).sum(dim=0), outputs.size(0)).item()\n",
        "\n",
        "def get_lr(optimizer):\n",
        "    for param_group in optimizer.param_groups:\n",
        "        return param_group['lr']"
      ]
    },
    {
      "cell_type": "markdown",
      "metadata": {
        "id": "MauyL3JTkHD3"
      },
      "source": [
        "# Train"
      ]
    },
    {
      "cell_type": "code",
      "execution_count": null,
      "metadata": {
        "id": "XEyXUHodLV1F"
      },
      "outputs": [],
      "source": [
        "from collections import defaultdict\n",
        "class MetricMonitor:\n",
        "  def __init__(self, float_precision=3):\n",
        "    self.float_precision = float_precision\n",
        "    self.reset()\n",
        "    \n",
        "  def reset(self):\n",
        "    self.metrics = defaultdict(lambda: {\"val\": 0, \"count\": 0, \"avg\": 0})\n",
        "\n",
        "  def update(self, metric_name, val):\n",
        "    metric = self.metrics[metric_name]\n",
        "\n",
        "    metric[\"val\"] += val\n",
        "    metric[\"count\"] += 1\n",
        "    metric[\"avg\"] = metric[\"val\"] / metric[\"count\"]\n",
        "  def __str__(self):\n",
        "    return \" | \".join(\n",
        "        [\"{metric_name}: {avg:.{float_precision}f}\".format(metric_name=metric_name,\n",
        "                                                           avg=metric[\"avg\"],\n",
        "                                                           float_precision=self.float_precision)\n",
        "        for (metric_name, metric) in self.metrics.items()])"
      ]
    },
    {
      "cell_type": "code",
      "execution_count": null,
      "metadata": {
        "id": "uNLPSGbkV9jk"
      },
      "outputs": [],
      "source": [
        "from statistics import mean\n",
        "def train(train_loader, model, criterion, optimizer, epoch, params):\n",
        "  metric_monitor = MetricMonitor()\n",
        "  model.train()\n",
        "  stream = tqdm(train_loader)\n",
        "  train_running_loss = []\n",
        "  train_running_acc = []\n",
        "  train_running_auc = []\n",
        "  train_running_f1 = []\n",
        "  for _, batch in enumerate(stream, start=1):\n",
        "    images, targets = batch\n",
        "    images = images.to(params[\"device\"], non_blocking=True)\n",
        "    targets = targets.to(params[\"device\"], non_blocking=True).float().view(-1, 1)\n",
        "    outputs = model(images)\n",
        "    loss = criterion(outputs, targets)\n",
        "    accuracy = accuracy_score(outputs, targets)\n",
        "    # auc = auc_score(outputs, targets)\n",
        "    f1 = f1_score_(outputs, targets)    \n",
        "    \n",
        "    train_running_loss.append(loss.item())\n",
        "    train_running_acc.append(accuracy)\n",
        "    # train_running_auc.append(auc)\n",
        "    train_running_f1.append(f1)\n",
        "\n",
        "    metric_monitor.update(\"Loss\", loss.item())\n",
        "    metric_monitor.update(\"Accuracy\", accuracy)\n",
        "    metric_monitor.update(\"F1\", f1)\n",
        "    # metric_monitor.update(\"AUC\", auc)\n",
        "    \n",
        "    optimizer.zero_grad()\n",
        "    loss.backward()\n",
        "    optimizer.step()\n",
        "    print(\"\\n\")\n",
        "    stream.set_description(\"Epoch: {epoch}. Train. {metric_monitor}\".format(epoch=epoch, metric_monitor=metric_monitor))\n",
        "  return mean(train_running_loss), mean(train_running_acc), mean(train_running_f1), mean(train_running_f1)\n",
        "  "
      ]
    },
    {
      "cell_type": "code",
      "execution_count": null,
      "metadata": {
        "id": "bx79XndccGuv"
      },
      "outputs": [],
      "source": [
        "def validate(val_loader, model, criterion, epoch, params):\n",
        "  metric_monitor = MetricMonitor()\n",
        "  model.eval()\n",
        "  stream = tqdm(val_loader)\n",
        "  best_=0\n",
        "  val_running_loss = []\n",
        "  val_running_auc = []\n",
        "  val_running_acc = []\n",
        "  val_running_f1 = []\n",
        "  with torch.no_grad():\n",
        "    for i, batch in enumerate(stream, start=1):\n",
        "      images, target = batch\n",
        "      images = images.to(params[\"device\"], non_blocking=True)\n",
        "      targets = target.to(params[\"device\"], non_blocking=True).float().view(-1, 1)\n",
        "      outputs = model(images)\n",
        "      loss = criterion(outputs, targets)\n",
        "      accuracy = accuracy_score(outputs, targets)\n",
        "      # auc = auc_score(outputs, targets)\n",
        "      f1 = f1_score_(outputs, targets)\n",
        "      val_running_loss.append(loss.item())\n",
        "      val_running_acc.append(accuracy)\n",
        "      # val_running_auc.append(auc)\n",
        "      val_running_f1.append(f1)\n",
        "      metric_monitor.update(\"Loss\", loss.item())\n",
        "      metric_monitor.update(\"Accuracy\", accuracy)\n",
        "      metric_monitor.update(\"F1\", f1)\n",
        "      # metric_monitor.update(\"AUC\", auc)\n",
        "      stream.set_description(\"Epoch: {epoch}. Validation. {metric_monitor}\".format(epoch=epoch, metric_monitor=metric_monitor))\n",
        "    if f1 > best_:\n",
        "      best_ = f1\n",
        "      torch.save(model, f'{params[\"model\"]}.pth')\n",
        "      print(f\"\\nCurrent best model: {best_:.5f}\\n\")\n",
        "  return mean(val_running_loss), mean(val_running_acc), mean(val_running_f1), mean(val_running_f1)\n",
        "  # return mean(val_running_loss), mean(val_running_acc), mean(val_running_f1), mean(val_running_auc)\n",
        "\n"
      ]
    },
    {
      "cell_type": "markdown",
      "metadata": {
        "id": "pL2lTVej6IY2"
      },
      "source": [
        "# Training loop"
      ]
    },
    {
      "cell_type": "code",
      "execution_count": null,
      "metadata": {
        "id": "FCSHG_GijV96",
        "colab": {
          "base_uri": "https://localhost:8080/",
          "height": 1000
        },
        "outputId": "1fffadd6-06ee-4efc-c6c4-c533ea7f9745"
      },
      "outputs": [
        {
          "output_type": "stream",
          "name": "stderr",
          "text": [
            "Epoch: 1. Train. Loss: 1.787 | Accuracy: 0.500 | F1: 0.333:   1%|▏         | 1/76 [01:04<1:20:38, 64.52s/it]"
          ]
        },
        {
          "output_type": "stream",
          "name": "stdout",
          "text": [
            "\n",
            "\n"
          ]
        },
        {
          "output_type": "stream",
          "name": "stderr",
          "text": [
            "Epoch: 1. Train. Loss: 12.040 | Accuracy: 0.312 | F1: 0.181:   3%|▎         | 2/76 [02:16<1:25:03, 68.97s/it]"
          ]
        },
        {
          "output_type": "stream",
          "name": "stdout",
          "text": [
            "\n",
            "\n"
          ]
        },
        {
          "output_type": "stream",
          "name": "stderr",
          "text": [
            "Epoch: 1. Train. Loss: 8.376 | Accuracy: 0.500 | F1: 0.393:   4%|▍         | 3/76 [03:23<1:22:47, 68.04s/it]"
          ]
        },
        {
          "output_type": "stream",
          "name": "stdout",
          "text": [
            "\n",
            "\n"
          ]
        },
        {
          "output_type": "stream",
          "name": "stderr",
          "text": [
            "Epoch: 1. Train. Loss: 6.380 | Accuracy: 0.594 | F1: 0.499:   5%|▌         | 4/76 [04:28<1:20:18, 66.92s/it]"
          ]
        },
        {
          "output_type": "stream",
          "name": "stdout",
          "text": [
            "\n",
            "\n"
          ]
        },
        {
          "output_type": "stream",
          "name": "stderr",
          "text": [
            "Epoch: 1. Train. Loss: 5.505 | Accuracy: 0.575 | F1: 0.466:   7%|▋         | 5/76 [05:34<1:18:34, 66.40s/it]"
          ]
        },
        {
          "output_type": "stream",
          "name": "stdout",
          "text": [
            "\n",
            "\n"
          ]
        },
        {
          "output_type": "stream",
          "name": "stderr",
          "text": [
            "Epoch: 1. Train. Loss: 5.563 | Accuracy: 0.479 | F1: 0.388:   8%|▊         | 6/76 [06:40<1:17:18, 66.27s/it]"
          ]
        },
        {
          "output_type": "stream",
          "name": "stdout",
          "text": [
            "\n",
            "\n"
          ]
        },
        {
          "output_type": "stream",
          "name": "stderr",
          "text": [
            "Epoch: 1. Train. Loss: 4.871 | Accuracy: 0.446 | F1: 0.347:   9%|▉         | 7/76 [07:46<1:16:13, 66.28s/it]"
          ]
        },
        {
          "output_type": "stream",
          "name": "stdout",
          "text": [
            "\n",
            "\n"
          ]
        },
        {
          "output_type": "stream",
          "name": "stderr",
          "text": [
            "Epoch: 1. Train. Loss: 4.426 | Accuracy: 0.484 | F1: 0.384:  11%|█         | 8/76 [08:53<1:15:23, 66.52s/it]"
          ]
        },
        {
          "output_type": "stream",
          "name": "stdout",
          "text": [
            "\n",
            "\n"
          ]
        },
        {
          "output_type": "stream",
          "name": "stderr",
          "text": [
            "Epoch: 1. Train. Loss: 4.022 | Accuracy: 0.528 | F1: 0.432:  12%|█▏        | 9/76 [09:57<1:13:28, 65.80s/it]"
          ]
        },
        {
          "output_type": "stream",
          "name": "stdout",
          "text": [
            "\n",
            "\n"
          ]
        },
        {
          "output_type": "stream",
          "name": "stderr",
          "text": [
            "Epoch: 1. Train. Loss: 4.627 | Accuracy: 0.500 | F1: 0.399:  13%|█▎        | 10/76 [11:03<1:12:22, 65.80s/it]"
          ]
        },
        {
          "output_type": "stream",
          "name": "stdout",
          "text": [
            "\n",
            "\n"
          ]
        },
        {
          "output_type": "stream",
          "name": "stderr",
          "text": [
            "Epoch: 1. Train. Loss: 4.207 | Accuracy: 0.545 | F1: 0.453:  14%|█▍        | 11/76 [12:09<1:11:13, 65.75s/it]"
          ]
        },
        {
          "output_type": "stream",
          "name": "stdout",
          "text": [
            "\n",
            "\n"
          ]
        },
        {
          "output_type": "stream",
          "name": "stderr",
          "text": [
            "Epoch: 1. Train. Loss: 4.010 | Accuracy: 0.552 | F1: 0.456:  16%|█▌        | 12/76 [13:15<1:10:12, 65.82s/it]"
          ]
        },
        {
          "output_type": "stream",
          "name": "stdout",
          "text": [
            "\n",
            "\n"
          ]
        },
        {
          "output_type": "stream",
          "name": "stderr",
          "text": [
            "Epoch: 1. Train. Loss: 3.731 | Accuracy: 0.577 | F1: 0.483:  17%|█▋        | 13/76 [14:21<1:09:24, 66.11s/it]"
          ]
        },
        {
          "output_type": "stream",
          "name": "stdout",
          "text": [
            "\n",
            "\n"
          ]
        },
        {
          "output_type": "stream",
          "name": "stderr",
          "text": [
            "Epoch: 1. Train. Loss: 3.511 | Accuracy: 0.589 | F1: 0.495:  18%|█▊        | 14/76 [15:27<1:08:07, 65.93s/it]"
          ]
        },
        {
          "output_type": "stream",
          "name": "stdout",
          "text": [
            "\n",
            "\n"
          ]
        },
        {
          "output_type": "stream",
          "name": "stderr",
          "text": [
            "Epoch: 1. Train. Loss: 3.326 | Accuracy: 0.575 | F1: 0.475:  20%|█▉        | 15/76 [16:34<1:07:13, 66.12s/it]"
          ]
        },
        {
          "output_type": "stream",
          "name": "stdout",
          "text": [
            "\n",
            "\n"
          ]
        },
        {
          "output_type": "stream",
          "name": "stderr",
          "text": [
            "Epoch: 1. Train. Loss: 3.162 | Accuracy: 0.570 | F1: 0.467:  21%|██        | 16/76 [17:40<1:06:10, 66.18s/it]"
          ]
        },
        {
          "output_type": "stream",
          "name": "stdout",
          "text": [
            "\n",
            "\n"
          ]
        },
        {
          "output_type": "stream",
          "name": "stderr",
          "text": [
            "Epoch: 1. Train. Loss: 3.012 | Accuracy: 0.581 | F1: 0.477:  22%|██▏       | 17/76 [18:45<1:04:46, 65.87s/it]"
          ]
        },
        {
          "output_type": "stream",
          "name": "stdout",
          "text": [
            "\n",
            "\n"
          ]
        },
        {
          "output_type": "stream",
          "name": "stderr",
          "text": [
            "Epoch: 1. Train. Loss: 2.866 | Accuracy: 0.597 | F1: 0.496:  24%|██▎       | 18/76 [19:51<1:03:42, 65.91s/it]"
          ]
        },
        {
          "output_type": "stream",
          "name": "stdout",
          "text": [
            "\n",
            "\n"
          ]
        },
        {
          "output_type": "stream",
          "name": "stderr",
          "text": [
            "Epoch: 1. Train. Loss: 2.772 | Accuracy: 0.599 | F1: 0.495:  25%|██▌       | 19/76 [20:56<1:02:28, 65.76s/it]"
          ]
        },
        {
          "output_type": "stream",
          "name": "stdout",
          "text": [
            "\n",
            "\n"
          ]
        },
        {
          "output_type": "stream",
          "name": "stderr",
          "text": [
            "Epoch: 1. Train. Loss: 2.664 | Accuracy: 0.606 | F1: 0.502:  26%|██▋       | 20/76 [22:02<1:01:14, 65.62s/it]"
          ]
        },
        {
          "output_type": "stream",
          "name": "stdout",
          "text": [
            "\n",
            "\n"
          ]
        },
        {
          "output_type": "stream",
          "name": "stderr",
          "text": [
            "Epoch: 1. Train. Loss: 2.556 | Accuracy: 0.625 | F1: 0.526:  28%|██▊       | 21/76 [23:08<1:00:18, 65.79s/it]"
          ]
        },
        {
          "output_type": "stream",
          "name": "stdout",
          "text": [
            "\n",
            "\n"
          ]
        },
        {
          "output_type": "stream",
          "name": "stderr",
          "text": [
            "Epoch: 1. Train. Loss: 2.478 | Accuracy: 0.619 | F1: 0.517:  29%|██▉       | 22/76 [24:13<58:59, 65.54s/it]  "
          ]
        },
        {
          "output_type": "stream",
          "name": "stdout",
          "text": [
            "\n",
            "\n"
          ]
        },
        {
          "output_type": "stream",
          "name": "stderr",
          "text": [
            "Epoch: 1. Train. Loss: 2.395 | Accuracy: 0.630 | F1: 0.530:  30%|███       | 23/76 [25:18<57:46, 65.41s/it]"
          ]
        },
        {
          "output_type": "stream",
          "name": "stdout",
          "text": [
            "\n",
            "\n"
          ]
        },
        {
          "output_type": "stream",
          "name": "stderr",
          "text": [
            "Epoch: 1. Train. Loss: 2.314 | Accuracy: 0.641 | F1: 0.542:  32%|███▏      | 24/76 [26:24<56:43, 65.45s/it]"
          ]
        },
        {
          "output_type": "stream",
          "name": "stdout",
          "text": [
            "\n",
            "\n"
          ]
        },
        {
          "output_type": "stream",
          "name": "stderr",
          "text": [
            "Epoch: 1. Train. Loss: 2.226 | Accuracy: 0.655 | F1: 0.561:  33%|███▎      | 25/76 [27:30<55:59, 65.87s/it]"
          ]
        },
        {
          "output_type": "stream",
          "name": "stdout",
          "text": [
            "\n",
            "\n"
          ]
        },
        {
          "output_type": "stream",
          "name": "stderr",
          "text": [
            "Epoch: 1. Train. Loss: 2.176 | Accuracy: 0.659 | F1: 0.564:  34%|███▍      | 26/76 [28:37<54:58, 65.97s/it]"
          ]
        },
        {
          "output_type": "stream",
          "name": "stdout",
          "text": [
            "\n",
            "\n"
          ]
        },
        {
          "output_type": "stream",
          "name": "stderr",
          "text": [
            "Epoch: 1. Train. Loss: 2.168 | Accuracy: 0.653 | F1: 0.555:  36%|███▌      | 27/76 [29:42<53:38, 65.69s/it]"
          ]
        },
        {
          "output_type": "stream",
          "name": "stdout",
          "text": [
            "\n",
            "\n"
          ]
        },
        {
          "output_type": "stream",
          "name": "stderr",
          "text": [
            "Epoch: 1. Train. Loss: 2.126 | Accuracy: 0.652 | F1: 0.553:  37%|███▋      | 28/76 [30:47<52:21, 65.46s/it]"
          ]
        },
        {
          "output_type": "stream",
          "name": "stdout",
          "text": [
            "\n",
            "\n"
          ]
        },
        {
          "output_type": "stream",
          "name": "stderr",
          "text": [
            "Epoch: 1. Train. Loss: 2.076 | Accuracy: 0.655 | F1: 0.563:  38%|███▊      | 29/76 [31:52<51:23, 65.60s/it]"
          ]
        },
        {
          "output_type": "stream",
          "name": "stdout",
          "text": [
            "\n",
            "\n"
          ]
        },
        {
          "output_type": "stream",
          "name": "stderr",
          "text": [
            "Epoch: 1. Train. Loss: 2.031 | Accuracy: 0.637 | F1: 0.545:  39%|███▉      | 30/76 [32:57<50:09, 65.43s/it]"
          ]
        },
        {
          "output_type": "stream",
          "name": "stdout",
          "text": [
            "\n",
            "\n"
          ]
        },
        {
          "output_type": "stream",
          "name": "stderr",
          "text": [
            "Epoch: 1. Train. Loss: 1.990 | Accuracy: 0.637 | F1: 0.543:  41%|████      | 31/76 [34:04<49:18, 65.74s/it]"
          ]
        },
        {
          "output_type": "stream",
          "name": "stdout",
          "text": [
            "\n",
            "\n"
          ]
        },
        {
          "output_type": "stream",
          "name": "stderr",
          "text": [
            "Epoch: 1. Train. Loss: 1.948 | Accuracy: 0.641 | F1: 0.546:  42%|████▏     | 32/76 [35:11<48:25, 66.04s/it]"
          ]
        },
        {
          "output_type": "stream",
          "name": "stdout",
          "text": [
            "\n",
            "\n"
          ]
        },
        {
          "output_type": "stream",
          "name": "stderr",
          "text": [
            "Epoch: 1. Train. Loss: 1.906 | Accuracy: 0.644 | F1: 0.549:  43%|████▎     | 33/76 [36:16<47:13, 65.90s/it]"
          ]
        },
        {
          "output_type": "stream",
          "name": "stdout",
          "text": [
            "\n",
            "\n"
          ]
        },
        {
          "output_type": "stream",
          "name": "stderr",
          "text": [
            "Epoch: 1. Train. Loss: 1.864 | Accuracy: 0.651 | F1: 0.557:  45%|████▍     | 34/76 [37:21<45:56, 65.64s/it]"
          ]
        },
        {
          "output_type": "stream",
          "name": "stdout",
          "text": [
            "\n",
            "\n"
          ]
        },
        {
          "output_type": "stream",
          "name": "stderr",
          "text": [
            "Epoch: 1. Train. Loss: 1.826 | Accuracy: 0.654 | F1: 0.560:  46%|████▌     | 35/76 [38:27<44:55, 65.75s/it]"
          ]
        },
        {
          "output_type": "stream",
          "name": "stdout",
          "text": [
            "\n",
            "\n"
          ]
        },
        {
          "output_type": "stream",
          "name": "stderr",
          "text": [
            "Epoch: 1. Train. Loss: 1.791 | Accuracy: 0.656 | F1: 0.562:  47%|████▋     | 36/76 [39:34<43:59, 65.98s/it]"
          ]
        },
        {
          "output_type": "stream",
          "name": "stdout",
          "text": [
            "\n",
            "\n"
          ]
        },
        {
          "output_type": "stream",
          "name": "stderr",
          "text": [
            "Epoch: 1. Train. Loss: 1.750 | Accuracy: 0.666 | F1: 0.574:  49%|████▊     | 37/76 [40:40<42:54, 66.02s/it]"
          ]
        },
        {
          "output_type": "stream",
          "name": "stdout",
          "text": [
            "\n",
            "\n"
          ]
        },
        {
          "output_type": "stream",
          "name": "stderr",
          "text": [
            "Epoch: 1. Train. Loss: 1.714 | Accuracy: 0.671 | F1: 0.580:  50%|█████     | 38/76 [41:45<41:37, 65.74s/it]"
          ]
        },
        {
          "output_type": "stream",
          "name": "stdout",
          "text": [
            "\n",
            "\n"
          ]
        },
        {
          "output_type": "stream",
          "name": "stderr",
          "text": [
            "Epoch: 1. Train. Loss: 1.690 | Accuracy: 0.673 | F1: 0.582:  51%|█████▏    | 39/76 [42:51<40:34, 65.78s/it]"
          ]
        },
        {
          "output_type": "stream",
          "name": "stdout",
          "text": [
            "\n",
            "\n"
          ]
        },
        {
          "output_type": "stream",
          "name": "stderr",
          "text": [
            "Epoch: 1. Train. Loss: 1.650 | Accuracy: 0.681 | F1: 0.592:  53%|█████▎    | 40/76 [43:56<39:24, 65.68s/it]"
          ]
        },
        {
          "output_type": "stream",
          "name": "stdout",
          "text": [
            "\n",
            "\n"
          ]
        },
        {
          "output_type": "stream",
          "name": "stderr",
          "text": [
            "Epoch: 1. Train. Loss: 1.619 | Accuracy: 0.686 | F1: 0.598:  54%|█████▍    | 41/76 [45:03<38:32, 66.06s/it]"
          ]
        },
        {
          "output_type": "stream",
          "name": "stdout",
          "text": [
            "\n",
            "\n"
          ]
        },
        {
          "output_type": "stream",
          "name": "stderr",
          "text": [
            "Epoch: 1. Train. Loss: 1.583 | Accuracy: 0.693 | F1: 0.607:  55%|█████▌    | 42/76 [46:08<37:09, 65.58s/it]"
          ]
        },
        {
          "output_type": "stream",
          "name": "stdout",
          "text": [
            "\n",
            "\n"
          ]
        },
        {
          "output_type": "stream",
          "name": "stderr",
          "text": [
            "Epoch: 1. Train. Loss: 1.562 | Accuracy: 0.695 | F1: 0.608:  57%|█████▋    | 43/76 [47:14<36:07, 65.68s/it]"
          ]
        },
        {
          "output_type": "stream",
          "name": "stdout",
          "text": [
            "\n",
            "\n"
          ]
        },
        {
          "output_type": "stream",
          "name": "stderr",
          "text": [
            "Epoch: 1. Train. Loss: 1.541 | Accuracy: 0.696 | F1: 0.609:  58%|█████▊    | 44/76 [48:18<34:51, 65.35s/it]"
          ]
        },
        {
          "output_type": "stream",
          "name": "stdout",
          "text": [
            "\n",
            "\n"
          ]
        },
        {
          "output_type": "stream",
          "name": "stderr",
          "text": [
            "Epoch: 1. Train. Loss: 1.519 | Accuracy: 0.697 | F1: 0.610:  59%|█████▉    | 45/76 [49:25<33:54, 65.64s/it]"
          ]
        },
        {
          "output_type": "stream",
          "name": "stdout",
          "text": [
            "\n",
            "\n"
          ]
        },
        {
          "output_type": "stream",
          "name": "stderr",
          "text": [
            "Epoch: 1. Train. Loss: 1.498 | Accuracy: 0.701 | F1: 0.614:  61%|██████    | 46/76 [50:32<33:01, 66.06s/it]"
          ]
        },
        {
          "output_type": "stream",
          "name": "stdout",
          "text": [
            "\n",
            "\n"
          ]
        },
        {
          "output_type": "stream",
          "name": "stderr",
          "text": [
            "Epoch: 1. Train. Loss: 1.479 | Accuracy: 0.702 | F1: 0.615:  62%|██████▏   | 47/76 [51:38<31:55, 66.07s/it]"
          ]
        },
        {
          "output_type": "stream",
          "name": "stdout",
          "text": [
            "\n",
            "\n"
          ]
        },
        {
          "output_type": "stream",
          "name": "stderr",
          "text": [
            "Epoch: 1. Train. Loss: 1.461 | Accuracy: 0.701 | F1: 0.612:  63%|██████▎   | 48/76 [52:44<30:50, 66.11s/it]"
          ]
        },
        {
          "output_type": "stream",
          "name": "stdout",
          "text": [
            "\n",
            "\n"
          ]
        },
        {
          "output_type": "stream",
          "name": "stderr",
          "text": [
            "Epoch: 1. Train. Loss: 1.438 | Accuracy: 0.707 | F1: 0.620:  64%|██████▍   | 49/76 [53:49<29:39, 65.89s/it]"
          ]
        },
        {
          "output_type": "stream",
          "name": "stdout",
          "text": [
            "\n",
            "\n"
          ]
        },
        {
          "output_type": "stream",
          "name": "stderr",
          "text": [
            "Epoch: 1. Train. Loss: 1.412 | Accuracy: 0.713 | F1: 0.627:  66%|██████▌   | 50/76 [54:54<28:24, 65.54s/it]"
          ]
        },
        {
          "output_type": "stream",
          "name": "stdout",
          "text": [
            "\n",
            "\n"
          ]
        },
        {
          "output_type": "stream",
          "name": "stderr",
          "text": [
            "Epoch: 1. Train. Loss: 1.399 | Accuracy: 0.713 | F1: 0.628:  67%|██████▋   | 51/76 [56:00<27:23, 65.74s/it]"
          ]
        },
        {
          "output_type": "stream",
          "name": "stdout",
          "text": [
            "\n",
            "\n"
          ]
        },
        {
          "output_type": "stream",
          "name": "stderr",
          "text": [
            "Epoch: 1. Train. Loss: 1.389 | Accuracy: 0.714 | F1: 0.628:  68%|██████▊   | 52/76 [57:04<26:03, 65.14s/it]"
          ]
        },
        {
          "output_type": "stream",
          "name": "stdout",
          "text": [
            "\n",
            "\n"
          ]
        },
        {
          "output_type": "stream",
          "name": "stderr",
          "text": [
            "Epoch: 1. Train. Loss: 1.364 | Accuracy: 0.719 | F1: 0.635:  70%|██████▉   | 53/76 [58:09<24:56, 65.08s/it]"
          ]
        },
        {
          "output_type": "stream",
          "name": "stdout",
          "text": [
            "\n",
            "\n"
          ]
        },
        {
          "output_type": "stream",
          "name": "stderr",
          "text": [
            "Epoch: 1. Train. Loss: 1.346 | Accuracy: 0.722 | F1: 0.638:  71%|███████   | 54/76 [59:14<23:52, 65.12s/it]"
          ]
        },
        {
          "output_type": "stream",
          "name": "stdout",
          "text": [
            "\n",
            "\n"
          ]
        },
        {
          "output_type": "stream",
          "name": "stderr",
          "text": [
            "Epoch: 1. Train. Loss: 1.323 | Accuracy: 0.727 | F1: 0.645:  72%|███████▏  | 55/76 [1:00:19<22:43, 64.94s/it]"
          ]
        },
        {
          "output_type": "stream",
          "name": "stdout",
          "text": [
            "\n",
            "\n"
          ]
        },
        {
          "output_type": "stream",
          "name": "stderr",
          "text": [
            "Epoch: 1. Train. Loss: 1.312 | Accuracy: 0.728 | F1: 0.645:  74%|███████▎  | 56/76 [1:01:24<21:40, 65.03s/it]"
          ]
        },
        {
          "output_type": "stream",
          "name": "stdout",
          "text": [
            "\n",
            "\n"
          ]
        },
        {
          "output_type": "stream",
          "name": "stderr",
          "text": [
            "Epoch: 1. Train. Loss: 1.300 | Accuracy: 0.728 | F1: 0.645:  75%|███████▌  | 57/76 [1:02:30<20:40, 65.29s/it]"
          ]
        },
        {
          "output_type": "stream",
          "name": "stdout",
          "text": [
            "\n",
            "\n"
          ]
        },
        {
          "output_type": "stream",
          "name": "stderr",
          "text": [
            "Epoch: 1. Train. Loss: 1.285 | Accuracy: 0.731 | F1: 0.648:  76%|███████▋  | 58/76 [1:03:35<19:35, 65.31s/it]"
          ]
        },
        {
          "output_type": "stream",
          "name": "stdout",
          "text": [
            "\n",
            "\n"
          ]
        },
        {
          "output_type": "stream",
          "name": "stderr",
          "text": [
            "Epoch: 1. Train. Loss: 1.273 | Accuracy: 0.731 | F1: 0.648:  78%|███████▊  | 59/76 [1:04:41<18:34, 65.58s/it]"
          ]
        },
        {
          "output_type": "stream",
          "name": "stdout",
          "text": [
            "\n",
            "\n"
          ]
        },
        {
          "output_type": "stream",
          "name": "stderr",
          "text": [
            "Epoch: 1. Train. Loss: 1.260 | Accuracy: 0.733 | F1: 0.651:  79%|███████▉  | 60/76 [1:05:47<17:28, 65.55s/it]"
          ]
        },
        {
          "output_type": "stream",
          "name": "stdout",
          "text": [
            "\n",
            "\n"
          ]
        },
        {
          "output_type": "stream",
          "name": "stderr",
          "text": [
            "Epoch: 1. Train. Loss: 1.249 | Accuracy: 0.734 | F1: 0.650:  80%|████████  | 61/76 [1:06:52<16:20, 65.34s/it]"
          ]
        },
        {
          "output_type": "stream",
          "name": "stdout",
          "text": [
            "\n",
            "\n"
          ]
        },
        {
          "output_type": "stream",
          "name": "stderr",
          "text": [
            "Epoch: 1. Train. Loss: 1.238 | Accuracy: 0.734 | F1: 0.650:  82%|████████▏ | 62/76 [1:07:58<15:18, 65.62s/it]"
          ]
        },
        {
          "output_type": "stream",
          "name": "stdout",
          "text": [
            "\n",
            "\n"
          ]
        },
        {
          "output_type": "stream",
          "name": "stderr",
          "text": [
            "Epoch: 1. Train. Loss: 1.234 | Accuracy: 0.730 | F1: 0.645:  83%|████████▎ | 63/76 [1:09:05<14:17, 65.93s/it]"
          ]
        },
        {
          "output_type": "stream",
          "name": "stdout",
          "text": [
            "\n",
            "\n"
          ]
        },
        {
          "output_type": "stream",
          "name": "stderr",
          "text": [
            "Epoch: 1. Train. Loss: 1.221 | Accuracy: 0.732 | F1: 0.648:  84%|████████▍ | 64/76 [1:10:11<13:12, 66.08s/it]"
          ]
        },
        {
          "output_type": "stream",
          "name": "stdout",
          "text": [
            "\n",
            "\n"
          ]
        },
        {
          "output_type": "stream",
          "name": "stderr",
          "text": [
            "Epoch: 1. Train. Loss: 1.207 | Accuracy: 0.737 | F1: 0.653:  86%|████████▌ | 65/76 [1:11:16<12:04, 65.84s/it]"
          ]
        },
        {
          "output_type": "stream",
          "name": "stdout",
          "text": [
            "\n",
            "\n"
          ]
        },
        {
          "output_type": "stream",
          "name": "stderr",
          "text": [
            "Epoch: 1. Train. Loss: 1.198 | Accuracy: 0.737 | F1: 0.653:  87%|████████▋ | 66/76 [1:12:23<10:59, 65.96s/it]"
          ]
        },
        {
          "output_type": "stream",
          "name": "stdout",
          "text": [
            "\n",
            "\n"
          ]
        },
        {
          "output_type": "stream",
          "name": "stderr",
          "text": [
            "Epoch: 1. Train. Loss: 1.182 | Accuracy: 0.741 | F1: 0.658:  88%|████████▊ | 67/76 [1:13:29<09:54, 66.00s/it]"
          ]
        },
        {
          "output_type": "stream",
          "name": "stdout",
          "text": [
            "\n",
            "\n"
          ]
        },
        {
          "output_type": "stream",
          "name": "stderr",
          "text": [
            "Epoch: 1. Train. Loss: 1.166 | Accuracy: 0.744 | F1: 0.663:  89%|████████▉ | 68/76 [1:14:34<08:46, 65.76s/it]"
          ]
        },
        {
          "output_type": "stream",
          "name": "stdout",
          "text": [
            "\n",
            "\n"
          ]
        },
        {
          "output_type": "stream",
          "name": "stderr",
          "text": [
            "Epoch: 1. Train. Loss: 1.156 | Accuracy: 0.746 | F1: 0.666:  91%|█████████ | 69/76 [1:15:40<07:41, 65.91s/it]"
          ]
        },
        {
          "output_type": "stream",
          "name": "stdout",
          "text": [
            "\n",
            "\n"
          ]
        },
        {
          "output_type": "stream",
          "name": "stderr",
          "text": [
            "Epoch: 1. Train. Loss: 1.146 | Accuracy: 0.748 | F1: 0.668:  92%|█████████▏| 70/76 [1:16:45<06:34, 65.74s/it]"
          ]
        },
        {
          "output_type": "stream",
          "name": "stdout",
          "text": [
            "\n",
            "\n"
          ]
        },
        {
          "output_type": "stream",
          "name": "stderr",
          "text": [
            "Epoch: 1. Train. Loss: 1.130 | Accuracy: 0.752 | F1: 0.672:  93%|█████████▎| 71/76 [1:17:51<05:28, 65.77s/it]"
          ]
        },
        {
          "output_type": "stream",
          "name": "stdout",
          "text": [
            "\n",
            "\n"
          ]
        },
        {
          "output_type": "stream",
          "name": "stderr",
          "text": [
            "Epoch: 1. Train. Loss: 1.122 | Accuracy: 0.753 | F1: 0.674:  95%|█████████▍| 72/76 [1:18:57<04:23, 65.80s/it]"
          ]
        },
        {
          "output_type": "stream",
          "name": "stdout",
          "text": [
            "\n",
            "\n"
          ]
        },
        {
          "output_type": "stream",
          "name": "stderr",
          "text": [
            "Epoch: 1. Train. Loss: 1.113 | Accuracy: 0.755 | F1: 0.676:  96%|█████████▌| 73/76 [1:20:03<03:17, 65.83s/it]"
          ]
        },
        {
          "output_type": "stream",
          "name": "stdout",
          "text": [
            "\n",
            "\n"
          ]
        },
        {
          "output_type": "stream",
          "name": "stderr",
          "text": [
            "Epoch: 1. Train. Loss: 1.099 | Accuracy: 0.758 | F1: 0.681:  97%|█████████▋| 74/76 [1:21:07<02:10, 65.30s/it]"
          ]
        },
        {
          "output_type": "stream",
          "name": "stdout",
          "text": [
            "\n",
            "\n"
          ]
        },
        {
          "output_type": "stream",
          "name": "stderr",
          "text": [
            "Epoch: 1. Train. Loss: 1.102 | Accuracy: 0.757 | F1: 0.678:  99%|█████████▊| 75/76 [1:22:13<01:05, 65.44s/it]"
          ]
        },
        {
          "output_type": "stream",
          "name": "stdout",
          "text": [
            "\n",
            "\n"
          ]
        },
        {
          "output_type": "stream",
          "name": "stderr",
          "text": [
            "Epoch: 1. Train. Loss: 1.110 | Accuracy: 0.751 | F1: 0.671: 100%|██████████| 76/76 [1:22:47<00:00, 65.37s/it]\n"
          ]
        },
        {
          "output_type": "stream",
          "name": "stdout",
          "text": [
            "\n",
            "\n"
          ]
        },
        {
          "output_type": "stream",
          "name": "stderr",
          "text": [
            "Epoch: 1. Validation. Loss: 0.573 | Accuracy: 0.812 | F1: 0.734: 100%|██████████| 38/38 [14:31<00:00, 22.92s/it]\n"
          ]
        },
        {
          "output_type": "stream",
          "name": "stdout",
          "text": [
            "\n",
            "Current best model: 1.00000\n",
            "\n",
            "learning rate: 0.001\n"
          ]
        },
        {
          "output_type": "stream",
          "name": "stderr",
          "text": [
            "Epoch: 2. Train. Loss: 0.546 | Accuracy: 0.875 | F1: 0.817:   1%|▏         | 1/76 [01:02<1:17:59, 62.40s/it]"
          ]
        },
        {
          "output_type": "stream",
          "name": "stdout",
          "text": [
            "\n",
            "\n"
          ]
        },
        {
          "output_type": "stream",
          "name": "stderr",
          "text": [
            "Epoch: 2. Train. Loss: 0.811 | Accuracy: 0.500 | F1: 0.422:   3%|▎         | 2/76 [02:03<1:15:47, 61.45s/it]"
          ]
        },
        {
          "output_type": "stream",
          "name": "stdout",
          "text": [
            "\n",
            "\n"
          ]
        },
        {
          "output_type": "stream",
          "name": "stderr",
          "text": [
            "Epoch: 2. Train. Loss: 0.900 | Accuracy: 0.375 | F1: 0.291:   4%|▍         | 3/76 [03:03<1:14:09, 60.95s/it]"
          ]
        },
        {
          "output_type": "stream",
          "name": "stdout",
          "text": [
            "\n",
            "\n"
          ]
        },
        {
          "output_type": "stream",
          "name": "stderr",
          "text": [
            "Epoch: 2. Train. Loss: 0.832 | Accuracy: 0.469 | F1: 0.379:   5%|▌         | 4/76 [04:03<1:12:47, 60.65s/it]"
          ]
        },
        {
          "output_type": "stream",
          "name": "stdout",
          "text": [
            "\n",
            "\n"
          ]
        },
        {
          "output_type": "stream",
          "name": "stderr",
          "text": [
            "Epoch: 2. Train. Loss: 0.782 | Accuracy: 0.525 | F1: 0.432:   7%|▋         | 5/76 [05:03<1:11:29, 60.42s/it]"
          ]
        },
        {
          "output_type": "stream",
          "name": "stdout",
          "text": [
            "\n",
            "\n"
          ]
        },
        {
          "output_type": "stream",
          "name": "stderr",
          "text": [
            "Epoch: 2. Train. Loss: 0.664 | Accuracy: 0.604 | F1: 0.526:   8%|▊         | 6/76 [06:04<1:10:27, 60.39s/it]"
          ]
        },
        {
          "output_type": "stream",
          "name": "stdout",
          "text": [
            "\n",
            "\n"
          ]
        },
        {
          "output_type": "stream",
          "name": "stderr",
          "text": [
            "Epoch: 2. Train. Loss: 0.698 | Accuracy: 0.625 | F1: 0.543:   9%|▉         | 7/76 [07:04<1:09:22, 60.32s/it]"
          ]
        },
        {
          "output_type": "stream",
          "name": "stdout",
          "text": [
            "\n",
            "\n"
          ]
        },
        {
          "output_type": "stream",
          "name": "stderr",
          "text": [
            "Epoch: 2. Train. Loss: 0.675 | Accuracy: 0.656 | F1: 0.577:  11%|█         | 8/76 [08:04<1:08:18, 60.27s/it]"
          ]
        },
        {
          "output_type": "stream",
          "name": "stdout",
          "text": [
            "\n",
            "\n"
          ]
        },
        {
          "output_type": "stream",
          "name": "stderr",
          "text": [
            "Epoch: 2. Train. Loss: 0.601 | Accuracy: 0.694 | F1: 0.624:  12%|█▏        | 9/76 [09:04<1:07:08, 60.13s/it]"
          ]
        },
        {
          "output_type": "stream",
          "name": "stdout",
          "text": [
            "\n",
            "\n"
          ]
        },
        {
          "output_type": "stream",
          "name": "stderr",
          "text": [
            "Epoch: 2. Train. Loss: 0.655 | Accuracy: 0.700 | F1: 0.626:  13%|█▎        | 10/76 [10:04<1:06:11, 60.18s/it]"
          ]
        },
        {
          "output_type": "stream",
          "name": "stdout",
          "text": [
            "\n",
            "\n"
          ]
        },
        {
          "output_type": "stream",
          "name": "stderr",
          "text": [
            "Epoch: 2. Train. Loss: 0.597 | Accuracy: 0.727 | F1: 0.660:  14%|█▍        | 11/76 [11:04<1:05:14, 60.23s/it]"
          ]
        },
        {
          "output_type": "stream",
          "name": "stdout",
          "text": [
            "\n",
            "\n"
          ]
        },
        {
          "output_type": "stream",
          "name": "stderr",
          "text": [
            "Epoch: 2. Train. Loss: 0.673 | Accuracy: 0.719 | F1: 0.645:  16%|█▌        | 12/76 [12:04<1:04:11, 60.18s/it]"
          ]
        },
        {
          "output_type": "stream",
          "name": "stdout",
          "text": [
            "\n",
            "\n"
          ]
        },
        {
          "output_type": "stream",
          "name": "stderr",
          "text": [
            "Epoch: 2. Train. Loss: 0.720 | Accuracy: 0.712 | F1: 0.632:  17%|█▋        | 13/76 [13:05<1:03:09, 60.15s/it]"
          ]
        },
        {
          "output_type": "stream",
          "name": "stdout",
          "text": [
            "\n",
            "\n"
          ]
        },
        {
          "output_type": "stream",
          "name": "stderr",
          "text": [
            "Epoch: 2. Train. Loss: 0.732 | Accuracy: 0.705 | F1: 0.622:  18%|█▊        | 14/76 [14:05<1:02:09, 60.16s/it]"
          ]
        },
        {
          "output_type": "stream",
          "name": "stdout",
          "text": [
            "\n",
            "\n"
          ]
        },
        {
          "output_type": "stream",
          "name": "stderr",
          "text": [
            "Epoch: 2. Train. Loss: 0.718 | Accuracy: 0.717 | F1: 0.635:  20%|█▉        | 15/76 [15:05<1:01:07, 60.12s/it]"
          ]
        },
        {
          "output_type": "stream",
          "name": "stdout",
          "text": [
            "\n",
            "\n"
          ]
        },
        {
          "output_type": "stream",
          "name": "stderr",
          "text": [
            "Epoch: 2. Train. Loss: 0.723 | Accuracy: 0.680 | F1: 0.597:  21%|██        | 16/76 [16:05<1:00:08, 60.14s/it]"
          ]
        },
        {
          "output_type": "stream",
          "name": "stdout",
          "text": [
            "\n",
            "\n"
          ]
        },
        {
          "output_type": "stream",
          "name": "stderr",
          "text": [
            "Epoch: 2. Train. Loss: 0.730 | Accuracy: 0.647 | F1: 0.563:  22%|██▏       | 17/76 [17:05<59:08, 60.14s/it]  "
          ]
        },
        {
          "output_type": "stream",
          "name": "stdout",
          "text": [
            "\n",
            "\n"
          ]
        },
        {
          "output_type": "stream",
          "name": "stderr",
          "text": [
            "Epoch: 2. Train. Loss: 0.727 | Accuracy: 0.646 | F1: 0.559:  24%|██▎       | 18/76 [18:05<58:04, 60.08s/it]"
          ]
        },
        {
          "output_type": "stream",
          "name": "stdout",
          "text": [
            "\n",
            "\n"
          ]
        },
        {
          "output_type": "stream",
          "name": "stderr",
          "text": [
            "Epoch: 2. Train. Loss: 0.705 | Accuracy: 0.664 | F1: 0.582:  25%|██▌       | 19/76 [19:05<57:06, 60.12s/it]"
          ]
        },
        {
          "output_type": "stream",
          "name": "stdout",
          "text": [
            "\n",
            "\n"
          ]
        },
        {
          "output_type": "stream",
          "name": "stderr",
          "text": [
            "Epoch: 2. Train. Loss: 0.676 | Accuracy: 0.681 | F1: 0.603:  26%|██▋       | 20/76 [20:06<56:10, 60.19s/it]"
          ]
        },
        {
          "output_type": "stream",
          "name": "stdout",
          "text": [
            "\n",
            "\n"
          ]
        },
        {
          "output_type": "stream",
          "name": "stderr",
          "text": [
            "Epoch: 2. Train. Loss: 0.645 | Accuracy: 0.696 | F1: 0.622:  28%|██▊       | 21/76 [21:06<55:09, 60.18s/it]"
          ]
        },
        {
          "output_type": "stream",
          "name": "stdout",
          "text": [
            "\n",
            "\n"
          ]
        },
        {
          "output_type": "stream",
          "name": "stderr",
          "text": [
            "Epoch: 2. Train. Loss: 0.691 | Accuracy: 0.693 | F1: 0.615:  29%|██▉       | 22/76 [22:06<54:19, 60.36s/it]"
          ]
        },
        {
          "output_type": "stream",
          "name": "stdout",
          "text": [
            "\n",
            "\n"
          ]
        },
        {
          "output_type": "stream",
          "name": "stderr",
          "text": [
            "Epoch: 2. Train. Loss: 0.712 | Accuracy: 0.696 | F1: 0.616:  30%|███       | 23/76 [23:07<53:18, 60.34s/it]"
          ]
        },
        {
          "output_type": "stream",
          "name": "stdout",
          "text": [
            "\n",
            "\n"
          ]
        },
        {
          "output_type": "stream",
          "name": "stderr",
          "text": [
            "Epoch: 2. Train. Loss: 0.704 | Accuracy: 0.703 | F1: 0.625:  32%|███▏      | 24/76 [24:07<52:22, 60.43s/it]"
          ]
        },
        {
          "output_type": "stream",
          "name": "stdout",
          "text": [
            "\n",
            "\n"
          ]
        },
        {
          "output_type": "stream",
          "name": "stderr",
          "text": [
            "Epoch: 2. Train. Loss: 0.696 | Accuracy: 0.710 | F1: 0.633:  33%|███▎      | 25/76 [25:08<51:24, 60.48s/it]"
          ]
        },
        {
          "output_type": "stream",
          "name": "stdout",
          "text": [
            "\n",
            "\n"
          ]
        },
        {
          "output_type": "stream",
          "name": "stderr",
          "text": [
            "Epoch: 2. Train. Loss: 0.734 | Accuracy: 0.702 | F1: 0.621:  34%|███▍      | 26/76 [26:09<50:27, 60.54s/it]"
          ]
        },
        {
          "output_type": "stream",
          "name": "stdout",
          "text": [
            "\n",
            "\n"
          ]
        },
        {
          "output_type": "stream",
          "name": "stderr",
          "text": [
            "Epoch: 2. Train. Loss: 0.731 | Accuracy: 0.704 | F1: 0.622:  36%|███▌      | 27/76 [27:09<49:27, 60.55s/it]"
          ]
        },
        {
          "output_type": "stream",
          "name": "stdout",
          "text": [
            "\n",
            "\n"
          ]
        },
        {
          "output_type": "stream",
          "name": "stderr",
          "text": [
            "Epoch: 2. Train. Loss: 0.719 | Accuracy: 0.710 | F1: 0.629:  37%|███▋      | 28/76 [28:10<48:30, 60.63s/it]"
          ]
        },
        {
          "output_type": "stream",
          "name": "stdout",
          "text": [
            "\n",
            "\n"
          ]
        },
        {
          "output_type": "stream",
          "name": "stderr",
          "text": [
            "Epoch: 2. Train. Loss: 0.719 | Accuracy: 0.703 | F1: 0.619:  38%|███▊      | 29/76 [29:11<47:30, 60.65s/it]"
          ]
        },
        {
          "output_type": "stream",
          "name": "stdout",
          "text": [
            "\n",
            "\n"
          ]
        },
        {
          "output_type": "stream",
          "name": "stderr",
          "text": [
            "Epoch: 2. Train. Loss: 0.722 | Accuracy: 0.683 | F1: 0.599:  39%|███▉      | 30/76 [30:11<46:29, 60.65s/it]"
          ]
        },
        {
          "output_type": "stream",
          "name": "stdout",
          "text": [
            "\n",
            "\n"
          ]
        },
        {
          "output_type": "stream",
          "name": "stderr",
          "text": [
            "Epoch: 2. Train. Loss: 0.725 | Accuracy: 0.669 | F1: 0.583:  41%|████      | 31/76 [31:11<45:19, 60.44s/it]"
          ]
        },
        {
          "output_type": "stream",
          "name": "stdout",
          "text": [
            "\n",
            "\n"
          ]
        },
        {
          "output_type": "stream",
          "name": "stderr",
          "text": [
            "Epoch: 2. Train. Loss: 0.725 | Accuracy: 0.656 | F1: 0.568:  42%|████▏     | 32/76 [32:12<44:16, 60.37s/it]"
          ]
        },
        {
          "output_type": "stream",
          "name": "stdout",
          "text": [
            "\n",
            "\n"
          ]
        },
        {
          "output_type": "stream",
          "name": "stderr",
          "text": [
            "Epoch: 2. Train. Loss: 0.718 | Accuracy: 0.663 | F1: 0.575:  43%|████▎     | 33/76 [33:12<43:15, 60.35s/it]"
          ]
        },
        {
          "output_type": "stream",
          "name": "stdout",
          "text": [
            "\n",
            "\n"
          ]
        },
        {
          "output_type": "stream",
          "name": "stderr",
          "text": [
            "Epoch: 2. Train. Loss: 0.719 | Accuracy: 0.662 | F1: 0.572:  45%|████▍     | 34/76 [34:12<42:11, 60.28s/it]"
          ]
        },
        {
          "output_type": "stream",
          "name": "stdout",
          "text": [
            "\n",
            "\n"
          ]
        },
        {
          "output_type": "stream",
          "name": "stderr",
          "text": [
            "Epoch: 2. Train. Loss: 0.717 | Accuracy: 0.664 | F1: 0.574:  46%|████▌     | 35/76 [35:12<41:11, 60.28s/it]"
          ]
        },
        {
          "output_type": "stream",
          "name": "stdout",
          "text": [
            "\n",
            "\n"
          ]
        },
        {
          "output_type": "stream",
          "name": "stderr",
          "text": [
            "Epoch: 2. Train. Loss: 0.707 | Accuracy: 0.670 | F1: 0.581:  47%|████▋     | 36/76 [36:13<40:10, 60.27s/it]"
          ]
        },
        {
          "output_type": "stream",
          "name": "stdout",
          "text": [
            "\n",
            "\n"
          ]
        },
        {
          "output_type": "stream",
          "name": "stderr",
          "text": [
            "Epoch: 2. Train. Loss: 0.707 | Accuracy: 0.672 | F1: 0.583:  49%|████▊     | 37/76 [37:13<39:13, 60.34s/it]"
          ]
        },
        {
          "output_type": "stream",
          "name": "stdout",
          "text": [
            "\n",
            "\n"
          ]
        },
        {
          "output_type": "stream",
          "name": "stderr",
          "text": [
            "Epoch: 2. Train. Loss: 0.698 | Accuracy: 0.678 | F1: 0.589:  50%|█████     | 38/76 [38:14<38:17, 60.46s/it]"
          ]
        },
        {
          "output_type": "stream",
          "name": "stdout",
          "text": [
            "\n",
            "\n"
          ]
        },
        {
          "output_type": "stream",
          "name": "stderr",
          "text": [
            "Epoch: 2. Train. Loss: 0.697 | Accuracy: 0.679 | F1: 0.590:  51%|█████▏    | 39/76 [39:14<37:16, 60.45s/it]"
          ]
        },
        {
          "output_type": "stream",
          "name": "stdout",
          "text": [
            "\n",
            "\n"
          ]
        },
        {
          "output_type": "stream",
          "name": "stderr",
          "text": [
            "Epoch: 2. Train. Loss: 0.689 | Accuracy: 0.684 | F1: 0.596:  53%|█████▎    | 40/76 [40:14<36:14, 60.39s/it]"
          ]
        },
        {
          "output_type": "stream",
          "name": "stdout",
          "text": [
            "\n",
            "\n"
          ]
        },
        {
          "output_type": "stream",
          "name": "stderr",
          "text": [
            "Epoch: 2. Train. Loss: 0.682 | Accuracy: 0.689 | F1: 0.601:  54%|█████▍    | 41/76 [41:15<35:13, 60.39s/it]"
          ]
        },
        {
          "output_type": "stream",
          "name": "stdout",
          "text": [
            "\n",
            "\n"
          ]
        },
        {
          "output_type": "stream",
          "name": "stderr",
          "text": [
            "Epoch: 2. Train. Loss: 0.679 | Accuracy: 0.690 | F1: 0.602:  55%|█████▌    | 42/76 [42:15<34:14, 60.44s/it]"
          ]
        },
        {
          "output_type": "stream",
          "name": "stdout",
          "text": [
            "\n",
            "\n"
          ]
        },
        {
          "output_type": "stream",
          "name": "stderr",
          "text": [
            "Epoch: 2. Train. Loss: 0.676 | Accuracy: 0.692 | F1: 0.603:  57%|█████▋    | 43/76 [43:16<33:16, 60.50s/it]"
          ]
        },
        {
          "output_type": "stream",
          "name": "stdout",
          "text": [
            "\n",
            "\n"
          ]
        },
        {
          "output_type": "stream",
          "name": "stderr",
          "text": [
            "Epoch: 2. Train. Loss: 0.671 | Accuracy: 0.696 | F1: 0.608:  58%|█████▊    | 44/76 [44:17<32:16, 60.51s/it]"
          ]
        },
        {
          "output_type": "stream",
          "name": "stdout",
          "text": [
            "\n",
            "\n"
          ]
        },
        {
          "output_type": "stream",
          "name": "stderr",
          "text": [
            "Epoch: 2. Train. Loss: 0.666 | Accuracy: 0.700 | F1: 0.613:  59%|█████▉    | 45/76 [45:17<31:14, 60.47s/it]"
          ]
        },
        {
          "output_type": "stream",
          "name": "stdout",
          "text": [
            "\n",
            "\n"
          ]
        },
        {
          "output_type": "stream",
          "name": "stderr",
          "text": [
            "Epoch: 2. Train. Loss: 0.656 | Accuracy: 0.707 | F1: 0.621:  61%|██████    | 46/76 [46:18<30:16, 60.56s/it]"
          ]
        },
        {
          "output_type": "stream",
          "name": "stdout",
          "text": [
            "\n",
            "\n"
          ]
        },
        {
          "output_type": "stream",
          "name": "stderr",
          "text": [
            "Epoch: 2. Train. Loss: 0.650 | Accuracy: 0.710 | F1: 0.625:  62%|██████▏   | 47/76 [47:18<29:13, 60.46s/it]"
          ]
        },
        {
          "output_type": "stream",
          "name": "stdout",
          "text": [
            "\n",
            "\n"
          ]
        },
        {
          "output_type": "stream",
          "name": "stderr",
          "text": [
            "Epoch: 2. Train. Loss: 0.652 | Accuracy: 0.711 | F1: 0.626:  63%|██████▎   | 48/76 [48:19<28:17, 60.62s/it]"
          ]
        },
        {
          "output_type": "stream",
          "name": "stdout",
          "text": [
            "\n",
            "\n"
          ]
        },
        {
          "output_type": "stream",
          "name": "stderr",
          "text": [
            "Epoch: 2. Train. Loss: 0.640 | Accuracy: 0.717 | F1: 0.633:  64%|██████▍   | 49/76 [49:20<27:20, 60.76s/it]"
          ]
        },
        {
          "output_type": "stream",
          "name": "stdout",
          "text": [
            "\n",
            "\n"
          ]
        },
        {
          "output_type": "stream",
          "name": "stderr",
          "text": [
            "Epoch: 2. Train. Loss: 0.636 | Accuracy: 0.720 | F1: 0.637:  66%|██████▌   | 50/76 [50:21<26:19, 60.73s/it]"
          ]
        },
        {
          "output_type": "stream",
          "name": "stdout",
          "text": [
            "\n",
            "\n"
          ]
        },
        {
          "output_type": "stream",
          "name": "stderr",
          "text": [
            "Epoch: 2. Train. Loss: 0.631 | Accuracy: 0.723 | F1: 0.641:  67%|██████▋   | 51/76 [51:22<25:20, 60.81s/it]"
          ]
        },
        {
          "output_type": "stream",
          "name": "stdout",
          "text": [
            "\n",
            "\n"
          ]
        },
        {
          "output_type": "stream",
          "name": "stderr",
          "text": [
            "Epoch: 2. Train. Loss: 0.627 | Accuracy: 0.726 | F1: 0.644:  68%|██████▊   | 52/76 [52:22<24:18, 60.78s/it]"
          ]
        },
        {
          "output_type": "stream",
          "name": "stdout",
          "text": [
            "\n",
            "\n"
          ]
        },
        {
          "output_type": "stream",
          "name": "stderr",
          "text": [
            "Epoch: 2. Train. Loss: 0.623 | Accuracy: 0.729 | F1: 0.647:  70%|██████▉   | 53/76 [53:23<23:17, 60.77s/it]"
          ]
        },
        {
          "output_type": "stream",
          "name": "stdout",
          "text": [
            "\n",
            "\n"
          ]
        },
        {
          "output_type": "stream",
          "name": "stderr",
          "text": [
            "Epoch: 2. Train. Loss: 0.623 | Accuracy: 0.729 | F1: 0.647:  71%|███████   | 54/76 [54:24<22:18, 60.83s/it]"
          ]
        },
        {
          "output_type": "stream",
          "name": "stdout",
          "text": [
            "\n",
            "\n"
          ]
        },
        {
          "output_type": "stream",
          "name": "stderr",
          "text": [
            "Epoch: 2. Train. Loss: 0.623 | Accuracy: 0.730 | F1: 0.647:  72%|███████▏  | 55/76 [55:25<21:15, 60.75s/it]"
          ]
        },
        {
          "output_type": "stream",
          "name": "stdout",
          "text": [
            "\n",
            "\n"
          ]
        },
        {
          "output_type": "stream",
          "name": "stderr",
          "text": [
            "Epoch: 2. Train. Loss: 0.617 | Accuracy: 0.734 | F1: 0.653:  74%|███████▎  | 56/76 [56:26<20:15, 60.79s/it]"
          ]
        },
        {
          "output_type": "stream",
          "name": "stdout",
          "text": [
            "\n",
            "\n"
          ]
        },
        {
          "output_type": "stream",
          "name": "stderr",
          "text": [
            "Epoch: 2. Train. Loss: 0.614 | Accuracy: 0.737 | F1: 0.656:  75%|███████▌  | 57/76 [57:27<19:17, 60.95s/it]"
          ]
        },
        {
          "output_type": "stream",
          "name": "stdout",
          "text": [
            "\n",
            "\n"
          ]
        },
        {
          "output_type": "stream",
          "name": "stderr",
          "text": [
            "Epoch: 2. Train. Loss: 0.618 | Accuracy: 0.733 | F1: 0.651:  76%|███████▋  | 58/76 [58:28<18:17, 60.99s/it]"
          ]
        },
        {
          "output_type": "stream",
          "name": "stdout",
          "text": [
            "\n",
            "\n"
          ]
        },
        {
          "output_type": "stream",
          "name": "stderr",
          "text": [
            "Epoch: 2. Train. Loss: 0.615 | Accuracy: 0.735 | F1: 0.654:  78%|███████▊  | 59/76 [59:29<17:19, 61.12s/it]"
          ]
        },
        {
          "output_type": "stream",
          "name": "stdout",
          "text": [
            "\n",
            "\n"
          ]
        },
        {
          "output_type": "stream",
          "name": "stderr",
          "text": [
            "Epoch: 2. Train. Loss: 0.614 | Accuracy: 0.735 | F1: 0.653:  79%|███████▉  | 60/76 [1:00:31<16:20, 61.26s/it]"
          ]
        },
        {
          "output_type": "stream",
          "name": "stdout",
          "text": [
            "\n",
            "\n"
          ]
        },
        {
          "output_type": "stream",
          "name": "stderr",
          "text": [
            "Epoch: 2. Train. Loss: 0.611 | Accuracy: 0.738 | F1: 0.656:  80%|████████  | 61/76 [1:01:33<15:20, 61.34s/it]"
          ]
        },
        {
          "output_type": "stream",
          "name": "stdout",
          "text": [
            "\n",
            "\n"
          ]
        },
        {
          "output_type": "stream",
          "name": "stderr",
          "text": [
            "Epoch: 2. Train. Loss: 0.608 | Accuracy: 0.740 | F1: 0.659:  82%|████████▏ | 62/76 [1:02:33<14:16, 61.20s/it]"
          ]
        },
        {
          "output_type": "stream",
          "name": "stdout",
          "text": [
            "\n",
            "\n"
          ]
        },
        {
          "output_type": "stream",
          "name": "stderr",
          "text": [
            "Epoch: 2. Train. Loss: 0.605 | Accuracy: 0.742 | F1: 0.661:  83%|████████▎ | 63/76 [1:03:35<13:15, 61.22s/it]"
          ]
        },
        {
          "output_type": "stream",
          "name": "stdout",
          "text": [
            "\n",
            "\n"
          ]
        },
        {
          "output_type": "stream",
          "name": "stderr",
          "text": [
            "Epoch: 2. Train. Loss: 0.605 | Accuracy: 0.742 | F1: 0.661:  84%|████████▍ | 64/76 [1:04:36<12:13, 61.10s/it]"
          ]
        },
        {
          "output_type": "stream",
          "name": "stdout",
          "text": [
            "\n",
            "\n"
          ]
        },
        {
          "output_type": "stream",
          "name": "stderr",
          "text": [
            "Epoch: 2. Train. Loss: 0.605 | Accuracy: 0.742 | F1: 0.661:  86%|████████▌ | 65/76 [1:05:37<11:11, 61.08s/it]"
          ]
        },
        {
          "output_type": "stream",
          "name": "stdout",
          "text": [
            "\n",
            "\n"
          ]
        },
        {
          "output_type": "stream",
          "name": "stderr",
          "text": [
            "Epoch: 2. Train. Loss: 0.606 | Accuracy: 0.742 | F1: 0.660:  87%|████████▋ | 66/76 [1:06:38<10:10, 61.08s/it]"
          ]
        },
        {
          "output_type": "stream",
          "name": "stdout",
          "text": [
            "\n",
            "\n"
          ]
        },
        {
          "output_type": "stream",
          "name": "stderr",
          "text": [
            "Epoch: 2. Train. Loss: 0.606 | Accuracy: 0.743 | F1: 0.660:  88%|████████▊ | 67/76 [1:07:39<09:09, 61.02s/it]"
          ]
        },
        {
          "output_type": "stream",
          "name": "stdout",
          "text": [
            "\n",
            "\n"
          ]
        },
        {
          "output_type": "stream",
          "name": "stderr",
          "text": [
            "Epoch: 2. Train. Loss: 0.603 | Accuracy: 0.744 | F1: 0.662:  89%|████████▉ | 68/76 [1:08:40<08:09, 61.13s/it]"
          ]
        },
        {
          "output_type": "stream",
          "name": "stdout",
          "text": [
            "\n",
            "\n"
          ]
        },
        {
          "output_type": "stream",
          "name": "stderr",
          "text": [
            "Epoch: 2. Train. Loss: 0.600 | Accuracy: 0.746 | F1: 0.665:  91%|█████████ | 69/76 [1:09:41<07:08, 61.20s/it]"
          ]
        },
        {
          "output_type": "stream",
          "name": "stdout",
          "text": [
            "\n",
            "\n"
          ]
        },
        {
          "output_type": "stream",
          "name": "stderr",
          "text": [
            "Epoch: 2. Train. Loss: 0.594 | Accuracy: 0.750 | F1: 0.669:  92%|█████████▏| 70/76 [1:10:43<06:07, 61.22s/it]"
          ]
        },
        {
          "output_type": "stream",
          "name": "stdout",
          "text": [
            "\n",
            "\n"
          ]
        },
        {
          "output_type": "stream",
          "name": "stderr",
          "text": [
            "Epoch: 2. Train. Loss: 0.592 | Accuracy: 0.752 | F1: 0.671:  93%|█████████▎| 71/76 [1:11:44<05:05, 61.19s/it]"
          ]
        },
        {
          "output_type": "stream",
          "name": "stdout",
          "text": [
            "\n",
            "\n"
          ]
        },
        {
          "output_type": "stream",
          "name": "stderr",
          "text": [
            "Epoch: 2. Train. Loss: 0.597 | Accuracy: 0.748 | F1: 0.667:  95%|█████████▍| 72/76 [1:12:45<04:04, 61.19s/it]"
          ]
        },
        {
          "output_type": "stream",
          "name": "stdout",
          "text": [
            "\n",
            "\n"
          ]
        },
        {
          "output_type": "stream",
          "name": "stderr",
          "text": [
            "Epoch: 2. Train. Loss: 0.602 | Accuracy: 0.745 | F1: 0.662:  96%|█████████▌| 73/76 [1:13:46<03:03, 61.18s/it]"
          ]
        },
        {
          "output_type": "stream",
          "name": "stdout",
          "text": [
            "\n",
            "\n"
          ]
        },
        {
          "output_type": "stream",
          "name": "stderr",
          "text": [
            "Epoch: 2. Train. Loss: 0.599 | Accuracy: 0.747 | F1: 0.664:  97%|█████████▋| 74/76 [1:14:47<02:02, 61.09s/it]"
          ]
        },
        {
          "output_type": "stream",
          "name": "stdout",
          "text": [
            "\n",
            "\n"
          ]
        },
        {
          "output_type": "stream",
          "name": "stderr",
          "text": [
            "Epoch: 2. Train. Loss: 0.600 | Accuracy: 0.745 | F1: 0.662:  99%|█████████▊| 75/76 [1:15:48<01:01, 61.11s/it]"
          ]
        },
        {
          "output_type": "stream",
          "name": "stdout",
          "text": [
            "\n",
            "\n"
          ]
        },
        {
          "output_type": "stream",
          "name": "stderr",
          "text": [
            "Epoch: 2. Train. Loss: 0.601 | Accuracy: 0.744 | F1: 0.660: 100%|██████████| 76/76 [1:16:21<00:00, 60.29s/it]\n"
          ]
        },
        {
          "output_type": "stream",
          "name": "stdout",
          "text": [
            "\n",
            "\n"
          ]
        },
        {
          "output_type": "stream",
          "name": "stderr",
          "text": [
            "Epoch: 2. Validation. Loss: 0.628 | Accuracy: 0.812 | F1: 0.734: 100%|██████████| 38/38 [10:33<00:00, 16.66s/it]\n"
          ]
        },
        {
          "output_type": "stream",
          "name": "stdout",
          "text": [
            "\n",
            "Current best model: 1.00000\n",
            "\n",
            "INFO: Early stopping counter 1 of 3\n",
            "learning rate: 0.001\n"
          ]
        },
        {
          "output_type": "stream",
          "name": "stderr",
          "text": [
            "Epoch: 3. Train. Loss: 0.675 | Accuracy: 0.625 | F1: 0.481:   1%|▏         | 1/76 [01:04<1:20:02, 64.03s/it]"
          ]
        },
        {
          "output_type": "stream",
          "name": "stdout",
          "text": [
            "\n",
            "\n"
          ]
        },
        {
          "output_type": "stream",
          "name": "stderr",
          "text": [
            "Epoch: 3. Train. Loss: 0.652 | Accuracy: 0.812 | F1: 0.740:   3%|▎         | 2/76 [02:06<1:18:00, 63.24s/it]"
          ]
        },
        {
          "output_type": "stream",
          "name": "stdout",
          "text": [
            "\n",
            "\n"
          ]
        },
        {
          "output_type": "stream",
          "name": "stderr",
          "text": [
            "Epoch: 3. Train. Loss: 0.614 | Accuracy: 0.833 | F1: 0.766:   4%|▍         | 3/76 [03:09<1:16:31, 62.90s/it]"
          ]
        },
        {
          "output_type": "stream",
          "name": "stdout",
          "text": [
            "\n",
            "\n"
          ]
        },
        {
          "output_type": "stream",
          "name": "stderr",
          "text": [
            "Epoch: 3. Train. Loss: 0.601 | Accuracy: 0.812 | F1: 0.735:   5%|▌         | 4/76 [04:11<1:15:19, 62.78s/it]"
          ]
        },
        {
          "output_type": "stream",
          "name": "stdout",
          "text": [
            "\n",
            "\n"
          ]
        },
        {
          "output_type": "stream",
          "name": "stderr",
          "text": [
            "Epoch: 3. Train. Loss: 0.558 | Accuracy: 0.825 | F1: 0.751:   7%|▋         | 5/76 [05:13<1:13:58, 62.51s/it]"
          ]
        },
        {
          "output_type": "stream",
          "name": "stdout",
          "text": [
            "\n",
            "\n"
          ]
        },
        {
          "output_type": "stream",
          "name": "stderr",
          "text": [
            "Epoch: 3. Train. Loss: 0.660 | Accuracy: 0.771 | F1: 0.682:   8%|▊         | 6/76 [06:16<1:12:52, 62.47s/it]"
          ]
        },
        {
          "output_type": "stream",
          "name": "stdout",
          "text": [
            "\n",
            "\n"
          ]
        },
        {
          "output_type": "stream",
          "name": "stderr",
          "text": [
            "Epoch: 3. Train. Loss: 0.658 | Accuracy: 0.768 | F1: 0.676:   9%|▉         | 7/76 [07:18<1:11:41, 62.35s/it]"
          ]
        },
        {
          "output_type": "stream",
          "name": "stdout",
          "text": [
            "\n",
            "\n"
          ]
        },
        {
          "output_type": "stream",
          "name": "stderr",
          "text": [
            "Epoch: 3. Train. Loss: 0.591 | Accuracy: 0.797 | F1: 0.717:  11%|█         | 8/76 [08:20<1:10:29, 62.20s/it]"
          ]
        },
        {
          "output_type": "stream",
          "name": "stdout",
          "text": [
            "\n",
            "\n"
          ]
        },
        {
          "output_type": "stream",
          "name": "stderr",
          "text": [
            "Epoch: 3. Train. Loss: 0.715 | Accuracy: 0.736 | F1: 0.648:  12%|█▏        | 9/76 [09:22<1:09:24, 62.16s/it]"
          ]
        },
        {
          "output_type": "stream",
          "name": "stdout",
          "text": [
            "\n",
            "\n"
          ]
        },
        {
          "output_type": "stream",
          "name": "stderr",
          "text": [
            "Epoch: 3. Train. Loss: 0.682 | Accuracy: 0.750 | F1: 0.665:  13%|█▎        | 10/76 [10:24<1:08:27, 62.24s/it]"
          ]
        },
        {
          "output_type": "stream",
          "name": "stdout",
          "text": [
            "\n",
            "\n"
          ]
        },
        {
          "output_type": "stream",
          "name": "stderr",
          "text": [
            "Epoch: 3. Train. Loss: 0.659 | Accuracy: 0.761 | F1: 0.679:  14%|█▍        | 11/76 [11:27<1:07:36, 62.41s/it]"
          ]
        },
        {
          "output_type": "stream",
          "name": "stdout",
          "text": [
            "\n",
            "\n"
          ]
        },
        {
          "output_type": "stream",
          "name": "stderr",
          "text": [
            "Epoch: 3. Train. Loss: 0.652 | Accuracy: 0.760 | F1: 0.676:  16%|█▌        | 12/76 [12:29<1:06:34, 62.41s/it]"
          ]
        },
        {
          "output_type": "stream",
          "name": "stdout",
          "text": [
            "\n",
            "\n"
          ]
        },
        {
          "output_type": "stream",
          "name": "stderr",
          "text": [
            "Epoch: 3. Train. Loss: 0.640 | Accuracy: 0.769 | F1: 0.687:  17%|█▋        | 13/76 [13:32<1:05:33, 62.44s/it]"
          ]
        },
        {
          "output_type": "stream",
          "name": "stdout",
          "text": [
            "\n",
            "\n"
          ]
        },
        {
          "output_type": "stream",
          "name": "stderr",
          "text": [
            "Epoch: 3. Train. Loss: 0.635 | Accuracy: 0.768 | F1: 0.683:  18%|█▊        | 14/76 [14:35<1:04:36, 62.52s/it]"
          ]
        },
        {
          "output_type": "stream",
          "name": "stdout",
          "text": [
            "\n",
            "\n"
          ]
        },
        {
          "output_type": "stream",
          "name": "stderr",
          "text": [
            "Epoch: 3. Train. Loss: 0.625 | Accuracy: 0.775 | F1: 0.692:  20%|█▉        | 15/76 [15:37<1:03:31, 62.49s/it]"
          ]
        },
        {
          "output_type": "stream",
          "name": "stdout",
          "text": [
            "\n",
            "\n"
          ]
        },
        {
          "output_type": "stream",
          "name": "stderr",
          "text": [
            "Epoch: 3. Train. Loss: 0.614 | Accuracy: 0.781 | F1: 0.700:  21%|██        | 16/76 [16:40<1:02:35, 62.60s/it]"
          ]
        },
        {
          "output_type": "stream",
          "name": "stdout",
          "text": [
            "\n",
            "\n"
          ]
        },
        {
          "output_type": "stream",
          "name": "stderr",
          "text": [
            "Epoch: 3. Train. Loss: 0.611 | Accuracy: 0.779 | F1: 0.697:  22%|██▏       | 17/76 [17:43<1:01:40, 62.73s/it]"
          ]
        },
        {
          "output_type": "stream",
          "name": "stdout",
          "text": [
            "\n",
            "\n"
          ]
        },
        {
          "output_type": "stream",
          "name": "stderr",
          "text": [
            "Epoch: 3. Train. Loss: 0.621 | Accuracy: 0.771 | F1: 0.685:  24%|██▎       | 18/76 [18:46<1:00:36, 62.70s/it]"
          ]
        },
        {
          "output_type": "stream",
          "name": "stdout",
          "text": [
            "\n",
            "\n"
          ]
        },
        {
          "output_type": "stream",
          "name": "stderr",
          "text": [
            "Epoch: 3. Train. Loss: 0.608 | Accuracy: 0.776 | F1: 0.692:  25%|██▌       | 19/76 [19:48<59:28, 62.61s/it]  "
          ]
        },
        {
          "output_type": "stream",
          "name": "stdout",
          "text": [
            "\n",
            "\n"
          ]
        },
        {
          "output_type": "stream",
          "name": "stderr",
          "text": [
            "Epoch: 3. Train. Loss: 0.608 | Accuracy: 0.775 | F1: 0.689:  26%|██▋       | 20/76 [20:51<58:26, 62.61s/it]"
          ]
        },
        {
          "output_type": "stream",
          "name": "stdout",
          "text": [
            "\n",
            "\n"
          ]
        },
        {
          "output_type": "stream",
          "name": "stderr",
          "text": [
            "Epoch: 3. Train. Loss: 0.607 | Accuracy: 0.774 | F1: 0.687:  28%|██▊       | 21/76 [21:54<57:32, 62.77s/it]"
          ]
        },
        {
          "output_type": "stream",
          "name": "stdout",
          "text": [
            "\n",
            "\n"
          ]
        },
        {
          "output_type": "stream",
          "name": "stderr",
          "text": [
            "Epoch: 3. Train. Loss: 0.597 | Accuracy: 0.778 | F1: 0.693:  29%|██▉       | 22/76 [22:56<56:22, 62.65s/it]"
          ]
        },
        {
          "output_type": "stream",
          "name": "stdout",
          "text": [
            "\n",
            "\n"
          ]
        },
        {
          "output_type": "stream",
          "name": "stderr",
          "text": [
            "Epoch: 3. Train. Loss: 0.579 | Accuracy: 0.788 | F1: 0.706:  30%|███       | 23/76 [23:59<55:22, 62.69s/it]"
          ]
        },
        {
          "output_type": "stream",
          "name": "stdout",
          "text": [
            "\n",
            "\n"
          ]
        },
        {
          "output_type": "stream",
          "name": "stderr",
          "text": [
            "Epoch: 3. Train. Loss: 0.580 | Accuracy: 0.786 | F1: 0.704:  32%|███▏      | 24/76 [25:02<54:21, 62.73s/it]"
          ]
        },
        {
          "output_type": "stream",
          "name": "stdout",
          "text": [
            "\n",
            "\n"
          ]
        },
        {
          "output_type": "stream",
          "name": "stderr",
          "text": [
            "Epoch: 3. Train. Loss: 0.580 | Accuracy: 0.785 | F1: 0.701:  33%|███▎      | 25/76 [26:05<53:29, 62.94s/it]"
          ]
        },
        {
          "output_type": "stream",
          "name": "stdout",
          "text": [
            "\n",
            "\n"
          ]
        },
        {
          "output_type": "stream",
          "name": "stderr",
          "text": [
            "Epoch: 3. Train. Loss: 0.572 | Accuracy: 0.788 | F1: 0.706:  34%|███▍      | 26/76 [27:09<52:47, 63.35s/it]"
          ]
        },
        {
          "output_type": "stream",
          "name": "stdout",
          "text": [
            "\n",
            "\n"
          ]
        },
        {
          "output_type": "stream",
          "name": "stderr",
          "text": [
            "Epoch: 3. Train. Loss: 0.572 | Accuracy: 0.787 | F1: 0.703:  36%|███▌      | 27/76 [28:13<51:49, 63.47s/it]"
          ]
        },
        {
          "output_type": "stream",
          "name": "stdout",
          "text": [
            "\n",
            "\n"
          ]
        },
        {
          "output_type": "stream",
          "name": "stderr",
          "text": [
            "Epoch: 3. Train. Loss: 0.566 | Accuracy: 0.790 | F1: 0.707:  37%|███▋      | 28/76 [29:17<50:57, 63.70s/it]"
          ]
        },
        {
          "output_type": "stream",
          "name": "stdout",
          "text": [
            "\n",
            "\n"
          ]
        },
        {
          "output_type": "stream",
          "name": "stderr",
          "text": [
            "Epoch: 3. Train. Loss: 0.560 | Accuracy: 0.793 | F1: 0.711:  38%|███▊      | 29/76 [30:22<50:08, 64.01s/it]"
          ]
        },
        {
          "output_type": "stream",
          "name": "stdout",
          "text": [
            "\n",
            "\n"
          ]
        },
        {
          "output_type": "stream",
          "name": "stderr",
          "text": [
            "Epoch: 3. Train. Loss: 0.560 | Accuracy: 0.792 | F1: 0.709:  39%|███▉      | 30/76 [31:26<49:08, 64.11s/it]"
          ]
        },
        {
          "output_type": "stream",
          "name": "stdout",
          "text": [
            "\n",
            "\n"
          ]
        },
        {
          "output_type": "stream",
          "name": "stderr",
          "text": [
            "Epoch: 3. Train. Loss: 0.555 | Accuracy: 0.794 | F1: 0.712:  41%|████      | 31/76 [32:31<48:07, 64.17s/it]"
          ]
        },
        {
          "output_type": "stream",
          "name": "stdout",
          "text": [
            "\n",
            "\n"
          ]
        },
        {
          "output_type": "stream",
          "name": "stderr",
          "text": [
            "Epoch: 3. Train. Loss: 0.561 | Accuracy: 0.789 | F1: 0.705:  42%|████▏     | 32/76 [33:34<46:53, 63.95s/it]"
          ]
        },
        {
          "output_type": "stream",
          "name": "stdout",
          "text": [
            "\n",
            "\n"
          ]
        },
        {
          "output_type": "stream",
          "name": "stderr",
          "text": [
            "Epoch: 3. Train. Loss: 0.567 | Accuracy: 0.784 | F1: 0.698:  43%|████▎     | 33/76 [34:38<45:52, 64.02s/it]"
          ]
        },
        {
          "output_type": "stream",
          "name": "stdout",
          "text": [
            "\n",
            "\n"
          ]
        },
        {
          "output_type": "stream",
          "name": "stderr",
          "text": [
            "Epoch: 3. Train. Loss: 0.566 | Accuracy: 0.783 | F1: 0.697:  45%|████▍     | 34/76 [35:42<44:48, 64.02s/it]"
          ]
        },
        {
          "output_type": "stream",
          "name": "stdout",
          "text": [
            "\n",
            "\n"
          ]
        },
        {
          "output_type": "stream",
          "name": "stderr",
          "text": [
            "Epoch: 3. Train. Loss: 0.569 | Accuracy: 0.779 | F1: 0.691:  46%|████▌     | 35/76 [36:47<43:48, 64.11s/it]"
          ]
        },
        {
          "output_type": "stream",
          "name": "stdout",
          "text": [
            "\n",
            "\n"
          ]
        },
        {
          "output_type": "stream",
          "name": "stderr",
          "text": [
            "Epoch: 3. Train. Loss: 0.570 | Accuracy: 0.778 | F1: 0.689:  47%|████▋     | 36/76 [37:51<42:43, 64.10s/it]"
          ]
        },
        {
          "output_type": "stream",
          "name": "stdout",
          "text": [
            "\n",
            "\n"
          ]
        },
        {
          "output_type": "stream",
          "name": "stderr",
          "text": [
            "Epoch: 3. Train. Loss: 0.571 | Accuracy: 0.777 | F1: 0.688:  49%|████▊     | 37/76 [38:55<41:40, 64.13s/it]"
          ]
        },
        {
          "output_type": "stream",
          "name": "stdout",
          "text": [
            "\n",
            "\n"
          ]
        },
        {
          "output_type": "stream",
          "name": "stderr",
          "text": [
            "Epoch: 3. Train. Loss: 0.572 | Accuracy: 0.776 | F1: 0.687:  50%|█████     | 38/76 [39:59<40:35, 64.09s/it]"
          ]
        },
        {
          "output_type": "stream",
          "name": "stdout",
          "text": [
            "\n",
            "\n"
          ]
        },
        {
          "output_type": "stream",
          "name": "stderr",
          "text": [
            "Epoch: 3. Train. Loss: 0.571 | Accuracy: 0.779 | F1: 0.690:  51%|█████▏    | 39/76 [41:03<39:25, 63.94s/it]"
          ]
        },
        {
          "output_type": "stream",
          "name": "stdout",
          "text": [
            "\n",
            "\n"
          ]
        },
        {
          "output_type": "stream",
          "name": "stderr",
          "text": [
            "Epoch: 3. Train. Loss: 0.565 | Accuracy: 0.784 | F1: 0.698:  53%|█████▎    | 40/76 [42:06<38:18, 63.84s/it]"
          ]
        },
        {
          "output_type": "stream",
          "name": "stdout",
          "text": [
            "\n",
            "\n"
          ]
        },
        {
          "output_type": "stream",
          "name": "stderr",
          "text": [
            "Epoch: 3. Train. Loss: 0.566 | Accuracy: 0.784 | F1: 0.696:  54%|█████▍    | 41/76 [43:10<37:13, 63.83s/it]"
          ]
        },
        {
          "output_type": "stream",
          "name": "stdout",
          "text": [
            "\n",
            "\n"
          ]
        },
        {
          "output_type": "stream",
          "name": "stderr",
          "text": [
            "Epoch: 3. Train. Loss: 0.555 | Accuracy: 0.789 | F1: 0.704:  55%|█████▌    | 42/76 [44:13<36:03, 63.64s/it]"
          ]
        },
        {
          "output_type": "stream",
          "name": "stdout",
          "text": [
            "\n",
            "\n"
          ]
        },
        {
          "output_type": "stream",
          "name": "stderr",
          "text": [
            "Epoch: 3. Train. Loss: 0.558 | Accuracy: 0.788 | F1: 0.702:  57%|█████▋    | 43/76 [45:16<34:47, 63.26s/it]"
          ]
        },
        {
          "output_type": "stream",
          "name": "stdout",
          "text": [
            "\n",
            "\n"
          ]
        },
        {
          "output_type": "stream",
          "name": "stderr",
          "text": [
            "Epoch: 3. Train. Loss: 0.555 | Accuracy: 0.790 | F1: 0.705:  58%|█████▊    | 44/76 [46:18<33:33, 62.92s/it]"
          ]
        },
        {
          "output_type": "stream",
          "name": "stdout",
          "text": [
            "\n",
            "\n"
          ]
        },
        {
          "output_type": "stream",
          "name": "stderr",
          "text": [
            "Epoch: 3. Train. Loss: 0.551 | Accuracy: 0.792 | F1: 0.707:  59%|█████▉    | 45/76 [47:19<32:16, 62.48s/it]"
          ]
        },
        {
          "output_type": "stream",
          "name": "stdout",
          "text": [
            "\n",
            "\n"
          ]
        },
        {
          "output_type": "stream",
          "name": "stderr",
          "text": [
            "Epoch: 3. Train. Loss: 0.557 | Accuracy: 0.791 | F1: 0.706:  61%|██████    | 46/76 [48:21<31:05, 62.19s/it]"
          ]
        },
        {
          "output_type": "stream",
          "name": "stdout",
          "text": [
            "\n",
            "\n"
          ]
        },
        {
          "output_type": "stream",
          "name": "stderr",
          "text": [
            "Epoch: 3. Train. Loss: 0.546 | Accuracy: 0.795 | F1: 0.712:  62%|██████▏   | 47/76 [49:22<29:55, 61.91s/it]"
          ]
        },
        {
          "output_type": "stream",
          "name": "stdout",
          "text": [
            "\n",
            "\n"
          ]
        },
        {
          "output_type": "stream",
          "name": "stderr",
          "text": [
            "Epoch: 3. Train. Loss: 0.552 | Accuracy: 0.794 | F1: 0.711:  63%|██████▎   | 48/76 [50:24<28:54, 61.96s/it]"
          ]
        },
        {
          "output_type": "stream",
          "name": "stdout",
          "text": [
            "\n",
            "\n"
          ]
        },
        {
          "output_type": "stream",
          "name": "stderr",
          "text": [
            "Epoch: 3. Train. Loss: 0.542 | Accuracy: 0.798 | F1: 0.717:  64%|██████▍   | 49/76 [51:26<27:56, 62.08s/it]"
          ]
        },
        {
          "output_type": "stream",
          "name": "stdout",
          "text": [
            "\n",
            "\n"
          ]
        },
        {
          "output_type": "stream",
          "name": "stderr",
          "text": [
            "Epoch: 3. Train. Loss: 0.553 | Accuracy: 0.795 | F1: 0.712:  66%|██████▌   | 50/76 [52:29<26:54, 62.11s/it]"
          ]
        },
        {
          "output_type": "stream",
          "name": "stdout",
          "text": [
            "\n",
            "\n"
          ]
        },
        {
          "output_type": "stream",
          "name": "stderr",
          "text": [
            "Epoch: 3. Train. Loss: 0.544 | Accuracy: 0.799 | F1: 0.718:  67%|██████▋   | 51/76 [53:30<25:50, 62.01s/it]"
          ]
        },
        {
          "output_type": "stream",
          "name": "stdout",
          "text": [
            "\n",
            "\n"
          ]
        },
        {
          "output_type": "stream",
          "name": "stderr",
          "text": [
            "Epoch: 3. Train. Loss: 0.545 | Accuracy: 0.798 | F1: 0.716:  68%|██████▊   | 52/76 [54:33<24:50, 62.11s/it]"
          ]
        },
        {
          "output_type": "stream",
          "name": "stdout",
          "text": [
            "\n",
            "\n"
          ]
        },
        {
          "output_type": "stream",
          "name": "stderr",
          "text": [
            "Epoch: 3. Train. Loss: 0.546 | Accuracy: 0.797 | F1: 0.715:  70%|██████▉   | 53/76 [55:35<23:47, 62.06s/it]"
          ]
        },
        {
          "output_type": "stream",
          "name": "stdout",
          "text": [
            "\n",
            "\n"
          ]
        },
        {
          "output_type": "stream",
          "name": "stderr",
          "text": [
            "Epoch: 3. Train. Loss: 0.546 | Accuracy: 0.796 | F1: 0.713:  71%|███████   | 54/76 [56:37<22:47, 62.16s/it]"
          ]
        },
        {
          "output_type": "stream",
          "name": "stdout",
          "text": [
            "\n",
            "\n"
          ]
        },
        {
          "output_type": "stream",
          "name": "stderr",
          "text": [
            "Epoch: 3. Train. Loss: 0.543 | Accuracy: 0.800 | F1: 0.719:  72%|███████▏  | 55/76 [57:39<21:42, 62.05s/it]"
          ]
        },
        {
          "output_type": "stream",
          "name": "stdout",
          "text": [
            "\n",
            "\n"
          ]
        },
        {
          "output_type": "stream",
          "name": "stderr",
          "text": [
            "Epoch: 3. Train. Loss: 0.543 | Accuracy: 0.799 | F1: 0.717:  74%|███████▎  | 56/76 [58:41<20:40, 62.05s/it]"
          ]
        },
        {
          "output_type": "stream",
          "name": "stdout",
          "text": [
            "\n",
            "\n"
          ]
        },
        {
          "output_type": "stream",
          "name": "stderr",
          "text": [
            "Epoch: 3. Train. Loss: 0.543 | Accuracy: 0.798 | F1: 0.716:  75%|███████▌  | 57/76 [59:42<19:36, 61.92s/it]"
          ]
        },
        {
          "output_type": "stream",
          "name": "stdout",
          "text": [
            "\n",
            "\n"
          ]
        },
        {
          "output_type": "stream",
          "name": "stderr",
          "text": [
            "Epoch: 3. Train. Loss: 0.543 | Accuracy: 0.797 | F1: 0.715:  76%|███████▋  | 58/76 [1:00:44<18:32, 61.81s/it]"
          ]
        },
        {
          "output_type": "stream",
          "name": "stdout",
          "text": [
            "\n",
            "\n"
          ]
        },
        {
          "output_type": "stream",
          "name": "stderr",
          "text": [
            "Epoch: 3. Train. Loss: 0.544 | Accuracy: 0.797 | F1: 0.714:  78%|███████▊  | 59/76 [1:01:47<17:34, 62.06s/it]"
          ]
        },
        {
          "output_type": "stream",
          "name": "stdout",
          "text": [
            "\n",
            "\n"
          ]
        },
        {
          "output_type": "stream",
          "name": "stderr",
          "text": [
            "Epoch: 3. Train. Loss: 0.544 | Accuracy: 0.796 | F1: 0.712:  79%|███████▉  | 60/76 [1:02:50<16:36, 62.31s/it]"
          ]
        },
        {
          "output_type": "stream",
          "name": "stdout",
          "text": [
            "\n",
            "\n"
          ]
        },
        {
          "output_type": "stream",
          "name": "stderr",
          "text": [
            "Epoch: 3. Train. Loss: 0.542 | Accuracy: 0.797 | F1: 0.714:  80%|████████  | 61/76 [1:03:52<15:34, 62.33s/it]"
          ]
        },
        {
          "output_type": "stream",
          "name": "stdout",
          "text": [
            "\n",
            "\n"
          ]
        },
        {
          "output_type": "stream",
          "name": "stderr",
          "text": [
            "Epoch: 3. Train. Loss: 0.540 | Accuracy: 0.798 | F1: 0.716:  82%|████████▏ | 62/76 [1:04:54<14:32, 62.31s/it]"
          ]
        },
        {
          "output_type": "stream",
          "name": "stdout",
          "text": [
            "\n",
            "\n"
          ]
        },
        {
          "output_type": "stream",
          "name": "stderr",
          "text": [
            "Epoch: 3. Train. Loss: 0.538 | Accuracy: 0.800 | F1: 0.717:  83%|████████▎ | 63/76 [1:05:57<13:31, 62.40s/it]"
          ]
        },
        {
          "output_type": "stream",
          "name": "stdout",
          "text": [
            "\n",
            "\n"
          ]
        },
        {
          "output_type": "stream",
          "name": "stderr",
          "text": [
            "Epoch: 3. Train. Loss: 0.535 | Accuracy: 0.801 | F1: 0.719:  84%|████████▍ | 64/76 [1:06:59<12:29, 62.46s/it]"
          ]
        },
        {
          "output_type": "stream",
          "name": "stdout",
          "text": [
            "\n",
            "\n"
          ]
        },
        {
          "output_type": "stream",
          "name": "stderr",
          "text": [
            "Epoch: 3. Train. Loss: 0.533 | Accuracy: 0.802 | F1: 0.720:  86%|████████▌ | 65/76 [1:08:02<11:26, 62.40s/it]"
          ]
        },
        {
          "output_type": "stream",
          "name": "stdout",
          "text": [
            "\n",
            "\n"
          ]
        },
        {
          "output_type": "stream",
          "name": "stderr",
          "text": [
            "Epoch: 3. Train. Loss: 0.530 | Accuracy: 0.803 | F1: 0.722:  87%|████████▋ | 66/76 [1:09:04<10:24, 62.47s/it]"
          ]
        },
        {
          "output_type": "stream",
          "name": "stdout",
          "text": [
            "\n",
            "\n"
          ]
        },
        {
          "output_type": "stream",
          "name": "stderr",
          "text": [
            "Epoch: 3. Train. Loss: 0.523 | Accuracy: 0.806 | F1: 0.726:  88%|████████▊ | 67/76 [1:10:06<09:21, 62.35s/it]"
          ]
        },
        {
          "output_type": "stream",
          "name": "stdout",
          "text": [
            "\n",
            "\n"
          ]
        },
        {
          "output_type": "stream",
          "name": "stderr",
          "text": [
            "Epoch: 3. Train. Loss: 0.517 | Accuracy: 0.809 | F1: 0.730:  89%|████████▉ | 68/76 [1:11:09<08:19, 62.39s/it]"
          ]
        },
        {
          "output_type": "stream",
          "name": "stdout",
          "text": [
            "\n",
            "\n"
          ]
        },
        {
          "output_type": "stream",
          "name": "stderr",
          "text": [
            "Epoch: 3. Train. Loss: 0.531 | Accuracy: 0.804 | F1: 0.724:  91%|█████████ | 69/76 [1:12:11<07:16, 62.37s/it]"
          ]
        },
        {
          "output_type": "stream",
          "name": "stdout",
          "text": [
            "\n",
            "\n"
          ]
        },
        {
          "output_type": "stream",
          "name": "stderr",
          "text": [
            "Epoch: 3. Train. Loss: 0.529 | Accuracy: 0.805 | F1: 0.726:  92%|█████████▏| 70/76 [1:13:13<06:13, 62.27s/it]"
          ]
        },
        {
          "output_type": "stream",
          "name": "stdout",
          "text": [
            "\n",
            "\n"
          ]
        },
        {
          "output_type": "stream",
          "name": "stderr",
          "text": [
            "Epoch: 3. Train. Loss: 0.532 | Accuracy: 0.805 | F1: 0.724:  93%|█████████▎| 71/76 [1:14:15<05:11, 62.25s/it]"
          ]
        },
        {
          "output_type": "stream",
          "name": "stdout",
          "text": [
            "\n",
            "\n"
          ]
        },
        {
          "output_type": "stream",
          "name": "stderr",
          "text": [
            "Epoch: 3. Train. Loss: 0.526 | Accuracy: 0.807 | F1: 0.728:  95%|█████████▍| 72/76 [1:15:18<04:09, 62.32s/it]"
          ]
        },
        {
          "output_type": "stream",
          "name": "stdout",
          "text": [
            "\n",
            "\n"
          ]
        },
        {
          "output_type": "stream",
          "name": "stderr",
          "text": [
            "Epoch: 3. Train. Loss: 0.524 | Accuracy: 0.808 | F1: 0.729:  96%|█████████▌| 73/76 [1:16:21<03:07, 62.43s/it]"
          ]
        },
        {
          "output_type": "stream",
          "name": "stdout",
          "text": [
            "\n",
            "\n"
          ]
        },
        {
          "output_type": "stream",
          "name": "stderr",
          "text": [
            "Epoch: 3. Train. Loss: 0.522 | Accuracy: 0.809 | F1: 0.731:  97%|█████████▋| 74/76 [1:17:23<02:04, 62.44s/it]"
          ]
        },
        {
          "output_type": "stream",
          "name": "stdout",
          "text": [
            "\n",
            "\n"
          ]
        },
        {
          "output_type": "stream",
          "name": "stderr",
          "text": [
            "Epoch: 3. Train. Loss: 0.525 | Accuracy: 0.807 | F1: 0.727:  99%|█████████▊| 75/76 [1:18:25<01:02, 62.45s/it]"
          ]
        },
        {
          "output_type": "stream",
          "name": "stdout",
          "text": [
            "\n",
            "\n"
          ]
        },
        {
          "output_type": "stream",
          "name": "stderr",
          "text": [
            "Epoch: 3. Train. Loss: 0.522 | Accuracy: 0.809 | F1: 0.731: 100%|██████████| 76/76 [1:19:00<00:00, 62.38s/it]\n"
          ]
        },
        {
          "output_type": "stream",
          "name": "stdout",
          "text": [
            "\n",
            "\n"
          ]
        },
        {
          "output_type": "stream",
          "name": "stderr",
          "text": [
            "Epoch: 3. Validation. Loss: 0.486 | Accuracy: 0.812 | F1: 0.734: 100%|██████████| 38/38 [10:36<00:00, 16.74s/it]\n"
          ]
        },
        {
          "output_type": "stream",
          "name": "stdout",
          "text": [
            "\n",
            "Current best model: 1.00000\n",
            "\n",
            "learning rate: 0.001\n"
          ]
        },
        {
          "output_type": "stream",
          "name": "stderr",
          "text": [
            "Epoch: 4. Train. Loss: 0.412 | Accuracy: 0.875 | F1: 0.817:   1%|▏         | 1/76 [01:04<1:20:47, 64.63s/it]"
          ]
        },
        {
          "output_type": "stream",
          "name": "stdout",
          "text": [
            "\n",
            "\n"
          ]
        },
        {
          "output_type": "stream",
          "name": "stderr",
          "text": [
            "Epoch: 4. Train. Loss: 0.350 | Accuracy: 0.938 | F1: 0.908:   3%|▎         | 2/76 [02:07<1:18:33, 63.70s/it]"
          ]
        },
        {
          "output_type": "stream",
          "name": "stdout",
          "text": [
            "\n",
            "\n"
          ]
        },
        {
          "output_type": "stream",
          "name": "stderr",
          "text": [
            "Epoch: 4. Train. Loss: 0.422 | Accuracy: 0.875 | F1: 0.820:   4%|▍         | 3/76 [03:10<1:17:16, 63.52s/it]"
          ]
        },
        {
          "output_type": "stream",
          "name": "stdout",
          "text": [
            "\n",
            "\n"
          ]
        },
        {
          "output_type": "stream",
          "name": "stderr",
          "text": [
            "Epoch: 4. Train. Loss: 0.460 | Accuracy: 0.844 | F1: 0.776:   5%|▌         | 4/76 [04:14<1:16:03, 63.38s/it]"
          ]
        },
        {
          "output_type": "stream",
          "name": "stdout",
          "text": [
            "\n",
            "\n"
          ]
        },
        {
          "output_type": "stream",
          "name": "stderr",
          "text": [
            "Epoch: 4. Train. Loss: 0.446 | Accuracy: 0.850 | F1: 0.784:   7%|▋         | 5/76 [05:17<1:14:55, 63.32s/it]"
          ]
        },
        {
          "output_type": "stream",
          "name": "stdout",
          "text": [
            "\n",
            "\n"
          ]
        },
        {
          "output_type": "stream",
          "name": "stderr",
          "text": [
            "\rEpoch: 4. Train. Loss: 0.446 | Accuracy: 0.850 | F1: 0.784:   7%|▋         | 5/76 [05:23<1:16:40, 64.79s/it]\n"
          ]
        },
        {
          "output_type": "error",
          "ename": "KeyboardInterrupt",
          "evalue": "ignored",
          "traceback": [
            "\u001b[0;31m---------------------------------------------------------------------------\u001b[0m",
            "\u001b[0;31mKeyboardInterrupt\u001b[0m                         Traceback (most recent call last)",
            "\u001b[0;32m<ipython-input-26-377ad79c2815>\u001b[0m in \u001b[0;36m<module>\u001b[0;34m()\u001b[0m\n\u001b[1;32m     12\u001b[0m \u001b[0;34m\u001b[0m\u001b[0m\n\u001b[1;32m     13\u001b[0m \u001b[0;32mfor\u001b[0m \u001b[0mepoch\u001b[0m \u001b[0;32min\u001b[0m \u001b[0mrange\u001b[0m\u001b[0;34m(\u001b[0m\u001b[0;36m1\u001b[0m\u001b[0;34m,\u001b[0m \u001b[0mparams\u001b[0m\u001b[0;34m[\u001b[0m\u001b[0;34m\"epochs\"\u001b[0m\u001b[0;34m]\u001b[0m \u001b[0;34m+\u001b[0m \u001b[0;36m1\u001b[0m\u001b[0;34m)\u001b[0m\u001b[0;34m:\u001b[0m\u001b[0;34m\u001b[0m\u001b[0;34m\u001b[0m\u001b[0m\n\u001b[0;32m---> 14\u001b[0;31m   \u001b[0mtrain_epoch_loss\u001b[0m\u001b[0;34m,\u001b[0m \u001b[0mtrain_epoch_acc\u001b[0m\u001b[0;34m,\u001b[0m \u001b[0mtrain_epoch_f1\u001b[0m\u001b[0;34m,\u001b[0m \u001b[0mtrain_epoch_auc\u001b[0m \u001b[0;34m=\u001b[0m \u001b[0mtrain\u001b[0m\u001b[0;34m(\u001b[0m\u001b[0mtrain_loader\u001b[0m\u001b[0;34m,\u001b[0m \u001b[0mmodel\u001b[0m\u001b[0;34m,\u001b[0m \u001b[0mcriterion\u001b[0m\u001b[0;34m,\u001b[0m \u001b[0moptimizer\u001b[0m\u001b[0;34m,\u001b[0m \u001b[0mepoch\u001b[0m\u001b[0;34m,\u001b[0m \u001b[0mparams\u001b[0m\u001b[0;34m)\u001b[0m\u001b[0;34m\u001b[0m\u001b[0;34m\u001b[0m\u001b[0m\n\u001b[0m\u001b[1;32m     15\u001b[0m   \u001b[0mval_epoch_loss\u001b[0m\u001b[0;34m,\u001b[0m \u001b[0mval_epoch_acc\u001b[0m\u001b[0;34m,\u001b[0m \u001b[0mval_epoch_f1\u001b[0m\u001b[0;34m,\u001b[0m \u001b[0mval_epoch_auc\u001b[0m \u001b[0;34m=\u001b[0m \u001b[0mvalidate\u001b[0m\u001b[0;34m(\u001b[0m\u001b[0mval_loader\u001b[0m\u001b[0;34m,\u001b[0m \u001b[0mmodel\u001b[0m\u001b[0;34m,\u001b[0m \u001b[0mcriterion\u001b[0m\u001b[0;34m,\u001b[0m \u001b[0mepoch\u001b[0m\u001b[0;34m,\u001b[0m \u001b[0mparams\u001b[0m\u001b[0;34m)\u001b[0m\u001b[0;34m\u001b[0m\u001b[0;34m\u001b[0m\u001b[0m\n\u001b[1;32m     16\u001b[0m   \u001b[0mtrain_loss\u001b[0m\u001b[0;34m.\u001b[0m\u001b[0mappend\u001b[0m\u001b[0;34m(\u001b[0m\u001b[0mtrain_epoch_loss\u001b[0m\u001b[0;34m)\u001b[0m\u001b[0;34m;\u001b[0m\u001b[0mtrain_acc\u001b[0m\u001b[0;34m.\u001b[0m\u001b[0mappend\u001b[0m\u001b[0;34m(\u001b[0m\u001b[0mtrain_epoch_acc\u001b[0m\u001b[0;34m)\u001b[0m\u001b[0;34m;\u001b[0m\u001b[0mtrain_f1\u001b[0m\u001b[0;34m.\u001b[0m\u001b[0mappend\u001b[0m\u001b[0;34m(\u001b[0m\u001b[0mtrain_epoch_f1\u001b[0m\u001b[0;34m)\u001b[0m\u001b[0;34m;\u001b[0m\u001b[0mtrain_auc\u001b[0m\u001b[0;34m.\u001b[0m\u001b[0mappend\u001b[0m\u001b[0;34m(\u001b[0m\u001b[0mtrain_epoch_auc\u001b[0m\u001b[0;34m)\u001b[0m\u001b[0;34m\u001b[0m\u001b[0;34m\u001b[0m\u001b[0m\n",
            "\u001b[0;32m<ipython-input-24-c8b9936a4842>\u001b[0m in \u001b[0;36mtrain\u001b[0;34m(train_loader, model, criterion, optimizer, epoch, params)\u001b[0m\n\u001b[1;32m     12\u001b[0m     \u001b[0mimages\u001b[0m \u001b[0;34m=\u001b[0m \u001b[0mimages\u001b[0m\u001b[0;34m.\u001b[0m\u001b[0mto\u001b[0m\u001b[0;34m(\u001b[0m\u001b[0mparams\u001b[0m\u001b[0;34m[\u001b[0m\u001b[0;34m\"device\"\u001b[0m\u001b[0;34m]\u001b[0m\u001b[0;34m,\u001b[0m \u001b[0mnon_blocking\u001b[0m\u001b[0;34m=\u001b[0m\u001b[0;32mTrue\u001b[0m\u001b[0;34m)\u001b[0m\u001b[0;34m\u001b[0m\u001b[0;34m\u001b[0m\u001b[0m\n\u001b[1;32m     13\u001b[0m     \u001b[0mtargets\u001b[0m \u001b[0;34m=\u001b[0m \u001b[0mtargets\u001b[0m\u001b[0;34m.\u001b[0m\u001b[0mto\u001b[0m\u001b[0;34m(\u001b[0m\u001b[0mparams\u001b[0m\u001b[0;34m[\u001b[0m\u001b[0;34m\"device\"\u001b[0m\u001b[0;34m]\u001b[0m\u001b[0;34m,\u001b[0m \u001b[0mnon_blocking\u001b[0m\u001b[0;34m=\u001b[0m\u001b[0;32mTrue\u001b[0m\u001b[0;34m)\u001b[0m\u001b[0;34m.\u001b[0m\u001b[0mfloat\u001b[0m\u001b[0;34m(\u001b[0m\u001b[0;34m)\u001b[0m\u001b[0;34m.\u001b[0m\u001b[0mview\u001b[0m\u001b[0;34m(\u001b[0m\u001b[0;34m-\u001b[0m\u001b[0;36m1\u001b[0m\u001b[0;34m,\u001b[0m \u001b[0;36m1\u001b[0m\u001b[0;34m)\u001b[0m\u001b[0;34m\u001b[0m\u001b[0;34m\u001b[0m\u001b[0m\n\u001b[0;32m---> 14\u001b[0;31m     \u001b[0moutputs\u001b[0m \u001b[0;34m=\u001b[0m \u001b[0mmodel\u001b[0m\u001b[0;34m(\u001b[0m\u001b[0mimages\u001b[0m\u001b[0;34m)\u001b[0m\u001b[0;34m\u001b[0m\u001b[0;34m\u001b[0m\u001b[0m\n\u001b[0m\u001b[1;32m     15\u001b[0m     \u001b[0mloss\u001b[0m \u001b[0;34m=\u001b[0m \u001b[0mcriterion\u001b[0m\u001b[0;34m(\u001b[0m\u001b[0moutputs\u001b[0m\u001b[0;34m,\u001b[0m \u001b[0mtargets\u001b[0m\u001b[0;34m)\u001b[0m\u001b[0;34m\u001b[0m\u001b[0;34m\u001b[0m\u001b[0m\n\u001b[1;32m     16\u001b[0m     \u001b[0maccuracy\u001b[0m \u001b[0;34m=\u001b[0m \u001b[0maccuracy_score\u001b[0m\u001b[0;34m(\u001b[0m\u001b[0moutputs\u001b[0m\u001b[0;34m,\u001b[0m \u001b[0mtargets\u001b[0m\u001b[0;34m)\u001b[0m\u001b[0;34m\u001b[0m\u001b[0;34m\u001b[0m\u001b[0m\n",
            "\u001b[0;32m/usr/local/lib/python3.7/dist-packages/torch/nn/modules/module.py\u001b[0m in \u001b[0;36m_call_impl\u001b[0;34m(self, *input, **kwargs)\u001b[0m\n\u001b[1;32m   1100\u001b[0m         if not (self._backward_hooks or self._forward_hooks or self._forward_pre_hooks or _global_backward_hooks\n\u001b[1;32m   1101\u001b[0m                 or _global_forward_hooks or _global_forward_pre_hooks):\n\u001b[0;32m-> 1102\u001b[0;31m             \u001b[0;32mreturn\u001b[0m \u001b[0mforward_call\u001b[0m\u001b[0;34m(\u001b[0m\u001b[0;34m*\u001b[0m\u001b[0minput\u001b[0m\u001b[0;34m,\u001b[0m \u001b[0;34m**\u001b[0m\u001b[0mkwargs\u001b[0m\u001b[0;34m)\u001b[0m\u001b[0;34m\u001b[0m\u001b[0;34m\u001b[0m\u001b[0m\n\u001b[0m\u001b[1;32m   1103\u001b[0m         \u001b[0;31m# Do not call functions when jit is used\u001b[0m\u001b[0;34m\u001b[0m\u001b[0;34m\u001b[0m\u001b[0;34m\u001b[0m\u001b[0m\n\u001b[1;32m   1104\u001b[0m         \u001b[0mfull_backward_hooks\u001b[0m\u001b[0;34m,\u001b[0m \u001b[0mnon_full_backward_hooks\u001b[0m \u001b[0;34m=\u001b[0m \u001b[0;34m[\u001b[0m\u001b[0;34m]\u001b[0m\u001b[0;34m,\u001b[0m \u001b[0;34m[\u001b[0m\u001b[0;34m]\u001b[0m\u001b[0;34m\u001b[0m\u001b[0;34m\u001b[0m\u001b[0m\n",
            "\u001b[0;32m<ipython-input-17-efe19fc309ad>\u001b[0m in \u001b[0;36mforward\u001b[0;34m(self, x)\u001b[0m\n\u001b[1;32m      9\u001b[0m         \u001b[0;31m# self.model.classifier = nn.Linear(n_features, n_class)\u001b[0m\u001b[0;34m\u001b[0m\u001b[0;34m\u001b[0m\u001b[0;34m\u001b[0m\u001b[0m\n\u001b[1;32m     10\u001b[0m     \u001b[0;32mdef\u001b[0m \u001b[0mforward\u001b[0m\u001b[0;34m(\u001b[0m\u001b[0mself\u001b[0m\u001b[0;34m,\u001b[0m \u001b[0mx\u001b[0m\u001b[0;34m)\u001b[0m\u001b[0;34m:\u001b[0m\u001b[0;34m\u001b[0m\u001b[0;34m\u001b[0m\u001b[0m\n\u001b[0;32m---> 11\u001b[0;31m         \u001b[0mx\u001b[0m \u001b[0;34m=\u001b[0m \u001b[0mself\u001b[0m\u001b[0;34m.\u001b[0m\u001b[0mmodel\u001b[0m\u001b[0;34m(\u001b[0m\u001b[0mx\u001b[0m\u001b[0;34m)\u001b[0m\u001b[0;34m\u001b[0m\u001b[0;34m\u001b[0m\u001b[0m\n\u001b[0m\u001b[1;32m     12\u001b[0m         \u001b[0;32mreturn\u001b[0m \u001b[0mx\u001b[0m\u001b[0;34m\u001b[0m\u001b[0;34m\u001b[0m\u001b[0m\n",
            "\u001b[0;32m/usr/local/lib/python3.7/dist-packages/torch/nn/modules/module.py\u001b[0m in \u001b[0;36m_call_impl\u001b[0;34m(self, *input, **kwargs)\u001b[0m\n\u001b[1;32m   1100\u001b[0m         if not (self._backward_hooks or self._forward_hooks or self._forward_pre_hooks or _global_backward_hooks\n\u001b[1;32m   1101\u001b[0m                 or _global_forward_hooks or _global_forward_pre_hooks):\n\u001b[0;32m-> 1102\u001b[0;31m             \u001b[0;32mreturn\u001b[0m \u001b[0mforward_call\u001b[0m\u001b[0;34m(\u001b[0m\u001b[0;34m*\u001b[0m\u001b[0minput\u001b[0m\u001b[0;34m,\u001b[0m \u001b[0;34m**\u001b[0m\u001b[0mkwargs\u001b[0m\u001b[0;34m)\u001b[0m\u001b[0;34m\u001b[0m\u001b[0;34m\u001b[0m\u001b[0m\n\u001b[0m\u001b[1;32m   1103\u001b[0m         \u001b[0;31m# Do not call functions when jit is used\u001b[0m\u001b[0;34m\u001b[0m\u001b[0;34m\u001b[0m\u001b[0;34m\u001b[0m\u001b[0m\n\u001b[1;32m   1104\u001b[0m         \u001b[0mfull_backward_hooks\u001b[0m\u001b[0;34m,\u001b[0m \u001b[0mnon_full_backward_hooks\u001b[0m \u001b[0;34m=\u001b[0m \u001b[0;34m[\u001b[0m\u001b[0;34m]\u001b[0m\u001b[0;34m,\u001b[0m \u001b[0;34m[\u001b[0m\u001b[0;34m]\u001b[0m\u001b[0;34m\u001b[0m\u001b[0;34m\u001b[0m\u001b[0m\n",
            "\u001b[0;32m/usr/local/lib/python3.7/dist-packages/timm/models/vision_transformer.py\u001b[0m in \u001b[0;36mforward\u001b[0;34m(self, x)\u001b[0m\n\u001b[1;32m    361\u001b[0m \u001b[0;34m\u001b[0m\u001b[0m\n\u001b[1;32m    362\u001b[0m     \u001b[0;32mdef\u001b[0m \u001b[0mforward\u001b[0m\u001b[0;34m(\u001b[0m\u001b[0mself\u001b[0m\u001b[0;34m,\u001b[0m \u001b[0mx\u001b[0m\u001b[0;34m)\u001b[0m\u001b[0;34m:\u001b[0m\u001b[0;34m\u001b[0m\u001b[0;34m\u001b[0m\u001b[0m\n\u001b[0;32m--> 363\u001b[0;31m         \u001b[0mx\u001b[0m \u001b[0;34m=\u001b[0m \u001b[0mself\u001b[0m\u001b[0;34m.\u001b[0m\u001b[0mforward_features\u001b[0m\u001b[0;34m(\u001b[0m\u001b[0mx\u001b[0m\u001b[0;34m)\u001b[0m\u001b[0;34m\u001b[0m\u001b[0;34m\u001b[0m\u001b[0m\n\u001b[0m\u001b[1;32m    364\u001b[0m         \u001b[0;32mif\u001b[0m \u001b[0mself\u001b[0m\u001b[0;34m.\u001b[0m\u001b[0mhead_dist\u001b[0m \u001b[0;32mis\u001b[0m \u001b[0;32mnot\u001b[0m \u001b[0;32mNone\u001b[0m\u001b[0;34m:\u001b[0m\u001b[0;34m\u001b[0m\u001b[0;34m\u001b[0m\u001b[0m\n\u001b[1;32m    365\u001b[0m             \u001b[0mx\u001b[0m\u001b[0;34m,\u001b[0m \u001b[0mx_dist\u001b[0m \u001b[0;34m=\u001b[0m \u001b[0mself\u001b[0m\u001b[0;34m.\u001b[0m\u001b[0mhead\u001b[0m\u001b[0;34m(\u001b[0m\u001b[0mx\u001b[0m\u001b[0;34m[\u001b[0m\u001b[0;36m0\u001b[0m\u001b[0;34m]\u001b[0m\u001b[0;34m)\u001b[0m\u001b[0;34m,\u001b[0m \u001b[0mself\u001b[0m\u001b[0;34m.\u001b[0m\u001b[0mhead_dist\u001b[0m\u001b[0;34m(\u001b[0m\u001b[0mx\u001b[0m\u001b[0;34m[\u001b[0m\u001b[0;36m1\u001b[0m\u001b[0;34m]\u001b[0m\u001b[0;34m)\u001b[0m  \u001b[0;31m# x must be a tuple\u001b[0m\u001b[0;34m\u001b[0m\u001b[0;34m\u001b[0m\u001b[0m\n",
            "\u001b[0;32m/usr/local/lib/python3.7/dist-packages/timm/models/vision_transformer.py\u001b[0m in \u001b[0;36mforward_features\u001b[0;34m(self, x)\u001b[0m\n\u001b[1;32m    353\u001b[0m             \u001b[0mx\u001b[0m \u001b[0;34m=\u001b[0m \u001b[0mtorch\u001b[0m\u001b[0;34m.\u001b[0m\u001b[0mcat\u001b[0m\u001b[0;34m(\u001b[0m\u001b[0;34m(\u001b[0m\u001b[0mcls_token\u001b[0m\u001b[0;34m,\u001b[0m \u001b[0mself\u001b[0m\u001b[0;34m.\u001b[0m\u001b[0mdist_token\u001b[0m\u001b[0;34m.\u001b[0m\u001b[0mexpand\u001b[0m\u001b[0;34m(\u001b[0m\u001b[0mx\u001b[0m\u001b[0;34m.\u001b[0m\u001b[0mshape\u001b[0m\u001b[0;34m[\u001b[0m\u001b[0;36m0\u001b[0m\u001b[0;34m]\u001b[0m\u001b[0;34m,\u001b[0m \u001b[0;34m-\u001b[0m\u001b[0;36m1\u001b[0m\u001b[0;34m,\u001b[0m \u001b[0;34m-\u001b[0m\u001b[0;36m1\u001b[0m\u001b[0;34m)\u001b[0m\u001b[0;34m,\u001b[0m \u001b[0mx\u001b[0m\u001b[0;34m)\u001b[0m\u001b[0;34m,\u001b[0m \u001b[0mdim\u001b[0m\u001b[0;34m=\u001b[0m\u001b[0;36m1\u001b[0m\u001b[0;34m)\u001b[0m\u001b[0;34m\u001b[0m\u001b[0;34m\u001b[0m\u001b[0m\n\u001b[1;32m    354\u001b[0m         \u001b[0mx\u001b[0m \u001b[0;34m=\u001b[0m \u001b[0mself\u001b[0m\u001b[0;34m.\u001b[0m\u001b[0mpos_drop\u001b[0m\u001b[0;34m(\u001b[0m\u001b[0mx\u001b[0m \u001b[0;34m+\u001b[0m \u001b[0mself\u001b[0m\u001b[0;34m.\u001b[0m\u001b[0mpos_embed\u001b[0m\u001b[0;34m)\u001b[0m\u001b[0;34m\u001b[0m\u001b[0;34m\u001b[0m\u001b[0m\n\u001b[0;32m--> 355\u001b[0;31m         \u001b[0mx\u001b[0m \u001b[0;34m=\u001b[0m \u001b[0mself\u001b[0m\u001b[0;34m.\u001b[0m\u001b[0mblocks\u001b[0m\u001b[0;34m(\u001b[0m\u001b[0mx\u001b[0m\u001b[0;34m)\u001b[0m\u001b[0;34m\u001b[0m\u001b[0;34m\u001b[0m\u001b[0m\n\u001b[0m\u001b[1;32m    356\u001b[0m         \u001b[0mx\u001b[0m \u001b[0;34m=\u001b[0m \u001b[0mself\u001b[0m\u001b[0;34m.\u001b[0m\u001b[0mnorm\u001b[0m\u001b[0;34m(\u001b[0m\u001b[0mx\u001b[0m\u001b[0;34m)\u001b[0m\u001b[0;34m\u001b[0m\u001b[0;34m\u001b[0m\u001b[0m\n\u001b[1;32m    357\u001b[0m         \u001b[0;32mif\u001b[0m \u001b[0mself\u001b[0m\u001b[0;34m.\u001b[0m\u001b[0mdist_token\u001b[0m \u001b[0;32mis\u001b[0m \u001b[0;32mNone\u001b[0m\u001b[0;34m:\u001b[0m\u001b[0;34m\u001b[0m\u001b[0;34m\u001b[0m\u001b[0m\n",
            "\u001b[0;32m/usr/local/lib/python3.7/dist-packages/torch/nn/modules/module.py\u001b[0m in \u001b[0;36m_call_impl\u001b[0;34m(self, *input, **kwargs)\u001b[0m\n\u001b[1;32m   1100\u001b[0m         if not (self._backward_hooks or self._forward_hooks or self._forward_pre_hooks or _global_backward_hooks\n\u001b[1;32m   1101\u001b[0m                 or _global_forward_hooks or _global_forward_pre_hooks):\n\u001b[0;32m-> 1102\u001b[0;31m             \u001b[0;32mreturn\u001b[0m \u001b[0mforward_call\u001b[0m\u001b[0;34m(\u001b[0m\u001b[0;34m*\u001b[0m\u001b[0minput\u001b[0m\u001b[0;34m,\u001b[0m \u001b[0;34m**\u001b[0m\u001b[0mkwargs\u001b[0m\u001b[0;34m)\u001b[0m\u001b[0;34m\u001b[0m\u001b[0;34m\u001b[0m\u001b[0m\n\u001b[0m\u001b[1;32m   1103\u001b[0m         \u001b[0;31m# Do not call functions when jit is used\u001b[0m\u001b[0;34m\u001b[0m\u001b[0;34m\u001b[0m\u001b[0;34m\u001b[0m\u001b[0m\n\u001b[1;32m   1104\u001b[0m         \u001b[0mfull_backward_hooks\u001b[0m\u001b[0;34m,\u001b[0m \u001b[0mnon_full_backward_hooks\u001b[0m \u001b[0;34m=\u001b[0m \u001b[0;34m[\u001b[0m\u001b[0;34m]\u001b[0m\u001b[0;34m,\u001b[0m \u001b[0;34m[\u001b[0m\u001b[0;34m]\u001b[0m\u001b[0;34m\u001b[0m\u001b[0;34m\u001b[0m\u001b[0m\n",
            "\u001b[0;32m/usr/local/lib/python3.7/dist-packages/torch/nn/modules/container.py\u001b[0m in \u001b[0;36mforward\u001b[0;34m(self, input)\u001b[0m\n\u001b[1;32m    139\u001b[0m     \u001b[0;32mdef\u001b[0m \u001b[0mforward\u001b[0m\u001b[0;34m(\u001b[0m\u001b[0mself\u001b[0m\u001b[0;34m,\u001b[0m \u001b[0minput\u001b[0m\u001b[0;34m)\u001b[0m\u001b[0;34m:\u001b[0m\u001b[0;34m\u001b[0m\u001b[0;34m\u001b[0m\u001b[0m\n\u001b[1;32m    140\u001b[0m         \u001b[0;32mfor\u001b[0m \u001b[0mmodule\u001b[0m \u001b[0;32min\u001b[0m \u001b[0mself\u001b[0m\u001b[0;34m:\u001b[0m\u001b[0;34m\u001b[0m\u001b[0;34m\u001b[0m\u001b[0m\n\u001b[0;32m--> 141\u001b[0;31m             \u001b[0minput\u001b[0m \u001b[0;34m=\u001b[0m \u001b[0mmodule\u001b[0m\u001b[0;34m(\u001b[0m\u001b[0minput\u001b[0m\u001b[0;34m)\u001b[0m\u001b[0;34m\u001b[0m\u001b[0;34m\u001b[0m\u001b[0m\n\u001b[0m\u001b[1;32m    142\u001b[0m         \u001b[0;32mreturn\u001b[0m \u001b[0minput\u001b[0m\u001b[0;34m\u001b[0m\u001b[0;34m\u001b[0m\u001b[0m\n\u001b[1;32m    143\u001b[0m \u001b[0;34m\u001b[0m\u001b[0m\n",
            "\u001b[0;32m/usr/local/lib/python3.7/dist-packages/torch/nn/modules/module.py\u001b[0m in \u001b[0;36m_call_impl\u001b[0;34m(self, *input, **kwargs)\u001b[0m\n\u001b[1;32m   1100\u001b[0m         if not (self._backward_hooks or self._forward_hooks or self._forward_pre_hooks or _global_backward_hooks\n\u001b[1;32m   1101\u001b[0m                 or _global_forward_hooks or _global_forward_pre_hooks):\n\u001b[0;32m-> 1102\u001b[0;31m             \u001b[0;32mreturn\u001b[0m \u001b[0mforward_call\u001b[0m\u001b[0;34m(\u001b[0m\u001b[0;34m*\u001b[0m\u001b[0minput\u001b[0m\u001b[0;34m,\u001b[0m \u001b[0;34m**\u001b[0m\u001b[0mkwargs\u001b[0m\u001b[0;34m)\u001b[0m\u001b[0;34m\u001b[0m\u001b[0;34m\u001b[0m\u001b[0m\n\u001b[0m\u001b[1;32m   1103\u001b[0m         \u001b[0;31m# Do not call functions when jit is used\u001b[0m\u001b[0;34m\u001b[0m\u001b[0;34m\u001b[0m\u001b[0;34m\u001b[0m\u001b[0m\n\u001b[1;32m   1104\u001b[0m         \u001b[0mfull_backward_hooks\u001b[0m\u001b[0;34m,\u001b[0m \u001b[0mnon_full_backward_hooks\u001b[0m \u001b[0;34m=\u001b[0m \u001b[0;34m[\u001b[0m\u001b[0;34m]\u001b[0m\u001b[0;34m,\u001b[0m \u001b[0;34m[\u001b[0m\u001b[0;34m]\u001b[0m\u001b[0;34m\u001b[0m\u001b[0;34m\u001b[0m\u001b[0m\n",
            "\u001b[0;32m/usr/local/lib/python3.7/dist-packages/timm/models/vision_transformer.py\u001b[0m in \u001b[0;36mforward\u001b[0;34m(self, x)\u001b[0m\n\u001b[1;32m    228\u001b[0m     \u001b[0;32mdef\u001b[0m \u001b[0mforward\u001b[0m\u001b[0;34m(\u001b[0m\u001b[0mself\u001b[0m\u001b[0;34m,\u001b[0m \u001b[0mx\u001b[0m\u001b[0;34m)\u001b[0m\u001b[0;34m:\u001b[0m\u001b[0;34m\u001b[0m\u001b[0;34m\u001b[0m\u001b[0m\n\u001b[1;32m    229\u001b[0m         \u001b[0mx\u001b[0m \u001b[0;34m=\u001b[0m \u001b[0mx\u001b[0m \u001b[0;34m+\u001b[0m \u001b[0mself\u001b[0m\u001b[0;34m.\u001b[0m\u001b[0mdrop_path\u001b[0m\u001b[0;34m(\u001b[0m\u001b[0mself\u001b[0m\u001b[0;34m.\u001b[0m\u001b[0mattn\u001b[0m\u001b[0;34m(\u001b[0m\u001b[0mself\u001b[0m\u001b[0;34m.\u001b[0m\u001b[0mnorm1\u001b[0m\u001b[0;34m(\u001b[0m\u001b[0mx\u001b[0m\u001b[0;34m)\u001b[0m\u001b[0;34m)\u001b[0m\u001b[0;34m)\u001b[0m\u001b[0;34m\u001b[0m\u001b[0;34m\u001b[0m\u001b[0m\n\u001b[0;32m--> 230\u001b[0;31m         \u001b[0mx\u001b[0m \u001b[0;34m=\u001b[0m \u001b[0mx\u001b[0m \u001b[0;34m+\u001b[0m \u001b[0mself\u001b[0m\u001b[0;34m.\u001b[0m\u001b[0mdrop_path\u001b[0m\u001b[0;34m(\u001b[0m\u001b[0mself\u001b[0m\u001b[0;34m.\u001b[0m\u001b[0mmlp\u001b[0m\u001b[0;34m(\u001b[0m\u001b[0mself\u001b[0m\u001b[0;34m.\u001b[0m\u001b[0mnorm2\u001b[0m\u001b[0;34m(\u001b[0m\u001b[0mx\u001b[0m\u001b[0;34m)\u001b[0m\u001b[0;34m)\u001b[0m\u001b[0;34m)\u001b[0m\u001b[0;34m\u001b[0m\u001b[0;34m\u001b[0m\u001b[0m\n\u001b[0m\u001b[1;32m    231\u001b[0m         \u001b[0;32mreturn\u001b[0m \u001b[0mx\u001b[0m\u001b[0;34m\u001b[0m\u001b[0;34m\u001b[0m\u001b[0m\n\u001b[1;32m    232\u001b[0m \u001b[0;34m\u001b[0m\u001b[0m\n",
            "\u001b[0;32m/usr/local/lib/python3.7/dist-packages/torch/nn/modules/module.py\u001b[0m in \u001b[0;36m_call_impl\u001b[0;34m(self, *input, **kwargs)\u001b[0m\n\u001b[1;32m   1100\u001b[0m         if not (self._backward_hooks or self._forward_hooks or self._forward_pre_hooks or _global_backward_hooks\n\u001b[1;32m   1101\u001b[0m                 or _global_forward_hooks or _global_forward_pre_hooks):\n\u001b[0;32m-> 1102\u001b[0;31m             \u001b[0;32mreturn\u001b[0m \u001b[0mforward_call\u001b[0m\u001b[0;34m(\u001b[0m\u001b[0;34m*\u001b[0m\u001b[0minput\u001b[0m\u001b[0;34m,\u001b[0m \u001b[0;34m**\u001b[0m\u001b[0mkwargs\u001b[0m\u001b[0;34m)\u001b[0m\u001b[0;34m\u001b[0m\u001b[0;34m\u001b[0m\u001b[0m\n\u001b[0m\u001b[1;32m   1103\u001b[0m         \u001b[0;31m# Do not call functions when jit is used\u001b[0m\u001b[0;34m\u001b[0m\u001b[0;34m\u001b[0m\u001b[0;34m\u001b[0m\u001b[0m\n\u001b[1;32m   1104\u001b[0m         \u001b[0mfull_backward_hooks\u001b[0m\u001b[0;34m,\u001b[0m \u001b[0mnon_full_backward_hooks\u001b[0m \u001b[0;34m=\u001b[0m \u001b[0;34m[\u001b[0m\u001b[0;34m]\u001b[0m\u001b[0;34m,\u001b[0m \u001b[0;34m[\u001b[0m\u001b[0;34m]\u001b[0m\u001b[0;34m\u001b[0m\u001b[0;34m\u001b[0m\u001b[0m\n",
            "\u001b[0;32m/usr/local/lib/python3.7/dist-packages/timm/models/layers/mlp.py\u001b[0m in \u001b[0;36mforward\u001b[0;34m(self, x)\u001b[0m\n\u001b[1;32m     27\u001b[0m         \u001b[0mx\u001b[0m \u001b[0;34m=\u001b[0m \u001b[0mself\u001b[0m\u001b[0;34m.\u001b[0m\u001b[0mact\u001b[0m\u001b[0;34m(\u001b[0m\u001b[0mx\u001b[0m\u001b[0;34m)\u001b[0m\u001b[0;34m\u001b[0m\u001b[0;34m\u001b[0m\u001b[0m\n\u001b[1;32m     28\u001b[0m         \u001b[0mx\u001b[0m \u001b[0;34m=\u001b[0m \u001b[0mself\u001b[0m\u001b[0;34m.\u001b[0m\u001b[0mdrop1\u001b[0m\u001b[0;34m(\u001b[0m\u001b[0mx\u001b[0m\u001b[0;34m)\u001b[0m\u001b[0;34m\u001b[0m\u001b[0;34m\u001b[0m\u001b[0m\n\u001b[0;32m---> 29\u001b[0;31m         \u001b[0mx\u001b[0m \u001b[0;34m=\u001b[0m \u001b[0mself\u001b[0m\u001b[0;34m.\u001b[0m\u001b[0mfc2\u001b[0m\u001b[0;34m(\u001b[0m\u001b[0mx\u001b[0m\u001b[0;34m)\u001b[0m\u001b[0;34m\u001b[0m\u001b[0;34m\u001b[0m\u001b[0m\n\u001b[0m\u001b[1;32m     30\u001b[0m         \u001b[0mx\u001b[0m \u001b[0;34m=\u001b[0m \u001b[0mself\u001b[0m\u001b[0;34m.\u001b[0m\u001b[0mdrop2\u001b[0m\u001b[0;34m(\u001b[0m\u001b[0mx\u001b[0m\u001b[0;34m)\u001b[0m\u001b[0;34m\u001b[0m\u001b[0;34m\u001b[0m\u001b[0m\n\u001b[1;32m     31\u001b[0m         \u001b[0;32mreturn\u001b[0m \u001b[0mx\u001b[0m\u001b[0;34m\u001b[0m\u001b[0;34m\u001b[0m\u001b[0m\n",
            "\u001b[0;32m/usr/local/lib/python3.7/dist-packages/torch/nn/modules/module.py\u001b[0m in \u001b[0;36m_call_impl\u001b[0;34m(self, *input, **kwargs)\u001b[0m\n\u001b[1;32m   1100\u001b[0m         if not (self._backward_hooks or self._forward_hooks or self._forward_pre_hooks or _global_backward_hooks\n\u001b[1;32m   1101\u001b[0m                 or _global_forward_hooks or _global_forward_pre_hooks):\n\u001b[0;32m-> 1102\u001b[0;31m             \u001b[0;32mreturn\u001b[0m \u001b[0mforward_call\u001b[0m\u001b[0;34m(\u001b[0m\u001b[0;34m*\u001b[0m\u001b[0minput\u001b[0m\u001b[0;34m,\u001b[0m \u001b[0;34m**\u001b[0m\u001b[0mkwargs\u001b[0m\u001b[0;34m)\u001b[0m\u001b[0;34m\u001b[0m\u001b[0;34m\u001b[0m\u001b[0m\n\u001b[0m\u001b[1;32m   1103\u001b[0m         \u001b[0;31m# Do not call functions when jit is used\u001b[0m\u001b[0;34m\u001b[0m\u001b[0;34m\u001b[0m\u001b[0;34m\u001b[0m\u001b[0m\n\u001b[1;32m   1104\u001b[0m         \u001b[0mfull_backward_hooks\u001b[0m\u001b[0;34m,\u001b[0m \u001b[0mnon_full_backward_hooks\u001b[0m \u001b[0;34m=\u001b[0m \u001b[0;34m[\u001b[0m\u001b[0;34m]\u001b[0m\u001b[0;34m,\u001b[0m \u001b[0;34m[\u001b[0m\u001b[0;34m]\u001b[0m\u001b[0;34m\u001b[0m\u001b[0;34m\u001b[0m\u001b[0m\n",
            "\u001b[0;32m/usr/local/lib/python3.7/dist-packages/torch/nn/modules/linear.py\u001b[0m in \u001b[0;36mforward\u001b[0;34m(self, input)\u001b[0m\n\u001b[1;32m    101\u001b[0m \u001b[0;34m\u001b[0m\u001b[0m\n\u001b[1;32m    102\u001b[0m     \u001b[0;32mdef\u001b[0m \u001b[0mforward\u001b[0m\u001b[0;34m(\u001b[0m\u001b[0mself\u001b[0m\u001b[0;34m,\u001b[0m \u001b[0minput\u001b[0m\u001b[0;34m:\u001b[0m \u001b[0mTensor\u001b[0m\u001b[0;34m)\u001b[0m \u001b[0;34m->\u001b[0m \u001b[0mTensor\u001b[0m\u001b[0;34m:\u001b[0m\u001b[0;34m\u001b[0m\u001b[0;34m\u001b[0m\u001b[0m\n\u001b[0;32m--> 103\u001b[0;31m         \u001b[0;32mreturn\u001b[0m \u001b[0mF\u001b[0m\u001b[0;34m.\u001b[0m\u001b[0mlinear\u001b[0m\u001b[0;34m(\u001b[0m\u001b[0minput\u001b[0m\u001b[0;34m,\u001b[0m \u001b[0mself\u001b[0m\u001b[0;34m.\u001b[0m\u001b[0mweight\u001b[0m\u001b[0;34m,\u001b[0m \u001b[0mself\u001b[0m\u001b[0;34m.\u001b[0m\u001b[0mbias\u001b[0m\u001b[0;34m)\u001b[0m\u001b[0;34m\u001b[0m\u001b[0;34m\u001b[0m\u001b[0m\n\u001b[0m\u001b[1;32m    104\u001b[0m \u001b[0;34m\u001b[0m\u001b[0m\n\u001b[1;32m    105\u001b[0m     \u001b[0;32mdef\u001b[0m \u001b[0mextra_repr\u001b[0m\u001b[0;34m(\u001b[0m\u001b[0mself\u001b[0m\u001b[0;34m)\u001b[0m \u001b[0;34m->\u001b[0m \u001b[0mstr\u001b[0m\u001b[0;34m:\u001b[0m\u001b[0;34m\u001b[0m\u001b[0;34m\u001b[0m\u001b[0m\n",
            "\u001b[0;32m/usr/local/lib/python3.7/dist-packages/torch/nn/functional.py\u001b[0m in \u001b[0;36mlinear\u001b[0;34m(input, weight, bias)\u001b[0m\n\u001b[1;32m   1846\u001b[0m     \u001b[0;32mif\u001b[0m \u001b[0mhas_torch_function_variadic\u001b[0m\u001b[0;34m(\u001b[0m\u001b[0minput\u001b[0m\u001b[0;34m,\u001b[0m \u001b[0mweight\u001b[0m\u001b[0;34m,\u001b[0m \u001b[0mbias\u001b[0m\u001b[0;34m)\u001b[0m\u001b[0;34m:\u001b[0m\u001b[0;34m\u001b[0m\u001b[0;34m\u001b[0m\u001b[0m\n\u001b[1;32m   1847\u001b[0m         \u001b[0;32mreturn\u001b[0m \u001b[0mhandle_torch_function\u001b[0m\u001b[0;34m(\u001b[0m\u001b[0mlinear\u001b[0m\u001b[0;34m,\u001b[0m \u001b[0;34m(\u001b[0m\u001b[0minput\u001b[0m\u001b[0;34m,\u001b[0m \u001b[0mweight\u001b[0m\u001b[0;34m,\u001b[0m \u001b[0mbias\u001b[0m\u001b[0;34m)\u001b[0m\u001b[0;34m,\u001b[0m \u001b[0minput\u001b[0m\u001b[0;34m,\u001b[0m \u001b[0mweight\u001b[0m\u001b[0;34m,\u001b[0m \u001b[0mbias\u001b[0m\u001b[0;34m=\u001b[0m\u001b[0mbias\u001b[0m\u001b[0;34m)\u001b[0m\u001b[0;34m\u001b[0m\u001b[0;34m\u001b[0m\u001b[0m\n\u001b[0;32m-> 1848\u001b[0;31m     \u001b[0;32mreturn\u001b[0m \u001b[0mtorch\u001b[0m\u001b[0;34m.\u001b[0m\u001b[0m_C\u001b[0m\u001b[0;34m.\u001b[0m\u001b[0m_nn\u001b[0m\u001b[0;34m.\u001b[0m\u001b[0mlinear\u001b[0m\u001b[0;34m(\u001b[0m\u001b[0minput\u001b[0m\u001b[0;34m,\u001b[0m \u001b[0mweight\u001b[0m\u001b[0;34m,\u001b[0m \u001b[0mbias\u001b[0m\u001b[0;34m)\u001b[0m\u001b[0;34m\u001b[0m\u001b[0;34m\u001b[0m\u001b[0m\n\u001b[0m\u001b[1;32m   1849\u001b[0m \u001b[0;34m\u001b[0m\u001b[0m\n\u001b[1;32m   1850\u001b[0m \u001b[0;34m\u001b[0m\u001b[0m\n",
            "\u001b[0;31mKeyboardInterrupt\u001b[0m: "
          ]
        }
      ],
      "source": [
        "from tqdm import tqdm\n",
        "import time\n",
        "\n",
        "train_loss, train_acc, train_f1, train_auc, val_loss, val_acc, val_f1, val_auc  = [], [], [], [], [], [], [], []\n",
        "fit_lr = []\n",
        "start = time.time()\n",
        "\n",
        "lr_scheduler = LRSchedulerPlateau(optimizer)\n",
        "early_stopping = EarlyStopping()\n",
        "\n",
        "model.to(params['device'])\n",
        "\n",
        "for epoch in range(1, params[\"epochs\"] + 1):\n",
        "  train_epoch_loss, train_epoch_acc, train_epoch_f1, train_epoch_auc = train(train_loader, model, criterion, optimizer, epoch, params)\n",
        "  val_epoch_loss, val_epoch_acc, val_epoch_f1, val_epoch_auc = validate(val_loader, model, criterion, epoch, params)\n",
        "  train_loss.append(train_epoch_loss);train_acc.append(train_epoch_acc);train_f1.append(train_epoch_f1);train_auc.append(train_epoch_auc)\n",
        "  val_loss.append(val_epoch_loss);val_acc.append(val_epoch_acc);val_f1.append(val_epoch_f1);val_auc.append(val_epoch_auc)\n",
        "  if params['lr_scheduler']:\n",
        "    lr_scheduler(val_epoch_loss)\n",
        "  if params['early_stopping']:\n",
        "    early_stopping(val_epoch_loss)\n",
        "    if early_stopping.early_stop:\n",
        "      break\n",
        "  lr_ = get_lr(optimizer)\n",
        "  fit_lr.append(lr_)\n",
        "  print('learning rate:',lr_)\n",
        "end = time.time()\n",
        "print(f\"Training time: {(end-start)/60:.3f} minutes\")"
      ]
    },
    {
      "cell_type": "markdown",
      "metadata": {
        "id": "p29uvmyTkZII"
      },
      "source": [
        "# Visuals"
      ]
    },
    {
      "cell_type": "code",
      "source": [
        "import matplotlib.pyplot as plt\n",
        "\n",
        "lr_label= 'learning rate'\n",
        "plt.figure(figsize=(7, 4))\n",
        "plt.plot(fit_lr, color='red', label=lr_label)\n",
        "plt.xlabel('epochs')\n",
        "plt.ylabel(lr_label)\n",
        "plt.legend()\n",
        "plt.savefig(f\"./{lr_label}.png\")\n",
        "plt.show()"
      ],
      "metadata": {
        "id": "VBuzGR4PylTF",
        "colab": {
          "base_uri": "https://localhost:8080/",
          "height": 279
        },
        "outputId": "ac012734-bed1-45d4-caf5-c796ba8e1239"
      },
      "execution_count": null,
      "outputs": [
        {
          "output_type": "display_data",
          "data": {
            "image/png": "[encoded data removed]",
            "text/plain": [
              "<Figure size 504x288 with 1 Axes>"
            ]
          },
          "metadata": {
            "needs_background": "light"
          }
        }
      ]
    },
    {
      "cell_type": "code",
      "source": [
        "import matplotlib.pyplot as plt\n",
        "\n",
        "metrics = [(train_loss,val_loss), (train_acc,val_acc), (train_f1,val_f1), (train_auc,val_auc)]\n",
        "names = ['loss', 'accuracy', 'f1', 'auc']\n",
        "for i in range(len(names)):\n",
        "  plt.figure(figsize=(7, 4))\n",
        "  plt.plot(metrics[i][0], color='green', label=f'train {names[i]}')\n",
        "  plt.plot(metrics[i][1], color='orange', label=f'validataion {names[i]}')\n",
        "  plt.xlabel('epochs')\n",
        "  plt.ylabel(names[i])\n",
        "  plt.legend()\n",
        "  plt.savefig(f\"./{names[i]}.png\")\n",
        "  plt.show()"
      ],
      "metadata": {
        "id": "kO8voj44MbvC",
        "colab": {
          "base_uri": "https://localhost:8080/",
          "height": 1000
        },
        "outputId": "ea62e863-be02-4e46-e960-e85f67f50acb"
      },
      "execution_count": null,
      "outputs": [
        {
          "output_type": "display_data",
          "data": {
            "image/png": "[encoded data removed]",
            "text/plain": [
              "<Figure size 504x288 with 1 Axes>"
            ]
          },
          "metadata": {
            "needs_background": "light"
          }
        },
        {
          "output_type": "display_data",
          "data": {
            "image/png": "[encoded data removed]",
            "text/plain": [
              "<Figure size 504x288 with 1 Axes>"
            ]
          },
          "metadata": {
            "needs_background": "light"
          }
        },
        {
          "output_type": "display_data",
          "data": {
            "image/png": "[encoded data removed]",
            "text/plain": [
              "<Figure size 504x288 with 1 Axes>"
            ]
          },
          "metadata": {
            "needs_background": "light"
          }
        },
        {
          "output_type": "display_data",
          "data": {
            "image/png": "[encoded data removed]",
            "text/plain": [
              "<Figure size 504x288 with 1 Axes>"
            ]
          },
          "metadata": {
            "needs_background": "light"
          }
        }
      ]
    },
    {
      "cell_type": "markdown",
      "source": [
        "# Test"
      ],
      "metadata": {
        "id": "76I2x0MyKE8p"
      }
    },
    {
      "cell_type": "code",
      "source": [
        "test_dataset = MelanomaDataset(test['path'], test['target'])\n",
        "test_loader = DataLoader(test_dataset, batch_size=params['batch_size']*10)"
      ],
      "metadata": {
        "id": "1uHaFqbLJ0f3"
      },
      "execution_count": null,
      "outputs": []
    },
    {
      "cell_type": "code",
      "source": [
        "images, labels = next(iter(test_loader))\n",
        "images.shape, labels.shape"
      ],
      "metadata": {
        "id": "Ms39oESqKEZz"
      },
      "execution_count": null,
      "outputs": []
    },
    {
      "cell_type": "code",
      "source": [
        "from tqdm import tqdm\n",
        "# model = torch.load('resnet18.pth',map_location=torch.device(params['device']))\n",
        "# model.to(params['device'])\n",
        "model.eval()\n",
        "preds = torch.tensor([]).to(params['device'])\n",
        "val_outputs = torch.tensor([])\n",
        "val_targets = torch.tensor([])\n",
        "stream = tqdm(test_loader)\n",
        "metric_monitor = MetricMonitor()\n",
        "with torch.no_grad():\n",
        "  for i, batch in enumerate(stream, start=1):\n",
        "    imgs, targets = batch\n",
        "    imgs, targets = imgs.to(params['device']), targets.to(params['device'])\n",
        "    outputs = model(imgs)\n",
        "    #outputs = torch.sigmoid(outputs)\n",
        "    preds = torch.cat([preds, outputs.view(-1)])\n",
        "    val_outputs = torch.cat([val_outputs, outputs.cpu()])\n",
        "    val_targets = torch.cat([val_targets, targets.cpu()])\n",
        "    accuracy = accuracy_score(val_outputs, val_targets)\n",
        "    auc = auc_score(val_outputs, val_targets)\n",
        "    f1 = f1_score_(val_outputs, val_targets)\n",
        "    recall = recall_score_(val_outputs, val_targets)\n",
        "    # spec = specificity(val_outputs.cpu().detach().numpy(), val_targets.cpu().detach().numpy())\n",
        "    metric_monitor.update(\"Accuracy\", accuracy)\n",
        "    metric_monitor.update(\"F1\", f1)\n",
        "    metric_monitor.update(\"AUC\", auc)\n",
        "    metric_monitor.update(\"Recall\", recall)\n",
        "    # metric_monitor.update(\"Specificity\", spec)\n",
        "    stream.set_description(\"Validation. {metric_monitor}\".format(epoch=epoch, metric_monitor=metric_monitor))"
      ],
      "metadata": {
        "id": "FmJXHXj_XYRx",
        "colab": {
          "base_uri": "https://localhost:8080/",
          "height": 397
        },
        "outputId": "eb7b692d-e8fa-4637-d248-c835c707a320"
      },
      "execution_count": null,
      "outputs": [
        {
          "output_type": "stream",
          "name": "stderr",
          "text": [
            "Validation. Accuracy: 0.749 | F1: 0.641 | AUC: 0.657 | Recall: 0.000:  60%|██████    | 3/5 [11:24<07:36, 228.00s/it]\n"
          ]
        },
        {
          "output_type": "error",
          "ename": "KeyboardInterrupt",
          "evalue": "ignored",
          "traceback": [
            "\u001b[0;31m---------------------------------------------------------------------------\u001b[0m",
            "\u001b[0;31mKeyboardInterrupt\u001b[0m                         Traceback (most recent call last)",
            "\u001b[0;32m<ipython-input-31-e08f30bd8519>\u001b[0m in \u001b[0;36m<module>\u001b[0;34m()\u001b[0m\n\u001b[1;32m      9\u001b[0m \u001b[0mmetric_monitor\u001b[0m \u001b[0;34m=\u001b[0m \u001b[0mMetricMonitor\u001b[0m\u001b[0;34m(\u001b[0m\u001b[0;34m)\u001b[0m\u001b[0;34m\u001b[0m\u001b[0;34m\u001b[0m\u001b[0m\n\u001b[1;32m     10\u001b[0m \u001b[0;32mwith\u001b[0m \u001b[0mtorch\u001b[0m\u001b[0;34m.\u001b[0m\u001b[0mno_grad\u001b[0m\u001b[0;34m(\u001b[0m\u001b[0;34m)\u001b[0m\u001b[0;34m:\u001b[0m\u001b[0;34m\u001b[0m\u001b[0;34m\u001b[0m\u001b[0m\n\u001b[0;32m---> 11\u001b[0;31m   \u001b[0;32mfor\u001b[0m \u001b[0mi\u001b[0m\u001b[0;34m,\u001b[0m \u001b[0mbatch\u001b[0m \u001b[0;32min\u001b[0m \u001b[0menumerate\u001b[0m\u001b[0;34m(\u001b[0m\u001b[0mstream\u001b[0m\u001b[0;34m,\u001b[0m \u001b[0mstart\u001b[0m\u001b[0;34m=\u001b[0m\u001b[0;36m1\u001b[0m\u001b[0;34m)\u001b[0m\u001b[0;34m:\u001b[0m\u001b[0;34m\u001b[0m\u001b[0;34m\u001b[0m\u001b[0m\n\u001b[0m\u001b[1;32m     12\u001b[0m     \u001b[0mimgs\u001b[0m\u001b[0;34m,\u001b[0m \u001b[0mtargets\u001b[0m \u001b[0;34m=\u001b[0m \u001b[0mbatch\u001b[0m\u001b[0;34m\u001b[0m\u001b[0;34m\u001b[0m\u001b[0m\n\u001b[1;32m     13\u001b[0m     \u001b[0mimgs\u001b[0m\u001b[0;34m,\u001b[0m \u001b[0mtargets\u001b[0m \u001b[0;34m=\u001b[0m \u001b[0mimgs\u001b[0m\u001b[0;34m.\u001b[0m\u001b[0mto\u001b[0m\u001b[0;34m(\u001b[0m\u001b[0mparams\u001b[0m\u001b[0;34m[\u001b[0m\u001b[0;34m'device'\u001b[0m\u001b[0;34m]\u001b[0m\u001b[0;34m)\u001b[0m\u001b[0;34m,\u001b[0m \u001b[0mtargets\u001b[0m\u001b[0;34m.\u001b[0m\u001b[0mto\u001b[0m\u001b[0;34m(\u001b[0m\u001b[0mparams\u001b[0m\u001b[0;34m[\u001b[0m\u001b[0;34m'device'\u001b[0m\u001b[0;34m]\u001b[0m\u001b[0;34m)\u001b[0m\u001b[0;34m\u001b[0m\u001b[0;34m\u001b[0m\u001b[0m\n",
            "\u001b[0;32m/usr/local/lib/python3.7/dist-packages/tqdm/std.py\u001b[0m in \u001b[0;36m__iter__\u001b[0;34m(self)\u001b[0m\n\u001b[1;32m   1193\u001b[0m \u001b[0;34m\u001b[0m\u001b[0m\n\u001b[1;32m   1194\u001b[0m         \u001b[0;32mtry\u001b[0m\u001b[0;34m:\u001b[0m\u001b[0;34m\u001b[0m\u001b[0;34m\u001b[0m\u001b[0m\n\u001b[0;32m-> 1195\u001b[0;31m             \u001b[0;32mfor\u001b[0m \u001b[0mobj\u001b[0m \u001b[0;32min\u001b[0m \u001b[0miterable\u001b[0m\u001b[0;34m:\u001b[0m\u001b[0;34m\u001b[0m\u001b[0;34m\u001b[0m\u001b[0m\n\u001b[0m\u001b[1;32m   1196\u001b[0m                 \u001b[0;32myield\u001b[0m \u001b[0mobj\u001b[0m\u001b[0;34m\u001b[0m\u001b[0;34m\u001b[0m\u001b[0m\n\u001b[1;32m   1197\u001b[0m                 \u001b[0;31m# Update and possibly print the progressbar.\u001b[0m\u001b[0;34m\u001b[0m\u001b[0;34m\u001b[0m\u001b[0;34m\u001b[0m\u001b[0m\n",
            "\u001b[0;32m/usr/local/lib/python3.7/dist-packages/torch/utils/data/dataloader.py\u001b[0m in \u001b[0;36m__next__\u001b[0;34m(self)\u001b[0m\n\u001b[1;32m    519\u001b[0m             \u001b[0;32mif\u001b[0m \u001b[0mself\u001b[0m\u001b[0;34m.\u001b[0m\u001b[0m_sampler_iter\u001b[0m \u001b[0;32mis\u001b[0m \u001b[0;32mNone\u001b[0m\u001b[0;34m:\u001b[0m\u001b[0;34m\u001b[0m\u001b[0;34m\u001b[0m\u001b[0m\n\u001b[1;32m    520\u001b[0m                 \u001b[0mself\u001b[0m\u001b[0;34m.\u001b[0m\u001b[0m_reset\u001b[0m\u001b[0;34m(\u001b[0m\u001b[0;34m)\u001b[0m\u001b[0;34m\u001b[0m\u001b[0;34m\u001b[0m\u001b[0m\n\u001b[0;32m--> 521\u001b[0;31m             \u001b[0mdata\u001b[0m \u001b[0;34m=\u001b[0m \u001b[0mself\u001b[0m\u001b[0;34m.\u001b[0m\u001b[0m_next_data\u001b[0m\u001b[0;34m(\u001b[0m\u001b[0;34m)\u001b[0m\u001b[0;34m\u001b[0m\u001b[0;34m\u001b[0m\u001b[0m\n\u001b[0m\u001b[1;32m    522\u001b[0m             \u001b[0mself\u001b[0m\u001b[0;34m.\u001b[0m\u001b[0m_num_yielded\u001b[0m \u001b[0;34m+=\u001b[0m \u001b[0;36m1\u001b[0m\u001b[0;34m\u001b[0m\u001b[0;34m\u001b[0m\u001b[0m\n\u001b[1;32m    523\u001b[0m             \u001b[0;32mif\u001b[0m \u001b[0mself\u001b[0m\u001b[0;34m.\u001b[0m\u001b[0m_dataset_kind\u001b[0m \u001b[0;34m==\u001b[0m \u001b[0m_DatasetKind\u001b[0m\u001b[0;34m.\u001b[0m\u001b[0mIterable\u001b[0m \u001b[0;32mand\u001b[0m\u001b[0;31m \u001b[0m\u001b[0;31m\\\u001b[0m\u001b[0;34m\u001b[0m\u001b[0;34m\u001b[0m\u001b[0m\n",
            "\u001b[0;32m/usr/local/lib/python3.7/dist-packages/torch/utils/data/dataloader.py\u001b[0m in \u001b[0;36m_next_data\u001b[0;34m(self)\u001b[0m\n\u001b[1;32m    559\u001b[0m     \u001b[0;32mdef\u001b[0m \u001b[0m_next_data\u001b[0m\u001b[0;34m(\u001b[0m\u001b[0mself\u001b[0m\u001b[0;34m)\u001b[0m\u001b[0;34m:\u001b[0m\u001b[0;34m\u001b[0m\u001b[0;34m\u001b[0m\u001b[0m\n\u001b[1;32m    560\u001b[0m         \u001b[0mindex\u001b[0m \u001b[0;34m=\u001b[0m \u001b[0mself\u001b[0m\u001b[0;34m.\u001b[0m\u001b[0m_next_index\u001b[0m\u001b[0;34m(\u001b[0m\u001b[0;34m)\u001b[0m  \u001b[0;31m# may raise StopIteration\u001b[0m\u001b[0;34m\u001b[0m\u001b[0;34m\u001b[0m\u001b[0m\n\u001b[0;32m--> 561\u001b[0;31m         \u001b[0mdata\u001b[0m \u001b[0;34m=\u001b[0m \u001b[0mself\u001b[0m\u001b[0;34m.\u001b[0m\u001b[0m_dataset_fetcher\u001b[0m\u001b[0;34m.\u001b[0m\u001b[0mfetch\u001b[0m\u001b[0;34m(\u001b[0m\u001b[0mindex\u001b[0m\u001b[0;34m)\u001b[0m  \u001b[0;31m# may raise StopIteration\u001b[0m\u001b[0;34m\u001b[0m\u001b[0;34m\u001b[0m\u001b[0m\n\u001b[0m\u001b[1;32m    562\u001b[0m         \u001b[0;32mif\u001b[0m \u001b[0mself\u001b[0m\u001b[0;34m.\u001b[0m\u001b[0m_pin_memory\u001b[0m\u001b[0;34m:\u001b[0m\u001b[0;34m\u001b[0m\u001b[0;34m\u001b[0m\u001b[0m\n\u001b[1;32m    563\u001b[0m             \u001b[0mdata\u001b[0m \u001b[0;34m=\u001b[0m \u001b[0m_utils\u001b[0m\u001b[0;34m.\u001b[0m\u001b[0mpin_memory\u001b[0m\u001b[0;34m.\u001b[0m\u001b[0mpin_memory\u001b[0m\u001b[0;34m(\u001b[0m\u001b[0mdata\u001b[0m\u001b[0;34m)\u001b[0m\u001b[0;34m\u001b[0m\u001b[0;34m\u001b[0m\u001b[0m\n",
            "\u001b[0;32m/usr/local/lib/python3.7/dist-packages/torch/utils/data/_utils/fetch.py\u001b[0m in \u001b[0;36mfetch\u001b[0;34m(self, possibly_batched_index)\u001b[0m\n\u001b[1;32m     47\u001b[0m     \u001b[0;32mdef\u001b[0m \u001b[0mfetch\u001b[0m\u001b[0;34m(\u001b[0m\u001b[0mself\u001b[0m\u001b[0;34m,\u001b[0m \u001b[0mpossibly_batched_index\u001b[0m\u001b[0;34m)\u001b[0m\u001b[0;34m:\u001b[0m\u001b[0;34m\u001b[0m\u001b[0;34m\u001b[0m\u001b[0m\n\u001b[1;32m     48\u001b[0m         \u001b[0;32mif\u001b[0m \u001b[0mself\u001b[0m\u001b[0;34m.\u001b[0m\u001b[0mauto_collation\u001b[0m\u001b[0;34m:\u001b[0m\u001b[0;34m\u001b[0m\u001b[0;34m\u001b[0m\u001b[0m\n\u001b[0;32m---> 49\u001b[0;31m             \u001b[0mdata\u001b[0m \u001b[0;34m=\u001b[0m \u001b[0;34m[\u001b[0m\u001b[0mself\u001b[0m\u001b[0;34m.\u001b[0m\u001b[0mdataset\u001b[0m\u001b[0;34m[\u001b[0m\u001b[0midx\u001b[0m\u001b[0;34m]\u001b[0m \u001b[0;32mfor\u001b[0m \u001b[0midx\u001b[0m \u001b[0;32min\u001b[0m \u001b[0mpossibly_batched_index\u001b[0m\u001b[0;34m]\u001b[0m\u001b[0;34m\u001b[0m\u001b[0;34m\u001b[0m\u001b[0m\n\u001b[0m\u001b[1;32m     50\u001b[0m         \u001b[0;32melse\u001b[0m\u001b[0;34m:\u001b[0m\u001b[0;34m\u001b[0m\u001b[0;34m\u001b[0m\u001b[0m\n\u001b[1;32m     51\u001b[0m             \u001b[0mdata\u001b[0m \u001b[0;34m=\u001b[0m \u001b[0mself\u001b[0m\u001b[0;34m.\u001b[0m\u001b[0mdataset\u001b[0m\u001b[0;34m[\u001b[0m\u001b[0mpossibly_batched_index\u001b[0m\u001b[0;34m]\u001b[0m\u001b[0;34m\u001b[0m\u001b[0;34m\u001b[0m\u001b[0m\n",
            "\u001b[0;32m/usr/local/lib/python3.7/dist-packages/torch/utils/data/_utils/fetch.py\u001b[0m in \u001b[0;36m<listcomp>\u001b[0;34m(.0)\u001b[0m\n\u001b[1;32m     47\u001b[0m     \u001b[0;32mdef\u001b[0m \u001b[0mfetch\u001b[0m\u001b[0;34m(\u001b[0m\u001b[0mself\u001b[0m\u001b[0;34m,\u001b[0m \u001b[0mpossibly_batched_index\u001b[0m\u001b[0;34m)\u001b[0m\u001b[0;34m:\u001b[0m\u001b[0;34m\u001b[0m\u001b[0;34m\u001b[0m\u001b[0m\n\u001b[1;32m     48\u001b[0m         \u001b[0;32mif\u001b[0m \u001b[0mself\u001b[0m\u001b[0;34m.\u001b[0m\u001b[0mauto_collation\u001b[0m\u001b[0;34m:\u001b[0m\u001b[0;34m\u001b[0m\u001b[0;34m\u001b[0m\u001b[0m\n\u001b[0;32m---> 49\u001b[0;31m             \u001b[0mdata\u001b[0m \u001b[0;34m=\u001b[0m \u001b[0;34m[\u001b[0m\u001b[0mself\u001b[0m\u001b[0;34m.\u001b[0m\u001b[0mdataset\u001b[0m\u001b[0;34m[\u001b[0m\u001b[0midx\u001b[0m\u001b[0;34m]\u001b[0m \u001b[0;32mfor\u001b[0m \u001b[0midx\u001b[0m \u001b[0;32min\u001b[0m \u001b[0mpossibly_batched_index\u001b[0m\u001b[0;34m]\u001b[0m\u001b[0;34m\u001b[0m\u001b[0;34m\u001b[0m\u001b[0m\n\u001b[0m\u001b[1;32m     50\u001b[0m         \u001b[0;32melse\u001b[0m\u001b[0;34m:\u001b[0m\u001b[0;34m\u001b[0m\u001b[0;34m\u001b[0m\u001b[0m\n\u001b[1;32m     51\u001b[0m             \u001b[0mdata\u001b[0m \u001b[0;34m=\u001b[0m \u001b[0mself\u001b[0m\u001b[0;34m.\u001b[0m\u001b[0mdataset\u001b[0m\u001b[0;34m[\u001b[0m\u001b[0mpossibly_batched_index\u001b[0m\u001b[0;34m]\u001b[0m\u001b[0;34m\u001b[0m\u001b[0;34m\u001b[0m\u001b[0m\n",
            "\u001b[0;32m<ipython-input-14-cea88a4425b3>\u001b[0m in \u001b[0;36m__getitem__\u001b[0;34m(self, index)\u001b[0m\n\u001b[1;32m     12\u001b[0m \u001b[0;34m\u001b[0m\u001b[0m\n\u001b[1;32m     13\u001b[0m   \u001b[0;32mdef\u001b[0m \u001b[0m__getitem__\u001b[0m\u001b[0;34m(\u001b[0m\u001b[0mself\u001b[0m\u001b[0;34m,\u001b[0m \u001b[0mindex\u001b[0m\u001b[0;34m)\u001b[0m\u001b[0;34m:\u001b[0m\u001b[0;34m\u001b[0m\u001b[0;34m\u001b[0m\u001b[0m\n\u001b[0;32m---> 14\u001b[0;31m     \u001b[0mimage\u001b[0m \u001b[0;34m=\u001b[0m \u001b[0mcv2\u001b[0m\u001b[0;34m.\u001b[0m\u001b[0mimread\u001b[0m\u001b[0;34m(\u001b[0m\u001b[0mself\u001b[0m\u001b[0;34m.\u001b[0m\u001b[0mimages\u001b[0m\u001b[0;34m[\u001b[0m\u001b[0mindex\u001b[0m\u001b[0;34m]\u001b[0m\u001b[0;34m)\u001b[0m\u001b[0;34m\u001b[0m\u001b[0;34m\u001b[0m\u001b[0m\n\u001b[0m\u001b[1;32m     15\u001b[0m     \u001b[0mimage\u001b[0m \u001b[0;34m=\u001b[0m \u001b[0mcv2\u001b[0m\u001b[0;34m.\u001b[0m\u001b[0mresize\u001b[0m\u001b[0;34m(\u001b[0m\u001b[0mimage\u001b[0m\u001b[0;34m,\u001b[0m \u001b[0;34m(\u001b[0m\u001b[0mparams\u001b[0m\u001b[0;34m[\u001b[0m\u001b[0;34m'im_size'\u001b[0m\u001b[0;34m]\u001b[0m\u001b[0;34m,\u001b[0m\u001b[0mparams\u001b[0m\u001b[0;34m[\u001b[0m\u001b[0;34m'im_size'\u001b[0m\u001b[0;34m]\u001b[0m\u001b[0;34m)\u001b[0m\u001b[0;34m)\u001b[0m\u001b[0;34m\u001b[0m\u001b[0;34m\u001b[0m\u001b[0m\n\u001b[1;32m     16\u001b[0m     \u001b[0mimage\u001b[0m \u001b[0;34m=\u001b[0m \u001b[0mcv2\u001b[0m\u001b[0;34m.\u001b[0m\u001b[0mcvtColor\u001b[0m\u001b[0;34m(\u001b[0m\u001b[0mimage\u001b[0m\u001b[0;34m,\u001b[0m \u001b[0mcv2\u001b[0m\u001b[0;34m.\u001b[0m\u001b[0mCOLOR_BGR2RGB\u001b[0m\u001b[0;34m)\u001b[0m\u001b[0;34m\u001b[0m\u001b[0;34m\u001b[0m\u001b[0m\n",
            "\u001b[0;31mKeyboardInterrupt\u001b[0m: "
          ]
        }
      ]
    }
  ],
  "metadata": {
    "colab": {
      "collapsed_sections": [
        "Q8SOhfZVqDE7",
        "4ZtEVPC1qF-q"
      ],
      "name": "Augmentation.ipynb",
      "provenance": []
    },
    "kernelspec": {
      "display_name": "Python 3",
      "name": "python3"
    },
    "language_info": {
      "name": "python"
    }
  },
  "nbformat": 4,
  "nbformat_minor": 0
}